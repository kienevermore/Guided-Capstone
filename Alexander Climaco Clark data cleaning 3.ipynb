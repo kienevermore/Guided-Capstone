{
 "cells": [
  {
   "cell_type": "code",
   "execution_count": 1,
   "metadata": {},
   "outputs": [],
   "source": [
    "import pandas as pd\n",
    "import numpy as np\n",
    "import requests\n",
    "from bs4 import BeautifulSoup\n",
    "import matplotlib.pyplot as plt\n",
    "import missingno as msno\n",
    "import nltk"
   ]
  },
  {
   "cell_type": "code",
   "execution_count": 2,
   "metadata": {},
   "outputs": [],
   "source": [
    "ut = pd.read_csv('untrustworthy.csv')\n",
    "tr = pd.read_csv('trustworthy.csv')\n",
    "mt = pd.read_csv('mostlytrusty.csv')"
   ]
  },
  {
   "cell_type": "code",
   "execution_count": 3,
   "metadata": {},
   "outputs": [
    {
     "data": {
      "text/html": [
       "<div>\n",
       "<style scoped>\n",
       "    .dataframe tbody tr th:only-of-type {\n",
       "        vertical-align: middle;\n",
       "    }\n",
       "\n",
       "    .dataframe tbody tr th {\n",
       "        vertical-align: top;\n",
       "    }\n",
       "\n",
       "    .dataframe thead th {\n",
       "        text-align: right;\n",
       "    }\n",
       "</style>\n",
       "<table border=\"1\" class=\"dataframe\">\n",
       "  <thead>\n",
       "    <tr style=\"text-align: right;\">\n",
       "      <th></th>\n",
       "      <th>links</th>\n",
       "      <th>url</th>\n",
       "      <th>text</th>\n",
       "    </tr>\n",
       "  </thead>\n",
       "  <tbody>\n",
       "    <tr>\n",
       "      <th>0</th>\n",
       "      <td>'Merci, mon ami': Biden, Trudeau renew bilater...</td>\n",
       "      <td>https://www.politico.com/news/2021/02/23/biden...</td>\n",
       "      <td>So after four years of trade wars, name-callin...</td>\n",
       "    </tr>\n",
       "    <tr>\n",
       "      <th>1</th>\n",
       "      <td>Democrats' $1.9T Covid aid bill faces the Sena...</td>\n",
       "      <td>https://www.politico.com/news/2021/02/24/democ...</td>\n",
       "      <td>MacDonough will dissect the budget impact of e...</td>\n",
       "    </tr>\n",
       "    <tr>\n",
       "      <th>2</th>\n",
       "      <td>Lawrence Ferlinghetti, poet and activist, dies...</td>\n",
       "      <td>https://www.politico.com/news/2021/02/23/lawre...</td>\n",
       "      <td>“The dominant American mercantile culture may ...</td>\n",
       "    </tr>\n",
       "    <tr>\n",
       "      <th>3</th>\n",
       "      <td>‘It can only get better’: Linda Thomas-Greenfi...</td>\n",
       "      <td>https://www.politico.com/news/2021/02/23/un-am...</td>\n",
       "      <td>U.N. officials told POLITICO they hope to see ...</td>\n",
       "    </tr>\n",
       "    <tr>\n",
       "      <th>4</th>\n",
       "      <td>Judge rips Capitol rioter’s Trump defense</td>\n",
       "      <td>https://www.politico.com/news/2021/02/23/capit...</td>\n",
       "      <td>At numerous bail hearings in the Capitol-riot-...</td>\n",
       "    </tr>\n",
       "  </tbody>\n",
       "</table>\n",
       "</div>"
      ],
      "text/plain": [
       "                                               links  \\\n",
       "0  'Merci, mon ami': Biden, Trudeau renew bilater...   \n",
       "1  Democrats' $1.9T Covid aid bill faces the Sena...   \n",
       "2  Lawrence Ferlinghetti, poet and activist, dies...   \n",
       "3  ‘It can only get better’: Linda Thomas-Greenfi...   \n",
       "4          Judge rips Capitol rioter’s Trump defense   \n",
       "\n",
       "                                                 url  \\\n",
       "0  https://www.politico.com/news/2021/02/23/biden...   \n",
       "1  https://www.politico.com/news/2021/02/24/democ...   \n",
       "2  https://www.politico.com/news/2021/02/23/lawre...   \n",
       "3  https://www.politico.com/news/2021/02/23/un-am...   \n",
       "4  https://www.politico.com/news/2021/02/23/capit...   \n",
       "\n",
       "                                                text  \n",
       "0  So after four years of trade wars, name-callin...  \n",
       "1  MacDonough will dissect the budget impact of e...  \n",
       "2  “The dominant American mercantile culture may ...  \n",
       "3  U.N. officials told POLITICO they hope to see ...  \n",
       "4  At numerous bail hearings in the Capitol-riot-...  "
      ]
     },
     "execution_count": 3,
     "metadata": {},
     "output_type": "execute_result"
    }
   ],
   "source": [
    "tr.head()"
   ]
  },
  {
   "cell_type": "code",
   "execution_count": 4,
   "metadata": {},
   "outputs": [
    {
     "data": {
      "text/html": [
       "<div>\n",
       "<style scoped>\n",
       "    .dataframe tbody tr th:only-of-type {\n",
       "        vertical-align: middle;\n",
       "    }\n",
       "\n",
       "    .dataframe tbody tr th {\n",
       "        vertical-align: top;\n",
       "    }\n",
       "\n",
       "    .dataframe thead th {\n",
       "        text-align: right;\n",
       "    }\n",
       "</style>\n",
       "<table border=\"1\" class=\"dataframe\">\n",
       "  <thead>\n",
       "    <tr style=\"text-align: right;\">\n",
       "      <th></th>\n",
       "      <th>links</th>\n",
       "      <th>url</th>\n",
       "      <th>text</th>\n",
       "    </tr>\n",
       "  </thead>\n",
       "  <tbody>\n",
       "    <tr>\n",
       "      <th>0</th>\n",
       "      <td>'Merci, mon ami': Biden, Trudeau renew bilater...</td>\n",
       "      <td>https://www.politico.com/news/2021/02/23/biden...</td>\n",
       "      <td>So after four years of trade wars, name-callin...</td>\n",
       "    </tr>\n",
       "    <tr>\n",
       "      <th>1</th>\n",
       "      <td>Democrats' $1.9T Covid aid bill faces the Sena...</td>\n",
       "      <td>https://www.politico.com/news/2021/02/24/democ...</td>\n",
       "      <td>MacDonough will dissect the budget impact of e...</td>\n",
       "    </tr>\n",
       "    <tr>\n",
       "      <th>2</th>\n",
       "      <td>Lawrence Ferlinghetti, poet and activist, dies...</td>\n",
       "      <td>https://www.politico.com/news/2021/02/23/lawre...</td>\n",
       "      <td>“The dominant American mercantile culture may ...</td>\n",
       "    </tr>\n",
       "    <tr>\n",
       "      <th>3</th>\n",
       "      <td>‘It can only get better’: Linda Thomas-Greenfi...</td>\n",
       "      <td>https://www.politico.com/news/2021/02/23/un-am...</td>\n",
       "      <td>U.N. officials told POLITICO they hope to see ...</td>\n",
       "    </tr>\n",
       "    <tr>\n",
       "      <th>4</th>\n",
       "      <td>Judge rips Capitol rioter’s Trump defense</td>\n",
       "      <td>https://www.politico.com/news/2021/02/23/capit...</td>\n",
       "      <td>At numerous bail hearings in the Capitol-riot-...</td>\n",
       "    </tr>\n",
       "  </tbody>\n",
       "</table>\n",
       "</div>"
      ],
      "text/plain": [
       "                                               links  \\\n",
       "0  'Merci, mon ami': Biden, Trudeau renew bilater...   \n",
       "1  Democrats' $1.9T Covid aid bill faces the Sena...   \n",
       "2  Lawrence Ferlinghetti, poet and activist, dies...   \n",
       "3  ‘It can only get better’: Linda Thomas-Greenfi...   \n",
       "4          Judge rips Capitol rioter’s Trump defense   \n",
       "\n",
       "                                                 url  \\\n",
       "0  https://www.politico.com/news/2021/02/23/biden...   \n",
       "1  https://www.politico.com/news/2021/02/24/democ...   \n",
       "2  https://www.politico.com/news/2021/02/23/lawre...   \n",
       "3  https://www.politico.com/news/2021/02/23/un-am...   \n",
       "4  https://www.politico.com/news/2021/02/23/capit...   \n",
       "\n",
       "                                                text  \n",
       "0  So after four years of trade wars, name-callin...  \n",
       "1  MacDonough will dissect the budget impact of e...  \n",
       "2  “The dominant American mercantile culture may ...  \n",
       "3  U.N. officials told POLITICO they hope to see ...  \n",
       "4  At numerous bail hearings in the Capitol-riot-...  "
      ]
     },
     "execution_count": 4,
     "metadata": {},
     "output_type": "execute_result"
    }
   ],
   "source": [
    "mt.head()"
   ]
  },
  {
   "cell_type": "code",
   "execution_count": 5,
   "metadata": {},
   "outputs": [],
   "source": [
    "faketxt= pd.DataFrame(ut,columns=['links','text'])\n",
    "faketxt['value']='F'\n",
    "truetxt= pd.DataFrame(tr,columns=['links','text'])\n",
    "truetxt['value']='T'\n",
    "midtxt= pd.DataFrame(tr,columns=['links','text'])\n",
    "midtxt['value']='T'"
   ]
  },
  {
   "cell_type": "code",
   "execution_count": 6,
   "metadata": {},
   "outputs": [
    {
     "data": {
      "text/html": [
       "<div>\n",
       "<style scoped>\n",
       "    .dataframe tbody tr th:only-of-type {\n",
       "        vertical-align: middle;\n",
       "    }\n",
       "\n",
       "    .dataframe tbody tr th {\n",
       "        vertical-align: top;\n",
       "    }\n",
       "\n",
       "    .dataframe thead th {\n",
       "        text-align: right;\n",
       "    }\n",
       "</style>\n",
       "<table border=\"1\" class=\"dataframe\">\n",
       "  <thead>\n",
       "    <tr style=\"text-align: right;\">\n",
       "      <th></th>\n",
       "      <th>links</th>\n",
       "      <th>text</th>\n",
       "      <th>value</th>\n",
       "    </tr>\n",
       "  </thead>\n",
       "  <tbody>\n",
       "    <tr>\n",
       "      <th>0</th>\n",
       "      <td>'Merci, mon ami': Biden, Trudeau renew bilater...</td>\n",
       "      <td>So after four years of trade wars, name-callin...</td>\n",
       "      <td>T</td>\n",
       "    </tr>\n",
       "    <tr>\n",
       "      <th>1</th>\n",
       "      <td>Democrats' $1.9T Covid aid bill faces the Sena...</td>\n",
       "      <td>MacDonough will dissect the budget impact of e...</td>\n",
       "      <td>T</td>\n",
       "    </tr>\n",
       "    <tr>\n",
       "      <th>2</th>\n",
       "      <td>Lawrence Ferlinghetti, poet and activist, dies...</td>\n",
       "      <td>“The dominant American mercantile culture may ...</td>\n",
       "      <td>T</td>\n",
       "    </tr>\n",
       "    <tr>\n",
       "      <th>3</th>\n",
       "      <td>‘It can only get better’: Linda Thomas-Greenfi...</td>\n",
       "      <td>U.N. officials told POLITICO they hope to see ...</td>\n",
       "      <td>T</td>\n",
       "    </tr>\n",
       "    <tr>\n",
       "      <th>4</th>\n",
       "      <td>Judge rips Capitol rioter’s Trump defense</td>\n",
       "      <td>At numerous bail hearings in the Capitol-riot-...</td>\n",
       "      <td>T</td>\n",
       "    </tr>\n",
       "  </tbody>\n",
       "</table>\n",
       "</div>"
      ],
      "text/plain": [
       "                                               links  \\\n",
       "0  'Merci, mon ami': Biden, Trudeau renew bilater...   \n",
       "1  Democrats' $1.9T Covid aid bill faces the Sena...   \n",
       "2  Lawrence Ferlinghetti, poet and activist, dies...   \n",
       "3  ‘It can only get better’: Linda Thomas-Greenfi...   \n",
       "4          Judge rips Capitol rioter’s Trump defense   \n",
       "\n",
       "                                                text value  \n",
       "0  So after four years of trade wars, name-callin...     T  \n",
       "1  MacDonough will dissect the budget impact of e...     T  \n",
       "2  “The dominant American mercantile culture may ...     T  \n",
       "3  U.N. officials told POLITICO they hope to see ...     T  \n",
       "4  At numerous bail hearings in the Capitol-riot-...     T  "
      ]
     },
     "execution_count": 6,
     "metadata": {},
     "output_type": "execute_result"
    }
   ],
   "source": [
    "midtxt.head()"
   ]
  },
  {
   "cell_type": "code",
   "execution_count": 7,
   "metadata": {},
   "outputs": [],
   "source": [
    "f = [truetxt,midtxt,faketxt]\n",
    "df = pd.concat(f, sort=False)"
   ]
  },
  {
   "cell_type": "code",
   "execution_count": 8,
   "metadata": {},
   "outputs": [],
   "source": [
    "#faketxt= pd.DataFrame(fake,columns=['title','text'])\n",
    "#faketxt['value']='false'"
   ]
  },
  {
   "cell_type": "code",
   "execution_count": 9,
   "metadata": {},
   "outputs": [],
   "source": [
    "#truetxt= pd.DataFrame(true,columns=['title','text'])\n",
    "#truetxt['value']='true'"
   ]
  },
  {
   "cell_type": "code",
   "execution_count": 10,
   "metadata": {},
   "outputs": [],
   "source": [
    "#faketxt.head()"
   ]
  },
  {
   "cell_type": "code",
   "execution_count": 11,
   "metadata": {},
   "outputs": [],
   "source": [
    "#truetxt.head()"
   ]
  },
  {
   "cell_type": "code",
   "execution_count": 12,
   "metadata": {},
   "outputs": [],
   "source": [
    "#df = truetxt.append(faketxt)"
   ]
  },
  {
   "cell_type": "code",
   "execution_count": 13,
   "metadata": {},
   "outputs": [
    {
     "data": {
      "text/html": [
       "<div>\n",
       "<style scoped>\n",
       "    .dataframe tbody tr th:only-of-type {\n",
       "        vertical-align: middle;\n",
       "    }\n",
       "\n",
       "    .dataframe tbody tr th {\n",
       "        vertical-align: top;\n",
       "    }\n",
       "\n",
       "    .dataframe thead th {\n",
       "        text-align: right;\n",
       "    }\n",
       "</style>\n",
       "<table border=\"1\" class=\"dataframe\">\n",
       "  <thead>\n",
       "    <tr style=\"text-align: right;\">\n",
       "      <th></th>\n",
       "      <th>links</th>\n",
       "      <th>text</th>\n",
       "      <th>value</th>\n",
       "    </tr>\n",
       "  </thead>\n",
       "  <tbody>\n",
       "    <tr>\n",
       "      <th>0</th>\n",
       "      <td>'Merci, mon ami': Biden, Trudeau renew bilater...</td>\n",
       "      <td>So after four years of trade wars, name-callin...</td>\n",
       "      <td>T</td>\n",
       "    </tr>\n",
       "    <tr>\n",
       "      <th>1</th>\n",
       "      <td>Democrats' $1.9T Covid aid bill faces the Sena...</td>\n",
       "      <td>MacDonough will dissect the budget impact of e...</td>\n",
       "      <td>T</td>\n",
       "    </tr>\n",
       "    <tr>\n",
       "      <th>2</th>\n",
       "      <td>Lawrence Ferlinghetti, poet and activist, dies...</td>\n",
       "      <td>“The dominant American mercantile culture may ...</td>\n",
       "      <td>T</td>\n",
       "    </tr>\n",
       "    <tr>\n",
       "      <th>3</th>\n",
       "      <td>‘It can only get better’: Linda Thomas-Greenfi...</td>\n",
       "      <td>U.N. officials told POLITICO they hope to see ...</td>\n",
       "      <td>T</td>\n",
       "    </tr>\n",
       "    <tr>\n",
       "      <th>4</th>\n",
       "      <td>Judge rips Capitol rioter’s Trump defense</td>\n",
       "      <td>At numerous bail hearings in the Capitol-riot-...</td>\n",
       "      <td>T</td>\n",
       "    </tr>\n",
       "  </tbody>\n",
       "</table>\n",
       "</div>"
      ],
      "text/plain": [
       "                                               links  \\\n",
       "0  'Merci, mon ami': Biden, Trudeau renew bilater...   \n",
       "1  Democrats' $1.9T Covid aid bill faces the Sena...   \n",
       "2  Lawrence Ferlinghetti, poet and activist, dies...   \n",
       "3  ‘It can only get better’: Linda Thomas-Greenfi...   \n",
       "4          Judge rips Capitol rioter’s Trump defense   \n",
       "\n",
       "                                                text value  \n",
       "0  So after four years of trade wars, name-callin...     T  \n",
       "1  MacDonough will dissect the budget impact of e...     T  \n",
       "2  “The dominant American mercantile culture may ...     T  \n",
       "3  U.N. officials told POLITICO they hope to see ...     T  \n",
       "4  At numerous bail hearings in the Capitol-riot-...     T  "
      ]
     },
     "execution_count": 13,
     "metadata": {},
     "output_type": "execute_result"
    }
   ],
   "source": [
    "df.head()"
   ]
  },
  {
   "cell_type": "code",
   "execution_count": 14,
   "metadata": {},
   "outputs": [
    {
     "data": {
      "text/plain": [
       "(3331, 3)"
      ]
     },
     "execution_count": 14,
     "metadata": {},
     "output_type": "execute_result"
    }
   ],
   "source": [
    "df.dropna()\n",
    "df.shape"
   ]
  },
  {
   "cell_type": "code",
   "execution_count": 15,
   "metadata": {},
   "outputs": [
    {
     "data": {
      "text/plain": [
       "T    3162\n",
       "F     169\n",
       "Name: value, dtype: int64"
      ]
     },
     "execution_count": 15,
     "metadata": {},
     "output_type": "execute_result"
    }
   ],
   "source": [
    "df.value.value_counts()"
   ]
  },
  {
   "cell_type": "code",
   "execution_count": null,
   "metadata": {},
   "outputs": [],
   "source": []
  },
  {
   "cell_type": "code",
   "execution_count": 16,
   "metadata": {},
   "outputs": [],
   "source": [
    "df = df.sample(frac = 1) "
   ]
  },
  {
   "cell_type": "code",
   "execution_count": 17,
   "metadata": {},
   "outputs": [
    {
     "data": {
      "text/html": [
       "<div>\n",
       "<style scoped>\n",
       "    .dataframe tbody tr th:only-of-type {\n",
       "        vertical-align: middle;\n",
       "    }\n",
       "\n",
       "    .dataframe tbody tr th {\n",
       "        vertical-align: top;\n",
       "    }\n",
       "\n",
       "    .dataframe thead th {\n",
       "        text-align: right;\n",
       "    }\n",
       "</style>\n",
       "<table border=\"1\" class=\"dataframe\">\n",
       "  <thead>\n",
       "    <tr style=\"text-align: right;\">\n",
       "      <th></th>\n",
       "      <th>links</th>\n",
       "      <th>text</th>\n",
       "      <th>value</th>\n",
       "    </tr>\n",
       "  </thead>\n",
       "  <tbody>\n",
       "    <tr>\n",
       "      <th>1118</th>\n",
       "      <td>Georgia Republicans File Sweeping Elections Bi...</td>\n",
       "      <td>The bill aims to restrict the location of secu...</td>\n",
       "      <td>T</td>\n",
       "    </tr>\n",
       "    <tr>\n",
       "      <th>1176</th>\n",
       "      <td>Here's What's In House Democrats' $1.9 Trillio...</td>\n",
       "      <td>Expanded and extended federal unemployment ben...</td>\n",
       "      <td>T</td>\n",
       "    </tr>\n",
       "    <tr>\n",
       "      <th>606</th>\n",
       "      <td>Native Americans Finally Have a Cabinet Nomine...</td>\n",
       "      <td>Some senators from the GOP aren’t thinking twi...</td>\n",
       "      <td>T</td>\n",
       "    </tr>\n",
       "    <tr>\n",
       "      <th>1025</th>\n",
       "      <td>With Or Without Trump, Republicans Will Likely...</td>\n",
       "      <td>If Trump is to rise again, it will once again ...</td>\n",
       "      <td>T</td>\n",
       "    </tr>\n",
       "    <tr>\n",
       "      <th>515</th>\n",
       "      <td>Cruz says his wife was ‘pissed’ about leaked t...</td>\n",
       "      <td>“I will tell you, that she is pissed about. Al...</td>\n",
       "      <td>T</td>\n",
       "    </tr>\n",
       "  </tbody>\n",
       "</table>\n",
       "</div>"
      ],
      "text/plain": [
       "                                                  links  \\\n",
       "1118  Georgia Republicans File Sweeping Elections Bi...   \n",
       "1176  Here's What's In House Democrats' $1.9 Trillio...   \n",
       "606   Native Americans Finally Have a Cabinet Nomine...   \n",
       "1025  With Or Without Trump, Republicans Will Likely...   \n",
       "515   Cruz says his wife was ‘pissed’ about leaked t...   \n",
       "\n",
       "                                                   text value  \n",
       "1118  The bill aims to restrict the location of secu...     T  \n",
       "1176  Expanded and extended federal unemployment ben...     T  \n",
       "606   Some senators from the GOP aren’t thinking twi...     T  \n",
       "1025  If Trump is to rise again, it will once again ...     T  \n",
       "515   “I will tell you, that she is pissed about. Al...     T  "
      ]
     },
     "execution_count": 17,
     "metadata": {},
     "output_type": "execute_result"
    }
   ],
   "source": [
    "df.head()"
   ]
  },
  {
   "cell_type": "code",
   "execution_count": 18,
   "metadata": {},
   "outputs": [],
   "source": [
    "df= df.reset_index()"
   ]
  },
  {
   "cell_type": "code",
   "execution_count": 19,
   "metadata": {},
   "outputs": [
    {
     "data": {
      "text/html": [
       "<div>\n",
       "<style scoped>\n",
       "    .dataframe tbody tr th:only-of-type {\n",
       "        vertical-align: middle;\n",
       "    }\n",
       "\n",
       "    .dataframe tbody tr th {\n",
       "        vertical-align: top;\n",
       "    }\n",
       "\n",
       "    .dataframe thead th {\n",
       "        text-align: right;\n",
       "    }\n",
       "</style>\n",
       "<table border=\"1\" class=\"dataframe\">\n",
       "  <thead>\n",
       "    <tr style=\"text-align: right;\">\n",
       "      <th></th>\n",
       "      <th>index</th>\n",
       "      <th>links</th>\n",
       "      <th>text</th>\n",
       "      <th>value</th>\n",
       "    </tr>\n",
       "  </thead>\n",
       "  <tbody>\n",
       "    <tr>\n",
       "      <th>0</th>\n",
       "      <td>1118</td>\n",
       "      <td>Georgia Republicans File Sweeping Elections Bi...</td>\n",
       "      <td>The bill aims to restrict the location of secu...</td>\n",
       "      <td>T</td>\n",
       "    </tr>\n",
       "    <tr>\n",
       "      <th>1</th>\n",
       "      <td>1176</td>\n",
       "      <td>Here's What's In House Democrats' $1.9 Trillio...</td>\n",
       "      <td>Expanded and extended federal unemployment ben...</td>\n",
       "      <td>T</td>\n",
       "    </tr>\n",
       "    <tr>\n",
       "      <th>2</th>\n",
       "      <td>606</td>\n",
       "      <td>Native Americans Finally Have a Cabinet Nomine...</td>\n",
       "      <td>Some senators from the GOP aren’t thinking twi...</td>\n",
       "      <td>T</td>\n",
       "    </tr>\n",
       "    <tr>\n",
       "      <th>3</th>\n",
       "      <td>1025</td>\n",
       "      <td>With Or Without Trump, Republicans Will Likely...</td>\n",
       "      <td>If Trump is to rise again, it will once again ...</td>\n",
       "      <td>T</td>\n",
       "    </tr>\n",
       "    <tr>\n",
       "      <th>4</th>\n",
       "      <td>515</td>\n",
       "      <td>Cruz says his wife was ‘pissed’ about leaked t...</td>\n",
       "      <td>“I will tell you, that she is pissed about. Al...</td>\n",
       "      <td>T</td>\n",
       "    </tr>\n",
       "  </tbody>\n",
       "</table>\n",
       "</div>"
      ],
      "text/plain": [
       "   index                                              links  \\\n",
       "0   1118  Georgia Republicans File Sweeping Elections Bi...   \n",
       "1   1176  Here's What's In House Democrats' $1.9 Trillio...   \n",
       "2    606  Native Americans Finally Have a Cabinet Nomine...   \n",
       "3   1025  With Or Without Trump, Republicans Will Likely...   \n",
       "4    515  Cruz says his wife was ‘pissed’ about leaked t...   \n",
       "\n",
       "                                                text value  \n",
       "0  The bill aims to restrict the location of secu...     T  \n",
       "1  Expanded and extended federal unemployment ben...     T  \n",
       "2  Some senators from the GOP aren’t thinking twi...     T  \n",
       "3  If Trump is to rise again, it will once again ...     T  \n",
       "4  “I will tell you, that she is pissed about. Al...     T  "
      ]
     },
     "execution_count": 19,
     "metadata": {},
     "output_type": "execute_result"
    }
   ],
   "source": [
    "df.head()"
   ]
  },
  {
   "cell_type": "code",
   "execution_count": 20,
   "metadata": {},
   "outputs": [
    {
     "data": {
      "text/html": [
       "<div>\n",
       "<style scoped>\n",
       "    .dataframe tbody tr th:only-of-type {\n",
       "        vertical-align: middle;\n",
       "    }\n",
       "\n",
       "    .dataframe tbody tr th {\n",
       "        vertical-align: top;\n",
       "    }\n",
       "\n",
       "    .dataframe thead th {\n",
       "        text-align: right;\n",
       "    }\n",
       "</style>\n",
       "<table border=\"1\" class=\"dataframe\">\n",
       "  <thead>\n",
       "    <tr style=\"text-align: right;\">\n",
       "      <th></th>\n",
       "      <th>links</th>\n",
       "      <th>text</th>\n",
       "      <th>value</th>\n",
       "    </tr>\n",
       "  </thead>\n",
       "  <tbody>\n",
       "    <tr>\n",
       "      <th>0</th>\n",
       "      <td>Georgia Republicans File Sweeping Elections Bi...</td>\n",
       "      <td>The bill aims to restrict the location of secu...</td>\n",
       "      <td>T</td>\n",
       "    </tr>\n",
       "    <tr>\n",
       "      <th>1</th>\n",
       "      <td>Here's What's In House Democrats' $1.9 Trillio...</td>\n",
       "      <td>Expanded and extended federal unemployment ben...</td>\n",
       "      <td>T</td>\n",
       "    </tr>\n",
       "    <tr>\n",
       "      <th>2</th>\n",
       "      <td>Native Americans Finally Have a Cabinet Nomine...</td>\n",
       "      <td>Some senators from the GOP aren’t thinking twi...</td>\n",
       "      <td>T</td>\n",
       "    </tr>\n",
       "    <tr>\n",
       "      <th>3</th>\n",
       "      <td>With Or Without Trump, Republicans Will Likely...</td>\n",
       "      <td>If Trump is to rise again, it will once again ...</td>\n",
       "      <td>T</td>\n",
       "    </tr>\n",
       "    <tr>\n",
       "      <th>4</th>\n",
       "      <td>Cruz says his wife was ‘pissed’ about leaked t...</td>\n",
       "      <td>“I will tell you, that she is pissed about. Al...</td>\n",
       "      <td>T</td>\n",
       "    </tr>\n",
       "  </tbody>\n",
       "</table>\n",
       "</div>"
      ],
      "text/plain": [
       "                                               links  \\\n",
       "0  Georgia Republicans File Sweeping Elections Bi...   \n",
       "1  Here's What's In House Democrats' $1.9 Trillio...   \n",
       "2  Native Americans Finally Have a Cabinet Nomine...   \n",
       "3  With Or Without Trump, Republicans Will Likely...   \n",
       "4  Cruz says his wife was ‘pissed’ about leaked t...   \n",
       "\n",
       "                                                text value  \n",
       "0  The bill aims to restrict the location of secu...     T  \n",
       "1  Expanded and extended federal unemployment ben...     T  \n",
       "2  Some senators from the GOP aren’t thinking twi...     T  \n",
       "3  If Trump is to rise again, it will once again ...     T  \n",
       "4  “I will tell you, that she is pissed about. Al...     T  "
      ]
     },
     "execution_count": 20,
     "metadata": {},
     "output_type": "execute_result"
    }
   ],
   "source": [
    "del df['index']\n",
    "df.head()"
   ]
  },
  {
   "cell_type": "code",
   "execution_count": 21,
   "metadata": {},
   "outputs": [
    {
     "data": {
      "text/html": [
       "<div>\n",
       "<style scoped>\n",
       "    .dataframe tbody tr th:only-of-type {\n",
       "        vertical-align: middle;\n",
       "    }\n",
       "\n",
       "    .dataframe tbody tr th {\n",
       "        vertical-align: top;\n",
       "    }\n",
       "\n",
       "    .dataframe thead th {\n",
       "        text-align: right;\n",
       "    }\n",
       "</style>\n",
       "<table border=\"1\" class=\"dataframe\">\n",
       "  <thead>\n",
       "    <tr style=\"text-align: right;\">\n",
       "      <th></th>\n",
       "      <th>title</th>\n",
       "      <th>text</th>\n",
       "      <th>value</th>\n",
       "    </tr>\n",
       "  </thead>\n",
       "  <tbody>\n",
       "    <tr>\n",
       "      <th>0</th>\n",
       "      <td>Georgia Republicans File Sweeping Elections Bi...</td>\n",
       "      <td>The bill aims to restrict the location of secu...</td>\n",
       "      <td>T</td>\n",
       "    </tr>\n",
       "    <tr>\n",
       "      <th>1</th>\n",
       "      <td>Here's What's In House Democrats' $1.9 Trillio...</td>\n",
       "      <td>Expanded and extended federal unemployment ben...</td>\n",
       "      <td>T</td>\n",
       "    </tr>\n",
       "    <tr>\n",
       "      <th>2</th>\n",
       "      <td>Native Americans Finally Have a Cabinet Nomine...</td>\n",
       "      <td>Some senators from the GOP aren’t thinking twi...</td>\n",
       "      <td>T</td>\n",
       "    </tr>\n",
       "    <tr>\n",
       "      <th>3</th>\n",
       "      <td>With Or Without Trump, Republicans Will Likely...</td>\n",
       "      <td>If Trump is to rise again, it will once again ...</td>\n",
       "      <td>T</td>\n",
       "    </tr>\n",
       "    <tr>\n",
       "      <th>4</th>\n",
       "      <td>Cruz says his wife was ‘pissed’ about leaked t...</td>\n",
       "      <td>“I will tell you, that she is pissed about. Al...</td>\n",
       "      <td>T</td>\n",
       "    </tr>\n",
       "  </tbody>\n",
       "</table>\n",
       "</div>"
      ],
      "text/plain": [
       "                                               title  \\\n",
       "0  Georgia Republicans File Sweeping Elections Bi...   \n",
       "1  Here's What's In House Democrats' $1.9 Trillio...   \n",
       "2  Native Americans Finally Have a Cabinet Nomine...   \n",
       "3  With Or Without Trump, Republicans Will Likely...   \n",
       "4  Cruz says his wife was ‘pissed’ about leaked t...   \n",
       "\n",
       "                                                text value  \n",
       "0  The bill aims to restrict the location of secu...     T  \n",
       "1  Expanded and extended federal unemployment ben...     T  \n",
       "2  Some senators from the GOP aren’t thinking twi...     T  \n",
       "3  If Trump is to rise again, it will once again ...     T  \n",
       "4  “I will tell you, that she is pissed about. Al...     T  "
      ]
     },
     "execution_count": 21,
     "metadata": {},
     "output_type": "execute_result"
    }
   ],
   "source": [
    "import string\n",
    "df.columns = ['title', 'text','value']\n",
    "df.title.fillna('No Title', inplace=True)\n",
    "df.text.dropna(inplace=True)\n",
    "df.head()"
   ]
  },
  {
   "cell_type": "code",
   "execution_count": 22,
   "metadata": {},
   "outputs": [
    {
     "data": {
      "text/plain": [
       "title    object\n",
       "text     object\n",
       "value    object\n",
       "dtype: object"
      ]
     },
     "execution_count": 22,
     "metadata": {},
     "output_type": "execute_result"
    }
   ],
   "source": [
    "df.dtypes"
   ]
  },
  {
   "cell_type": "code",
   "execution_count": 23,
   "metadata": {},
   "outputs": [
    {
     "data": {
      "text/plain": [
       "title    string\n",
       "text     string\n",
       "value    object\n",
       "dtype: object"
      ]
     },
     "execution_count": 23,
     "metadata": {},
     "output_type": "execute_result"
    }
   ],
   "source": [
    "df['text'] = pd.Series(df['text'], dtype=\"string\")\n",
    "df['title'] = pd.Series(df['title'], dtype=\"string\")\n",
    "df.dtypes"
   ]
  },
  {
   "cell_type": "code",
   "execution_count": 24,
   "metadata": {},
   "outputs": [],
   "source": [
    "df=df.dropna(axis=0,inplace=False)"
   ]
  },
  {
   "cell_type": "code",
   "execution_count": 25,
   "metadata": {},
   "outputs": [],
   "source": [
    "def removetxt(text):\n",
    "    nt = ''.join([char for char in text if char not in string.punctuation])\n",
    "    return nt\n",
    "df1 = df\n",
    "df1['title'] = df1.title.apply(lambda x: removetxt(x))\n",
    "df1['text'] = df1.text.apply(lambda x: removetxt(x))"
   ]
  },
  {
   "cell_type": "code",
   "execution_count": 26,
   "metadata": {},
   "outputs": [
    {
     "data": {
      "text/html": [
       "<div>\n",
       "<style scoped>\n",
       "    .dataframe tbody tr th:only-of-type {\n",
       "        vertical-align: middle;\n",
       "    }\n",
       "\n",
       "    .dataframe tbody tr th {\n",
       "        vertical-align: top;\n",
       "    }\n",
       "\n",
       "    .dataframe thead th {\n",
       "        text-align: right;\n",
       "    }\n",
       "</style>\n",
       "<table border=\"1\" class=\"dataframe\">\n",
       "  <thead>\n",
       "    <tr style=\"text-align: right;\">\n",
       "      <th></th>\n",
       "      <th>title</th>\n",
       "      <th>text</th>\n",
       "      <th>value</th>\n",
       "    </tr>\n",
       "  </thead>\n",
       "  <tbody>\n",
       "    <tr>\n",
       "      <th>0</th>\n",
       "      <td>Georgia Republicans File Sweeping Elections Bi...</td>\n",
       "      <td>The bill aims to restrict the location of secu...</td>\n",
       "      <td>T</td>\n",
       "    </tr>\n",
       "    <tr>\n",
       "      <th>1</th>\n",
       "      <td>Heres Whats In House Democrats 19 Trillion COV...</td>\n",
       "      <td>Expanded and extended federal unemployment ben...</td>\n",
       "      <td>T</td>\n",
       "    </tr>\n",
       "    <tr>\n",
       "      <th>2</th>\n",
       "      <td>Native Americans Finally Have a Cabinet Nomine...</td>\n",
       "      <td>Some senators from the GOP aren’t thinking twi...</td>\n",
       "      <td>T</td>\n",
       "    </tr>\n",
       "    <tr>\n",
       "      <th>3</th>\n",
       "      <td>With Or Without Trump Republicans Will Likely ...</td>\n",
       "      <td>If Trump is to rise again it will once again b...</td>\n",
       "      <td>T</td>\n",
       "    </tr>\n",
       "    <tr>\n",
       "      <th>4</th>\n",
       "      <td>Cruz says his wife was ‘pissed’ about leaked t...</td>\n",
       "      <td>“I will tell you that she is pissed about All ...</td>\n",
       "      <td>T</td>\n",
       "    </tr>\n",
       "  </tbody>\n",
       "</table>\n",
       "</div>"
      ],
      "text/plain": [
       "                                               title  \\\n",
       "0  Georgia Republicans File Sweeping Elections Bi...   \n",
       "1  Heres Whats In House Democrats 19 Trillion COV...   \n",
       "2  Native Americans Finally Have a Cabinet Nomine...   \n",
       "3  With Or Without Trump Republicans Will Likely ...   \n",
       "4  Cruz says his wife was ‘pissed’ about leaked t...   \n",
       "\n",
       "                                                text value  \n",
       "0  The bill aims to restrict the location of secu...     T  \n",
       "1  Expanded and extended federal unemployment ben...     T  \n",
       "2  Some senators from the GOP aren’t thinking twi...     T  \n",
       "3  If Trump is to rise again it will once again b...     T  \n",
       "4  “I will tell you that she is pissed about All ...     T  "
      ]
     },
     "execution_count": 26,
     "metadata": {},
     "output_type": "execute_result"
    }
   ],
   "source": [
    "df1.head()"
   ]
  },
  {
   "cell_type": "code",
   "execution_count": 27,
   "metadata": {},
   "outputs": [],
   "source": [
    "import re"
   ]
  },
  {
   "cell_type": "code",
   "execution_count": 28,
   "metadata": {},
   "outputs": [],
   "source": [
    "def token(txt):\n",
    "    tk = re.split('\\W',txt)\n",
    "    return tk\n",
    "df2 = pd.DataFrame()\n",
    "df2['title'] = df1.title.apply(lambda x: token(x.lower()))\n",
    "df2['text'] = df1.text.apply(lambda x: token(x.lower()))\n",
    "df2['value']=df1.value"
   ]
  },
  {
   "cell_type": "code",
   "execution_count": 29,
   "metadata": {},
   "outputs": [
    {
     "data": {
      "text/html": [
       "<div>\n",
       "<style scoped>\n",
       "    .dataframe tbody tr th:only-of-type {\n",
       "        vertical-align: middle;\n",
       "    }\n",
       "\n",
       "    .dataframe tbody tr th {\n",
       "        vertical-align: top;\n",
       "    }\n",
       "\n",
       "    .dataframe thead th {\n",
       "        text-align: right;\n",
       "    }\n",
       "</style>\n",
       "<table border=\"1\" class=\"dataframe\">\n",
       "  <thead>\n",
       "    <tr style=\"text-align: right;\">\n",
       "      <th></th>\n",
       "      <th>title</th>\n",
       "      <th>text</th>\n",
       "      <th>value</th>\n",
       "    </tr>\n",
       "  </thead>\n",
       "  <tbody>\n",
       "    <tr>\n",
       "      <th>0</th>\n",
       "      <td>[georgia, republicans, file, sweeping, electio...</td>\n",
       "      <td>[the, bill, aims, to, restrict, the, location,...</td>\n",
       "      <td>T</td>\n",
       "    </tr>\n",
       "    <tr>\n",
       "      <th>1</th>\n",
       "      <td>[heres, whats, in, house, democrats, 19, trill...</td>\n",
       "      <td>[expanded, and, extended, federal, unemploymen...</td>\n",
       "      <td>T</td>\n",
       "    </tr>\n",
       "    <tr>\n",
       "      <th>2</th>\n",
       "      <td>[native, americans, finally, have, a, cabinet,...</td>\n",
       "      <td>[some, senators, from, the, gop, aren, t, thin...</td>\n",
       "      <td>T</td>\n",
       "    </tr>\n",
       "    <tr>\n",
       "      <th>3</th>\n",
       "      <td>[with, or, without, trump, republicans, will, ...</td>\n",
       "      <td>[if, trump, is, to, rise, again, it, will, onc...</td>\n",
       "      <td>T</td>\n",
       "    </tr>\n",
       "    <tr>\n",
       "      <th>4</th>\n",
       "      <td>[cruz, says, his, wife, was, , pissed, , about...</td>\n",
       "      <td>[, i, will, tell, you, that, she, is, pissed, ...</td>\n",
       "      <td>T</td>\n",
       "    </tr>\n",
       "  </tbody>\n",
       "</table>\n",
       "</div>"
      ],
      "text/plain": [
       "                                               title  \\\n",
       "0  [georgia, republicans, file, sweeping, electio...   \n",
       "1  [heres, whats, in, house, democrats, 19, trill...   \n",
       "2  [native, americans, finally, have, a, cabinet,...   \n",
       "3  [with, or, without, trump, republicans, will, ...   \n",
       "4  [cruz, says, his, wife, was, , pissed, , about...   \n",
       "\n",
       "                                                text value  \n",
       "0  [the, bill, aims, to, restrict, the, location,...     T  \n",
       "1  [expanded, and, extended, federal, unemploymen...     T  \n",
       "2  [some, senators, from, the, gop, aren, t, thin...     T  \n",
       "3  [if, trump, is, to, rise, again, it, will, onc...     T  \n",
       "4  [, i, will, tell, you, that, she, is, pissed, ...     T  "
      ]
     },
     "execution_count": 29,
     "metadata": {},
     "output_type": "execute_result"
    }
   ],
   "source": [
    "df2.head()"
   ]
  },
  {
   "cell_type": "code",
   "execution_count": 30,
   "metadata": {},
   "outputs": [
    {
     "name": "stderr",
     "output_type": "stream",
     "text": [
      "[nltk_data] Downloading package stopwords to\n",
      "[nltk_data]     C:\\Users\\alexr\\AppData\\Roaming\\nltk_data...\n",
      "[nltk_data]   Package stopwords is already up-to-date!\n"
     ]
    }
   ],
   "source": [
    "import nltk\n",
    "nltk.download('stopwords')\n",
    "stopword = nltk.corpus.stopwords.words('english')"
   ]
  },
  {
   "cell_type": "code",
   "execution_count": 31,
   "metadata": {
    "scrolled": true
   },
   "outputs": [
    {
     "name": "stdout",
     "output_type": "stream",
     "text": [
      "['i', 'me', 'my', 'myself', 'we', 'our', 'ours', 'ourselves', 'you', \"you're\", \"you've\", \"you'll\", \"you'd\", 'your', 'yours', 'yourself', 'yourselves', 'he', 'him', 'his', 'himself', 'she', \"she's\", 'her', 'hers', 'herself', 'it', \"it's\", 'its', 'itself', 'they', 'them', 'their', 'theirs', 'themselves', 'what', 'which', 'who', 'whom', 'this', 'that', \"that'll\", 'these', 'those', 'am', 'is', 'are', 'was', 'were', 'be', 'been', 'being', 'have', 'has', 'had', 'having', 'do', 'does', 'did', 'doing', 'a', 'an', 'the', 'and', 'but', 'if', 'or', 'because', 'as', 'until', 'while', 'of', 'at', 'by', 'for', 'with', 'about', 'against', 'between', 'into', 'through', 'during', 'before', 'after', 'above', 'below', 'to', 'from', 'up', 'down', 'in', 'out', 'on', 'off', 'over', 'under', 'again', 'further', 'then', 'once', 'here', 'there', 'when', 'where', 'why', 'how', 'all', 'any', 'both', 'each', 'few', 'more', 'most', 'other', 'some', 'such', 'no', 'nor', 'not', 'only', 'own', 'same', 'so', 'than', 'too', 'very', 's', 't', 'can', 'will', 'just', 'don', \"don't\", 'should', \"should've\", 'now', 'd', 'll', 'm', 'o', 're', 've', 'y', 'ain', 'aren', \"aren't\", 'couldn', \"couldn't\", 'didn', \"didn't\", 'doesn', \"doesn't\", 'hadn', \"hadn't\", 'hasn', \"hasn't\", 'haven', \"haven't\", 'isn', \"isn't\", 'ma', 'mightn', \"mightn't\", 'mustn', \"mustn't\", 'needn', \"needn't\", 'shan', \"shan't\", 'shouldn', \"shouldn't\", 'wasn', \"wasn't\", 'weren', \"weren't\", 'won', \"won't\", 'wouldn', \"wouldn't\"]\n"
     ]
    }
   ],
   "source": [
    "print(stopword)"
   ]
  },
  {
   "cell_type": "code",
   "execution_count": 32,
   "metadata": {},
   "outputs": [],
   "source": [
    "def removestop(text):\n",
    "    text = [word for word in text if word not in stopword]\n",
    "    return text\n",
    "df2['title'] = df2.title.apply(lambda x: removestop(x))\n",
    "df2['text'] = df2.text.apply(lambda x: removestop(x))"
   ]
  },
  {
   "cell_type": "code",
   "execution_count": 33,
   "metadata": {},
   "outputs": [
    {
     "data": {
      "text/html": [
       "<div>\n",
       "<style scoped>\n",
       "    .dataframe tbody tr th:only-of-type {\n",
       "        vertical-align: middle;\n",
       "    }\n",
       "\n",
       "    .dataframe tbody tr th {\n",
       "        vertical-align: top;\n",
       "    }\n",
       "\n",
       "    .dataframe thead th {\n",
       "        text-align: right;\n",
       "    }\n",
       "</style>\n",
       "<table border=\"1\" class=\"dataframe\">\n",
       "  <thead>\n",
       "    <tr style=\"text-align: right;\">\n",
       "      <th></th>\n",
       "      <th>title</th>\n",
       "      <th>text</th>\n",
       "      <th>value</th>\n",
       "    </tr>\n",
       "  </thead>\n",
       "  <tbody>\n",
       "    <tr>\n",
       "      <th>0</th>\n",
       "      <td>[georgia, republicans, file, sweeping, electio...</td>\n",
       "      <td>[bill, aims, restrict, location, secure, drop,...</td>\n",
       "      <td>T</td>\n",
       "    </tr>\n",
       "    <tr>\n",
       "      <th>1</th>\n",
       "      <td>[heres, whats, house, democrats, 19, trillion,...</td>\n",
       "      <td>[expanded, extended, federal, unemployment, be...</td>\n",
       "      <td>T</td>\n",
       "    </tr>\n",
       "    <tr>\n",
       "      <th>2</th>\n",
       "      <td>[native, americans, finally, cabinet, nominee,...</td>\n",
       "      <td>[senators, gop, thinking, twice, risk, immedia...</td>\n",
       "      <td>T</td>\n",
       "    </tr>\n",
       "    <tr>\n",
       "      <th>3</th>\n",
       "      <td>[without, trump, republicans, likely, keep, ri...</td>\n",
       "      <td>[trump, rise, bornagain, conservative, adopted...</td>\n",
       "      <td>T</td>\n",
       "    </tr>\n",
       "    <tr>\n",
       "      <th>4</th>\n",
       "      <td>[cruz, says, wife, , pissed, , leaked, text, m...</td>\n",
       "      <td>[, tell, pissed, rest, fine, , cruz, said, add...</td>\n",
       "      <td>T</td>\n",
       "    </tr>\n",
       "  </tbody>\n",
       "</table>\n",
       "</div>"
      ],
      "text/plain": [
       "                                               title  \\\n",
       "0  [georgia, republicans, file, sweeping, electio...   \n",
       "1  [heres, whats, house, democrats, 19, trillion,...   \n",
       "2  [native, americans, finally, cabinet, nominee,...   \n",
       "3  [without, trump, republicans, likely, keep, ri...   \n",
       "4  [cruz, says, wife, , pissed, , leaked, text, m...   \n",
       "\n",
       "                                                text value  \n",
       "0  [bill, aims, restrict, location, secure, drop,...     T  \n",
       "1  [expanded, extended, federal, unemployment, be...     T  \n",
       "2  [senators, gop, thinking, twice, risk, immedia...     T  \n",
       "3  [trump, rise, bornagain, conservative, adopted...     T  \n",
       "4  [, tell, pissed, rest, fine, , cruz, said, add...     T  "
      ]
     },
     "execution_count": 33,
     "metadata": {},
     "output_type": "execute_result"
    }
   ],
   "source": [
    "df2.head()"
   ]
  },
  {
   "cell_type": "code",
   "execution_count": 34,
   "metadata": {},
   "outputs": [
    {
     "name": "stdout",
     "output_type": "stream",
     "text": [
      "There are 0 null values\n"
     ]
    }
   ],
   "source": [
    "print('There are {} null values'.format(len(df2)-len(df2.dropna())))"
   ]
  },
  {
   "cell_type": "code",
   "execution_count": 35,
   "metadata": {},
   "outputs": [
    {
     "data": {
      "text/html": [
       "<div>\n",
       "<style scoped>\n",
       "    .dataframe tbody tr th:only-of-type {\n",
       "        vertical-align: middle;\n",
       "    }\n",
       "\n",
       "    .dataframe tbody tr th {\n",
       "        vertical-align: top;\n",
       "    }\n",
       "\n",
       "    .dataframe thead th {\n",
       "        text-align: right;\n",
       "    }\n",
       "</style>\n",
       "<table border=\"1\" class=\"dataframe\">\n",
       "  <thead>\n",
       "    <tr style=\"text-align: right;\">\n",
       "      <th></th>\n",
       "      <th>title</th>\n",
       "      <th>text</th>\n",
       "      <th>value</th>\n",
       "    </tr>\n",
       "  </thead>\n",
       "  <tbody>\n",
       "    <tr>\n",
       "      <th>0</th>\n",
       "      <td>Georgia Republicans File Sweeping Elections Bi...</td>\n",
       "      <td>The bill aims to restrict the location of secu...</td>\n",
       "      <td>T</td>\n",
       "    </tr>\n",
       "    <tr>\n",
       "      <th>1</th>\n",
       "      <td>Heres Whats In House Democrats 19 Trillion COV...</td>\n",
       "      <td>Expanded and extended federal unemployment ben...</td>\n",
       "      <td>T</td>\n",
       "    </tr>\n",
       "    <tr>\n",
       "      <th>2</th>\n",
       "      <td>Native Americans Finally Have a Cabinet Nomine...</td>\n",
       "      <td>Some senators from the GOP aren’t thinking twi...</td>\n",
       "      <td>T</td>\n",
       "    </tr>\n",
       "    <tr>\n",
       "      <th>3</th>\n",
       "      <td>With Or Without Trump Republicans Will Likely ...</td>\n",
       "      <td>If Trump is to rise again it will once again b...</td>\n",
       "      <td>T</td>\n",
       "    </tr>\n",
       "    <tr>\n",
       "      <th>4</th>\n",
       "      <td>Cruz says his wife was ‘pissed’ about leaked t...</td>\n",
       "      <td>“I will tell you that she is pissed about All ...</td>\n",
       "      <td>T</td>\n",
       "    </tr>\n",
       "  </tbody>\n",
       "</table>\n",
       "</div>"
      ],
      "text/plain": [
       "                                               title  \\\n",
       "0  Georgia Republicans File Sweeping Elections Bi...   \n",
       "1  Heres Whats In House Democrats 19 Trillion COV...   \n",
       "2  Native Americans Finally Have a Cabinet Nomine...   \n",
       "3  With Or Without Trump Republicans Will Likely ...   \n",
       "4  Cruz says his wife was ‘pissed’ about leaked t...   \n",
       "\n",
       "                                                text value  \n",
       "0  The bill aims to restrict the location of secu...     T  \n",
       "1  Expanded and extended federal unemployment ben...     T  \n",
       "2  Some senators from the GOP aren’t thinking twi...     T  \n",
       "3  If Trump is to rise again it will once again b...     T  \n",
       "4  “I will tell you that she is pissed about All ...     T  "
      ]
     },
     "execution_count": 35,
     "metadata": {},
     "output_type": "execute_result"
    }
   ],
   "source": [
    "df.head()"
   ]
  },
  {
   "cell_type": "code",
   "execution_count": 36,
   "metadata": {},
   "outputs": [
    {
     "name": "stderr",
     "output_type": "stream",
     "text": [
      "[nltk_data] Downloading package wordnet to\n",
      "[nltk_data]     C:\\Users\\alexr\\AppData\\Roaming\\nltk_data...\n",
      "[nltk_data]   Package wordnet is already up-to-date!\n"
     ]
    }
   ],
   "source": [
    "nltk.download('wordnet')\n",
    "wn = nltk.WordNetLemmatizer()"
   ]
  },
  {
   "cell_type": "code",
   "execution_count": 37,
   "metadata": {},
   "outputs": [],
   "source": [
    "def lem(text):\n",
    "    text = [wn.lemmatize(word) for word in text if word not in stopword]\n",
    "    return text\n",
    "df2['title'] = df2.title.apply(lambda x: lem(x))\n",
    "df2['text'] = df2.text.apply(lambda x: lem(x))"
   ]
  },
  {
   "cell_type": "code",
   "execution_count": 38,
   "metadata": {},
   "outputs": [
    {
     "data": {
      "text/html": [
       "<div>\n",
       "<style scoped>\n",
       "    .dataframe tbody tr th:only-of-type {\n",
       "        vertical-align: middle;\n",
       "    }\n",
       "\n",
       "    .dataframe tbody tr th {\n",
       "        vertical-align: top;\n",
       "    }\n",
       "\n",
       "    .dataframe thead th {\n",
       "        text-align: right;\n",
       "    }\n",
       "</style>\n",
       "<table border=\"1\" class=\"dataframe\">\n",
       "  <thead>\n",
       "    <tr style=\"text-align: right;\">\n",
       "      <th></th>\n",
       "      <th>title</th>\n",
       "      <th>text</th>\n",
       "      <th>value</th>\n",
       "    </tr>\n",
       "  </thead>\n",
       "  <tbody>\n",
       "    <tr>\n",
       "      <th>0</th>\n",
       "      <td>[georgia, republican, file, sweeping, election...</td>\n",
       "      <td>[bill, aim, restrict, location, secure, drop, ...</td>\n",
       "      <td>T</td>\n",
       "    </tr>\n",
       "    <tr>\n",
       "      <th>1</th>\n",
       "      <td>[here, whats, house, democrat, 19, trillion, c...</td>\n",
       "      <td>[expanded, extended, federal, unemployment, be...</td>\n",
       "      <td>T</td>\n",
       "    </tr>\n",
       "    <tr>\n",
       "      <th>2</th>\n",
       "      <td>[native, american, finally, cabinet, nominee, ...</td>\n",
       "      <td>[senator, gop, thinking, twice, risk, immediat...</td>\n",
       "      <td>T</td>\n",
       "    </tr>\n",
       "    <tr>\n",
       "      <th>3</th>\n",
       "      <td>[without, trump, republican, likely, keep, rig...</td>\n",
       "      <td>[trump, rise, bornagain, conservative, adopted...</td>\n",
       "      <td>T</td>\n",
       "    </tr>\n",
       "    <tr>\n",
       "      <th>4</th>\n",
       "      <td>[cruz, say, wife, , pissed, , leaked, text, me...</td>\n",
       "      <td>[, tell, pissed, rest, fine, , cruz, said, add...</td>\n",
       "      <td>T</td>\n",
       "    </tr>\n",
       "  </tbody>\n",
       "</table>\n",
       "</div>"
      ],
      "text/plain": [
       "                                               title  \\\n",
       "0  [georgia, republican, file, sweeping, election...   \n",
       "1  [here, whats, house, democrat, 19, trillion, c...   \n",
       "2  [native, american, finally, cabinet, nominee, ...   \n",
       "3  [without, trump, republican, likely, keep, rig...   \n",
       "4  [cruz, say, wife, , pissed, , leaked, text, me...   \n",
       "\n",
       "                                                text value  \n",
       "0  [bill, aim, restrict, location, secure, drop, ...     T  \n",
       "1  [expanded, extended, federal, unemployment, be...     T  \n",
       "2  [senator, gop, thinking, twice, risk, immediat...     T  \n",
       "3  [trump, rise, bornagain, conservative, adopted...     T  \n",
       "4  [, tell, pissed, rest, fine, , cruz, said, add...     T  "
      ]
     },
     "execution_count": 38,
     "metadata": {},
     "output_type": "execute_result"
    }
   ],
   "source": [
    "df2.head()"
   ]
  },
  {
   "cell_type": "code",
   "execution_count": 39,
   "metadata": {},
   "outputs": [],
   "source": [
    "from sklearn.feature_extraction.text import CountVectorizer\n",
    "ps = nltk.PorterStemmer()"
   ]
  },
  {
   "cell_type": "code",
   "execution_count": 40,
   "metadata": {},
   "outputs": [],
   "source": [
    "def clean_text(text):\n",
    "    text = \"\".join([word.lower() for word in text if word not in string.punctuation])\n",
    "    tokens = re.split('\\W+', text)\n",
    "    text = [ps.stem(word) for word in tokens if word not in stopword]\n",
    "    return text\n",
    "vect = CountVectorizer(analyzer=clean_text)\n",
    "df3 = pd.DataFrame(df2, columns=['values','text'])"
   ]
  },
  {
   "cell_type": "code",
   "execution_count": 41,
   "metadata": {},
   "outputs": [],
   "source": [
    "X_counts = vect.fit_transform(df3.text)\n",
    "#X_counts = vect.fit_transform(df2.title)"
   ]
  },
  {
   "cell_type": "code",
   "execution_count": null,
   "metadata": {},
   "outputs": [],
   "source": []
  },
  {
   "cell_type": "code",
   "execution_count": null,
   "metadata": {},
   "outputs": [],
   "source": []
  },
  {
   "cell_type": "code",
   "execution_count": 42,
   "metadata": {},
   "outputs": [
    {
     "data": {
      "text/plain": [
       "(3329, 1734)"
      ]
     },
     "execution_count": 42,
     "metadata": {},
     "output_type": "execute_result"
    }
   ],
   "source": [
    "X_counts.shape"
   ]
  },
  {
   "cell_type": "code",
   "execution_count": 43,
   "metadata": {},
   "outputs": [
    {
     "data": {
      "text/plain": [
       "['',\n",
       " '0californiademocratgovgavinnewsomapprovalratingreportedlydropped14pointlastfourmonthamidgrowingrecallpetitionnewpollfound1republicanstateleadershipcommitteealsoannouncedwednesdaycreationcommissionrestoreamericanpeopleconfidenceintegrityfreefairelection2bidenofferedfullusupportpressurechinareleaseformerdiplomatmichaelkovrigbusinessmanmichaelspavordetained2018canadaarrestedmengwanzhouchineseexecutivehuaweitechnologycousoughtextraditionmengdaughtercompanyfoundertryfraudchargeextraditioncaseremainspendingcanadiancourt3timesimplesolutionexceptgovernorchangedirectionstatetruefailedcovidrelieftruelockdown4trumpadministrationepachangedstandardobamaadministrationkept70partperbillionperreport10913thinklotdemocratsayingthreetermmuchandrewcuomoneedmakechangesaidzeldinstoryliningconsequenceenddaytalkingthousandlifelostfamilywantaccountabilityjusticelegallyexposed10914chinaforeignministrysaidstatementlastmonthpastyearantichinapoliticianunitedstateselfishpoliticalinterestprejudicehatredchinashowingregardinterestchineseamericanpeopleplannedpromotedexecutedseriescrazymovegravelyinterferedchinainternalaffairunderminedchinainterestoffendedchinesepeopleseriouslydisruptedchinausrelation10915surpriseordealrepmarjorietaylorgreenergafinalvotethursdayeveningdenyassignmenttwohousecommitteeeducationlaborbudget10916ivevotedseveralpresidentbidensmainstreamcabinetnomineemcconnelltweetedchoicerunhomelandsecurityblastedobamaadministrationinspectorgeneralrunningimmigrationlawfavorfactorypowerfuldemocratbadpickmajorethicissue10917aldenboughtstaketribunelittleyearagohedgefundbackingmngenterpriseincalsotriedacquiregannettco2019lostnewmediuminvestmentgroupincpromisedlessseverejobcutnametextlength10918dtypeobject',\n",
       " '117thcongressdiverseeverlargestrepresentationracialethnicgrouphistory97percentincreasepast10congressaccordingpewresearchcenteramonghillstafferlikebrewerpeoplereallyruncongressworkingleveldearthdivers',\n",
       " '11rightplacesaidthrowing15rightmakedifficultruralamerica',\n",
       " '1958compilationconeyislandmindsoldhundredthousandcopyualonelongoutsiderpoetrycommunityferlinghettijokedcommittedsinmuchclaritycalledstylewideopenworkinfluencedparteecummingsoftenlyricalchildlikepeacockwalkedundernighttreesinlostmoonlightwhenwentoutlookinglovewroteconeyisland',\n",
       " '1covid19reliefbillmov',\n",
       " '200participantriotarrestedsimplytrespassingothersassaultingpolicestillprosecutionlikelyintensifybidenattorneygeneralnomineemerrickgarlandtoldlawmakermondayintendsmakeinvestigationtoppriorityearlydaytenur',\n",
       " '2012ferlinghettijanuspannoniusinternationalpoetryprizehungarianpenclublearnedcountryrightwinggovernmentsponsorturnedaward',\n",
       " '2016mcconnellsenatemajorityleadertimedeclinedconsidergarlandnominationthenpresidentbarackobamafillvacancyleftdeathsupremecourtjusticeantoninscaliamcconnellarguedfuturehighcourtseatamericanpeopledecidegivenpresidentialelectionyearwhitehousesenatecontrolleddifferentparti',\n",
       " '2016republicanpresidentialprimarythencandidatedonaldtrumpmemorablythreatenedspillbeanheidicruztweetedunflatteringphotonextglossyimagewifemelaniasenatorcondemnedposttimewentbecomeonetrumpfiercestdefendercongresselectedpresid',\n",
       " '2020aftermath',\n",
       " '2schoolreopenreopenisntreallyquest',\n",
       " '35thgenerationnewmexicanhaalandsecondnativeamericanwomaneverelectedservecongressalsorepresentsfossilfuelrichstateaimingmakesimilartransitioncleanerenergysourc',\n",
       " '3texasthawpoliticalspotlightheat',\n",
       " '4merrickgarlandfinallygethear',\n",
       " '52pointleadrubiorepresentsmassiveincreasesincejulylasttimefabriziopolledmatchupthreefounddesantisahead11pointrubio',\n",
       " '5restcabinet',\n",
       " '6trumpreturn',\n",
       " '78807078yearold',\n",
       " '911commission10memberbodyincludedfivedemocratfiverepublicanchairformernewjerseygovthomaskeanappointedthenpresidentgeorgewbushvicechairformercongressmanleehamiltonappointedcongressionaldemocraticleadertoldpoliticolastweekviewedmandateexcisingextremepartisanshipwithincommissionrankparticularlystaffultimatelycarriedinvestig',\n",
       " 'abbottstandreelection2022hestilloddsonfavoritewinhandlecrisislikelyshapefatesentedcruzbackmexicoluckyhereelection2024',\n",
       " 'abortioncaseinvolves2019trumpadministrationruleadopteddepartmenthealthhumanservicebarredhealthclinicreceivingfederalfamilyplanningfundprovidedreferralabortionpromptingorganizationincludingplannedparenthoodwithdrawtitlexprogram',\n",
       " 'absolutelypublicopinionworldsaystephenmillerdonaldtrumpimmigrationplannetpositiverepublicanpartysaidtoddschultepresidentfwdusimmigrationadvocacygrouphumanconsequencepolicyterriblepoliticalconsequencerepublicanpartyflatterr',\n",
       " 'absolutenationaldisgracesaid15hourradicalideanumberstatemoveddirection60percentamericanpeoplethinkgow',\n",
       " 'accordingcomplaintlindellallyformerpresidentdonaldtrumpknowinglyparticipatedspreadingdisinformationdominionvotingsystemstoleelectionfavorpresidentbidencompanycallbigli',\n",
       " 'accordingconteeavailableintelligencepointedlargepresenceextremistgroupstirredviolenceprotestnationcapitallatelastyearhoweverconteesaiddcintelligencepointingcoordinatedassaultcapitol',\n",
       " 'accordingflashpoliticomorningconsultpollconducteddaysecondimpeachmenttrial57percentrepublicanvotersaidwanttrumpplaymajorrolepartygoingforward80percentrepublicanrespondentsaidviewedfavor',\n",
       " 'accordingoutletinvestigatorbecamealarmedfangbehavioractivityalertedswalwell2015concerngavedefensivebriefingswalwellcuttiefangaccusedwrongdoingofficialsaid',\n",
       " 'accordingreportlastyear3millionuyghurmuslimchinawesternxinjiangprovincetakenhomesince2017authoritydisappearedprisoncampchinesegovernmentglossreeducationfacil',\n",
       " 'accountpermanentlysuspendedduerepeatedviolationcivilintegritypolicytwitterspokespersontoldnprtimeclearpostlindellledremovalsocialmediumplatform',\n",
       " 'aclucallbidenguidanceicearrestdeportationdisappointingstepbackward',\n",
       " 'acrosscountryhaalandbelovedfirstpeoplenominationgalvanizedindigenoushoperepresentationlostvoterleadergrandoldpartyliningnationalcongressamericanindianwrittenlettersenatorurgingconfirmhaalandcreatedtemplatetriballeaderacrosscountri',\n",
       " 'actcommemorationlikelyleadpermanentmonumentgatherreflectionconventionerectmonumentsaluteheroicspiritacknowledgeactsacrificestatuegenicsoldierpolicefirefighterillustratenationalidealstatuelibertygatewayarchsince911attackespeciallyfirstresponderdeservedlyacquiredheroicstatureneverpossessedexpectmedicalresponderdoctorjanitordiedcovid19mightmemorializedgranitesometimedecade500000evenstruggledheroicallylifedeathbedlikelyformallyinstitutionalizememorypassingwayquicklyforgotinfluenzapandemic1918recallingpalpablysimilarviralthreatsurfaced195719762003putdeathmindcrisispassedstinginessbuildingshrinehonorpeopledieddiseaseillustratedreactionaidcatastropheaidquiltmarkeddeathepidemiclate1980stouring20citylastyearquiltgrown12millionsquarefootstoredoaklandcalifwarehouseyetpermanentmonument700000americancountingdievirusexistsalthoughinitiativebuildplacetakenrootsoutherncalifornia',\n",
       " 'actingmetropolitanpolicechiefrobertconteealsotestifiedfbisentdepartmentemailwarningpotentialviolencejan5',\n",
       " 'actualnumbercovid19fatalitypublichealthofficialsaidlikelysignificantlyhigh',\n",
       " 'addedknowwantoverpromiseanyth',\n",
       " 'addedlaterhearingbeliefintelligencecommunityneedbroadenapertureinformationcollect',\n",
       " 'addedthatsnewyorkspiritthatstexasspiritthatsamericanspirit',\n",
       " 'additioncoronaviruspandemicschoolreopeningsbiggeststoryoutsidewashingtontexasdeepfreezetexanfinallyseasonableweatherweekfalloutfarshortlongterm',\n",
       " 'additionfourwitnessagreedintelligencegivenaheadtimepointtypeviolenceoutrightlawlessnessofficerconfrontedjan6',\n",
       " 'additionhousesenateleaderputtogetherprogramofficemeantrecruittrainpromotenonwhitestafferamongprominenthouseofficediversityinclusionledblackdirectorlatinodeputyaimhirepromotepeoplecolorhouseoffic',\n",
       " 'additionremovingoldprofileannouncedreformincludelimitingcollectiondnaminordnatakentheyresuspectedfelonysexcrimeguncrimehatecrim',\n",
       " 'additionsinglememberaskedburningquestionentireinquiri',\n",
       " 'additionsundconteesenateheardformerhousesenatesergeantsatarmskeydetailstoryconflict',\n",
       " 'addouncchapelhillagreesknowblackborrowerstrugglerepaymentindependentinstitutiontypewhethercompleteddegre',\n",
       " 'administrationinitiativelimitedcomparisonplandistributeclothmaskamongroughly1300healthcenter300foodbanktwothirdspeopleservedcommunityhealthcenterlivingpovertyadministrationsaid',\n",
       " 'administrationofficialsayhopecaseevenstimulusplanpassedspecialreconciliationrulesenateavoidrepublicanfilibusterallowpasseddemocraticvoteofficialhopestillpickrepublicanvotegivingleastpatinabipartisanship',\n",
       " 'administrationrecentlyfinalizeddealbuy200millionadditionaldospresidentcommittedenoughshotvaccinateeveryamericanadultendjulylikelyadditionalvaccineavailablemanufacturerbringnewshotmarketjohnsonjohnsonexpectedreceiveemergencyuseauthorizationfdaoneshotvaccinesoonweek',\n",
       " 'administrationrightlyundertakenreviewleasttwoarmsalekingdomwhethergofartherunclearyearadministrationsuppliedsaudiarabiaweaponwantratherweaponneedaddressrealmilitarythreatkingdomfacehelpingsaudiimprovedefenseiranianmissileattackcriticalinfrastructurecyberterroristattackperfectlyappropriatelegitimatecannotsaidhoweverprovidingweaponsystemwouldimprovesaudicapabilityprojectforcebeyondborderespeciallyirankingdomfacecrediblethreatlargescaleconventionalattackirancountryregionworldseenhavocsaudiwreakedyemenadvancecombataircraftmunitionsaudimilitarymissingactionbattleisiiraqyemen',\n",
       " 'administrationsinceissuedguidanceiceagentinformingneedpreapprovalmanagerarrestillegalimmigrantfallcategorysimilaralsoexempteddeportationfreez',\n",
       " 'admittedobstructionjusticedutytellpublicaddedlatermightbrokenlawgoingcomplicitcoverup',\n",
       " 'admittedpotentiallyobstructingjusticehidinginformationdepartmentjusticepoliticalreasonsaidnotingofficialdutycooperatefederallawenforcementwhetherdisagreepoliticallypresidentpow',\n",
       " 'adoptionmightimaginesomethingtlingitwillynillytraditionallytlingitadoptionoccuracrossclantribeeagleadoptravennontlingitravenadopteaglenontlingitbondformedritedesignedendureacrossgenerationbloodrelationshiprealthickexplainedwilliamstlingitculturetribalrelationshipthickerbloodgetclanclanrelationshipthickertribalrelationshipthickerbloodrelationship',\n",
       " 'advicebidennexttimeheaskedissuegetthreesentencetalkdebtforgivenesssayacknowledge17trilliondebtindicationseriousproblem',\n",
       " 'advocateaffiliatedgrouparguechanceactioncongresselsewherefederalgovernmentneverbetterpartpublicsupportchangesteadilyincreasednewtownconnsubsequentshootingpartimplosiononcemightynationalrifleassoci',\n",
       " 'advocatepushingstatelegislationwouldbannewyorkcitymunicipalitymaintainingdnadatabasestatemaintainslimiteddnatrackingsystemincludespeopleconvictedcrim',\n",
       " 'agencylaiddatabriefingdocumentpostedaheadfeb25meetingindependentadvisorypanelvaccineexpertdiscuswhethervaccineauthorizedpeople18old',\n",
       " 'agreementmeandhsmustgivetexas180daynoticeproposedchangematterwouldreduceenforcementincreasenumberremovableinadmissiblealienupaxtonclaimagreementviol',\n",
       " 'aidcrisisreceivedconcentratedattentionbroadwaynormalheartangelamericahollywoodphiladelphia1918influenzapandemiceragivensocioracialinequitypandemicdonaldtrumpmismanagementpotentialcovid19themedworkartexiststargetpandemictrumptimelessworkfictiondemandidentifiablevillainactnaturelikekillervirusfillbil',\n",
       " 'aidelummissaidsenatorlummisopposesrephaalandonereasononereasonradicalstatementpositionlandenergyissuebarrassoofficerespondrequestcom',\n",
       " 'aidesaidquestionintendedsmithappearcommitteetuesdayafternoonalongsideexecutivesolarwindscybersecurityfirmfireeyecrowdstrikelattertwocompanyforefrontuncoveringbreadthscopelikelyrussianespionageoperationofficialbelievespecificallytargetedninefederalagencyroughly100compani',\n",
       " 'alaskasenatorrepaidhonorpoliticalattentionpublicspeakseloquentlymyriadissuefacingnativepeopleincludingdisproportionatetragedycoronavirusreservationscourgesuicidenativecommunityunkeptpromisenativeveterandeclinetriballanguagemurkowskisenateleadsavannaactimprovedatacollectionviolencenativewomanbillhaalandcosponsoredhousecosponsorinvisibleactcoordinateactionmurderhumantraffickingnativepeoplebillhaalandledhouseoftensportnativenecklaceearringcapitolhilltakenwearingmasktlingitdesignpandemicevenunusualvotebrettkavanaughsupremecourtconfirmationalignedpreferencealaskafederationn',\n",
       " 'alicemirandaollsteinmariannelevinecontributedreport',\n",
       " 'allowspeopleablesituationfindaffordmaskgetmaskpartequitystrategywhitehousecovid19coordinatorjeffzientssaidestimatingcostsupplyingmask86million',\n",
       " 'almostfeellikenominationproxyfightfuturefossilfuelsaidsenmariacantwelldwash',\n",
       " 'almostfiveyearformerpresidentbarackobamanominatedjudgemerrickgarlandsupremecourtgarlandgetconfirmationhearingmondaytuesdaybidensattorneygener',\n",
       " 'almostimmediatelyjointoversighthearingbegansenatorcallingtestimonyseniorofficialpentagonfbidepartmenthomelandsecuritydirectlyimplicatedfourwitnessformercapitolpolicechiefstevensundformerhousesergeantatarmspaulirvingformersenatesergeantatarmsmichaelstengeractingdcpolicechiefrobertconteeeventhoughgrouplargelypassedbuckfederalagencydepartmentcurrentformerofficialgavelawmakernewlineinquirypursu',\n",
       " 'almostwithoutexceptionamericanrespondedshockhorrorcondemnationstormingcapitolweekmobtrumpsupport',\n",
       " 'alsoallegedshortlyofficeincidentmadefeeluncomfortablestephaniebentondirectorgovernorofficetoldemailcuomosuggestedlookimagelisashieldrumoredformergirlfriendcouldsistertoldboylanbetterlookingsist',\n",
       " 'alsodefiedhistoryinternetsuperstorechainhighrentshutnumerousbooksellerbayareabeyondcitylightremainedthrivingpoliticalculturaloutletonesectiondevotedbookenablingrevolutionarycompetenceemployeecouldgetdayattendantiwarprotest',\n",
       " 'alsoincludesexpressingdutyengageviolencedepartmentdefenseunitedstatesupportterroristextremistcauseregulationst',\n",
       " 'alsonotepastcommentwraysaidchinaengagedforeigninfluencecampaignincludesbriberyblackmailovertd',\n",
       " 'alsowatchingseehappensneeratandenbidenspickbudgetdirectorconservativedemocratjoemanchinsaidwouldopposenominationovertlypartisanstatementtweetmadebidenadministrationsaystickinghopingleastonerepublicanvotereportedlybehindthescenespreparationreplac',\n",
       " 'alsowouldtakehelmdepartmentbatteredfouryearturmoiltrumpadministr',\n",
       " 'althoughsenatorcautionedlothappen2024pointedpublicopinionsurveyshowrepublicanvoterstilloverwhelminglyfavorformerpresid',\n",
       " 'althoughstoryjan6becomeclearerhundredrioterfacedchargehighleveldecisionmakingtopcongressionalsecurityofficialfarremainedshroudedsecrecylacktransparencycloudedcongressionaleffortensurelawmakerlearninsurrectionchao',\n",
       " 'americaconstitutionalprocessstoppedseatdemocracydesecratedpowermodelworldtarnishedcapitolpoliceofficerclubbedonediednearlyagreedamagedonecapitolbuildingimageamericatryprojectinternallyexternallylast',\n",
       " 'americanhustleabscamcaseargoexfiltrationhostageiranimportantmiracleicelakeplacidolympicsworksecurityolympicsgarlandrecalledaudiencealmamaterharvardlawschool2016',\n",
       " 'americanindiannominationhaalandspecialsymbolicpowernativewomanpoisedleaddepartmentrunmandeclaredmissioncivilizeexterminatenativepeoplestrikerichironyrepublicandescribingexistentialthreatwaylif',\n",
       " 'americanindiantakingnoticefightoppositionappointmentwouldsendmessageworthyhighofficesaidpaulettemorenograndpresidentalaskanativesisterhoodmessageonesharedworld',\n",
       " 'americansharplydifferentviewreopeningschooltwothirdsustudentalreadyofferedinpersonoptionbidenadministrationstruggledlayclearlyconsistentlyschoolopen',\n",
       " 'amongexecutiveactionconsiderationadministrationonewouldrequirebuyersocalledghostgunhomemademakeshiftfirearmlackserialnumberundergobackgroundcheckaccordingthreepeoplespokenwhitehouseplan',\n",
       " 'amongpicklesayhepartlonglinesecurityofficialpleadedlawmakerdecadeallowfencingperimeterlastmonthactingucapitolpolicechiefyoganandapittmanreiteratedcal',\n",
       " 'amountassaultsystemquitegoodgoprepublicanactuallyprosperoustwopartyoperatingwithinsystemfactquitesuccessfulelectionyearsomethinglargelyobscuredfurorpresidentialoutcom',\n",
       " 'analysisjpmorganfoundnationwidestategovernmentrevenuefellslightly0122020comparedyearpandem',\n",
       " 'analystargueboileffectivepolicymakingtimegrowingcallincreasedrepresentationgovernmentaddresscrisisdisproportionatelyhurtingpeoplecolorpandemicracialinequityeconomicturmoilchargedcouldmissmo',\n",
       " 'angelsidebottomlinead',\n",
       " 'annualconservativeconfabmovedmarylandorlandofloridaduecoronavirusrestrict',\n",
       " 'anotherencounterdecember2016boylansaidcuomoarrangedhandlermeetalbanyofficeagreedreluctantlysaidgavetourofficesmirkedshowedcigarboxsaidgivenformerpresidentbillclintonservedsecretaryhousingurbandevelop',\n",
       " 'anotherinstancemiamidadestateattorneyofficepreparingchargerivera52countindictmentallegingtheftmoneylaunderingracketeeringstemmingusepublicmoneycashcontributedcommitteeusedpoliticalpurposeprosecutorofficepersuadedriveraattorneydropeffort',\n",
       " 'anotherinterviewtuesdayconservativeradiohosthughhewittshowcruzacknowledgeddecisiontravelcancúndumbhellsoughtplacechildcentercontroversi',\n",
       " 'anotherissuepicklearguesreportingsecurityapparatusreportpoliticallead',\n",
       " 'anotherpersonknowledgediscussionsaidgopoppositionkahlpoliticalrepublicanwantscalpreasonpickedcolinpersonsaid',\n",
       " 'anotherquestionhoveringdiscussionrolespeakernancypelosithensenatemajorityleadermitchmcconnellorchestratingsecurityresponsedetailbegunspillsuggestingleaderperplexedfailurechambersergeantsatarmsimmediatelyseeknationalguardhelpwellfailureguardsmanreadyadvanceriotbecameclearthreatlawmakersafeti',\n",
       " 'anotherrepublicanenergynaturalresourcecommitteesenjohnhoevennorthdakotaindicatedstatementhaalandwouldtoughtimewinningsupportwellgoplawmakercommitteedeclinedcommenthaalandnomin',\n",
       " 'anotherroundstimuluschecklatestrounddirectpaymentwouldsend1400perpersonpeopleearning75000coupleearning150000paymentwouldreducedindividualearningamount100000peryearlegislationalsoincludesadditional1400perdependentregardlessag',\n",
       " 'anothersignerkevinriggspastorsmallchurchnearnashvilleaffiliatedfreebaptistdenominationdescribesrighteverybodyriggssaidinterviewnprmayreceivepushbackpastorsigningstatementexpectscongregationdevotesmuchtimeworkingpeoplefacinghomelessnessincarcerationaddictionsupport',\n",
       " 'anothersouthernbredcomeback',\n",
       " 'answersupportcancelling10000debtexplainedsaidwaryerasingbigchunkloanpeoplewentivyleagueschoolideaimgoingforgivedebtbilliondollardebtpeoplegoneharvardyalepenn',\n",
       " 'anticipatingattackplanaddressnecessaryhelpcommitteeaidetoldpoliticotruehealthcareexperiencestressspent30yearpublicservicefightinggetfamilycarestayhealthi',\n",
       " 'anythingchangewontspendmuchtimeperhapspersuadingsomeoneconvincingsomeoneimportanceinvestingracemightyearpastbensonsaid',\n",
       " 'appearancefoxfriendformerstatedepartmentspecialenvoycalledbidenadministrationtalkiranreenternucleardealdiplomaticmalpracticeurgedstopmakingunilateralconcessioninsteadincreasedemandiranianregim',\n",
       " 'appearingepisodeconservativeruthlesspodcastdebutedmonthlatesupremecourtjusticeruthbaderginsburgdeathlastyearcruzsaidexperiencedmuchnegativepresscoveragesincenortherncalifornia1960sreferencejokingonlineinsultsenatorsecretlyinfamouszodiackil',\n",
       " 'appearingtwosenatecommitteeformercapitolpolicechiefstevensundsaidpentagondraggedfoothourjan6evenlawenforcementofficialpleadedadditionalaidalreadyrioterplantedtwoexplosivenearbybreachedcapitolbatteredpoliceofficerclubmaceweapon',\n",
       " 'appearsthoughpersonstoryreportunsuccessfulwhatevertryingsaidintelligenceofficialtryingweaponizesomeonecooperationessentiallyseekingpersonabletrydiscreditsomeon',\n",
       " 'appraisalgoingrightmanycommercialbusinessvaluereallygonesaidwilliamsbracinganother10hitdontknow',\n",
       " 'approvalratingamongrepublicancontinuetowerotherspartytwothirdsrepublicansaystillwantleadgop',\n",
       " 'arguablylaidfoundationteapartymovementhappenedspringtenurefirstblackpresidentbarackobamaledformationfreedomcaucusblockhardlinehouserepublicanledousterjohnboehnerspeakerculminatedtrumpelect',\n",
       " 'argues50000figureloanforgivenesscouldgolongwaytowardreducinginequalitysystemforceblackfamilytakedebtdifficultypayingloanback',\n",
       " 'arlingtontexasprovidingsupportlocalvaccinationeffortcostingcity400000weekmayorjeffwilliamsrepublicansaypreparinglikelydroppropertytax',\n",
       " 'aroundoppositionalwayslookingpersonputfightwouldobviousonecullherdsaidonesenatedemocratreferringwallgopoppositiontandenfacedbegin',\n",
       " 'asianamericanstaffersaidasianamericanpacificislanderaidewantadvancebattlebiaslawmakeroftenstaffersaidpursuedmajorpromotionpassedfinalstageinterviewperceivedmeeknessamongasianamericansomethingstaffersaidtoldindirectli',\n",
       " 'askedagreedmcconnellcriticismtrumpcornynsaidlookingforwarddaymovethingsaidplanvisittrumpfloridalikesenlindseygrahamrschouseminorityleaderkevinmccarthydonerecentday',\n",
       " 'askedcommenthaalandrepeatedlydeflectedsayingconfirmedsecretarywouldmoveforwardbidensagendabidensaidwouldbanfrackingpermanentlyhaltoilgasdevelopmentpublicland',\n",
       " 'askedwhetherdoneconstrainradicalelementpartytuesdaysenateminorityleadermitchmcconnellrepliedneedfocusunifiedtodayoppositionbidenadministrationtri',\n",
       " 'askedwhetherwouldcommitprovidingspecialcounseljohndurhamresourcecompleteinvestigationoriginfbitrumprussiaprobegarlandsaidneededlearnsawjustificationmomentremovingdurhamworksince2019givenfullautonomyspecialcounsellastoctob',\n",
       " 'askedwouldsupport2024goppresidentialprimary53percentrepublicansurveyedsaidtrumpformervicepresidentmikepennycamesecondplace12percentrepublicansupportcontenderpolledsingledigit',\n",
       " 'askedyoungpotentialreplacementtandenwhitehousepresssecretaryjenpsakisaidwednesdayonenomineeleadbudgetdepartmentnameneeratandencontinuingfight',\n",
       " 'assumingnecessaryregulatoryapprovalrelatingmanufacturingprocessplanbeginshippingimmediatelyuponemergencyuseauthorizationdeliverenoughsingledosesendmarchenablevaccination20millionamericanjohnsonjohnsonrichardnettlevicepresidentmedicalaffaircompanypharmaceuticalunitjanssentellhouseenergycommercesubcommitteetuesday',\n",
       " 'assureregardanythinglawyerpeopleunitedstatesaidpresidentlawy',\n",
       " 'astrazenecanovavaxvaccinemakerwhoseexecutiveappearedhouseenergycommercesubcommitteeoversightinvestigationfiledfdareviewyetalsostockpilingshotpreparationrollout',\n",
       " 'attackcomeleastfourrocketstruckbaladairbasesaturdaynightwoundingonepersonudefensecompanysallyportpresencebasecontractedprovidesupportiraqfleetusmadef16fighterjet',\n",
       " 'austinalsoissuednewvideomessagewarningspeedpervasivenessextremistideologyspreadtodaythankssocialmediumaggressiveorganizedemboldenedattitudemanyhategroupsympathizerapplyingrecruitmentoper',\n",
       " 'austineasilyconfirmedtwodaybideninaugurationjanuarysenateapprovedhickearlyfebruaryarmedserviceheldanotherconfirmationhearingsincebidenformallynominatedseniorpentagonofficialbesideskahl',\n",
       " 'austintexastopboardleadertexasembattledpowergridoperatorsaidtuesdayresignfollowingoutrage4millioncustomerlosingelectricitylastweekdeadlywinterstormincludingmanywhosefrigidhomelackedheatdaysubfreezingtemperatur',\n",
       " 'averagestaterevenuemostlyrecoveredkeyreasonincomemostlyrecoveredsaidmarcgoldweincommitteeresponsiblefederalbudgeteconomymuchbetterrightthoughtgoingearlypandem',\n",
       " 'avoidingdiscussioncontroversyconspiracysurroundingrecentpresidentialelectioncrucialhodgesbeliefespeciallysincemuchnarrativestolenelectionmadewaymainstreammedium',\n",
       " 'awareleadershipchallengeknowsaidsenjoshhawleyrmodirectlysaysupportmcconnellsuggestedgopvoterchosenpartydirectionalreadyvotercivilwarmadechoicewantgobackearlytimeparti',\n",
       " 'backandforthparliamentarianslated10partreconciliationprocessdemocratusingpasbidenmassivebill51votesenatemajorityevenlydividedsenateavoidingneednegotiationgop',\n",
       " 'backinsidejusticedepartmentheadquartersgarlandbecamemanseehardestproblemapril191995truckbombtoreapartfederalbuildingoklahomacitykilling168peopleformerdeputyattorneygeneraljamiegorelickrememberswatchingdaygarlandsid',\n",
       " 'badideaopposedsaidrepwarrendavidsonrohiomemberfreedomcaucusdescribedgatewaydrugtowardcorrupt',\n",
       " 'bailhearingtuesdayproudboymemberkansaaccusedstormingcapitolchiefudistrictcourtjudgeberylhowellsaiddubiouslegalmeriteffortshiftblametowardformerpresidentinflammatoryrhetoricelect',\n",
       " 'balanceanswerrightairforcechiefstaffgencqbrowntoldreporterfridaydefinepartconversationlinegetdrawndefinitionmaydifferentopinionpartworkstandgoforward',\n",
       " 'bandcentristwantdemocraticleadermodifyprovisionendlegalimmunitypoliceofficeraccusedmisconductlanguagedoombillsenategopbillhousevotewouldsparkoutragewithinbroaderdemocraticcaucusoverwhelminglysupportcurbinglegalprotect',\n",
       " 'baptizingextremismreligion',\n",
       " 'barrassodaineslummisreceivedcombined18millioncampaigncontributionfossilfuelindustrylastelectioncycleaccordingcenterresponsivepoliticstrackcampaignfinanc',\n",
       " 'basedintelligencebelievedplanmetthreatpreparedsaidknowwrongplanoneseniorsecurityleaderresponsibleeventaccountableacceptresponsibilityknowresignedposit',\n",
       " 'basicallydoneworkstaceyabramstexaslookrecordraisingmoneyvolunteersaideliotshapleighformertexasstatesenatorlongtimefriendrourkereferringformergeorgiagubernatorialcandidatewhoseorganizinghelpedelecttwodemocratsenatestatejanuarycomparerepublicanleaderperfectcontrastlettaketedcruztedcruzjetcancunliecomebackmakeshowhandingwatermeanwhilebetoraisedonemilliondollargotthousandpeoplemakecallvoterrespond',\n",
       " 'basicallysaidwatchingchildpulledwreckagegogorelicksaidreallywantedgoyoungchildtimesawscreenaffect',\n",
       " 'basicargumentmrtrumpallyvictimizedsystemcorruptdemocratonesidecountrytwistedelectionoutcomebenefityearnowoustedtrumpelectionlawyersidneypowellspreadindictmentacrosspartylinerecentdaychargingideamanyrepublicandemocraticcandidatestateacrosscountrypaidsystemriggedworkassertingleadinggeorgiarepublicanpartkindillicitschem',\n",
       " 'battlegroundmapsimilaronepresidentialcandidatefought2020harisevugansenioradviserivotedemocraticgroupfocusedsecretarystateracesaidgroupearlyoutlookincludesplayingdefensearizonacoloradomichiganminnesotalookingpickseatgeorgiaiowanevadaohio',\n",
       " 'battlesoulrepublicanpartyintendwingaetzsaidwyomingrallyhelphelpbreakcorruptsystemsendrepresentativeactuallyrepresentssendlizcheneyhomebackhomewashingtondc',\n",
       " 'bbcreportedmonthwomancampsystematicallyrapedsexuallyabusedtorturedeuropeincreasepressurechinesecommunistgovern',\n",
       " 'beatmetnewyork1940snewbaseoneprojectcitylightpocketpoetseriesofferedlowcosteditionversenotablyginsberghowlferlinghettiheardginsbergreadversion1955wrotegreetbeginninggreatcareergetmanuscripthumoroustakemessagesentralphwaldoemersonwaltwhitmanuponreadingleafgrass',\n",
       " 'becerraalsoplanbringfatherpassingjanuarynotethousandamericandiedcovid19isolatedlovedonewithoutclosureexperiencedfactdrivingmotivationseekinggovernmenttophealthpost',\n",
       " 'becerrapledgetuesdayworkdemocratrepublicanvaccinedistributionfacetcovid19responsealsopromiseworkcongressshoringmedicaremedicaidreducingcostinsuranceprescriptiondrugstrengtheningheadstartprogramlowincomechildprotectinggovernmentscientistcareerworkforcepoliticalinterferenceaccordingpreparedtestimoni',\n",
       " 'becerrarecallmotherlifethreateninghemorrhagingmiscarriagechildtestimonytuesdaysenatehelpcommitteesurvivalduefatherunionhealthinsuranceshapedviewmotivatedaccordingpreparedremarksharedpolitico',\n",
       " 'beginningessencebecomingwritingcoachextraordinaryexperiencebecamecoacheventuallymentor30somethingyearlaterfriendthompsonsaid',\n",
       " 'behinddecisionlieevenbiggerquestionmuchmandatedemocratwinnovemberelect',\n",
       " 'believeapproachingnormalcyendyearsaidgodwillingchristmasdifferentlast',\n",
       " 'believechinamadeavailablesufficientoriginaldatapandemicbeganspreadchinaeventuallyaroundworldsaidbelievechinastepmatt',\n",
       " 'believegrassleytoldpoliticopeopletotallysatisfiedanswerhearanybodygetreallyirritatedpartansweredprettywel',\n",
       " 'believeovertlypartisanstatementtoxicdetrimentalimpactimportantworkingrelationshipmembercongressnextdirectorofficemanagementbudgetreasoncannotsupportnominationmanchinsaidtimehistorytimesidingrepublican',\n",
       " 'believewouldgoodrolesenrichardshelbysaidstatementsmartknowprocessinsideouthonestbrokerdemonstratedabilityworksidegetthingdon',\n",
       " 'betsupplementedaggressivelobbyingefforttandenbehalfoneseniordemocraticsenatestaffercomplainedevenearlyconfirmationfightwhitehouselacklusteradvocacytonedeafchillierreceptiongettinghillquestionmanychampioneven1600pennsylvaniaavenu',\n",
       " 'beyondvowingpoliticswouldplayroledecisiongarlandmadepromisedespitelittleacrimonymanydemocratrepublicanpanelappearedtreatconfirmationalmostforegoneconclus',\n",
       " 'bidenacknowledgedfamilytoucheddeathpandemicexperiencedpersonallevelpainbirthdayanniversaryholidaywithouteverydaythingsmallthingtinythingmissscentopenclosetparkgousedstrollmovietheatermetmorningcoffeesharedtogeth',\n",
       " 'bidenadministrationeffortimpose100daypausedeportationillegalimmigrantdealtanotherblowtuesdaydistrictjudgeextendedbanimpositionresponselawsuittexa',\n",
       " 'bidenadministrationmadeclimatecrisisonetopprioritylimitglobalwarmingscientistsayneedrapidlycutgreenhousegasemissionconservewildspaceinteriorsecretaryhaalandwouldplaykeyroleaccomplishinggoalshedcomepositionuniqueperspect',\n",
       " 'bidenadministrationofficialincludingjohnkerryrobertmalleymeetingiranianforeignministerjavadzariftrumpadministrationorchestratedunderminepresidentbidenspredecessorrecentreportwashingtontimeclaim',\n",
       " 'bidenadministrationplanningdistributemillionfreefacemaskacrosscountryorganizationservingpeoplelowincomefreshefforttampcovid19spreadwithinvulnerablepopul',\n",
       " 'bidenadministrationpreparingreversepolicyrequiresmultistepproceduralprocesstaketim',\n",
       " 'bidenaideinsisttandenprospectdoomedfatehingesenlisamurkowskiswoopingsavenominationevenindependentmindedalaskarepublicansagawouldstillmarkonebiggestmisstepbidenstillyoungpresidencyoneraisequestionwhitehousepoliticalacumenabilitymanagerelationhillpresidenttuesdayseemedaccepttandennomcouldenddefeat',\n",
       " 'bidenalsoemphasizedimportancerememberingdiedespeciallytimecomingtogetherpersondiscouragedmadepromisepublicnationsmilenationknowsunnydaynationknowjoy',\n",
       " 'bidenalsoplentyoptionmakelifeunpleasantsaudiarabiaattemptsabotagenewnuclearagreementiranincludeslappingsanctionmbhatchetmencomplicitykillingkhashoggipermanentlycuttingcontactmbmakingclearunitedstatestandwayothersbringingsaudiinternationalcriminalcourtcommittingwarcrimeyemenmountingmajorcampaignpubliccriticismsaudihumanrightabusehaltingnewarmsalekingdomwithdrawinguambassadorsaudiarabiatreatingsaudidiplomaticpariahuppingpublicpressuresaudigovernmentcutwaybackcarbonemissiontwistingsaudiarmopendialoguetehranregionalsecurityissu',\n",
       " 'bidenalsosaidrepeatedlyeveryamericanwantvaccinatedablejuli',\n",
       " 'bidenalsosetputdistanceusaudiarabiacandidatebidenissuedstrongwordkingdomcampaigntraildescribingpariahnationhumanrightpromisingendusupportcatastrophiccampaignyemendaybideninaugurationadministrationdeclaredendamericansupportsaudioperationyemenpledgedreviewcurrentarmsaleriyadhunmistakablesigndispleasurerecklessruthlesscrownprincewhitehousepressspokespersonjenpsakispokerecalibratingurelationsaudiarabiaindicatedbidenspeakingcounterpartkingsalmanmb',\n",
       " 'bidenbillwouldprovidepathwaycitizenship11millionundocumentedimmigrantincorporatesmanyprovisionsupportedrepublicanpastwellbusinessgrouptodayleafbordersecurityinvestmenttypicallyattractedgopsupportsuggestingmanycongressmessagingmeasuredesignedfail',\n",
       " 'bidencampaigned100daypausepartsweepingimmigrationagendaincludeshaltborderwallconstructionendmigrantprotectionprotocolmpppathwaycitizenshipmillionillegalimmigr',\n",
       " 'bidenconcernedrichelitebenefitbishopaddpolicyapproachdealfocusincreasingtaxhouseholdmaking400000promisedcampaign',\n",
       " 'bidenearlywarningsignalisraelsaudiarabianecessarilymeanseriouslypreparedmakesignificantchangeeitherrelationshippresidentprovokedtroublesomebehaviorjerusalemriyadhdecidedfundamentallyalterratheradjustrelationshipwouldneedfarassertivebold',\n",
       " 'bidenechoedsentimentmondayemphasizingexperiencelossknowhardpromisesaidrememb',\n",
       " 'bidenharrisalongfirstladyjillbidensecondgentlemandougemhoffemergedwhitehousesundownstoodfootsouthporticocovered500candlehonoringdeadlistenedmarinecorpbandplayamazinggraceheldmomentsil',\n",
       " 'bideninterestedfundamentallyalteringrelationshiplookingrebalanceisraelisaudiaccountrestoreisraelisaudirespectuinterestabsenttrumpyearsignalbibimbwonderingstandamongbidenprioritylongercenteramericaworldthinkcarefullytakeactionundermineuinterestbidenlookingfightwhethertaketougheractionisraelsaudiarabiadependwhetherwillfullyignoreundermineuinterestcreatinggreatersecuritystabilityregion',\n",
       " 'bidenlengthyhistorydealinggunlegislationthoughrecenteffortendednotablefailurenewtownconnobamaaskedpushhopedwouldbiggestfirearmrestrictiondecademonthmeetinglimitedexecutiveactionbillrequireexpandedbackgroundcheckdiedsenatefloor',\n",
       " 'bidennomineeattorneygeneralmerrickgarlandindicatedmondayintendsmakecapitolinsurrectionprobetoppriorityearlytenuresignalprobelikelyintensifycomingweek',\n",
       " 'bidenprivatelysignaledgovernorwagehikelikelyhappeningpartfirstcovid19aidmeasuredemocratcouldtechnicallyoverruleparliamentarianissuethatsunlikelyhappengivenbidenleaningheavilyideapoliticoreportedearliermonth',\n",
       " 'bidenpromisedmovecountryawayclimatewarmingfossilfuelinvestrenewableenergyisntgoinghappenovernighthaalandsaidfossilfueldemocratsaidcontinueplaymajorroleamericayearcom',\n",
       " 'bidenpushdismantletrumpimmigrationpolicycometimerepublicanpartysearchingissuebeyondculturalflashpointunifybaseanimategopvoterbeyondtrumpremarkpanelcpacweekendorlandoflaincludeloominghumanitariancrisisborderselloutdevaluingamericancitizenship',\n",
       " 'bidenreaffirmedwashingtonsupportmichaelkovrigmichaelspavortwocanadianchinadetainedtwoyearapparentretaliationcanadaarresthuaweiexecutiveurequesttrudeauacknowledgedcripplingwinterstormtexasnotingsaskatchewansaskpowerutilityexportedpowerst',\n",
       " 'bidens19trillionreliefplanwouldsendanotherrounddirectpaymentqualifyingamericandisbursebilliondollarstatelocalgovernmentcouldseevotehouseendweekalsorememberbillstillgohurdlesenateseeprovisionqualifybudgetreconciliationsincerepublicanboardthinkcostli',\n",
       " 'bidensaidsupportincreasingminimumwagedoubtfulpassedsenatereconciliationprocessneed51vot',\n",
       " 'bidenscabinetalsostillfilledoutsidewashingtonbigthawtexasbegindangerousrevealingseveraldayraredeepfreez',\n",
       " 'bidensecretaryhomelandsecurityalejandromayorkasconfirmedlargelypartylinevoteearliermonthfirstlatinoimmigrantservepostmayorkaspreviouslyconfirmedsenatethreetimeconfirmationgoroundslimmestmarginbidennomineed',\n",
       " 'bidensendingunmistakablemessagestillfriendbenefitunitedstategivenfocusdomesticforeignpolicyprioritymaygreatdealtimefocusproblemmakeharderunitedstateregionthingugetcompl',\n",
       " 'bidensfirstwifefirstdaughterkilledcarcrashshortlyswornusenatorsonbeaudiedbraincancerbidenvicepresid',\n",
       " 'bidensoonswornpredictednationwouldhithalfmilliondeathendfebruarywarningadministrationwouldunabledramaticallyincreasepacevaccinationhalfmillionmarkbeyondsymbolismunderscorequicklybidensteamcomehealthcrisistensionbuildstatevaccineallocationschoolreopeningsbasicpublichealthmeasurelikemaskmand',\n",
       " 'bidentownhallwisconsinlastweekpredictedreturnnormalcycouldhappenchristmasthoughexpressedcautionvariablecouldthrowtimelin',\n",
       " 'bidentrudeauagreedworktogetherpublichealtheconomiccrisiscausedpandemicwellsharedgoaladdressingclimatechangeaddressingracismdiscrimin',\n",
       " 'bidenvowedtoughchinacampaigntrailcarefulclassifyhumanrightabuseuyghurssinceenteringofficetrumpadministrationdeclaredactionchinesecommunistpartyccpgenocideonedayvacatingwhitehous',\n",
       " 'bidenwhitehousesaidplanjumpingoffpointfuturenegotiationchancepressresetbuttonissuelawmakerfailedmakesignificantbipartisanprogressdecad',\n",
       " 'bidenworkedtrudeauleadercanadacenterleftliberalpartyvicepresidentformerobamaadministrationuscanadatietestedtradetensionformerpresidentdonaldtrumpterm',\n",
       " 'bidenwouldcallcomprehensivesettlementisraelipalestinianconflictopposingconstructionbeyond1967lineincludingeastjerusaleminconsistentinternationallawuwouldexpendeffortdefendingisraeluninternationalorganizationactionresultingsettlementactivitywashingtonwouldenforcelongstandingdeterminationugovernmentfundcouldusedsupportsettlementactivityestablishmonitoringmechanismensurecompliancerequirementbidenwouldalsomakeclearisraeliinitiativedesignedannexterritorywouldresultsevereconsequenceincludingpotentialcutoffassistancerecognitionpalestinianstatehood',\n",
       " 'biggestbattlegroundlikelygeorgiarepublicansecretarystatebradraffenspergersetfacedualchallengetrumptargetedcertifyingpresidentjoebidenvictorydemocrateagertakecontrolstateelectionadministrationgeorgiayearcenternationaldebatevotersuppressionfirstraffenspergermayseetrumpendorseprimaryopponentretributionperceivedslight',\n",
       " 'bigquestionhangingearlydaypresidentbidenadministrationnoneloomlargerholdpoliticalcenterpulledawaytowardleft',\n",
       " 'bilateralmeetingbidentrudeaurepresentsturningpagecontentiouserasaidkathrynfriedmanlawprofessoruniversitybuffalospecializesuscanadapolici',\n",
       " 'billaimrestrictlocationsecuredropboxstateearlyvotingsitewouldlimitusedropboxdaytimeearlyvotingtakeplaceanothersectionwouldbancountyelectionofficedirectlyacceptingoutsidefundingelectioncentertechciviclifeschwarzeneggerinstitutegavetenmilliondollarcountyacrossgeorgiarunnovemberjanuaryelectionmidstpandem',\n",
       " 'billhb531filedgopstaterepbarryflemingintroduceddirectlygeorgiahousespecialcommitteeelectionintegritythursdaytextbillmadeavailablehourhear',\n",
       " 'billthinkreallyreallyimportantdontwantstarttalkingmightlandbookersaidtuesdayaskedendingqualifiedimmunitystillrequir',\n",
       " 'bishopresearchfocusburdendebtblackborroweroftenonehardesthitstudentdebtfacelabormarketdiscriminationhigherrateunemploymentlowerfamilywealthformsystemicrac',\n",
       " 'bloombergoperationpaycomparativelyhighsalarypoliticalcampaignpartattracttalentlate2020seasonmanyhirecamebloombergcompanylargerorbitfailedprimarycampaignprivatefirmorganizationaidedescribedhousingprovidedmodestaddedsurprisesawlineitemcostcampaign',\n",
       " 'bloombergoriginallypledgedmaintainpayofficestaffedemployeeswingstatehelpbidencampaigninhousedigitalfirmalsomadeplayworkdemocraticnomineearrangementmaterializeinsteadbloombergpaidofficeviatransferdncdigitalfirmalsoworkdncstatelikefloridabloombergspentmuchmoneyneverthelessdonaldtrump',\n",
       " 'bloombergspent1billionmoney104daycampaignskippedearlystatethrewweightsaturatingtelevisionmarketadaheadsupertuesdayworkdroppeddisastrousmarch3showingeventuallydecidedtransfer18milliondemocraticnationalcommitte',\n",
       " 'bloombergtaxaccountantdeterminedwayprovidebenefitnamelyrentfreehousingwithouttaggedincomeemployeepointedirspublicationstatingemployerprovidedlodgingnontaxablehousingmetthreeconditionpremiseemployerfurnishedconvenienceemployeeconditionemploymentmeaningacceptproperlyperformjob',\n",
       " 'boardmemberacknowledgedconcernoutofstateboardleadershiplettergridmemberstatepublicutilitycommissionoverseesercotcrisisercotofficialremovedcontactinformationboardmemberwebsitesayingbecometargetthreat',\n",
       " 'boardmembervicechairmanpetercramtonterrybulgerraymondheppertalberglifemichiganbulgerlifewheatonillinoisaccordingbiographyercotswebsitecramtonhepperspentcareerworkingoutsidetexasfifthboardmemberleavingvanessaanesettiparra',\n",
       " 'bobjoemrpresidentmrdolesaiddescribingmeetinginterviewafterwardtwomenoneworkingclasskidscrantonpafarmlandboykansaoverlappedsenatealmostquartercenturymrdoleeventuallybecamerepublicanleadermrbidenpowerfuldemocraticcommitteechairman',\n",
       " 'bocanegrasaidhappyaudiencereceivedwhitehousestillexpressedfrustrationwhiteledguncontrolgroupappearedgettingattentionspentdayhelpingbidentransitionpolici',\n",
       " 'bourdeauxdemocratwinhouseseatpreviouslycontrolledrepublicanclaimedseatlastheldretiredgopreprobwoodallstressedmoderationbipartisanshipinterviewbourdeauxpreviouslysaidseenpeopledistrictafraidopenlysupportdemocratonehidinghillaryclintonbiographybrownpaperpool',\n",
       " 'boylanaccusedgovernorharassmentlastyearelaborateexperiencetim',\n",
       " 'boylansaidanotherincidenttimecuomosnewyorkcityofficekissedlip',\n",
       " 'boylansaidbehaviornormalizedparticularlymelissaderosatopwomanaroundrealizeinsidiousabus',\n",
       " 'boylansaidinterpretedinnuendoreferencingaffairclintontheninternmonicalewinskymid1990',\n",
       " 'bracedmarathonhearingpetered4pm',\n",
       " 'branchmilitaryadoptedinitiativenavyweekdecidedpartstandrequiresailorreaffirmoathtookconstitutionjoinedserviceservicealsowarnedsailorseparatevideopostingretweetinglikingoffensivepostsocialmediumcouldparticipatingextrem',\n",
       " 'brewerruncommunicationdemocratraphaelwarnockgeorgiafirstblacksenatorknowworkfreshmanlawmakerdonebehindcurtainstillacutelyawareimportancepresencecurrentlyonetwoblackcommunicationdirectorsenateblackmanholdrol',\n",
       " 'briefceremonybidenspokeemotionallysomberlywhitehouseoftenmomenttragedybidenspokedirectlypeoplelostfriendfamilymemberknowwellbidensaidblackholechestfeellikeyouresuckedsurvivorremorseangerquestionfaithsoul',\n",
       " 'broadpausewouldexceptionwouldexcludeaccordingwrittenfindingheadimmigrationcustomenforcementiceengagedterrorismespionageposedangernationalsecuritywouldalsoexcludepresentunov12020agreedwaiverightremainicedirectorindividuallydeterminedneedremovedlaw',\n",
       " 'budgetruleallowbillpassenatewithoutthreatfilibusteressentiallyrequirepiecebiggerpackagesignificanteffectfederalspendingrevenuedebtwithindecadepackageincreasedeficitbeyondwindowapprovalsenateparliamentariangetproblemat',\n",
       " 'budgettooldemocratusingsteerbidenplancongresswithoutgopsupportknownreconciliationladenthornyrestrictionwaitingensnare15minimumwageboosttheyveaddednexttranchecoronavirusreliefwageincreasealsorunningstrongheadwindtwoinfluentialsenatedemocraticcentristjoemanchindwvakyrstensinemadarizresistantenactingsweepingpolicychangepowerfulbudgetprocess',\n",
       " 'burgesseverettcontributedreport',\n",
       " 'burgesseverettheathercayglecontributedreport',\n",
       " 'burgesseverettmeridithmcgrawcontributedreport',\n",
       " 'bushgotprimarychallengepatbuchananmediumpersonalityservedadviserreagannixonbuchananassailedbudgetdealraisedtaxconjuredspiritreagangoldwaterquestionedbushconservativebonafidesrossperoteccentricbillionairetexanrunningselffinancingindepend',\n",
       " 'bushtermofficefeaturedshorthighlysuccessfulwarpersiangulfbudgetdealdemocratwouldeventuallyreducefederaldeficitslowgrowthnationaldebtbriefrecessioncostpollrebellionbrokepartyright',\n",
       " 'butlersaidthinkgarlandtakecueracialjusticewhitehousesaidcivilrightcommunitycheeredmemberleadershipteambidenannouncedjusticedepartmentincludingcivilrightadvocatevanitaguptanominatedassociateattorneygeneralkristenclarkeleaddepartmentcivilrightdivis',\n",
       " 'callingcuomoreturneverydollartookbiggesthospitalnursinglobbyistgroupalsorequestingturneverysinglecorrespondencelobbyistmediumpresspublickimsaid',\n",
       " 'callorganizationcallgangjudgesaidredmondfactchrestmancontinuesmemberproudboydangerenough',\n",
       " 'camenovemberdemocratlost14seathouseevenpartybackwhitehousesenateseveralblaminggoponslaughtdefundpolicerelatedlaworderattackbassothersdisputednotionsayingrepublicanalsotriedbroadlypaintdemocratsocialistmixedsuccess',\n",
       " 'campaignmrbidenvowedreenteragreementconditionsaidwouldreentertehranreturncompliancedealpresumablymeanhaltingnuclearenrichmentrollingbacknewlyaccumulatedstockpilepromisedstrengthenextendperhapssimplymattersteppingbackdealaddressingisraelcriticchargedprincipalshortcomingneedaddressiranburgeoningarsenalprecisionmissilesupportextremistgroup',\n",
       " 'campaignpresidentlaidambitiousplankeepcommunitysaferemainscommittedagendawhitehousespokespersonmikegwinsaid',\n",
       " 'canadianalsoangeredgovernmentunablesecurecovid19vaccinepfizermodernaplantclosecanadausborderrelegatedinsteadorderingeurop',\n",
       " 'cannottrustedabideconditionreleasecourtmightimposeinsteadpretrialdetentionjudgesaidfindcaseclosecal',\n",
       " 'capitolpolicedepartmentopenedinvestigationthreedozencapitolpoliceofficerpartforce2000whoseactionprotestraisedquestionsixremainsuspendedreviewofficialconfirmedlawmakeralsoaskedquestionwhethercolleagueledunauthorizedtourearlierweekpeoplemayparticipatedjan6attack',\n",
       " 'capitolpoliceunionreleasedstingingstatementmondaynightfollowingtestimonyhighlightingcontradictingaccountcallingnationalguardbackupsaidrootcausejan6attackfailureleadershipsenatorsawdysfunctiondisplay',\n",
       " 'capitolprobesaidinvestigatorbeginpeoplegroundworkwayinvolvedpursueleadwherevertakeu',\n",
       " 'carefullyreviewedneeratandenpublicstatementtweetpersonallydirectedtowardscolleaguesideaislesenatorsandersenatormcconnellothersmanchinsaidbelieveovertlypartisanstatementtoxicdetrimentalimpactimportantworkingrelationshipmembercongressnextdirectorofficemanagementbudget',\n",
       " 'carolynlernerheadeduofficespecialcounselserfchiefdccircuitmediatorsaidgarlandtookearlyimportantleadupdatepolicyprotectemployeesexualharassmentworkplacemisconduct',\n",
       " 'casemadewaysupremecourtalreadytrumpattorneyarguedsittingpresidentimmunecriminalinvestigationhighcourtrejectedclaimsentcasebacklowercourtlitig',\n",
       " 'casenovembertrumpprivatelawyeraskedhighcourtblocknewyorkcountydistrictattorneycyrusvancejreffortgeteightyeartrumptaxrecordnewyorkgrandjuryissuedsubpoenadirectedpresidentpersonallyaccountingfirmlongdealtpersonalfinancemazarsusa',\n",
       " 'casetuesdayhowelllamentedsecurityfencingdeploymentnationalguardtroopobservingchrestmantripwashingtonlastmonthtakenordinarytourist',\n",
       " 'causecapitolpoliceofficerbriansicknickdeathstatusreviewlawmakerrelationshiprioterincludingallegationmaygiventourbuildingjan5basiscapitolpoliceongoinginvestigation35officerconductjan6',\n",
       " 'centerdiseasecontrolpreventionguidelinesayschoolreopenwithoutteachervaccinatedbidenswhitehousesaidteacherpriorityvaccinetrywalktightropescienceteacherunionkeydemocraticconstituencybitfalsedeb',\n",
       " 'certainlyseemslikelytexassentedcruzsaidthoughtfinefrustratingansweredquestionapproachedlikejudicialnomineedodgingeveryquest',\n",
       " 'challengeplanaheadsaidwhitehousepresssecretaryjenpsaki',\n",
       " 'changedstatelegislaturepassedvoterreferendumseenfirsttimetimemovementdemocraticprimaryeverysinglecandidatetryingoutdomuchcareissuesaidchristianhaynevicepresidentpolicybradygroupsupportincreasedfirearmrestrictionanticipatemomentumcontinuebuildgetchangedesperatelyne',\n",
       " 'changepaycheckprotectionprogrambillincludes725billionnewmoneypppprogramwouldallownonprofitapplyincludinggroupengageadvocacylimitedlobbyingalsoallowslargernonprofitelig',\n",
       " 'changewouldgivecountyelectionworkerflexibilitygreaterstaffingpollinglocationtweakwouldallowpollworkeroperatesiteadjoiningcountyinsteadcountyresidenceanotherwouldallowofficialleewayrequirementvotingequipmenttypicallylowerturnoutprimaryrunoffhoweverdeadlineresultcountedcertifiedwouldmovefourdaysoonermondayelect',\n",
       " 'chiefsecurityleaderexpresseddoubtreadinesswithoutnationalguardwouldhesitatedrequest',\n",
       " 'chiefsundpleadingdeploymentnationalguardresponseimmediateyesnationalguardrespondingconteesaid',\n",
       " 'childcareearlychildhoodeducationfundingnearly15billionfundchildcaredevelopmentblockgrantprogramhelpsupportchildcarefacilityparticularlyhighneedareathereadditional1billionheadstartprogram',\n",
       " 'chinareliancetargetedbidenorderinstitute100dayreviewglobalproducershippercomputerchipusedconsumerproductlargecapacitybatteryelectricvehiclepharmaceuticalactiveingredientcriticalmineralusedelectron',\n",
       " 'chinastrongnegotiatingsituationsayjoshlipskydirectorprogrampolicyatlanticcouncilgeoeconomicscenteraddcentrifugalforcecomingchinastronger2017',\n",
       " 'chrestmanfaceseriesfelonychargeincludingconspiracyinterferepolicecivildisorderobstructofficialproceedingalsochargedthreateningpolicecarryingdangerousweaponprosecutorsaywieldedaxehandleriotusingblockemergencyshutterpolicetryingcloseprotectalsosayurgedcrowdpreventofficerarrestingoneprotest',\n",
       " 'citycouncilhearinglastfebruarynypdsaidcitydatabasecontaineddna32000peoplesuspectedcrimebeginningmonthtotalstand33807accordingdatacitymedicalexamineroffic',\n",
       " 'citydatabasebuilttwodecadeexpandedrapidlylastyearpromisedreformlastyearquarterpeople8000profileconvictedcrimeincludespeoplequestionedneverchargedchargedconvict',\n",
       " 'citystategovernmentalreadycut13millionjobsincepandemicstartedleachmansaythatsnearlytwicemanygovernmentjoblostlastrecess',\n",
       " 'clearlackaccuratecompleteintelligenceacrossseveralfederalagencycontributedeventpoorplanningunitedstatecapitolpolicesaidrelyaccurateinformationfederalpartnerhelpudevelopeffectivesecurityplan',\n",
       " 'clearlylookingriskposeddependencecompetitornationonerangerisklookingadministrationofficialsaid',\n",
       " 'clearlymistakemademanysidealsofronthappenednationalguardsaidklobucharchairrulecommitteesetaheadtimetruegivenintelligencejan3daydelay',\n",
       " 'clearsanctionproposalformerofficialsaidreadygoearlyjanuarystalledendtrumptermformerpresidentnotoriouslyreluctantpenalizekremlinconfrontvladimirputindirectlysanctionpackagewouldrequiredapprov',\n",
       " 'clerkingjusticewilliambrennansupremecourtgarlandtookjobadviserpresidentjimmycarterjusticedepartmentyearwatergatescandaldepartmentleaderstruggledseparatepartisaninfluencelawenforcementestablishnewboundaryfbibiggestinvestigationeragarlandplayedbitpartlaterfoundwayontomoviescreen',\n",
       " 'clickfoxnewsapp',\n",
       " 'clickgetfoxnewsapp',\n",
       " 'clintonadministrationservedseniorofficialdeputyattorneygeneralofficeroleoversawprosecutionoklahomacitybombertimothymcveighunabombertedkaczynski',\n",
       " 'clintongorecouldcompet',\n",
       " 'clintongorethrewchillrepublicanclintonservedtwotermgavewaystillvitalstillsoutherngorecouldservetwowouldroadblockwhitehouseequivalentrooseveltfourwin',\n",
       " 'closeddayvirtuallysidesideoneleadervisiblemonitornextlecternspeak',\n",
       " 'cnntownhalltuesdaynightpresidentbidenaskedsupportedideaforgiving50000studentloandebtindividu',\n",
       " 'coalitionevangelicalchristianleadercondemningroleradicalizedchristiannationalismfeedingpoliticalextremismledviolentinsurrectionucapitoljan6supporterformerpresidentdonaldtrump',\n",
       " 'codywofsystaffattorneyacluimmigrantrightprojectsaidcivillibertygroupreviewingopt',\n",
       " 'cohanimsaidmaximumpressurecampaigntrumpadministrationholdiranianaccountableonestrongestregimeamericanhistorybroughtcountryweakestpoint43year',\n",
       " 'coldhardnumbercertainlyconveysoberingrealityconspiracytheoristalsoactivistpartypresentclearpicturecenterpoliticalspectrumheldfirm2020',\n",
       " 'colinstrotherveterandemocraticstrategiststatesaidrunpresidentwithoutgoingcomehousetakegunlinewouldcompletelydifferentopinionrourkestatewideviabilitywattcalledunforcederroroneorourkecouldovercomekeepmakinggooddecisionlikewayreactedfreezepastweek',\n",
       " 'colleaguedantechinniamericancommunityprojectplaceeverycountyamericaone15categorybaseddemographicprojecttabulatedentirenationalvoteacrosscounti',\n",
       " 'comesaidrecallingpastsenatecycleeasyoneblackbrownfaceoffice50nearlyenough',\n",
       " 'comingcongressfirsttimesteelsaidpartisanshipworseexpect',\n",
       " 'comingproposalnewgopplansenmittromneyrutahtomcottonrarkwouldraisehourlywage102025barringundocumentedimmigrantgettingboost',\n",
       " 'committeeaidehsgactoldfoxnewsstillnumberconversationhappeningsideaislepostponedgivetimeconversationcontinuewellkeepworkingmemberbestpathforward',\n",
       " 'communitycolorarentpawnmobilizeelectiondayrealissueneedrealizedpolicysaidlashondabrensonseniorfellowjointcenterpoliticaleconomicstudyauthor2020reportlackdiversitysen',\n",
       " 'communitycolorminoritystillfacediscriminationhousingeducationemploymentcriminaljusticesystembearbruntharmcausedpandemicpollutionclimatechangesaid',\n",
       " 'communitygetprioritycommunityhardesthitcuomosaiddecisionalloweveryonestatemakeappointmentvaccinefollowinggraceperiodzipcodewithinsurroundingareacolleg',\n",
       " 'companyalsofiledlawsuitrudygiulianisidneypowelllawyerworkedtrumppostelectionflurrylegalactionsimilarfraudclaimcompanyseeking13billiondamag',\n",
       " 'companyappliedfooddrugadministrationemergencyauthorizationfdaexpectedgrantearlyweekendexpertfdapanelconvenesfridaydiscuseffectivenesssafetyjjvaccin',\n",
       " 'complaintalsoallegesmypillowranadtargetedpeoplebelievedconspiracytheoryelectionoutcomeorderprofit',\n",
       " 'complicatingeffortmovegunsafetymeasurewhetherlegislationexecutiveactioncovidpandemicmomentnearly2000americanaveragedyingdayviruscountrycasedeathdeclinedjanuarypeakwhitehousetoppriorityremainsreiningcoronaviruspandemicdistributingeconomicreliefincludingnearly2trillioncovid19billmovingcongress',\n",
       " 'concernedrephaalandrecordenergydevelopmenthoevensaidincludesoppositionimportantenergyinfrastructurelikepipelinewellsupportpolicylikegreennewdealraisepriceconsumerincreasingrelianceforeignenergysourceplanraiseconcernconfirmationhearingultimatelyneedstrongcommitmentensuringtaxpayerablebenefitabundantenergyreservefederalland',\n",
       " 'concernswalwelloriginateddecemberaxiosreportedchinesenationalnamedfangfangchristinefangtargetedupandcominglocalpoliticianincludingpotentialbecomenationalfigur',\n",
       " 'conclusiontuesdayhearinghowellsaidevidentchrestmancategoryreleas',\n",
       " 'condemnationaccompaniedbeliefmemberweekalmostentirelywhitemobblackwoulddealtswiftlyharshlyprotesteramericanstreet2020summerracialreckon',\n",
       " 'confidentplandeliver100millionsingledosevaccineunitedstatefirsthalf2021continuingpartnerugovernmentexploreoptionacceleratedeliverynettlesay',\n",
       " 'confirmationgivevilsacksecondspinroleheldentiretyobamaadministr',\n",
       " 'confirmationhearinggarlandstressedlawenforcementbackgroundweekendjusticedepartmentreleasedlistlawenforcementgroupsupportingattorneygeneralincludingfraternalorderpoliceendorseddonaldtrumppresident2016lastyear',\n",
       " 'confirmationhearingmonthtandenapologizedcommentmadeledleftleaningthinktankcenteramericanprogress',\n",
       " 'confirmationhearingtandensaidfeltbadlytweetvowedapproachradicallydiffer',\n",
       " 'confirmationhearingthirdpresidentjoebidenpentagonnomineedefensesecretarylloydaustindeputydefensesecretarykathleenhickkahlservedthenvicepresidentbidennationalsecurityadviser20142017',\n",
       " 'confirmedgarlandshortagechallengetackleincludingensuringcivilrightracialjusticeamerican',\n",
       " 'confrontingwhitenationalismfarrightideologyprovingpoliticalminefieldinstitutionpridestayingnationpartisanwartheregrowingsenseanxietywithinpentagonpushcouldfeedperceptionpolicingpoliticalthoughtfavoringonepoliticalpartyanothermuzzlingfreespeech',\n",
       " 'congressalreadyappropriated150billioncareactstatelocalgovernmentmoneyspentsaidjamescomerrepublicancongressmankentuckyrecenthearingrelief',\n",
       " 'congressconsidersjoebidennomineeinteriorsecretaryweekjoewilliamsjrfollowingproceedingcloselysaxmanalaskacommitteehearingusuallyradarsmalltown3000milewashingtondctimeyear353residenttypicallypayingattentionsealionpassingwilliamsretired76yearoldconservativebornagainchristianusuallypulldemocrat',\n",
       " 'congressionalasianpacificamericanstaffassociationregularlyhostskillsessionmemberpolishinterviewprofessionaldevelopmentskillcongressionalblackassociatehostsimilareventwashingtonmemberhomedistrictrecruitblackstud',\n",
       " 'congressionalblackcaucusalsopreparingsendletterwhitehousepushingnominationhelmombtandennominationgetpulledaccordingformersenioraid',\n",
       " 'congressionalleadertakingactionwellcongressionalblackhispanicasianamericancaucusrunprogramannuallyhelppayhouseyoungpeoplecolorworkhilleffortcreditedincreasingnumberstaffercolorhil',\n",
       " 'congressionalstaffertaskeddraftingpolicyplanninglegislativerolloutsmonitoringstaffpayrateschedulingcommitteehearingpeoplecolorfoundtoppositionmakingdecis',\n",
       " 'congressmanyoungalaskalongestservingrepublicancongressspokehaalandsbehalfthoughtheydformedfriendshipsaidworkingbipartisanissuehouserepresentativeevendisagre',\n",
       " 'congresstakingfirststeptowardpotentiallymassiveinvestigationfailurecontributedcapitolinsurrectionjan6initialforayunderscoredlittlelawmakerpublicknowtrulytranspiredday',\n",
       " 'congresswomandebhaalandwouldfirstnativeamericaninteriorsecretaryalsofirstpresidentialcabinetfacedtoughtimemisguidedquestioningrepublicanlawmakerworriedpresidentclimatego',\n",
       " 'congresswomanhaalandtookaggressivestanceclimatechangecallingchallengelifetimespokefrackingpipelinefossilfueldevelopmentfederallandstatementrepublicanlawmakercitedoppositionnomin',\n",
       " 'consciousnessgenerationoldfoolsoundingtryingescapedominantmaterialistavariciousconsciousnessamericaaskedlittleboystreamconsciousnessnovelpublishedaroundtime100thbirthday',\n",
       " 'conservativehousefreedomcaucustakenformalpositioncongressionalearmarkdrawingearlyintrapartybattlelinerepublicanwrestlewhethertakeadvantagesoontoberevivedspendingpractic',\n",
       " 'conservativemanyelectionexpertaheadpresidentialelectionwidelyagreedchangemovingtowardincreasedmailballotingumadeelectionlesecuredespiteintensescrutinylitanycourtcaseevidenceemergedsupportideawidespreadvoterfraudnearlylargeenoughaffectresultpresidentialelect',\n",
       " 'consideredstatetennesseegeorgiafloridatexasfloridaseemslikeobviousplacesaidknowcityorlandoobviouslygotinfrastructuretakebigconferencemeanlavegawouldgovernormakeimpossiblebasicallymakingimpossiblebusinessopenwhereasgovernorfloridaopposit',\n",
       " 'considerrundowndisplayfemalepow',\n",
       " 'conspiracywouldsuggestamongthingorganizationalskillpreviouslyunassociatedactorgivenmrwood750000twitterfollowerpollshowmajorityrepublicantrustelectionoutcomeseemsgoodmomenthardheadedlookcompletedvotecountacrosscountryactuallyshow',\n",
       " 'conteetoldlawmakerliterallystunnedarmyofficialnonchalantrespons',\n",
       " 'contrastcontentiousconfirmationhearingrecentpastnumer',\n",
       " 'coordinatingconsultingjerusalemgivingisraeliprimeministereasyjustificationopenlyopposeamericanapproachiranexampleinformednetanyahuadvancelastweekannouncementueuropeanstartingnegotiationtehraneveryturnmentionimportancelongerstrongeragreementaddressdeficiencyjointcomprehensiveplanactionwouldincludeaddressingextendedsunsetprovisionjcpoawellisraelconcerniranballisticmissileprogrameffortexpandinfluenceregionisraelcryfoulundertakespoliticaleffortsabotagenegotiationlaunchunwarrantedmilitarymoveiranianassettriggerescalationnetanyahuisolatedactionseenblatanteffortkillunegotiatingin',\n",
       " 'corefailuredhsliebrevityjanuary20memorandumcorrespondingadministrativerecordinsteadomissionrationalexplanationgroundedfactreviewedfactorconsideredtiptonwrotefailurefataldefectessentiallymakedhsdeterminationinstitute100daypausedeportationarbitrarycapriciouschoic',\n",
       " 'costcontinuedfight2020electionrisingrepublicanpartybroadlypresidenttrumpperson',\n",
       " 'couldroughlydoublepacevaccinationroughly15millionshotperday',\n",
       " 'countrysurpassing500000deathcovid19',\n",
       " 'coursehopemikebloombergeventuallyseelightmakegoodpromisead',\n",
       " 'courtappealsplitissuesupremecourtsaidhearargumentcasenextfallhowevercasecouldmoot',\n",
       " 'courtroomlikesettinghighstakeslegislativeconsequencestafferpartyarguewhethercriticalpiecebidencoronavirusreliefplanrunafoularcanebudgetrulerefereedisputesenateparliamentarianupperchamberofficialadviserproceduralmattercouldopinesoonwednesdaythursdaywhatswhat',\n",
       " 'courttuesdaygrantedfecmotionsummaryjudgmentstatingorderrecordevidencequiteobviouslypaintpictureshowingriveraengagedschemeunlawfullyfundsternadcampaign',\n",
       " 'cpacalsoforumrightsharpenargumentpresidentbidenwhoseadministrationbeganflurryexecutiveorderrankledrepublicanschlappspecificallyslammedbidenorderrevokedapprovalkeystonexlpipelineledsignificantnumberjoblost',\n",
       " 'cpacstillbringinghighprofileslaterepublicanspeakerincludingtoplawmakerlikesentomcottonrarktedcruzrtexasjoshhawleyrmoformersecretarystatemikepompeohighprofilestateofficialliketexasattorneygeneralkenpaxtonsouthdakotagovkristinoemschlappstillexpectscrowdedhallconferencetopspeechlargenumberpoliticallyengagedhighschoolcollegestud',\n",
       " 'cramtonwhosepageprofessionalnetworkingsitelinkedinlistlivingcaliforniadeclinedcommentcontactedtuesdayboardmemberimmediatelyrespondrequestcom',\n",
       " 'criminalcamepreparedwarcameradiosystemcoordinateattackclimbinggearequipmentdefeatcapitolsecurityfeatureimsickenedwitnesseddaysaid',\n",
       " 'criticincludingamericanmedicalassociationabortionrightsgroupcalledordergagrulewouldrestrictabilitywomanlearncouldobtainabortionabortioncounselingsupporterrulerepublicanantiabortionorganizationsaidensurefederalmoneyisntusedpayabort',\n",
       " 'criticismgarlandnominationdrawnareacivilrightrecordlerobust',\n",
       " 'criticpresidentspokencommitteeworkedimpeachswalwellsaidtimingfeellikelook',\n",
       " 'criticsaidsenaterepublicanmakinghaalandscapegoatproxyfightbidenearlyexecutiveorderrevokingnecessarypermitproposedkeystonexlpipelinegivingprioritycleanenergyprojecthaalandpriorvicechairhousenaturalresourcecommitteebackedbillwouldusedfederallandexpandelectrictransmissionnetworkcouldconnectwindsolarfarmbroadermarket',\n",
       " 'crossinglinebecomeharderpartisantribefellowrepublicansenategrowincreasinglyvocaloppositionhaalandconfirmationinteriorsecretari',\n",
       " 'crossinglinelettermemberenergycommercecommitteereflectcontinuedangercongressjan6attackucapitolsupporterthenpresidentdonaldtrumpwelldemocratconcernmisinformationfuelingriotspreadconservativenewsoutletadditionsocialmedium',\n",
       " 'crosslinepoliticalcorrectnesssaidrogerrosewallretiredarmylieutenantcolonelintelligenceofficerwrittenriskdamagingmilitarycrackdowncarriedsurgicallyaccusingthoughtcrimeriskcurrentmilitaryleadertellingsoldiermaybelieveth',\n",
       " 'crumbledalliancetrumpmcconnellworkedhandinglovepoliticallegislativestrategyfouryearfinallybroughtgopreckoningneverhappened2016electiontrumpmaytakeanotherswipemcconnellcomingdayconservativepoliticalactionconferencemcconnellprobablyhearexpectedspeakcpacaccordingrepublicansourcemcconnellstillspokentrumptwomonth',\n",
       " 'cruzalsoreferencedphotocirculatedrecentdayfamilypetdognamedsnowflakeseeminglyabandonedhomeownerabscondedmexico',\n",
       " 'cruzgotabsolutelyroastedlatenightcomedianovernightjaunt',\n",
       " 'cruzsaidonetwodaughterfriendinitiallypitchedufriendparentlistenstayinggosomewherepowerfreez',\n",
       " 'cruzsaidreallycreepyreportercapturedpicturedogforlornlystaringwindowevencreepywifeheidiphotographedbeachbikinipaparazzo',\n",
       " 'cruzsaidwifeactuallyneighborhouseyesterdaysortwalkingmessagegotnumberrepublicanneighboralsonumberdemocratsaid',\n",
       " 'culturalvoguecommemoratememorializeexpandedsince1918monumentspringingeverywheremarkimportanteventpopupcovid19monumentmayoffinginaugurationweekjoebidenkamalaharrisobservedmomentsilencealongsidespouselincolnmemorialreflectionpool400lanterntemporarilymarkeddeath400000virusnewyorktimealreadyveneratedcovid19deadtwotributefirstmay2020completelistfirst100000americandievirustookpageonejumpedinsidesecondgraphicpublishedsundayrepresentedfirst500000dieblackdot',\n",
       " 'cuomoadmittedwouldntputmothernursinghomemonthissuedcovidord',\n",
       " 'cuomofacedintensescrutinypressureresignrecentweekfollowingexplosiverevelationadministrationconcealedaccuratenursinghomedeathcountmidstcovid19pandemicstonewallingfederalinvestigationjusticedepartmenteldercarefacilityfourstateincludingnewyork',\n",
       " 'cuomomaderemarkopeninglargestmassvaccinationsitestateyorkcollegequeennewyork',\n",
       " 'cuomoraiseeyebrowanatomyjokevaccinationtour',\n",
       " 'currentcontourhardseemanyrepublicansaidsenateminoritywhipjohnthunersd',\n",
       " 'currentsecuritycouncilleaderukambassadorbarbarawoodwardtoldpoliticobritainexcitedworkthomasgreenfieldparticularsharedpriorityclimatecovid19woodwardtodaysucceededpushingclimatechangeontoagendasecuritycouncildebateledprimeministerborisjohnsonalsofeaturedbidenadministrationnewclimateenvoyjohnkerri',\n",
       " 'day1thomasgreenfieldconfronttwincrisisclimatechangecovid19stringconflictranging20yearwarafghanistan10yearcivilwarsyriahumanitariancrisisyemenpoliticallyfraughtirannucleard',\n",
       " 'daylongeventoneseriessteppentagoninitiatedrecentweektrygethandleproblemmilitaryaccusedhaphazardapproachweedingextremistalsoassessingextentproblempermeatedrankbegunseriesreviewdeterminenewtrainingregulationneededscreenextremistel',\n",
       " 'daytonbudgetslammedpandemicmuchwhaleyisntsureabletrainpoliceofficerfirefighterneededreplacefrontlineworkerretirerecruitingclasswouldstartaprilfederalfundingdoesntcometimefewerpeoplebeat',\n",
       " 'dcmayormurielbowserrequestedlimitedguardsupportaheadriotprimarilystreetclosurecrowdcontrolarmyspokespersonnotedstatementpolitico',\n",
       " 'deanarguedlawmakerputpoliticsasidecometogetherordersupportgrievingfamili',\n",
       " 'deansaidotherscontinuefightaccountabilityjustic',\n",
       " 'dec12rallyparticularcomplaintstatedlindellfalselyclaimedalgorithmvotingmachinebrokeeventhoughvotetallydominionmachineconfirmedadditionalhandcountgeorgia',\n",
       " 'decisioncomeweekperduefiledstatementcandidacyfederalelectioncommissionsaidpubliclyconsideringanothercampaign2022democraticsenraphaelwarnockspecialelectionformergopsenkellyloefflerjanuaryballotnextyearfullterm',\n",
       " 'deepexperienceacrossafricanecessaryexpertadvocatesayadvanceurelationshipcontainchinagrowinginfluenceacrossunsystem',\n",
       " 'defenseattorneyalsocitedsenateminorityleadermitchmcconnellstatementfollowingtrumpimpeachmenttrialbesiegedcapitolbelievedactingwishinstructionpresid',\n",
       " 'definitionqualifiedimmunityreallyimportantdependsdefinesaidsentimscottrscleadauthorrepublicanpolicingproposallastcongressthinkmakingeasierfamilygetretributionrestorationfinanciallygoodthingdemonizingpoliceofficerbadth',\n",
       " 'defundpoliceattackhousedemocraticcentristsayhelpedwipenearlyentireclasscolleaguebedevilingparti',\n",
       " 'democrat1992alsoableholdsevenninesenateseatsouthernborderstate1986keptoveralldemocraticmajority5743providingmuscletakehealthcarereformissue1993',\n",
       " 'democratagogrepublicanseedownsideopposingbillpollbetterpoliticianmoreovergoplosttwosenateseatgeorgiaunifieddemocraticcampaignfavorbigstimuluscheckbigpandemicrescueplan',\n",
       " 'democratcontentionstatealaskanativelittleincentivevotepoliticalallybetrayalsignificancecouldthrowstrengthallyshipdoubtnativevoterknowmurkowskialreadyriskingyetanotherrightwingchallengesenatorlittleincentiveoffendsincelikelyneedsupportprevailstatenewopentopfourprimaryrankedchoicegeneralelectionsystemalaskanativetalkedpiecesaidwouldwillingwithholdvote2022couldseepeoplemurkowskivoteconfirmhaaland',\n",
       " 'democratcouldcertainlyrepealtaxprovisionincludingoneaddedlastyearpandemicreliefmeasurebenefitwealthyrealestateowneraideaddedtaxprovisionpresidentbidensupportedwouldraiseenoughmoneycover10yearwindowoutyearexpenserespectminimumwag',\n",
       " 'democratcouldultimatelyoverruleparliamentarianissueunlikelyhappengivenbidenleaningheavilyideapoliticoreportedearliermonth',\n",
       " 'democratfearevennomineecolorcouldsoonruntroubleincludingcivilrightlawyerkristenclarkenomineeassistantattorneygeneraldojcivilrightdivisionvanitaguptabidennomineeassociateattorneygeneralguptasubjectrecentlylaunchedadcampaignconservativegroupaccusedwantingletconvictjailreducepunishmentwhitesupremacistgrouptargetbecerrathirdadranaccusedbidenadministrationwelcomingdarkmoney',\n",
       " 'democratgearingpushbackargumentbecerrastwopartconfirmationprocessalsoincludeswednesdayhearingsenatefinancecommitte',\n",
       " 'democrathopefillbidenscabinetshortorderschumersaidexpectslindathomasgreenfieldconfirmedambassadorunweekexampleseveralnomineereportedrespectivecommitteereadyfullsenatevotemajorityleaderad',\n",
       " 'democrathousealsodealingnewmapdividingelectoraldistrictwithinstatecreationminorityfriendlydistrictmetropolitanareasiphonedlikelydemocraticvoteradjacentsuburbanexurbandistrictweakeneddemocraticincumbentlatterdistrictespeciallysouthremappingdramat',\n",
       " 'democraticleaderagreedstartrepassinglastsummerbillmoderatearguedynamiclastsummerdramaticallychangedincludingpartytightermajorityprospectbillactuallysignedlaw',\n",
       " 'democraticleadercalledinvestigativepanelmodeled911commissionprobed2001terrorattackexaminedisparatethreadcontributedassaultmanyrepublicansignaledopennesspushcontourcommissionalreadyprovokeddisagreementparti',\n",
       " 'democraticmontanareptysonrunningwolfmemberblackfootnationcalledrepublicanoppositionpoliticalployfamiliarnativeamericanenteredpoliticsexistspreconceivednotionothers2530percentdumb',\n",
       " 'democraticstatereprhondaburnoughexpressedconcerndemocratinput48pagemeasurewellquicktimingbil',\n",
       " 'democratofferedalternativesolenuclearauthorityrequiringvicepresidenthousespeakeragreelaunchorderpresidentexecutedaccordingpolitico',\n",
       " 'democratplanningreinstatelawmakerrequestedearmarkcapitolhillyearmemberhardlinefreedomcaucushuddledtuesdayeveningvotedopposeformcongressionallydirectedspendingwhether117thcongressfuturecongresscaucusmemberarguedpracticeripeabusewouldleadporkbarrelspend',\n",
       " 'democratpreviouslyexpressedconcernformerpresidenttrumpaccesspowerhousespeakernancypelosijanuaryexamplesaidspokechairmanjointchiefstaffgenmarkmilleyprotectingnuclearcodeunhingedpresid',\n",
       " 'democratquestionalsorepresentrareeffortmembercongressintrudecompanydecisioncarryspecificnewsnetworkwayparallelyearcomplaintrepublicanraisedcontentsocialmediumplatformfacebooktwitterextendsfightwaycouldraisebroaderfreespeechissu',\n",
       " 'democratsaidlawmakerpointedconcernaroundchannelhandlingnovemberpresidentialelectiontrumpfalseclaimvictoryleadingjanuaryriotwellpandemiceshoochairechealthsubcommitte',\n",
       " 'democratscramblingpiecetogetherbackupplancouldsaveminimumwagehikegettingtossedpresidentjoebiden19trillionreliefpackagewinmoderatewarypropos',\n",
       " 'democrattendhirediversestafferrepublicanfrequentlycriticizedfailuregivenmultiracialbaselikerepublicancolleaguehardtimeretainingpromotingstaffercolorwhitestafferoverrepresenteddemocraticrepublicanofficeblacklatinoasianstafferunderrepresentedcomparedracialmakeupbaseamongrepublicanrepresentregionsouthlargeblacklatinopopulationmaintainalmostallwhitemidlevelseniorstaff',\n",
       " 'departmentdefenseinspectorgeneralcurrentlyreviewingdetailpreparationresponseriotaccordingspokesperson',\n",
       " 'derrickjohnsonpresidentcivilrightgroupnaacpsaidnomineenearedconfirmationvotewouldbecomeapparentwhetherindividualwomanpeoplecolorreceivingdifferentlevelscrutini',\n",
       " 'desantispopularityamongrepublicansteadilyrisingstatenationwideamidhandlingcovidnewsurveytopgoppollstertonyfabriziogiveclearerpicturemuchfloridagoplik',\n",
       " 'desiregobiggerbolderrunningvarietydifferentpoliticalrealityhoweveramongsenatesplitmiddleadvocateoddspolicypushquicklypushunderliningpromisebidenmadeactquicklyguntakingofficepromiselooklelikelycovid19pandemicovershadowseverythingels',\n",
       " 'despiteeffortdiversifyhillpastseveralyearracialmakeuphousesenatestaffdontaligndistrictvotingbaseamongtoplevelstafferlackdiversitystrikingtwoblackchiefstaffsenatefourlatinowarnockchiefstaffexamplewhit',\n",
       " 'despitefouryearpressuretrumpadministrationchinaeconomyactuallystrongerwaymomenteconomywestthoughchinaplentyprobleminternationalcapitalflowingwithinasiachinaactuallyimprovedtradeposit',\n",
       " 'despitesayingdroppingpresidentialracecouldfathomscenariowouldrunpublicofficenomineerourkeconsideringrunninggovernorfrustratedamongthinggopgovgregabbottmanagementcoronaviruspandemiccalltexasbecomesecondamendmentsanctuaryst',\n",
       " 'developingstorypleasecheckbackupd',\n",
       " 'differentrepublicanpartydecadeagogoneconcernfreetradehawkishnationalsecuritystrongamericanglobalfootprinttyperightwingpopulismvoteranimatedculturalissuelikeimmigrationabortionreligiousfreedomthingbaseperceivesnecessarydefendmaintainwaylifeliberalpopularculturethreaten',\n",
       " 'dilemmahousedemocraticmoderatebestexertleveragetryingpreventdepletionranknextelectionunderscorefundamentaldifferencerabblerouserstwopartyfarrightfirebrandhaventhesitatedpubliclytakerepublicanleadershiptakelegislationdemocratnevercomfortabledeployingpowerwayeven',\n",
       " 'directlyaffectedviolentcrimeappreciaterolednaanalysistoolplaygivinganswerultimatelydeliveringjusticedecemberalmost3000dnasampleflaggedremovallocaldatabasesaidocmespokespersonajaworthydavisongoingprocesstechnicallycomplexaccuracyessentialhoweverconsiderationpublicconcerneffectivelyremovedaccesscaseprocesseliminationkeptpartnerupdatedprocessthroughoutcontinu',\n",
       " 'disagreetweetpasttrumpnomineetheyveconfirmedsupportedmuchseriousissueconflictsomethingwrittentwitterrepgracemengdnysaidinterviewtweetingfrustrationmanchinreportedhesitancyaroundnominationonenomineelikeneerawhoeverelsepatternhappeningincreasinglyhardignor',\n",
       " 'disasterstrikeissuetexanissueentirecountryocasiocorteztoldreporterwholecountryneedcomerallytogetherbehindneedtexanacrossst',\n",
       " 'discussioncomegunsaleskyrocketedamidyearpandemicquarantinesummerracialunrestbidenvictorypresidentialelectionpromisingaggressivepushreducegunviolenceyear2020sawrecordnumbergunhomicideunitedst',\n",
       " 'disparityrepresentationexistschamberpartydespitehouseleadershipeffortchangemakeuphillstaffcorp',\n",
       " 'disputeanticipatedsalaryseesawinghealthcarebenefitheightpandemicleftmanyaidefeelingburnedtimebloombergbelievecandidatetaxaccountingdecisionalsorancounterpersonalvalueespousedbestowinggenerouspaybenefitemployeetakingcarelittleguy',\n",
       " 'dividehowevernewrepublicanpartypartylincolnrepublicanlikesayusedonedominatedwealthyeduc',\n",
       " 'dividetrumpmcconnellsurprisingexceptpublicbecom',\n",
       " 'dnacollectednypdstoreddatabasemaintainedofficechiefmedicalexaminerstatisticshow2826profileflaggedremovalnypd1042paperworkcompletedfullyremovedmedicalexamin',\n",
       " 'dominantamericanmercantileculturemayglobalizeworldmainstreamculturecivilizationferlinghettisaiduponreceivingawardtruemainstreammadeoilliterarianspublisherbookstoreeditorlibrarywriterreaderuniversityinstitutionsupport',\n",
       " 'dominatingthemeemergedhearingallegedlackadequateintellig',\n",
       " 'dominionfiledsuitfederalcourtwashingtondcseekingdamageexcess13billion',\n",
       " 'dominionsaidlindellcarriedbusinesswashingtonrelevanttimedefamatorymarketingcampaignsaidmypillowsponsoredmarketedrallycitydec12jan5jan6dayinsurrectionucapitol',\n",
       " 'dominionvotingsystemfileddefamationlawsuitmypillowceomikelindellmondaysayingspreadfalseinformationvotingmachinerigged2020upresidentialelect',\n",
       " 'donaldtrumpallyputtingpresidentjoebidensweepingimmigrationoverhaulcrosshair',\n",
       " 'donaldtrumpconfirmedattendancerepublicannationalcommitteeupcomingspringdonorretreatformerpresidentreemergesfollowingdeparturewhitehous',\n",
       " 'donaldtrumptransformedonceobscureofficialeitherenemysaviorwouldamericandemocracycampaignsecretarystatebecomingnextmajorarenanationwidepoliticalcombat',\n",
       " 'dontinformationinvestigationsittodaygarlandsaidaddingonefirstthinghellconfirmedmeetdurhamdiscusinvestig',\n",
       " 'dontthinkanybodysgoingmoveforwardstrategywithouthearingwhitehousesaidmurphyplanspeakriceweek',\n",
       " 'dranthonyfaucibidentophealthadviserdirectornationalinstituteallergyinfectiousdiseasesundaynotedquicklycoronavirusravagedureachhalfmillionmarkercallingterriblereallyhorr',\n",
       " 'dreamcatchallimmigrationsolutioneludedpresidentdatingbackgeorgehwbushbarackobamatriedfailedspectacularlymoderatesenaterepublicanwithdrewsupporteventrumpsoughtrepeatedlyjumpstartnegotiationcapitolhilltermofficeincludingdoomedeffortledsenioradviserjaredkushnerthoughultimatelybecamereliantexecutiveorderobscureregulatorychangeenactrestrictiveimmigrationagenda',\n",
       " 'earlier5pmwhitehouseloweredflaghonordiedbidenissuedorderuflagfederalpropertyflownhalfstafffivedaytimewashingtonnationalcathedralbegantollingbell500tim',\n",
       " 'earliermonthheartlandamongcoalitionorganizationrepresentingcommunitycolorsentletterbidenadministrationexpressingdisappointmentincludedgatheringwhitehouseheldestablishmentguncontrolgroupaccordingfourpeopleinvolvedrecentmeetingwhitehousemovedquicklyrectifysituationsinceheldleasttwovirtualcalladvocategroupacrosscountri',\n",
       " 'earliermonthteampresentedinitialfindingwrappingvisitwuhancoronavirusfirstdetectedlate2019researchersaidoutbreakalmostcertainlystartchineselabpathanimalhumanneedinvestig',\n",
       " 'early1950ssettledsanfranciscomarriedseldenkirbysmithdivorced1976twochildferlinghettialsobecamemembercityrisingliterarymovementsocalledsanfranciscorenaissancesoonhelpedestablishgatheringplacepetermartinsociologistopenedpaperbackstorecitynorthbeachsectionnamedrecentcharliechaplinfilmcitylightferlinghettisawstorefront1953suggestedmartinbecomepartnercontributed500',\n",
       " 'earlycareerworkedspecialassistantattorneygenerallaterlineprosecutoruattorneyofficewashingtondc',\n",
       " 'earlyyearhollywoodinspir',\n",
       " 'earmarkhelpmemberdirectcriticalresourcedistrictgivingeasywayearnpointconstituentbackhomepracticealsousefultoolcongressionalleadertryingcorralvotecertainspendingbillpresidentjoebidenpushingmassiveinfrastructurepackagecongressmayeventemptationgopgetboard',\n",
       " 'earmarkneverreallywentawaymovedcongressadministrationthinklescrutinytransparencysaidrepgarretgrafrlakeytransparencymakingsureactuallycriterionensuresgettingbestreturninvest',\n",
       " 'easternpennsylvaniapalisadeschooldistrictsuperintendentbridgetoconnellhireextrateacherreduceclasssizeinvesttechnologyofferonlineclassstaffintensiveendeavoreducatekidpandemicoconnellsaidinterviewnpr',\n",
       " 'electionconsequencenowhereconsequencejoebidenelectionworrisomejerusalemriyadhpastweekpresidentsignaledisraeliprimeministerbenjaminnetanyahusaudicrownprincemohammedbinsalmanregiontwobiggestegosugarhightrumpyear',\n",
       " 'elementarysecondaryschool128billiongrantstateeducationalagency90allocatedlocaleducationalag',\n",
       " 'elsewherebelieftrumpyearsenateconfirmedmickmulvaneyrusvoughtombdirectorlongcareerconservativepoliticswouldmakedifficultopposenomineetenortweet',\n",
       " 'emoryuniversitylawprofessorjoannashepherdconductedstudydescribedfirstpublishedresearchwhetherjudgecertainprofessionalbackgroundlikelyrulework',\n",
       " 'emotionaladdresspresidentreputationwearingheartsleeveleanedpersonalfamilygriefcomfortaffectedamerican',\n",
       " 'enoughthomasgreenfieldassumeleadershipunsecuritycouncilmarch1globalorganizationtopdecisionmakingbodybox40thfloorapartmentoverlookinghudsonriverevenunpack',\n",
       " 'ensure15wagehikeofficiallycheckrightboxprogressiveanotherideatheyrepushingpossibilitysmallbusinesstaxreliefplancouldpairedminimumwageincreaseorderalleviateburdenbusinessrequiredincreasepayaccordingseniorsenatedemocraticaid',\n",
       " 'ensureminimumwageboostsurvivesdemocratdiscussingpossibilitycappingincreasele15hourpossibly1112yarmuthsaidmovecouldsatisfywonkybyrdrulerestrictionconstrainprojectedcostpandemicreliefproposaloutside10yearbudgetwindowsaid',\n",
       " 'episodewasntexplicitlypoliticalrourkejoinedonestopmanwearingredtrumphatinescapablereminiscentlivestreamedroadtriprourkerunlasttwocampaignadvisercynthiacanoaskedfeltbackroadorourkeappearedel',\n",
       " 'ercotpresidentbillmagnesssaidtexaspowergriduniquelyisolatedrestubrinkcollapseearlyhourfeb15powerplantfrozecoldrecorddemandelectricityheathomeoverwhelmedsystemdefendedoutagenecessityabbottaccusedercotmisleadingtexasreadinessgrid',\n",
       " 'ercotremovedboardmemberinformationwebsitemagnessconcededpublicinformationcalllastweekreporterdescribenaturethreat',\n",
       " 'ericswalwelldemcongressmanlinkedchinesespymakeimpeachmentcasetrumpsenatetri',\n",
       " 'europeanuniontuesdayurgedchinaallowaccessindependentobserverinvestigatereportsecretdetentioncampforcedsterilizationpoliticalindoctrin',\n",
       " 'europeofferingactbridgeuchinasaidoneeuropeanambassadorguterresurgeduplayrolebridgebuilderunlessmaketwoworktogetherclimatecovidunagendaremainsparalyzedambassadorsaid',\n",
       " 'eveattackfbisentreportdetailingvariouscallviolencenextdaysundsaywarningneverreach',\n",
       " 'evenconservativesenaterepublicansaidgarlandgetnod',\n",
       " 'evenfolkstreetputbetosignthoughtlittlerudecruzsaidreferring2018reelectionraceformerdemocraticrepbetorourk',\n",
       " 'evenimportantwhethermcconnelledgechuckschumermajorityleaderableputbackconstraintbidenpresidencylookedlikemcconnellmajoritysecuredgeorgiaspecialelectionclearexactlyappreciatetrumprepeatedattackelectoralprocessfalseclaimmassvoterfrauddominatedrac',\n",
       " 'evenkellyanneconwaymrtrumpformercampaignmanagerwhitehousecounselorrespondedweekendtweetsayingaverteyeexcuseseelearnwors',\n",
       " 'evenmcmullincleareyedwhetherpartydumptrumpmaytakeyearevertrumpfeverbreaksaid',\n",
       " 'evenparliamentarianrulemeasureincludedtwomoderatedemocratsenatorlikelypushbackjoemanchinwestvirginiakyrstensinemaarizona',\n",
       " 'eventhough117thcongresshistoricallydiversewithoutproblemblackwomansenatorinstancenoneoccupyleadershiprolehouseleadershipteampeoplecolordemocratichouseleadershipclyburnmajoritywhiprephakeemjeffriesnewyorkheaddemocraticcaucu',\n",
       " 'eventhoughalaskanativedemocratvillagelikesaxmanturnedmurkowskinovemberalaskanativemightfeltcouldtrustmurkowskitooktimegetknowalsostrategicvotemilleropponentopenlyhostilenativepeopledemocratballotstandchancedefeatingconservativestatemurkowskibecamesecondsenatoruhistorywinwriteincampaignwilliamsalaskanativeacrosscountryrejoicedcomebackreelectiongotsaypraisegodsaid',\n",
       " 'eventhoughdemocratgrudginglyapplaudedraffenspergerstandingtrump2020thoughdesperatelywantputdemocratgeorgiasecretarystateofficefirstbecamenationalpoliticalflashpoint2018thenrepublicansecretarystatebriankempnarrowlybeatdemocratstaceyabramsgovernorraceabramsclaimedkempsuppressedvotekemplobbedevidencefreeallegationstatedemocraticpartytriedhackvoterregistrationsystemeveelectioninvestigatorfoundevidencesupport',\n",
       " 'eventhoughsituationimprovedstillrevenueshortfallmajornewcostsaidmichaelleachmancenterbudgetpolicyprior',\n",
       " 'eventuallygarlandwrotereferencelawschoolattendedgraduationkepttoucheversincethompsonsaidgarlandstilllittleoldschoolstillhumblestilllookinghelp',\n",
       " 'eventusuallyopportunityseepartyemergingstargoingpartyturnleadnextpresidentialelectioncycleeyetrumpdangledpossibilityrunmuchputfreezerestpotentialrepublicanfield',\n",
       " 'eventwitnessedjan6worstattacklawenforcementdemocracyiveseenentirecareersundsaidopeningremark',\n",
       " 'evenyearsoutherntiltnewgopapparentprimaryfordseekingtermcruisingearlypartyeventnorthcarolinalatemarchambushedconservativeonetimegoldwaterspokesmanchallengingpartynominationreagan',\n",
       " 'everybodyknowpestilencewayrecurringworldyetsomehowfindhardbelieveonecrashheadblueskyalbertcamuswroteplaguemanyplaguewarhistoryyetalwaysplaguewartakepeopleequallysurprisewouldbuildingmonumentcovid19deadincreasevigilancekeepmindprimedchallengeposednextviralwaveprobably911memorialmuseumdonesafeguarduanotherattackmeantri',\n",
       " 'everyonewashingtondccouldseeneeratandennominationheadofficemanagementbudgetbeleagueredbeginningeveryoneexceptwhitehous',\n",
       " 'evidencedominionvotingmachinecompanytampered2020elect',\n",
       " 'evidencerepublicancitemrbidenunprecedentedburstexecutiveorderreversingtrumpadministrationpolicyincludingimmigrationgenderidentityschooltransgenderpeoplemilitaryhefty19trillionpricetagproposedcoronavirusaidstimulusplaninclusion15minimumwageproposalwithinplanimmediatedecisioncancelkeystonexlpipelinecanadaoilsandsregionappointmentaggressivefinancialregul',\n",
       " 'evidencetoldjournalgetdisclosedfastermachinefraudattackcountri',\n",
       " 'exactlyjohnkerrytellingignoreamericabackpowercohanimsaidkindunbeliev',\n",
       " 'exactparametervancesinvestigationclearcourtfilingappearsofficeinvestigatingpossibleinsurancefinancialfraudformerpresidentbusi',\n",
       " 'examplearmyregulationpublishedlastyeardefinesextremistorganizationactivityadvocatinguseforceviolenceunlawfulmeandepriveindividualrightadvocatinguseunlawfulviolenceforceachievegoalpoliticalreligiousdiscriminatoryideologicalnatur',\n",
       " 'examplesundclaimedcalledthenhousesergeantatarmspaulirvingearlyassault109pmrequesthelpirvingsaidmemoryrecordcallhousefloortimetoldlawmakerreceiveformalrequestsund2pm',\n",
       " 'exchangeunderscorehonorélikelytakepoliticalheatpreparesrenderjudgmentfutureplancapitolsecur',\n",
       " 'exclusivehouserepublicanrequestingfbidirectorchristopherwrayholdbriefingrepericswalwelldcalifpasttieallegedchinesespyaskinglawmakerinformedfullextentchinesetargetingmembercongress',\n",
       " 'executivestressedlookingwayincreaseproductionmeetoverwhelmingdemandlargestglobalvaccinationcampaignhistorysaidanticipateessentialmaterialshortagesupplyspanningvaccineingredientsyrinxstopperothersmeetingcurrentproductiongo',\n",
       " 'executivesummaryinspectorgeneralreportfisaabusedocumentgarlandmomentearlierclaimedreadcontains140referencesteelerepeatedlydiscusfbihandlingsteelesocalledtrumpdossi',\n",
       " 'expandedextendedfederalunemploymentbenefitadditionalfederalunemploymentbenefitpeoplelostjobcurrentlyreceivingwouldincreased300perweek400perweekextendedendaugust',\n",
       " 'expandedtaxcreditlowincomeworkerwithoutchildbillwouldexpandearnedincometaxcreditchildlessworkeranyone19olderearning11610wouldeligible1502legislationwouldincreaseincomethresholdamountpay',\n",
       " 'expectcontinueplayingroleknowrun2024prettysurewinnominationromneysaid',\n",
       " 'expertincludingfaucisaidamericanmaystillneedwearfacecovering2022dependingmanypeoplegetvaccinatedwhetherlevelcommunityspreadfallconsider',\n",
       " 'eyeelizabethmacdonoughfirstwomanholdsenatenonpartisanparliamentarianpositionmacdonoughfirstappointedrole2012thenmajorityleaderharryreiddnev',\n",
       " 'fabrizioindicatedrubiolosstrump2016stillreverberatestoday',\n",
       " 'fabriziopollpickedincreaserepublicanenthusiasmdesantisfloridasurveyrepublicanpollsterryantysonrecentlyfounddesantisbetterfavorableratingtrumpfloridagopremarkablefeatconsideringtrumpfloridabiggermargin2020barackobama2008',\n",
       " 'fabriziosurveyalsotestedanotherkeymetricfloridagopvoterthreestatewiderepublicanbelievebiggesttrumpsupporter67percentsayingdesantisevenclose9percentsaidscott7percentsaidrubio',\n",
       " 'facebooktemporarilynarrowlyliftedpoliticaladbanaheadgeorgiasenaterunoffjanuaryreimposingyetannouncedliftbanpoliticalad',\n",
       " 'facingtoughtimetheredoubttrudeausaidfacingalon',\n",
       " 'factconversationcolumnistwednesdaymrbidendeliveredresoundingdeclarationpoliticalcenteralivewellresidesalwaysgoinggovernbelievecountrypartycentergravitymovedcentercenterleftsaid',\n",
       " 'factmemberformer911commissionseveralconsultedpelosicitedevenpartisansplitreasonsuccessadvisedpelosiyearinsurrectioncommissionwillingnesstakebipartisanownershipdirectioninvestigationwithoutedgeeitherpartyhelpedensurecommissioncredibilityeyepublicsaidreviewjan6riotcredibleformercommissionersaidmustsimilarlyseenindependentunbiasedrathertooleitherparti',\n",
       " 'factnationalrepublicansenatorialcommitteechairsaidabsolutelysupportmcconnellsenaterepublicanleadergaveoxygentrumptrashingmcconnellsomeonetakefollowinggopleaderwitheringcriticismtrumplackleadershipjan6capitolriot',\n",
       " 'factorcombinedproducewindfallrepublicancountrymidterm1994watershedelectionsouthcenturyreconstructiondemocratheldmajoritygovernorshipsenatehouseseatsouthevenregionbecameaccustomedvotingrepublicanpresidentpatternheldstatewidecongressionallevel',\n",
       " 'factyearelectionseenculminationtwodecadeperioddeclinefaithbasicbuildingblockdemocracyperiodbegancontroversialfloridarecount2000electionexpandedfouryearagochargeforeigninterferenceelect',\n",
       " 'fanfaretrumpmcconnellbattlereceivedpasttwoweekultimatereferendumguidepartycomeleastyeargopsenateprimarybeginunfoldingearnestmcconnellwillingnesswadegopprimarycycletrumpbackedcandidateseeunelectablepresagebrutalinternecinebattlecontrolsenaterepublicansid',\n",
       " 'fangearliestknownengagementswalwelloccurredchinesestudentassociationaxiosreported2014developedclosetieswalwellofficefangalsoreportedplacedleastoneinternswalwellofficeinteractedmultipleeventseveralyear',\n",
       " 'farsignedrecordnumberexecutiveorderbroughtunitedstatebackparisclimateaccordintroducedcomprehensiveimmigrationbillbegungroundworkmajorcovid19relieflegislationalsotakenlumpcomemessagingreopeningschool',\n",
       " 'fartlingitalaskanativetalkedworriedmurkowskisenatormaverickauntiesincevotingconvictdonaldtrumpfacedthreatcensurerepublicanhomestateformergovernorsarahpalinreportedlyconsideringprimarychalleng',\n",
       " 'fastforward2021capitalsimilarsituationbidenadministrationtakenofficecrisismodefacingcoronaviruspandemicbeliefrequiresimmediateactionspecificallyneweconomicstimulusplanplacesupplementalfederalunemploymentbenefitexpiremarch14prospectactiontakenentirelyalmostentirelydemocraticvotegapwhitehousewantrepublicanthinknecessaryyawn',\n",
       " 'fdarulespeedymodifiedvaccineapprovalfuturesayingmondayguidancediscussionnecessarydecidewhetheragencycouldpointauthorizemodifiedcovid19vaccinewithoutneedclinicalstudi',\n",
       " 'fdasaiddatainsufficienttimedeterminewhethervaccinecausedcontributedeventespeciallymanypeopleexperiencedclottingriskfactoragencysaidrecommendsurveillanceevaluationthromboemboliceventdeploymentvaccinelargerpopul',\n",
       " 'fdaupdatedvaccineguidancedayearlierfleshexpectationmodifiedboostershotaimedvariantagencyvaccinechiefpetermarktoldreportertrialmodifiedvaccinecouldenrollhundredpeoplefarcrytenthousandenrolledtypicalphaseiiitrialvaccineparticularlaiddocu',\n",
       " 'fearbubblingweekbidennomineecolorcamesharpattackconservativegroupsawnominationdelayedopposedgreaternumberworryburstopenweekendneeratandennominationleadofficemanagementbudgetneareddefeathanddemocrat',\n",
       " 'fecaccusedriveracomplaintmakingapproximately55000campaigncontributionnameanotherriveracontinueddenywrongdo',\n",
       " 'fecallegedcivillawsuitriverasecretlycarriedscheme2012congressionalprimaryfundcampaigndemocraticcandidatejustinlamarsternadeffortweakencampaignopponentjoegarcia',\n",
       " 'fecsought456000civilpenaltycourtgr',\n",
       " 'federalassistancehelppeoplebuyinsurancemoneysaidstandorndirectornationalcentercoverageinnovationfamilyusaincidentalcorepropos',\n",
       " 'federalgovernmentsoonbeginsending25millionmaskcommunityhealthcenterfoodpantrysoupkitchenadministrationsaidwednesdaygoalreachingmany15millionpeoplelowincomebeginningmarchcontinuingmay',\n",
       " 'federaljudgesignalingbigfanincreasinglycommondefenseemerginglawyerchargedcapitolriotpresidentdonaldtrumpmad',\n",
       " 'federaljudgetexastuesdayblockedpresidentjoebiden100daymoratoriumdeportationlatestblowbidenonesignaturecampaignpromis',\n",
       " 'feelgoodmomenttalkingrelativedontanymorecontinueshoutrooftopsaid',\n",
       " 'feelgoodsaidhonestlyrightbutthurtdrivinglasteighthouroverallfeelgood',\n",
       " 'feltlikesymptomhappeninglongtimesaid',\n",
       " 'femadisasterrelief50billionreimbursementstatelocaltribalterritorialgovern',\n",
       " 'ferlinghettialsoplaywrightnovelisttranslatorpaintermanyadmireramongmusician1976recitedlordprayerbandfarewellconcertimmortalizedmartinscorseselastwaltzfolkrockbandaztectwostepliftednamelinetitlepoemferlinghetticoneyislandbookcouplepapishcatsisaztectwostepferlinghettialsopublishedearliestfilmreviewpaulinekaelnewyorkerbecameonecountryinfluentialcrit',\n",
       " 'ferlinghettieyesightpoorrecentyearcontinuedwritekeepregularhourcitylightestablishmentmeanwhilewarmedevenaffectionalwaysreturnednamedsanfranciscofirstpoetlaureate1998citylightgrantedlandmarkstatusthreeyearlaterreceivedhonoraryprizenationalbookcriticcircle2000fiveyearlatergivennationalbookawardmedaltirelessworkbehalfpoetentireliterarycommun',\n",
       " 'ferlinghettihatedwarone1945navycommanderstationedjapanrememberedvisitingnagasakiweekudroppedatombombcarnagewouldrecallmadeinstantpacifist',\n",
       " 'ferlinghettilatertoldnewyorktimecitylightbecameplacearoundcouldgositreadbookwithoutpesteredbuysometh',\n",
       " 'ferlinghettipublishedhowlpoem1956customofficialseizedcopybookshippedlondonferlinghettiarrestedobscenitychargehighlypublicizedcourtbattlejudge1957ruledhowlobscenedespitesexualthemecitingpoemrelevancecriticismmodernsociety2010filmcasehowlstarredjamesfrancoginsbergandrewrogersferlinghetti',\n",
       " 'ferlinghettisanfranciscoinstitutiondiedmondayhomesonlorenzoferlinghettisaidmonthshy102ndbirthdayferlinghettidiedroomholdinghandsonsongirlfriendtooklastbreathcausedeathlungdiseas',\n",
       " 'ferlinghettispentyearmovingamongrelativeboardinghomeorphanagetakenwealthynewyorkfamilybislandsmotherworkedgovernessstudiedjournalismuniversitynorthcarolinachapelhillreceivedmasterliteraturecolumbiauniversitydoctoratedegreesorbonneparisearlyinfluenceincludedernesthemingwaythomaswolfeezrapound',\n",
       " 'ferlinghettitallbeardedsharpblueeyecouldsoftspokenevenintrovertedreticentunfamiliarsituationpublicpoetworkintendedsolitarycontemplationmeantrecitedchantedloudwhethercoffeehousebookstorecampusgath',\n",
       " 'ferlinghettiwouldalsoreleasekerouacbookdreamprisonwritingtimothylearyfrankharalunchpoemferlinghettiriskedprisonhowlrejectedburroughclassicnakedlunchworryingpublicationwouldleadsurepremeditatedlegallunaci',\n",
       " 'fifthboardmemberalsoresignedcandidatedirectorpositionalsolivetexaswithdrewnam',\n",
       " 'figurefactorpotentialdosjohnsonjohnsonvaccinefdaexpectedauthorizeearlyweekendcompanysaiddeliver20milliondosvaccinegivensingleshotunlikemodernapfizerstwodoseregimenendmarch',\n",
       " 'figuringmicrosoftsroledec14securityexchangecommissionfilingsolarwindsappearedclaimhackerfirstaccessedsystemflawmicrosoftoffice365servicemicrosoftvehementlydeniedfaqmicrosoftdenieddec17reutersreporthackerbreachednetworkusedproductattackoth',\n",
       " 'fillingbidenscabinetslowgosevencabinetlevelpostrequiringsenateconfirmationputplac',\n",
       " 'financecommitteevotewhetheradvancenomin',\n",
       " 'findmuchroomunilateralactionforeignpolicyfrontparticularlytruefaceearlydecisionwhetherundosetexecutiveactionpresidenttrumptookiranafghanistanclimatechangeamongtopiclookpress',\n",
       " 'firstsignrightcamefallevenjohnsongot60nationwidepopularvotecarried44statelostfivedeepsouthlouisianamississippialabamageorgiasouthcarolinablocvotedrepublicansenbarrygoldwaterarizonanopposedcivilrightactaffrontstateright',\n",
       " 'firsttimeriverarepresentedflorida25thcongressionaldistrictjanuary2011january2013camelegalscrutinyalsofederalinvestigation2011involvementsecretconsultingcontractcasinocutmarketingcompanylistedmothernamecasewentnowher',\n",
       " 'firsttimerussiansecurityforceattemptedassassinateputinfoeusingnovichoksergeiskripalformerrussianmilitaryofficerserveddoubleagentbritishdaughteryuliaskripalpoisonedsubstancemarch2018englanddecembernavalnytrickedfsbagentdetailingplotinvolvedplantingnovichokoppositionleaderunderwear',\n",
       " 'firstvirtualbilateralmeetingwhitehouseyieldedroadmapcollaborationheavyfocusenviron',\n",
       " 'firstweekaprilmembermilitarymusttakeparthighlyunusualorderdefensesecretarylloydaustinunitleaderconductdaylongstanddiscusthreatextremismgatherfeedbacktroopextentracismhatefulideologyantigovernmentsentimenttakenrootrecentyear',\n",
       " 'firstweekevidencemixedsafestconclusiondrawearlydrawconclus',\n",
       " 'fistfulfivestatedefectedstunnerresistedrepublicanevendemocratnominatednorthernliberallikeillinoisadlaistevenson19521956kennedy1960newenglandercathol',\n",
       " 'fivehoursenatetestimonytuesdaytopsecurityofficialaddedmountingquestionattacksupporterformerpresidentdonaldtrumpthreatenedentirebranchgovern',\n",
       " 'flashpointsincebidentookofficefirstdaybidenrevokedpermitkeystonexlcrudeoilpipelinecanadadecisionreconsidereduofficialtoldreporteraheadmeet',\n",
       " 'flemingbillrevivesmeasuresupportedsecretarystatebradraffenspergerlastyearwouldrequireprecinct2000voterwaitingtimeonehouraddworkermachinesplitprecinct',\n",
       " 'floridashadowrepublicanprimarypresidentgovrondesantisstartingdominateoncebetterknownhomestatecolleaguesenmarcorubiorickscott',\n",
       " 'focusbehavioradvisesgeorgereedformerinvestigatorarmycriminalinvestigationdivisioninvestigatedracialmurdercommittedsoldierfortbragg1995uncoveredlargegroupwhitesupremacistrank',\n",
       " 'followingsessionsenchuckgrassleyriowasaidmutedreactiongopcolleaguesuggestedgarlandwinapprov',\n",
       " 'followupdatebidenwhitehousemobileuserclick',\n",
       " 'foodsecuritymaintains15increasesupplementalnutritionassistanceprogrambenefitsept302021allocates25millionpromotetechnologicalimprovementmodernizeprogram37millionprovidedcommoditysupplementalfoodprogramlowincomesenior',\n",
       " 'footballpassedlongdistancebidentookofficetrumpformerpresidentattendnewpresidentinaugurationusuallyhandedpresidentinaugurationday',\n",
       " 'forceunleashedweekwithingopprospectvirtualcivilwarsuddenlyfeelrealinternalstruggleengagespresidentfamilylawmakercourtingsupporttrumployalistconservativerepublicanestablishmentembodiedsenatemajorityleadermitchmcconnellpartstruggleideologicalpartsimplypowercasefigurerollnexttwoyear2022midtermelect',\n",
       " 'formeraidegovandrewcuomoaccusingembattlednewyorkleadersexuallyharassingincludingunwantedkissingtouchingsaytopfemalestaffernormalizedbehavior',\n",
       " 'formercongressmanonetimedemocraticsensationacknowledgedlastmonthconsideringrunninggovernor2022discussedpossibilitydemocraticpartyofficialassociatedrubbingtexasrepublicantakingwakedeadlystormmayprovideopeningevenheavilyrepublicanst',\n",
       " 'formerprosecutorbethwilkinsonsaidgarlandplayedimportantroleconfrontationextremistyearincludinglengthy1996standoffheavilyarmedmontanafreemanjusticedepartmentfbieageravoidrepeatdeadlyincidentwacotexasrubyridgeidahoyearearli',\n",
       " 'formerrepdavidriverafloridarepublicanroiledscandallawsuitpastdecadetuesdayorderedpayfine456000federalelectioncommiss',\n",
       " 'formerrepublicansendavidperduerunsenate2022saidstatementtuesdayrulinganothercampaigngeorgialetwomonthlosingrunoffelectionsecondterm',\n",
       " 'formertrumpofficialpointediraneconomicdownturnmishandlingcoronaviruscivilunrestevidencecountryvergecollaps',\n",
       " 'formerucapitolsecurityofficialtoldcongressjointhearingtuesdaysufficientinformationaheadjan6accuratelypredictscaleattack',\n",
       " 'foundconductconsistentvotedpastsaidcriticismleveledotherspastmeantweetconsistentpresidentvisionfriendlyenviron',\n",
       " 'fourboarddirectorsteppingincludingchairwomansallytalbergliveoutsidetexasintensifiedcriticismelectricreliabilitycounciltexasresignationeffectivewednesdaydaytexaslawmakerexpectedsharplyquestiongridmanagerenergyofficialfailurehearingstatecapitol',\n",
       " 'foursecurityofficialrejectedperspectivejohnsonevenspokenoneoverwhelmingrecordviolenceprosecutorbeguncompilingcourtalreadyshownjohnsonsuggestionfalseinvestigatorpiecingtogetherevidenceshowsignificantelementjan6insurrectionpreplannedcoordinatedamongextremistgroupconsideredalignedtrump',\n",
       " 'fourwitnessclearconsideredjan6eventinsurrectionaidedwhitesupremacist',\n",
       " 'fouryearlatercartervulnerablereagansouthfrontcenterreaganbackercreatednewearlyprimarysouthcarolinaeasilysentsignalacrossregionfollowingweekreaganfloridageorgiaalabamawentwineverysouthernprimaryincludingknockouttexasstatefavoritesongeorgehwbushlatermaderunningm',\n",
       " 'fouryearlaterthoughmcconnellaboutfacepushedtrumpsupremecourtnomineeamyconeybarrettreplaceliberaliconruthbaderginsburgdeathshortertimetableanotherelectionyear',\n",
       " 'fouryearonewaystreetrelationshipbidenrightwantinjectrealreciprocitymeasureconditionalityurelationshipisraelsaudiarabiamaywellsucceedsimplyrecognizestwocountryneedamericahelllotneedprepareduseuleverageadvancenationalinterestforcehand',\n",
       " 'fouryeartradewarnamecallinginternationalgossipingpresidentjoebidencanadianprimeministerjustintrudeaugoingletglobalpandemicgetwaypublicdisplaymutualaffectionevenhappenvideolink',\n",
       " 'fouryeartrumpinducedwhiplashwithdrawalkeyunentityincludingworldhealthorganizationsensereliefaroundturtlebaypalpableeventhinnedattendancelargelyvirtualmeetingschedul',\n",
       " 'foxnewsaskedwhitehousewithdrawntandensnominationwhitehousepresssecretaryjenpsakirespondedstatementlaudingtanden',\n",
       " 'foxnewseviefordhamcontributedreport',\n",
       " 'foxnewsgregnormancontributedreport',\n",
       " 'foxnewsgriffjenkinsassociatedpresscontributedreport',\n",
       " 'foxnewsimmediatelyreceiveresponserequestcommentofficesenrobportmanrohiorankingmemberhsgacofficemoderatesenkyrstensinemadarizsitshsgacalsoimmediatelyrespond',\n",
       " 'foxnewsjasondonnercontributedreport',\n",
       " 'foxnewsmaxquicklyexpressedalarmdemocrateffort',\n",
       " 'freespeechscholararguedemocracyfunctioninformeddebatemarketplaceideamustableworksharedsetfactdemocraticstaffwrotememoreleasedmondayarguingcableoperatorbroadcasterplayedrolespreaddisinform',\n",
       " 'freshmangoprepashleyhinsonmothertworepresentskeyswingdistrictiowafrontcenterissuemondayhousebudgetcommitteemarkuptriedattachlanguagereliefbillensureschoolreopeningplanreceiveadditionalfundingreject',\n",
       " 'fridaysenjoemanchindwvacameoppositiontandennominationcitingpasttweetattackinglawmakersideaisletwokeysenaterepublicanfollowedsuit',\n",
       " 'friedmansaidlongustrugglerampsupplydistributiondomesticallybidenlikelyreluctantseenshippingvaccineforeigncountri',\n",
       " 'fundraisingeffortspearheadednewyorkrepalexandriaocasiocortezhelpstormbatteredtexanraised4millionday',\n",
       " 'futuresecurityaroundcapitolopenquestiononesenatorrequestedlooktuesdayhear',\n",
       " 'gaetzrallytookcalltrumpjralsopushedcheneysouster2022primari',\n",
       " 'garciasaidfundraisingideaspurredocasiocortezsenttextsayingwantedhelpknowtexasrightgarciatoldreporterthingnewyorkalwayskindmakefunnewyorktimelovenewyork',\n",
       " 'garlandalsosaidwantlookbroadlyrootextremismgroupcouldposeproblemfutureexperiencedealingtopicoverseenfederalinvestigationoklahomacitybombingearliercar',\n",
       " 'garlandconfirmationhearingattorneygeneralcomesixweekbidenannouncednominationcommitteevotenominationmarch1senatejudiciarychairmandickdurbindillsaidmondayhopedfinalconfirmationvotenextweekfingercross',\n",
       " 'garlandcurrentlyjudgepowerfuldccircuitcourtappealalsoservedchiefjudgepriornamedfederalbenchgarlandworkedujusticedepartmentplayedkeyroleoverseeingcriminalinvestigation1995oklahomacitybomb',\n",
       " 'garlanddirectlyaddressbarrsactionsaidwouldensureequaljusticelawamericanvowedleaddepartmentintegrityprotectindependencepoliticalinflu',\n",
       " 'garlandformerchiefjudgepowerfuldccircuitcourtappealnominatedthenpresidentbarackobamafillvacantseatsupremecourt2016senaterepublicanblockednominationmanyseempoistedsupportattorneygeneralnomin',\n",
       " 'garlandjoinedfederalbench1997',\n",
       " 'garlandknowjusticedepartmentwellworkedvariouspointbecomingjudg',\n",
       " 'garlandmoderatedontseeboldvisionaryleaderracialjusticepeoplehopingsaidgeorgetownbutlerheideologuegoodnewsconcerningpeoplewantattorneygeneralmeetmomentnationalreckoninginspiredmovementblacklifekillinggeorgefloyd',\n",
       " 'garlandsaidgreatpausedeathpenaltydeclaredbidenclearauthorityannouncemoratoriumusefederalsystemaccordancepledgemadecampaign',\n",
       " 'garlandsaidprivydetailongoingprobeattackunderstoodinquirymassivescopeassurefirstprioritydeclar',\n",
       " 'garlandsaidreallyspeedimmigrationissuerarelycomedcappealcourtserfoutragedrebukegopsenatorpleatakeseriouslookmatt',\n",
       " 'garlandseemedreceptivespeakernancypelosiproposalcongressionallyauthorizedcommissioninvestigateeventjan6howeversoundedfirstpublicnotecautionbidenadministrationeffortunderminedojongoinginvestig',\n",
       " 'garlandspentseveralyearfirmjudgeadvisedwastingliferejoingovernmentinsteadgarlandputharvardremarktookadviceearly1990sgarlandprosecutingviolentgangterrorizedpeoplepublichousingprojecthelpingadvancecasedcthenmayormarionbarrydrugcharg',\n",
       " 'garlandsupportdemocratrepublicanalikepointdeeplegalknowledgetemperamentexperienceexpectedwinpanelapprovalconfirmedbipartisansupportfinalconfirmationvotefullsenatenextmonth',\n",
       " 'garlandtoldformerharvardlawschooldeanmarthaminowdidntstartmindsetlawratherwantedhelppeopleoneoneplannedbecomedoctorcollisionchemistrymathspuntowardlegalprofessionsearchedbuildsortdirectconnectioneversinc',\n",
       " 'garlandwidelyrespectedjudgeserved20yearucourtappealdistrictcolumbiacircuitsaidattackcapitolheinousattackamericandemocracyheeverseen',\n",
       " 'garlandwouldsoontravelsitedeadliestdomesticterrorismattackamericanhistoryoversawsearchwarrantprotectedchainevidenceinsistedreporteraccesscourtproceed',\n",
       " 'garlandwouldtakedojstillreelingfourtumultuousyeartrumpbrokedecadeprecedentfrequentlycriticizingdepartmentleaderpublicattackingdecisionprosecutorfbiag',\n",
       " 'gatheringorganized147memberrepublicanstudycommitteegrouptraditionalistconservativelawmakeralsometrecentlytrumpadministrationofficialincludingformersecretarystatemikepompeofoxnewshosttuckercarlsongroupmetformervicepresidentmikepennytuesday',\n",
       " 'generalelectionlastyearorourkesorganizationsaidregistered200000peoplevotepoweredpeopleincludestwolongtimeadviserorourkespoliticalcampaignbeginningprogramsignpeoplecoronavirusvaccinestormhitpromptingshiftfocusreliefeffortrourkegroupraised14millionrecoveryscrambledlegionvolunteerknockdoorviaphonebankmade900000wellnesschecksenior',\n",
       " 'generallypeopleseemgetconservativeagecaseseemgottenradicalferlinghettitoldinterviewmagazine2013poetrymustcapableansweringchallengeapocalyptictimeevenmeansoundingapocalypt',\n",
       " 'georgiaraffenspergerbackeralreadytensingtrumpaligneddonorotherspourmoneyrepublicanprimarycampaignpotentialprimarychallengerincludevernonjonespartyswitchingformerstaterepresentativepubliclymusedrunstatesenbrandonbeachfuchsraffenspergerdeputysecretarystatesaidexpectsjonesgetmajoritytrumpfundingbackingdeciderun',\n",
       " 'geraldgraychairlittleshelltribenorthdakotacriticizedsenaterepublicanstatementsaidtimeputpartisanpoliticsasidestopcallingeverydemocratradicalgetthingmovinginteriordainesstatemontanalikealaskanativevotermakesignificantpartelectoraterockymountaintriballeadercouncilerectedtwobillboardlastweekemblazonedhaalandimageonebillinganothergreatfalldebhaalandconfirmationbringshopeindigenouscommunityunitedstatetruestewardnaturalresourcehighrankingpositionsaidronniejohorseexecutivedirectorwesternnativevoicenativevotingrightgroupactivestatemontananativevoterwatchingaddeddeputytajinperezsenatordainesopportunityrightmontananamerican',\n",
       " 'getbettersaidadviserguterresauthorizedspeakmediumcautiouslyoptimisticad',\n",
       " 'getpointdontcountonehandmanyafricanamericanworkmajorityleadermanyafricanamericanworkspeakerthatswellknowactuallyarrivedsaidoneformersenioraideseveralblackmemb',\n",
       " 'getselectpartanatomyvaccinecuomosaidtourvaccinesitequeenyoullsurprisedmaybeseepartanatomypick',\n",
       " 'gettingpointdifficultobstaclecongresspeoplecolorstructuralculturaljoiningcongressionalstaffoftenbegincampaignlevellowpaylonghouruncertaintimelinecreatetallbarrierentryyoungblackbrownprospectoftenlacksafetynetneededthriveroleespeciallytruewashingtoncityhighcostlivingmanyentrylevelhilljoblowpayingonenetworkgreatestcurrencysecuringroleinternlegislativedirector',\n",
       " 'givenattentionstatescottrubiopositionvoteoutcomeelectionkindstartlingseedesantisevenwidermarginperceivedtrumpbiggestsupporterthreefabriziosaid',\n",
       " 'givenhousedemocratfivevotemajorityhandfulcouldjointogethersinkbillfloorgottheimercentristuneasycurrentpolicingbillinsistreadysayingpreferworkbehindscenereachcompromiseratherpicknastyfightfloorissuegoptrashedlastfalldefundpolicead',\n",
       " 'giveninjuriousefforttargetmembercommitteeimperativehousecommitteeehomelandsecurityreceiveclassifiedbriefingdetailingrepswalwellrelationshipfangpotentialexposureclassifiedinformationlawmakersay',\n",
       " 'goinggetbusinessreactingsupplychaincrisisarisegetbusinessgettingaheadfuturesupplychainproblemonesenioradministrationofficialsaid',\n",
       " 'goinggetinvolvedjobchairnrscfocusrecruitingcandidateraisingmoneyscottsaidmondayafternoonsaidtoldtrumpwantwinsenateracenextyear',\n",
       " 'goinggorealstuffimaginedchargefantasticalchargerealstuffschlappsaidglobaliststellugoingalongglobewellglobetelluwrongwayvotevotepersonthatsdemocracyvotetherelotsecurityaroundmuchsecurityamericangovernmentoftenhelppaysecur',\n",
       " 'goingneedadditionaladultsystemsaidblomstedtpresidentcouncilchiefstateschoolofficertalkingschoolleaderaroundcountri',\n",
       " 'goingpopularsaidsenlindseygrahamrscbadpoliticsnarrativeliberalspendmoneyliketomorroweverytimecrisisloadspend',\n",
       " 'goingpushbidensaidtuesdaystillthinkshotgoodshot',\n",
       " 'golookstaffcapitolleftcleanmessjan6thatsdiversestaffformersenioraidesaiddiversetherepeoplecoloreverywhereteamthatspolicymakingteamcapitolhillneedlooklik',\n",
       " 'googleannounceddecisionemailpoliticalclientmondaymorningtechgiantalsobannedpoliticaladplatformincludingyoutubegooglesearchpage2020electionpartbroadereffortclamppoliticalmisinformationgooglereturnadcampaignadpoliticaltopicsiteseennearly750millionadvertisingsincespring2018accordinggoogleaddisclosureport',\n",
       " 'googlefacebookcollectivelyresponsiblebilliondollarworthdigitalpoliticaladvertisinglastelectioncyclebanscrambledonlinefundraisingeffortfaryearcutkeycommunicationtoolcampaignvoteraheadstateelectionvirginianewjerseyyearwellcountlessmunicipalracearoundcountri',\n",
       " 'googleliftbanpoliticaladwednesdayendingselfimposedprohibitionactivesincejan6riotucapitol',\n",
       " 'googlelobbyingsenateintelligencecommitteememberusetuesdayhearingsolarwindshackpressmicrosoftwhetherproductcybersecurityfailureplayedrolesprawlingcompromis',\n",
       " 'gopbelievedwaymajoritysouthernstrategyusedappealfearwhiteracialgrievancebeganlongarcamericanpoliticalcrackupcenteringaroundracecultur',\n",
       " 'gopgosouth',\n",
       " 'gottenjabyetsendvaccinetwodospleaseshaferpoliticogmailcomemailalertwentantivaxxtrendytwitterfeedregretgettingshinglevaccinerfeedinsistsvaccinepsychoact',\n",
       " 'gottenmillionworkerworkingstarvationwagesenatebudgetchairmanberniesanderivttoldreportertuesday',\n",
       " 'gottheimerdeclinedsaywhetherotherswouldwillingbringbillfloorreallyhopinggetfloorworktogetherproducebillget60votesen',\n",
       " 'govandrewcuomojokedwednesdayadministeringcovid19vaccinenewyorkerssayinghedgetchoosepartanatomyjab',\n",
       " 'governorbegancallinglisafrontcolleaguedegradingboylanwroteincludingscreenshotsemailexchangebenton',\n",
       " 'governorcuomomustimmediatelyresigncontinuedelectedofficialimmediatelycallresignationcomplicitallowingsexualpredatorcontinueleadinggreatstatenewyork',\n",
       " 'governormayormeetingdifferentassessmentneedreflectingunevenimpactpandemicaccompanyingrecess',\n",
       " 'gowayoverwhelmingmajoritypeoplepopulationvaccinatedwouldfeelcomfortablesayingneedpullbackmaskdontneedmaskfaucisaidcnninterview',\n",
       " 'grantvenuebillincludesanother125billionsmallbusinessadministrationshutteredvenueoperatorgrantprogram',\n",
       " 'grimmarkerhalfmilliondeadbidensaidmondayamericansoldierkilledworldwarvietnamwarcombinedcometimecomparativehopenewcoronaviruscasehospitalizationdeathdecliningvaccinationmillionamericanwellfederalgovernmentpurchasehundredmillionadditionalvaccinedospointedendpointcouldcomesoonerratherlaterexpertcautionprogressfragil',\n",
       " 'groupalsoexpectingmajorincreasebudgetlookingbudget1215millionsevugansaidcomparedstarted4millionsixyearago',\n",
       " 'groupmoderatedemocratobjectingprovisionincludessixdozencaucusvulnerablememberprivatelyarguedpassingpartisanbilltankrealchanceconstructivetalkrepublicanroadrobbingbill60senatevoteneededpassagemembertakencomplaintdirectlyhousemajorityleaderstenyhoyerrecentday',\n",
       " 'groupstaffmemberhousespeakernancypelosihidconferencetablecrowdoutsidesearchspeakertriedbreakdoortwopoliceofficertrieddefendcapitoldiedonehitheadfireextinguish',\n",
       " 'guidancetemporarylastingthreemonthdhsissueguidanceofficialsaidguidanceexplicitlypreventanyonearresteddeportedinsteaddirectsresourcecertaintarget',\n",
       " 'guterrestoppoliticalpriority2021climatechangeglobalprogresshingeabilitybidenadministrationmovebeyondinitialgesturerejoiningparisclimateaccord',\n",
       " 'haalandgoingshiftworldviewmanagingwaterlandnaturalresourcefuturebernalsaidchangedisconcertingfolkparadigmshiftwaymisusingresourcemismanaginglandresultedclimatecrisisseeingchangeholdpowerthreatensinterestoilgasdefinitelyrevealswrongth',\n",
       " 'haalandmemberlagunapueblosharpcriticfossilfueldevelopmentstancemadenominationamongcontentiousbidenpickmayalsofacetoughquestioningdemocraticchairenergynaturalresourcecommitteesenjoemanchinprofossilfueldemocratwhoseoppositionmayscuttledanotherbidennomineeneeratanden',\n",
       " 'haalandrisingstaramongprogressivesinceelectioncongress2018grewpovertyofficialdisclosureshowstillpayingloanuniversitynewmexicolawdegreeearned2006workedformerpresidentbarackobamacampaignstate2012laterchairedstatedemocraticpartycreditedfixingfinancerebuildingelectoralloss',\n",
       " 'haalandsnominationcomeheelbroadgrassrootscampaignspurredenvironmentaltribalinterestadvocatedleadinteriordepartmentagencyhistoricallyusedsuppressdisenfranchisenativeamerican',\n",
       " 'haalandsupportersaysenatorfocuspastbackingrenewableenergycriticismoilgasprojectignoresleadershipinteriorwouldmeancountrymuchhistorymadekillingexilingnativeamericanofficialgovernmentpolici',\n",
       " 'handshakeleaderstrollwhitehousecolonnadesessionvirtualduecovid19constraintwhitehouseattemptedrecreateceremonialflourishinpersonvisitwashington',\n",
       " 'happensmomenteditorialistonairvoicesayinggrandoldpartyprematureobituarykindneithernewconvincinglatestbatchmightsetstagenextremarkablerepublicancomeback',\n",
       " 'hardvote10percentdollargovaccinevaccinedistributionaddedsenshelleymoorecapitorwvatriedseekbipartisandealbiden',\n",
       " 'headlargestteacherunionsayboardcdcguidelinevaccinationimportantteacheractuallyrateaccesspersonalprotectiveequipmentlimitedclasssizeregularcleaningnecessari',\n",
       " 'healmustrememberhardsometimesrememberbidensaideveinaugurationsimilarceremonysteplincolnmemorialtimeumarked400000covid19deathrememberingsaidhealimportantn',\n",
       " 'healthinsurancesubsidylaidoffworkerfaceonetoughersubjectivebyrdtestwhethereffectfederalbudgetmerelyincidentalpolicymad',\n",
       " 'healthsecretarydesignatexavierbecerrahighlightfamilymedicalstrugglefirsttwoconfirmationhearingweekargueworkcongressmancaliforniaattorneygeneralpreparedleaddepartmenthealthhumanserviceglobalhealthcrisi',\n",
       " 'hearingaimedexaminingsecurityfailureledcapitolcomplexbreachincludedtestimonyformerucapitolpolicechiefstevensundhousesergeantatarmspaulirvingsenatesergeantatarmsmichaelstengerresignedpostcapitolsiegefollowingrequesttopleaderparti',\n",
       " 'hearingbecerratoutworkcongresschildhealthinsuranceprogramaffordablecareactupdatemedicareprogramhellalsopointworkattorneygeneralcountrypopulousstateprosecutingmedicaremedicaidfraudopioidmanufacturerhospitaldrugmakersengagedmonopolisticpractic',\n",
       " 'hearingbillcomingdaypotentiallysentfloorgeorgiahous',\n",
       " 'hearingsundirvingdisagreedthencapitolpolicechiefcalledirvingseekingbackupnationalguardattackunderway',\n",
       " 'hearingtuesdayafternoonhearingfirstpubliccongressionalinquirysolarwindsbreachfocusroleprivatecompanyplayeddiscoveringanalyzingsharinginformationbreachwellfixingunderlyingissueproduct',\n",
       " 'heartgotexangowithoutelectricityheatwaterfrigidtemperaturecontinuefacetragicconsequenceemergencyletterread',\n",
       " 'heathercayglecontributedreport',\n",
       " 'heideologu',\n",
       " 'herelookcloselywatchedelementlegisl',\n",
       " 'hereproblemregardlessbroaderquestionwhetherloanforgivenessgoodideabidenscommentreflecttruepicture16trillionowedfederalstudentborrowerborrowerwouldbenefitforg',\n",
       " 'highcourtdecisionmarkmajorsetbacktrumpyearfoughtshieldfinancebusinesspracticescrutinyclearwaydistrictattorneycyrusvanceenforcesubpoenaformerpresidentfinancialdocu',\n",
       " 'highereducation39billiongranthighereducationinstitutionpublicprivatenonprofitinstitutionreceivingreliefrequiredspendleasthalffundemergencyfinancialaidgrantstud',\n",
       " 'highernormalnumbertenthousandformerlyregisteredrepublicanacrosscountrydroppedpartylabelsincejan6clearminorityantitrumprepublicanevencontemplatingformingthirdparti',\n",
       " 'highlyselectivecollegelongstruggledenrollstudentarenttoptierwealthcountrynewreportshoweventodaylowincomestudentqualifyfederalpellgrantmakele16enrollmentmanyschool',\n",
       " 'highlyunlikelybidenwouldmovedirectioneitherisraelsaudiarabiaunlessbehaviorleafalternativepresidentoverridingprioritydomesticrecoverywouldpreferavoidproblemmightundermineprogresstowardgoalindeedpresidencysucceedfailbasedprimarilyoccurshomeabroadmuchbiggerforeignpolicychallengedealingchinarussia',\n",
       " 'highprofiletrumployalistpresentcpacrepmobrookralaledpushearlieryearoverturnelectoralcollegeresultstatepaxtonledlawsuitoverturnfourstateelectionresultrepjimjordanrohiodevinnunesrcaliftwotrumpstaunchestallyhouseformeractingdirectornationalintelligencerichardgrenel',\n",
       " 'highrankingcongressionalrepublicanmostlysoftenedcriticismtrumprecentweekpartycometermpersistentpopularityamonggopvoterresiliencepoliticalbas',\n",
       " 'hikingminimumwage15hourdocketadditionpensionissuesubsidymeanthelplaidoffworkerremainhealthinsuranceplandemocrathopefulfavorablerulingprogressivedeterminedretoolproposalfallshorteagergetbiggestpossiblebillbudgetruleallowevadesenatefilibustertimesortpotentialpitfallrunningshorthousedemocrataimingpaspackageendweekcongressionalleaderhopingsendbidendeskunemploymentbenefitexpiremidmarch',\n",
       " 'historicsnowfallsingledigittemperaturetexaslastweekleftmillionwithoutpowerwaterdaystormparticyblastacrossdeepsouthhatblamedleast80death',\n",
       " 'hogepointedvaccineproductioncomplicatedprocessemployingrawmaterialspecificmanufacturinginfrastructurehighlyskilledlaborerchallengetimewantbringcapacityonlinelinecapacitytakefoursixmaybeninemonthsaidquestioningwhethertimelineusefullookingforwardreallyquestionugovernmentansw',\n",
       " 'honortributeunlikeanythingpossiblyeverrecognizedsaidmurkowskisenatecommitteeindianaffairhearing2015responsibilitycomenametakeseri',\n",
       " 'hopecoursecorrectquicklyallowlegacysenatejohnsonad',\n",
       " 'hopefulablewithoutlargephaseiiitrialsaidhogeaddedcompanyproductiveconversationfdahumantrialbeginsoon',\n",
       " 'hopingnumberoneshedlightdiversityissuestillalsoexposeinformationworldopenpositionsaidherlinemathieupresidentcba',\n",
       " 'hostageiran',\n",
       " 'housebudgetcommitteeapprovedlegislationadvancingpresidentbidens19trillioncoronavirusreliefpackagesettingpathintensedebatesen',\n",
       " 'housedemocratattackfreespeechbasicfirstamendmentrightsendchillspineamericannewsmaxsaidnewsmaxreportedfairlyaccuratelyallegationclaimmadesiderecentelectioncontestseebalancedcoveragecnnmsnbcpushedyearrussiancollusionhoaxairingnumerousclaiminterviewdemocratleaderturnedpatentlyfals',\n",
       " 'housedemocraticaidedescribedissuesenatemathproblemsaidadditionalrevenuecouldalsocomecuttingonemonthexpirationdateunemploymentbenefithousepackagewouldextendaugusthousedemocratalreadyloppedmonthbidenoriginalunemploymentbenefitextensionproposedrunseptemberoffsetcostpensionaidincludedcovid19aidbil',\n",
       " 'housegopfreshmanopportunityvotecovidreliefmeasureyetinitiallywrestledwhetherbackbillgopleaderchamberfiringmessagingwhipoperationpackageexpectedgetfloorvotehouselaterweekhouserepublicanexpectedcrosspartylinesupport',\n",
       " 'houseminorityleaderkevinmccarthydeclinedsaywednesdaywhetherwouldsupportreinstatingearmarksayingseendemocraticleaderproposalyetalsoruleinternaldiscussionhousegopconferenceexpectedtakeplaceweekahead',\n",
       " 'houseminorityleaderkevinmccarthyhouseminoritywhipstevescaliserlamadepilgrimagetrumpmaralagoresortfloridaformerpresidentresidestrumpexpectedspeaksundayannualconservativepoliticalactionconferencedeliveringfirstmajoraddresssinceleavingoffic',\n",
       " 'houseminoritywhipstevescaliserlarecentlyhostedconferencecallstrugglingexhaustedparentofferedonlineforumsharestori',\n",
       " 'housepreparesvotesweepingpolicereformbillnextweeksmallgroupmoderatedemocratprivatelypressuringleadershipwateronecontroversialaspectlegislationwaryrelivingnovembernightmaremidtermelectioneagerbipartisansolutionjoebidenwhitehous',\n",
       " 'houstonpublicmediumreportmoneygotowardseveralorganizationincludinghoustonfoodbankfamilyeldercarefeedingtexasbridgehomelessrecoverycentercharityhelpfuldoesntreplaceneedpolicypreventpowergridfailingfutureocasiocortezsaid',\n",
       " 'howellcalleddefenseargumentquiteinterestingquicklybecamecleardeeplyskepticallegalmeritraisingtrumpfamouscomment2016campaigncouldshootsomeone5thavenuenewyorkcitygetawayaskeddefenselawyerappreciateimplicationposit',\n",
       " 'howellruledreleasetwodefendantgovernmentwanteddetainedtemporarilyblockingseriesreleasemagistrateacrosscountryeventuallyorderingpeopleheldtrialresolutioncas',\n",
       " 'howellsaid1965supremecourtcasechrestmanteamcitedcoxvlouisianainvolvedissueprotestercouldstandsidewalknothingakinshuttingjointsessioncongresscasewouldsayinstructionfederalofficialdisruptconstitutionallymandatedfunctionfardifferenttraffickindadministrativedecisionjudgesaid',\n",
       " 'howellsaidfactchrestmancamedcgasmaskhardhelmetclubstronglysuggestedexpectingviolentconfrontationalsosaidconnectionproudboygroupmeantdanger',\n",
       " 'howellservedyearlawyersenatejudiciarycommitteeappointedbenchpresidentbarackobama2010suggestedeagerseesecurityeyesoreremovedsuresaf',\n",
       " 'howeveraddedunderstandconcernoverreactingthreatleoverreactionreact',\n",
       " 'howeverexstafferssayinflatedcompensationcouldmajorramificationpocketbook',\n",
       " 'howevergarlandalsoappearedsuggestissuedurhamassignedexplorealreadyadequatelyinvestigatedjusticedepartmentinspectorgeneralpartreportfoundwidespreaderroromissionfbihandlingforeignintelligencesurveillanceactappl',\n",
       " 'howevernewadministrationchoosesrespondunlikelyuseexactblueprintlefttrumpnationalsecurityteamcurrentnationalsecuritycouncilviewpackageoverlyunilaterallinebidencommitmentworkingcloselyupartnermajorforeignpolicymovetwoofficialsaid',\n",
       " 'howeversaidhearargumentalreadyargumentgoingmadeabbottunderperformedtwomajorcrisisstatepandemicbigfreezepoweroutag',\n",
       " 'hunterbideninvestigationgarlandsaiddiscussedmatterpresidentbidensaidpresidentassuredwouldableserveattorneygeneralwithoutinterferencewhitehous',\n",
       " 'hutchinsonvicechairnationalgovernorassociationsaidstatealreadypatchedpandemicbudgetgapeconomyboomingarkansasdoesntneedadditionalhelpbidensrescueplanwouldoff',\n",
       " 'hypotheticalthreewayprimarypresidentdesantisget64percentsupportcompared12percentrubio10percentscottaccordingfabriziosurveyconductedlastweekprivateclientsharedpolitico',\n",
       " 'iceofficerneedpreapprovalarrestingillegalimmigrantnewrul',\n",
       " 'idahotaxrevenuejumpedalmost11lastyearaccordingjpmorgananalysisvermontrosenearly13',\n",
       " 'ideaalreadywinningsupporttopofficialbidenadministrationtransitionperiodincomingwhitehousecounseldanaremuswrotesenatoraskingsuggestionlifetimetenuredjudgepositionemphasizingdiversitybasedraceethnicitynationalorigingendersexualorientationreligionveteranstatusdisabilityalsoexplicitlyrequestedcandidateexperiencepublicdefendercivilrightlawyerremusaskednamesharedeveninaugurationdayjanuari',\n",
       " 'ideaconnectpeopledistrictpolicymadewashingtonsaid',\n",
       " 'ideasomeonemightthinkheldhighrankingpositiongovernorcrushdemeaningkiss',\n",
       " 'idlikehearencouragecontraryopinionofficethinkdiversestafflendsopportun',\n",
       " 'imaginepresidentelectjoebidenlookingpoliticalhotmesstakeoffic',\n",
       " 'imaginetedcruztexas2016meantmarcorubioloseflorida2016fabriziosaidtermrunningpresidentprimaryhomest',\n",
       " 'imbipartisanshipreallytoldpersonalmanchinsaidtheretimebipartisanshipbeginwellseehappenssid',\n",
       " 'immigrationpolicyquicklyemergingprimemotivatorconservativebidenerapromiselenienthumanepolicyledconfusionfearmassiveinfluxmigrantborderopeningmigrantfacilityminorsparkedrebukeleftaccusationhypocrisyrightrepublicanincludingmillercriticizedambitious357pageimmigrationplanintroducedpresidentbehalflastthursdaysenbobmenendezdnjreplindasanchezdcalifapocalypticterm',\n",
       " 'impactpolicypalpablemidstpandemicbrensonciteddistributionpaycheckprotectionprogramloanoneexampleweekloandisbursedblacklatinoownedbusinessamonglastreceivefundlargershareminorityownedbusinessforcedshutdoorresultpandemicwhiteownedcompani',\n",
       " 'implicationmoneyisntreallyneededthatsassessmentarkansasgovasahutchinsonrepublicanpartbipartisangroupmetbidenearliermonth',\n",
       " 'incidenttherethreefourpeoplegettingshotdailydontgetkinduproarattentionkindhomicidemainlytheyreblackbrownpeoplesaideddiebocanegraseniordirectorprogressiveheartlandalliancereadichicagochapterspokenwhitehous',\n",
       " 'includesinformationclassifiedtopsecretnaturecouldreasonablyexpectedcauseexceptionallygravedamagenationalsecuritysubjectunauthorizeddisclosurewrit',\n",
       " 'increasemostlytrumpsupporterpeopleantitrumpsaidjeffjonessenioreditorgallup',\n",
       " 'increasingminimumwageparticularlymiddlepandemicmanysmallbusinessstrugglingwouldnothingdamageeconomicwelfarelowincomefamilysaidfreshmanrepbyrondonaldsrflasaidbusinessdistrictconcernedpropos',\n",
       " 'incrediblydisturbingseepatterntrendemergingpeoplecolorwomanseembottomlisttermhearinggettingconfirmationfinalizedmurguíasaidinterviewhighlyoffensiveseefootdragginggoingincredibleneedputdifferentleaderplacedifferentag',\n",
       " 'indeedinternationalmonetaryfundprojectchinaeconomyexpand192020meanlikelymajorworldeconomygrowyearcoronaviruspandemiccontrastamericaneconomyexpectedshrink43eurozoneforecastcontract83',\n",
       " 'individualcaseregretdevelopedconcerndeathpenalty20someyearsincejudgesaidspeakingoklahomaattackkilled168peopl',\n",
       " 'individualmembercongresshighlightpoliticalspeechlikedemandcabledistributorengageviewpointdiscriminationsetterribleprecedentfoxsaidnetworknovembercalledarizonaelectionresultfavorpresidentjoebidenaheadoutletfacedblowbacktrumpsupporterdecisionnotedwatchedcablenewschannel2020saidclearlydistinguishesnewsopinion',\n",
       " 'inexcusabledisgracealmosteveryelectedofficialnewyorkstatequietlybrushedseriouscredibleallegationrugstefaniksaidstatementthursday',\n",
       " 'insidewhitehousegounnoticedmanylawmakerobjectingtandensocialmediummissiveincludingmanchinvotedconfirmrichardgrenellacidtonguedtrumpboosterpostuambassadorgermanydemocrathilllikewisearguedtandensouthasiandescentoneseveralnomineecolortreateddifferentlytrumperanomineelobbedpersonalattackexpressedbigotedview',\n",
       " 'instancebloombergrepresentativeassuredaideadditionaltaxowegovernmenttakencarecampaignbloombergcampaignspokespersontoldpoliticoaidepaidcampaignaccounthighertaxburdenthoughexaidessaidawarearrangementtimespokespersonaddedbloombergaccountantchoicelumpfringebenefitsalarygiveninterpretationtaxlaw',\n",
       " 'insteadapprovingusenationalguardhowevermrstengersuggestedaskquicklycouldgetsupportneededleanforwardcaserequestassistancejan6',\n",
       " 'insteaddeputynationalsecurityadvis',\n",
       " 'insteadexplainedhedratherusemoneyprioritylikeearlychildhoodeducationmakingcommunitycollegefre',\n",
       " 'insteadfocusingbidenshouldntgetbenefitfocusingwouldreallybenefitloanforgivenessarguesjalilmustaffabishopresearcheruniversitypennsylvania',\n",
       " 'insteadrepublicancomfortablefoistingblamebidenshuttinglegislativeprocesshammeringdemocratslowpaceschoolreopeningsacrosscountryissuethinkbecomepotentpoliticalweaponparticularlykeysuburbanbattlegroundthereriskpoliticalblowbackliningcovidaidpollwellpublicrepublicanarentse',\n",
       " 'insteadwhitehouselikelystickcampaignpromisesupportlegislationclosecharlestonloopholewellmeasuredesignedkeepgunawaypeoplebelieveddangerothersestablishsafetystoragestandardfirearmaccordingonepeoplefamiliarplan',\n",
       " 'intentionaldecisiongofloridaamericanconservativeunionpresidentmattschlapptoldfoxnew',\n",
       " 'interiordepartmentmanagesonefifthlanduincludingnationalparkwildliferefugetriballandheldtrustlandgeneratebilliondollarrevenueenergyproductionrecreationalsosourceroughlyonequartercountrytotalgreenhousegasemiss',\n",
       " 'interiornominationusuallyprettyuncontroversialaffairpastsixpresidentfirstchoicejobconfirmedsupporttwothirdssenatetimegearingdifferentrepublicandughaalandenvironmentalviewredstatesenatorlabeledradicalcallednominationalarmingvowingtrybestblockgettingjob',\n",
       " 'interiorresponsiblemanaginggovernmenttogovernmentrelationshipu574federallyrecognizedtribehaalandpromisedimproverelationshiprestoretribalconsultationdevelopmentprojectwouldaffecttriballandquestioninghearingcountryenergyproductionpotentialchang',\n",
       " 'interiorsecretarynomineedebhaalandmaysoonfaceevengreateroppositionrepublicanaccusedwouldbefirstnativeamericanleaddepartmentradicalpointingsupportprogressiveenvironmentalpolicyoppositionnewoilgasdrillingleasefederallandmanchinleadinghaalandconfirmationhearingtuesdaysaidremainsundecidednominationwellothersindecisionpromptedsharprebukesuggestionbiasrepalexandriaocasiocortezdni',\n",
       " 'interiorsecretarynomineedebhaalandsconfirmationhearingalsotuesdaywouldfirstnativeamericanleaddepartmentexpectedfacetoughquestioningrepublicanthatsshesopposednewoilgasdrillingleasefederallandsomethinglinebidensview',\n",
       " 'internaldisputesocalledqualifiedimmunitythreateningtrippolicingbillpathpassagedemocraticleaderevenputfloordeliveringhighpriorityprogressivecongressionalblackcaucu',\n",
       " 'interviewaheadhearingbillpickleservedsenatesergeantatarms20032007remainscontactformersergeantsatarmsirvingstengersaidlongrunningculturecapitolfrownuponcallmilitaryrespons',\n",
       " 'interviewformerbloombergaidesaidstunnedhighamountexamplereviewedpoliticoonestaffershowncompensated50000earnedanothercaseformerstaffergrossamount25000othersincomerange10000paid',\n",
       " 'interviewnearlydozensenaterepublicanmondaynightmakecleartakewarwordtrumpknockmcconnellperchsenjohnthunersdjohncornynrtexastwolikelysuccessormcconnellmomentbackvoc',\n",
       " 'interviewstaffercolorspokeconditionanonymitysaidexperienceoftenfrustratingtimedegradingonelatinosenatestaffersaidbilingualcolleaguecoloralreadyunderpaidcomparedwhitecounterpartusuallycompensatedtranslationassignmentextensiveofficerepresentmultilingualdistrict',\n",
       " 'interviewwallstreetjournallindellsaidhappyfindsuit',\n",
       " 'invitationmarch5eventsayhostrequirescontribution4000perindividual8000couplegetprivateroundtablediscussionphotoopcocktailreceptionnoemguilfoyletrumpjr1000minimumcontributionmerelyattendfundraisergetcocktailparti',\n",
       " 'iranianrefugeeformertrumpofficialelliecohanimslammedjohnkerrywednesdaycallingformersecretarystatebackdoormeetingirantrumppresidencyantiamericanattemptundermineadministrationforeignpolicyst',\n",
       " 'irannucleardealrapidlyemergingmrbidentoughestneartermdecisionvicepresidentbarackobamadealstrucklongarguedbesttoolblockingiranpathnuclearweaponpresidenttrumpcoursebackedagreementarguingmerelydelayediranmovetowardnuclearweaponscapabilityreimposedharsheconomicsanctioniranrespondedresuminguraniumenrichmentlargescal',\n",
       " 'ironyrepublicanmightinsteadunitingcelebrationactuallygoodoutcome2020voteallowingattentionfocusdemocratconsiderableinternalideologicalschisminsteadpartypulledapartlastdaytrumpterm',\n",
       " 'irvingappearsleastpartiallycorrectcspanvideoshowfloorprecisemomentclockstruck109pmsenatorneverraisedfactoftenrushedsqueezemultiplestrainquestionleftessentialinformationunaddress',\n",
       " 'irvingdisputednarrativeopeningremark',\n",
       " 'irvingechoedsundstestimonyearlyintelligencematchingendedtakingplacecapitol',\n",
       " 'irvinginsistedtuesdayconcernedappearancesecurityneedaloneguideddecisionmak',\n",
       " 'irvingmichaelstengerthensenatesergeantatarmssaidalsoneversaw',\n",
       " 'irvingsaidcollectivejudgementintelligencerequiretrooppresencecapitol',\n",
       " 'israelipalestinianissuebidenexpectationnetanyahuprettylowunlikeobamapressednetanyahuiranprogresstowardtwostatesolutionpalestinianbidenmakewaveknowingfullwellprospectsignificantprogressslimnodnetanyahupraisedabrahamaccordnegotiatedtrumpadministrationappearswillingsupportbenefittrumpadministrationoffereduaef35smoroccourecognitionsovereigntywesternsaharaconcludingagr',\n",
       " 'israelresetwouldlikelyfocusinjectingrealaccountabilityactionisraeltakegroundtowardpalestinianconditionalityrespectuassistanceisraelignoreamericanexpect',\n",
       " 'israeltougherproblemwhethergetwantwilyeversuspiciousnetanyahuclearbidenobamalikeclintonwhosesupportisraelbakedpoliticaldnabidenmuchhardernetanyahuattackexpectbibirefrainactivecampaignunderminediplomaticeffortirannetanyahu2015endrunningobamawhitehousemakingcasedirectlycongressmobilizinggulfarabstateirannetanyahumuchweakerhomewashington2015bidenboxingiranthreatnecessarilyparadoxicallykind',\n",
       " 'issuedisputelegaldoctrineessentiallyshieldpoliceofficercivillawsuitkeydemandracialjusticeactivistsincedeathgeorgefloydtriggerednationwideprotestlastsummerqualifiedimmunityprotectioncriticsaymakenearlyimpossibleholdpoliceofficeraccountablemonetarydamagecrimecommittedjob',\n",
       " 'issuefarimportantmessagingbillneedgetpresidentdesksaidrepjoshgottheimerdnjleadbipartisanproblemsolvercaucuspartcrossaislenegotiationdemocratpolicingbilllastsumm',\n",
       " 'issueinitiativecouldturnhopemightbringtogetherdisparatepiecefracturedsystem',\n",
       " 'issuewhetherdontlikedonaldtrumpissuewinnovembermcconnellsaid',\n",
       " 'ivenumberpoliticalpeoplereachleadergrassrootspeoplereachingsaidevanmcmullinformerpolicydirectorhouserepublicanconferenceranpresident2016independentcohostedcall120disaffectedrepublicaninterestedthirdpartyideaearliermonththeyveenoughreadymovereadychang',\n",
       " 'jameshensondirectortexaspoliticsprojectuniversitytexasaustinabbottpollingupper40latelastyearsaidrourkerungovernorstillfavorrepublicantexa',\n",
       " 'jan6insurrectionalsoloomedgarlandconfirmationhearingconfirmedgarlandoverseedojinvestigationstormingcapitol',\n",
       " 'janetmurguíapresidentchiefexecutivelatinoadvocacyorganizationunidosussaidcallteammondaymorningissuebidencabinetpickhittingroadblocksparkedprotractedconversationgrowingalarm',\n",
       " 'janicedeancuomoscovidnursinghomepolicyrobbedinlaws60thweddinganniversari',\n",
       " 'jimcroweralawdismantledblackamericangivenrightfreedomparticularlycameintegrationvot',\n",
       " 'jjdeclinedcommentmuchvaccinewouldavailablefirstinsteadreiteratingtarget20milliondoslatemarch',\n",
       " 'joebidenpresidentonemonth',\n",
       " 'joebidenrevolutionaryhomeabroadcautiousmoderatedemocratinterestedremodelinghousetearingappliessaudiarabiaisraelsaudiarabiauallyimportantpartnerleastrestworldweansarabhydrocarbonamericabenefitussaudicooperationcounterterrorismisraelregiondemocracyhoweverimperfectonestateregionsharerealcoincidenceinterestvalueusubjectfraughtdomesticpoliticalriskupresid',\n",
       " 'johnsonjohnsondeliver20milliondossingleshotcoronavirusvaccineugovernmentendmarchexecutivetestifytuesday',\n",
       " 'johnsonjohnsonsaidconsiderclottingeventlinkedvaccinesinceratecasetrialsimilarfrequencycaseoccurgeneralpopul',\n",
       " 'johnsonjohnsonsingledosecovid19vaccineappearssafeeffectiveparticularlyseverediseasethoughquestionremainwellworkolderpeoplefooddrugadministrationsaidwednesday',\n",
       " 'johnsontexasdemocratassumedpresidencyyearearlierjohnfkennedyassassinateddespitesouthernrootpushedlandmarkcivilrightactoutlawingsegregationpublicfacilitysignedreportedsaidfearedpartylostsouthgener',\n",
       " 'joincpac2021homewatchstreamingcoveragefoxn',\n",
       " 'jointcenterfound11percentsenatechiefstaffpolicychiefcommunicationdirectorpeoplecolor3percent2016housefigurerise19percentcompared14percent2018accordingjointcent',\n",
       " 'jointroadmaprenewedcanadauscooperationissuedmeetingbidentrudeaupledgedupdate2030carbontargetparisagreementtimeuhostclimatesummitaprilagreedrelysciencepublichealthrecommendationconsideringfuturelooseningcanadausborderrestrictioncommittedworkingmultinationalinstitutionsupportglobaldistributioncovid19vaccin',\n",
       " 'jointstatementmondayacluamericanmedicalassociationessentialaccesshealthnationalfamilyplanningreproductivehealthassociationplannedparenthoodfederationamericasaidwelcomedcourtdecisionreviewlowercourtopinion',\n",
       " 'joyebraunmembercheyenneriversiouxtribesouthdakotaattendeddemonstrationkeystonexlpipelinesaidthoughtdainesbarrassolummismainlyopposinghaalandattemptdefendoilgascoalindustrystatealsosaidfeltugliersentimentunderlyingcom',\n",
       " 'judgebackgroundprosecutorcorporatelawyerrepresentmajorityfederaldistrictcourtjuristsignificantlylikelyrulefavoremployerworkplacedisputeaccordingnewstudydiversitybench',\n",
       " 'judgegarlandsurebetcongressdayconfirmednavigatedquestionextraordinaryadroitnessaplombblumenthalsaid',\n",
       " 'justicedepartmentstillreelingpoliticalscandaltrumpyearracingneutralizethreathomegrownviolentextremistparticipatedattackucapitollegalcareerspan44yeargarlandconfrontedkindproblemonemanyreasonwhitehouseselectedservenationtoplawenforcementoffic',\n",
       " 'kahlconfirmationhearingdelayedweekbidenadministrationworkconfirmcabinetmemberbidenpickmercy5050senatemeaningonedemocraticdefectioncouldspelldoomrepublicanopposenomineenominationneeratandenexamplebidenpickleadofficemanagementbudgetperildemocraticsenjoemanchinsignaledoppositionchoic',\n",
       " 'kahldeclinedcommentpentagonspokespersonjohnkirbysaidconfirmeddrkahlrecordpublicserviceconsiderableexpertisemakeexceptionalsecretarydefensepolici',\n",
       " 'kahltimewhitehousekeyplayershapingcampaignislamicstatestrongadvocateirandeallaterwarnedpresidentdonaldtrumpwalkedawayagreement2018iranwouldrampnuclearactivityregionalprovoc',\n",
       " 'kangworkedjudgenominationobamawhitehousesaidexpectsseefirstwavebidenjudgeearlymarchsaiddemocraticsenatorrecommendationeventualconfirmationneedstartprioritizingpeoplelefteventhoughtheyvereallyworkrepresentingmarginalizedneedjusticesystem',\n",
       " 'katyusharocketlandedinsidegreenzonemondayeveningiraqitimespokespersondefeatisicoalitionwrotesocialmediumpostcitingiraqiofficialattackcausedinjurycasualtygreenzoneseveralmilewidehouseembassygovernmentbuild',\n",
       " 'kavanaughwentnuthearingsenatorsaidilysehogueoutgoingpresidentabortionrightsgroupnaralprochoiceamericatheyresayingneeracannotconfirmedtonetweetfeelpaperthincertainlydifferentstandardexpectwomanspeakversusmenvotedconfirm',\n",
       " 'kerrypresidentbidenstopclimateenvoyopenfactmetzarifleasttwicetrumpadministrationpromptingtrumpsayprosecutedloganact',\n",
       " 'kickofffallcampaignheldneshobacountymissnearsitenotorious1964murderthreecivilrightworkerreagancampaignchoselocationproclaimbeliefstaterightoppositionwelfarestatedevotionlaword',\n",
       " 'kiddingmaybemaybecasethreepowerfulreasonrightpresscasecooperationleastposs',\n",
       " 'kidwantedgettwodaypowersaidheidisaidyestookbeachhindsightobviouslymistakeeversincemediumseemsutterlyfix',\n",
       " 'kimjoinedfoxfriendaheadrallywednesdayotherscallaccount',\n",
       " 'kimoneseverallawmakersideaislecriticizedcuomoorderrequiringnursinghomeacceptcoronaviruspositivepatientreleasedhospitaldirectiveenactedmarch25rescindedmay',\n",
       " 'kimtoldbriankilmeadecuomoadministrationmightbrokenlawwithholdingnursinghomedata',\n",
       " 'kirbyaddedpentagonsupportnatorecentdecisiondeployadditionaltroopiraqplanexpanduforcelevelcountri',\n",
       " 'klobucharkeenactswiftlyaddresswhatevershortfallbecomeapparentcongressionalquestioningsaidaheadhearingmanyimmediatedecisionneedmadehelpformercurrentlead',\n",
       " 'knowgovernmentraisecostbusinesssmallenterprisearbitraryminimumwageincreaseworkerbottomactuallygetfewerworkinghourfewerjobopportunitydonaldssaid',\n",
       " 'knowlikeholdvictorypartyfrontyardsaid',\n",
       " 'knowmanypeopleneedkilledaddedthinkpaslegislationsupportlegislationbasedfearfuturecampaignad',\n",
       " 'knowmeanindianwilliamssaidelectedofficialpartyoldindianproverbwouldsaywalkmilemoccasinmaybecomeunderstand',\n",
       " 'knowpeoplecolorpaidpovertywagelongleesaiddeepenslongstandingracisteconomicdivisioncountri',\n",
       " 'kurzcalledracegamechangertermincreasingpublicawarenesspowerinfluencesecretaryst',\n",
       " 'kurzdescribedbloombergcolumnistpaulreveresecretarystateracestillsomewhatskepticalcurrentintensefocuselectionadministratorwouldcarry2022leastamongbigdonorfeellittleconfidentgrassrootssupportelitesupportsaidnotingfightinglargelyunsuccessfulbattletrygetattentionsecretarystateracedecadenoticeableupticksmalldollardonorgroup2020',\n",
       " 'lackpreparednesstransparencyercotunacceptablewelcomeresignationabbottsaidstatementstatetexascontinueinvestigateercotuncoverfullpicturewentwrongensuredisastrouseventlastweekneverrep',\n",
       " 'lackrepresentationhillofficecontrastsharplydemographicgrounddelawaremarylandvirginiathreestateblackvoteraccount25percentelectoratenearly40percent2016democraticbaseoneblackstaffertopsenatepositionsenmarkwarnerdvahiredblacklegislativedirectorjanuaryamong10statelatinocommunityonethirdpopulationfewer14percenttopsenatestafferlatinoaccordingjointcent',\n",
       " 'laraseligmancontributedreport',\n",
       " 'largelyrepublicanrecordnumberamericancallingindependentsayingthirdpartyneed',\n",
       " 'largescaleimplicationpeopleeligibilityunemploymenteligibilityaffordablecareactsubsidyeligibilitystudentloanforgivenesssaidoneformerbloombergstafferrequestedanonymityablespeakcandidlylookednumberzerobelievethoughtmistakepersonaddedtheyremakingbloodboil',\n",
       " 'last28monthrepublicanpartylostwhitehouselostcontrolchambercongress',\n",
       " 'lastfivedecadejoebidenenduredmultiplepersonaltragedysawpoliticalobituarywrittenyetalwaysfoundwaypickpiecemoveforward',\n",
       " 'lastgaspformerpresidentlawyersoughtappealsupremecourtsecondtim',\n",
       " 'lastmonthmichaeljbrewerbecameone10communicationdirectorcolorroughly100usenatetooksmallsignprogress',\n",
       " 'lastmonthtiptonquicklyissued14daytemporaryrestrainingorderlaterextendedextratwoweekstopmoratoriumenforcedexpresseddhsmemofailedconsiderpotentialpolicylimitedscopetimeprovideconcretereasonablejustification100daypaus',\n",
       " 'lastrecessionmadebigmistakefederalgovernmentprovidedaidstatelocalityfarlittleendedmuchsoonsaidleachmaneffectreallysloweconomyrecoverywedmuchbettermakesuremakingmistak',\n",
       " 'lastsummerpolicingdebatelargelylackeddramademocraticsideeveryhousedemocratsupportingbillfloorjun',\n",
       " 'lastweekbidenadministrationissuednewenforcementguidancewouldrequireuimmigrationcustomenforcementfocusimmigrantposenationalsecuritybordersecuritypublicsafetyriskmajorshiftawaytrumpadministrationaggressiveenforcementapproachexpectedresultdropdeportationenforcementact',\n",
       " 'lastweekdozenrockettargetedcoalitionforceoutsideerbilinternationalairportkillingonenonuscontractorwoundingninepeopleincludingfiveamerican',\n",
       " 'lastweekfederalmagistratejudgekansacitykanorderedchrestmanreleasehomedetentionawaittrialsundayhoweverhowellgrantedgovernmentrequeststayreleaseorderconsideredissu',\n",
       " 'lastweekzoomcallmaeelisecannonecumenicalgroupchurchmiddleeastpeacecalledunnamedevangelicalleadersaiddeclinedsigncitingconcernincludingwouldgochurchreligiousorgan',\n",
       " 'lastyearofficialvowedoverhaulexpungemanynewyorkerscitydnadatabasenumbergeneticprofileheldcitygrownsinc',\n",
       " 'lastyearpoliticoreportedhiringmaterialaidedescribedcomingbloombergnewyorkcityheadquartersguaranteedworkteambloombergendgeneralelectionregardlesswhetherbecamedemocraticpresidentialnomineeprovidedaidewillingrelocatest',\n",
       " 'laterweekhouseappropriationcommitteeheartestimonysundsuccessoractingcapitolpolicechiefyoganandapittmanwellirvingsuccessoractinghousesergeantatarmstimothyblodgett',\n",
       " 'latestincreasediversityduelargelyfreshmanrepresentative117thcongresshiredstafferdemographicallyaligneddistrictrepcoribushdmonikemawilliamsdgaexamplefilledtopstaffingslotpeoplecolormajoritywomansenalexpadilladcaliftopstafferpeoplecolortwothirdswarnocktopstafferblack',\n",
       " 'lateststrikedefenseofficialinitiallysaidinvolvedthreerocketmilitaryclarifiedtwocouldincreasepressurepresidentjoebidensadministrationwarnirandangerousactivityregionalthoughshiamilitiagroupclaimedcreditfirstattackwidelyknownclosetietehranbidenadministrationrefrainedpointingfing',\n",
       " 'lawallowsfederalgovernmentmobilizeproductionvariousamericanplanthelpfulsecurespecificmaterialearlylikelipidessentialpfizervaccineformulayoungsaidpfizersincemovedlipidproductioninhouseconfidentsupplydpacertainlyusefulsomethingusedaddressspecificproblemrathergenerallysaid',\n",
       " 'lawenforcementofficialstartedrespondrosentimeexpiredklobucharusheredhearingnextscheduledsenatormarkwarnerleavingrosenquestionunansw',\n",
       " 'lawmakercolorhistoricallyledchargediversifystafftopdemocrathousemajoritywhipjimclyburnsouthcarlinaboastonediversestaffpeoplecolormake64percenttoppostincludingchiefstaffpolicylegislativedirectormemberaimedcodifydiversityeffortlikenewyorkgracemengdemocrataddeddiversityrule117thdemocraticcaucusruleensurecandidatecolorconsideredeveryopenpositionhouseoffic',\n",
       " 'lawmakermeanwhilefeltlittlewayarmtwistinggetbehindtandennominationmondayheld35meetingsenatorthoughunclearadministrationofficialsoughtearlymeetingmoderatelikemanchinspeakmeetingmondayalreadyannouncedoppositionnomin',\n",
       " 'lawmakerpressedsundirvingdiscrepancyaskedsharephonerecord',\n",
       " 'lawmakerrecentyearlargelytargetedsocialmediumcompanyrathertraditionalmediumcompanyspreadbogusinform',\n",
       " 'lawyerbackgroundpublicdefenderstatecourtjudgetendfarraciallyethnicallydiversestudysaid',\n",
       " 'lawyerchrestmanpointedseveralsupremecourtcasesaidindicatedguidancegovernmentofficialsometimesdefensecriminalchargesaidtrumpencouragementamountedkindallclearforcedwaycapitolcountingelectoralcollegevotejan6',\n",
       " 'leadershipstaffpartyagreedcrisiscapitolpoliceleaderaskednationalguardphysicaldeploymentprotectucapitolcomplexwelladvancejanuary6thsaiddrewhammillpelosiaid',\n",
       " 'leaderspeakssurespeakalsorealizesaygoingreflectconferencejohnsonsaiddidntappreciatesaid',\n",
       " 'leaderspokepubliclyconfabbidenspeakingrooseveltroomwhitehousetrudeauofficeparliamenthillmediumaccessottawawashingtonlimitedtookquest',\n",
       " 'leadinggopoppositionappointmentsenstevedainesmontanajohnbarrassocynthialummiswyomingwhitelawmakerstatesizableamericanindianpopulationlummisblastedhaalandextremeviewdainesbarrassocalledradicaldainessuggestedwouldattemptblocknominationaltogeth',\n",
       " 'leadingrepublicandebatecloselytiepartyformerpresidentdonaldtrumplikely2024hopefulkristinoemalreadypickedsid',\n",
       " 'leastonerepublicanvoteddemocratpolicingbilllastsummerrepfreduptonrmichplansupportbillwithoutfixqualifiedimmunityprovisionaccordingofficesittingrepublicansupported2020measurerepbrianfitzpatrickrpareturnrequestcommentexpectedtakeposit',\n",
       " 'leastonethirdobamatrumplowercourtjudgeservedfederalprosecutorleastthreeyearnearlyonequartertrumppickcamecountry200biggestlawfirm45obamasjudgeservedprosecutorstatefederallevel',\n",
       " 'legalbattleplayedeventrumpfinancialrecordbecomepubl',\n",
       " 'legalexpertformerdojofficialaccusedformerattorneygeneralwilliambarrpoliticizingdepartmentusingtoolthenpresidenttrumpoppon',\n",
       " 'legislationsetvotehousefloorendweeksenateexpectedtakelegislationattemptmodifyensurepasproceduralhurdlestillsatisfying50senatedemocrat',\n",
       " 'lernersaidgarlandwantcontinueanotherprojectjusticedepartmenttutoringsessionyoungpublicschoolstud',\n",
       " 'lessonlosttrumpevenrepublicanlatelifestartedprimarycampaignbillboardingpartyconservativepositiontaxtradeimmigrationabortionfirstrallydrawcrowdtenthousandfootballstadiummobilealatwomonthdeclaredcandidacysummer2015',\n",
       " 'letplaystrippokerboylansaidcuomoremarkedflighteventoctober2017accordingessaywrotemediumpublishedwednesday',\n",
       " 'lettercontinuespresidentwouldpresumablyconsultadvisororderingnuclearattackrequirementmilitaryobligatedcarryorderasslegallawwarcurrentpostureunuclearforceattackwouldhappenminut',\n",
       " 'letternotemembermobstormedcapitolcarriedchristiansymbolsignreadjesussaveonerioterstoodsenaterostrumledchristianprayerlettercallchristianleadertakepublicstandracismchristiannationalismconspiracytheorypoliticalextrem',\n",
       " 'letterreadpart',\n",
       " 'letterrepannaeshoojerrymcnerneycaliforniasentletterattverizonrokuamazonapplecomcastcharterdishcoxalticehuluwellgoogleparentalphabet',\n",
       " 'letwoyearweekattemptoverturnresultpresidentialelectionlongsinceplayedplausiblescenario',\n",
       " 'liberalhoweverremainconfidentminimumwageboostsurvivewithoutcompromiseconfidentparliamentarianrulingfavor',\n",
       " 'likebillmakingwaygopcontrolledlegislaturewouldnewphotoidrequirementabsenteeballotbillwouldrequirevoterincludedriverlicensenumberstateidnumbercopyacceptableformphotoiddriverlicensenumberstateidnumberalreadyrequirednewonlinerequestportalgeorgiavoterphotoidrequiredvoteperson',\n",
       " 'likefederalgovernmentbalancebudgetsaiddaytonohiomayornanwhaleydemocrat',\n",
       " 'likelyendapp',\n",
       " 'likemanynativepeopleacrosscountrywilliamstlingittribalelderallinhaalandpasttwomonththousandothersmakingphonecallsendingemailwritinglettertellingtriballeadercongressionalrepresentativesupportdemocraticpickoverseefederallandnaturalresourceamericanindianaffairfully100percentsupportappointmentwilliamssaidhaalanddespitefactprogressivevotingrepublicansincereaganyearreasonexplainmeanindian',\n",
       " 'likemanypoliticallyactivenativealaskanwilliamsseepeopleconflictmurkowskideclinedinterviewstorypushcomeshoveexpectssenatorgetbehindhaalandvoteconfirmhaalandyethandmurkowskipredicamentcouldbecomeindiancountryhop',\n",
       " 'likeseepartyofficialaddressissueangleincludingcampaigningfundraisingmediumplanningbigasksaid2020electionlikegrowingnumberadvocatediversitypoliticsknowleverag',\n",
       " 'likevotebillhinsonsaidaddedcleardemocratwantcometableissueamericanneedknowgo',\n",
       " 'likewriting1940scriticessayisthlmenckennoteddespiteenormousmortalityinfluenzapandemic19181919killed675000american50millionentireworldseldommentionedamericanapparentlyforgottensurprisinghumanmindalwaystryexpungeintolerablememorytryconcealcurrentmenckenpersonallyacquaintedleast20perishedpandemicincludingbrotherbusinesspartnerbiographermarionelizabethrodgerswritesheightplaguemenckencouldseefuneralwagontrundlingdeadnearbycemeterybaltimorehom',\n",
       " 'lindellhighlightedclaimtwohourlongvideoreleasedearliermonthdominionsaidofferedreviewfilmpointredflagobviouserrorlawsuitsaid',\n",
       " 'lindellpurposefullyavoidedgivingdominionopportunityreviewbroadcastplainlyknewfakeaccordingcourtdocu',\n",
       " 'lindellsaidremarkcannotletusemachinelastmonthgeorgiasenaterunoffraceaccordingcomplaint',\n",
       " 'lindelltalentedsalesmanformerprofessionalcardcountersellliedayliesellpillowmypillowsdefamatorymarketingcampaignpromocodelikefightfortrump45proofqanonincreasedmypillowsale3040continuesdupingpeopleredirectingelectionlieoutragepillowpurchasecomplaintsaid',\n",
       " 'lindseyboylanformerdeputysecretaryeconomicdevelopmentspecialadvisergovernorsaidcuomoconstantlysoughtstafferarrangemeetingmadeinappropriatecom',\n",
       " 'linethinkingnationalsecurityalreadywaytrumpadministrationpresidentbidenaideturbochargingoneimportantunderappreciatedchangewashingtontoday',\n",
       " 'listmondaygoogleofferedlistlawmakerdozenquestiononesenateaidesaidaimedscrutinizingsecuritymicrosoftproductwindow10azureoffice365aidespokeconditionanonymityorderdiscusmatterfre',\n",
       " 'listthingneedorderableprovidebettersocialdistancingsafetyteachersafetystudentrickertsaidivetalkingadminteamyearth',\n",
       " 'litmustestideologypeopleholdheadheartprettymuchwhateverwantaddedreeddeanschoolpublicaffairuniversitycoloradocoloradospringstartimpactingpeoplebehaviorbecomesprejudicialgoodorderdisciplin',\n",
       " 'littleletestosteronelittledialoguepatientlisteningcapacityfacilitateundervaluedqualityparticularlylottensionbigplayertableirelandambassadorgeraldinebyrnenasontoldirishtim',\n",
       " 'livedlongwelldespitetraumaticchildhoodfatherdiedfivemonthlawrencebornyonkersnewyork1919leavingbehindsenselosshauntedyetprovidedmuchcreativetensiondroveartmotherunablecopenervousbreakdowntwoyearfatherdeatheventuallydisappeareddiedstatehospit',\n",
       " 'loefflersaidconsideringanothercampaignstartednewpoliticalorganizationweekaimedhelpboostrepublicanstateformerrepdougcollinscamethirdplacenovembersenatespecialelectionalsosaidheconsideringchallengingwarnocknextyear',\n",
       " 'longstandingweak',\n",
       " 'longtermpoliticalconsequencestormuncertainshorttermbrutaltexasrepublicanincludingabbottadditionsittinggovernormassivepoweroutagepannedechoingmisleadingclaimrenewableenergyblamecrisisuniversityhoustonpollfieldedmidjanuaryputabbottapprovalrating39percentmilliontexanlostpowerfreezinghomerunningwaterlaboringorderboil',\n",
       " 'longtimefixturedemocraticpoliticstandenbecameoutsizedfigureonlinerecentyeardirectedpointedpersonaloftenextensivetwittercriticismopponentleftrightincludingsittingsenatorreasonnominationombpostcarriedobviousriskevendemocratcontrolsen',\n",
       " 'looklikepilecashsittingaroundeducationofficiallocallevelwayudepartmenteducationsaycomequirkpubliceducationfinancestatereimburseschooldistrictqualifiedexpensedistrictdrawfundcourseschoolyeartaketimegetreportedbackfederaltrackingsystem',\n",
       " 'lookpollromneysaidpollshowamongnamefloatedpotentialcontender2024putpresidenttrumpamongrepublicanwinlandslid',\n",
       " 'lotfairmindedpeoplelikewellletseegetaocjoebidenberniesanderjoebidengetjoemanchinjoebidenschlappsaidearlydaybidenadministrationthinklotpeoplebelievejoebidenemergeswhatevergivencuecardrightlikehedrivenpeoplearound',\n",
       " 'lotstresssystemcrisisconfidencebasicinstitutionsaymarylandsenchrisvanhollendemocratprobablytimenewpresidentcongressfindwayreassurenationworldmatterrathersimplyletdoubtfest',\n",
       " 'lovedoneleftbehindknowwellknowlikehappensknowlikeholdinghandlookeyeslipawaysaidbidenwhosefirstwifeinfantdaughterdiedcarcrashwhoseoldersonbeaulostbraincancer2015',\n",
       " 'loweringoverallwageincreasecouldsatisfycentristlikesenjoemanchindwvaopposes15figureinsteadpushed11hik',\n",
       " 'lowpointturnaround',\n",
       " 'ltgenpiattindicatedgoingrunrequestchaincommandpentagonrecalledsundresignedriotalmosttwohourlaterstillreceivedauthorizationpentagonactivatenationalguard',\n",
       " 'macdonoughdissectbudgetimpactpiecebidenbilladditionconsideringnumberesotericrelatedissueincludesrulelimitingcostprovisionoutside10yearwindowmuchmurkiersubjectiverestrictionpreventpolicyessentiallyoutgrowingbudgeteffect',\n",
       " 'madehistorycitylightpublishingarmbookjackkerouacwilliamburroughsmanyotherscamereleaseallenginsberglandmarkpoemhowlled1957obscenitycasebrokenewgroundfreedomexpress',\n",
       " 'madestrongcasesandersaidmondayhopefullyparliamentarianrulefavorthink',\n",
       " 'mainsalvodeliveredweekendtrumpsetaddressconservativepoliticalactionconferencedevotepartspeechtopicdayarchitecttrumpimmigrationpolicystephenmillerdiscusissueconservativehousememberorganizeoppositionbidenplannedchangetrumperaimmigrationregulationrecentlyunveiledblueprintcomprehensiveimmigrationreformlegisl',\n",
       " 'makecommitmentcontinuedstrainvirusknowcouldhappentermproductionratethingchangeeverythingscienceindicatedpeoplesteppinggeteverythingdonedon',\n",
       " 'makeembodimentquietrevolutionarywaythinkingamericanationalsecurityeconomicpolicyforeignpolicylongerseparateinsteadbidenadministrationworriedamericancompetitivenessaroundglobemakingon',\n",
       " 'makeinteractivemuchfuncantgetenoughtuckersaid',\n",
       " 'makemistakegop2021muchtrumpparti',\n",
       " 'makeupstaffaffectshapedirectionlegislationlackdiversitycrosspartylinestafferrepresentcommunitymeantserveadvocatesayundermineslawmakerattemptsolveissueuniquecommun',\n",
       " 'makingasksaloneliterallypowerblackvotebackujamessaidgavemajorityneeddeliverpolicyalsoposit',\n",
       " 'makingchang',\n",
       " 'manchinofficedeclinedcommentinterviewearlierdaynotedspokentandenmondaywouldstilloppos',\n",
       " 'manchinpreviouslysaid11minimumwagehikeadjustedinflationwouldmakesensehomestatewestvirginiasinemassupportwagehikewouldlikelyharderwinsincetoldpoliticoearliermonthincreaseappropriateaddoncovid19aidbil',\n",
       " 'manchintoldreportermondayparliamentarianrulefavorably15minimumwageprovisionseekamendlegislationinsteadraisefederalhourlyminimum11',\n",
       " 'manycaseproblemisntmuchrevenueexpensebroughtpandemiclocalgovernmentbearingbruntspendinghelpresidentstrugglingeconomicdownturnfoodvaccin',\n",
       " 'manychangebillwouldpredominantlyaffectlargerminorityheavydemocraticstrongholdstateconstituencyhelpedpresidentbidennarrowlydefeatformerpresidentdonaldtrumpstatelastnovemberboosteddemocraticsenraphaelwarnockjonossoffgeorgiajanuaryrunoffelectionrecentmonthmanyrepublicanlocalstatefederallevelpushedfalseclaimelectionfraudlawmakergeorgiavowedchangelawrespons',\n",
       " 'manyconservativepoliticalactionconferencecpacessentiallyonelastmajorinpersoneventwithoutmaskcoronaviruspandemicrestrictionshutdownbegan',\n",
       " 'manysenatorlittleinterestrefereeingmcconnellseethingcommenttrumpderelictiondutylastmonthinsurrectiontrumpbrutalassessmentmcconnelllackpoliticalinsightwisdomskillpersonalityshareassessmentsenronjohnsonrwisgrahammcconnellcriticismtrumpbecomepoliticalanchorweighinggop',\n",
       " 'manyseniordemocratacknowledgelikelylateamendbillfasttrackedhousefloornextweekruleallowsexpeditedconsiderationbillpassedlastcongress',\n",
       " 'mariannelevinecontributedreport',\n",
       " 'marketingreliefbillporkladenofferingprogressivehelpedpushbidenofficerepublicansayqualmoppos',\n",
       " 'marketwholestorysaidmarketonespreadingeventalsocirculationoutsideasidemarket',\n",
       " 'maskrequiredpublicspacecpacdueregulationorangecountyfloridahyatthotelconferenceheldperipheralactivityaroundcpaclikebooksigningparedbacklimitfacetofacecontact',\n",
       " 'matterinitiativecomenearlyyeartrumpadministrationhealthofficialfirstinternallyexploredwhethersendmaskeveryamericanhopeslowingvirusspreadidearejectedtim',\n",
       " 'mattermicrosoftfacedintensescrutinytwomonthsincerevelationsolarwindscampaignroleproductspreadinghackernet',\n",
       " 'mattertimeborrowcatchphraseamericacanadabackbuildbackbettersharepolicyprioritylikefightingclimatechangeracialinequalityneitherstoptalkingdinnerottawa2016',\n",
       " 'matterwhitehouseofficialcautionedinitialsupplyjohnsonjohnsonvaccinewouldlimitedproductionproblemalthoughcompanysaidmeetagreementsupplyu100milliondosendjun',\n",
       " 'mayhandshaketonewarmunitedstatecloserfriendclosercanadabidensaid',\n",
       " 'mayhearddaleepsinghrepresentsimportantnewwaythinkingamericaapproachrestworld',\n",
       " 'maystillgetadoringfanfawnaroundcountrysaidvotertexasenamor',\n",
       " 'maytakeanothercycletwochang',\n",
       " 'mccarthyanyoneheardfbitoldwouldneverallowswalwellintelcommitte',\n",
       " 'mcconnellcarefulcannypoliticalinsiderwhoselackdynamismbalancedtacticalabilitycarefirstforemostputtingcandidateviewwin',\n",
       " 'mcconnellreelectionsixyeartermhangtwoyearmatchformersenmikemansfielddmontlongestservingsenatepartyleadertim',\n",
       " 'mcconnellsdecisionsupportgarlandattorneygeneralentirelysurprisingparticularlygivenkentuckyrepublicanrecommendedleadfbitrumpadministrationtuesdayannouncementcouldclearwayevengopsenatorvotegarland',\n",
       " 'mcconnelltoldpoliticotuesdayafternoonaskedplanbackgarlandkentuckyrepublicanelaboratedecis',\n",
       " 'mcconnelltoxicamongrepublicanvotertrumployalistclaimwouldobviousdeepredstatetwogopsenatorreelectionconservativestatejameslankfordoklahomamikecrapoidahosaidstillsupportmcconnellgopleadermonday',\n",
       " 'mcconnellworkedtrumpfouryearwhitehousesenateleadershepherdedtrumptaxcutcongressgotrecordnumberjudgeconfirmedfederalbench',\n",
       " 'mcmullinsaidmostlyformertrumpsupporterappreciatedpolicyjudgeinsurrectionmuchbelievetimerepublicanpartymov',\n",
       " 'meanstatepartyofficialfullycampsomethingmadeperfectlyclearsincetrumpimpeachmentcountystatepartynumberstatemovedcensurerepublicanvotedimpeachconvictformerpresid',\n",
       " 'meantimedemocratalreadyweighingseveraloptiontrysavewagehikefullyimplodingmakepalatablemoderatepartycongressionalleaderneedlockstepsupportordermusclecovid19aidpackagesenatesimplemajorityvoteunemploymentbenefitexpiremillionamericanmidmarch',\n",
       " 'meantimeeventhoughcandidatejoebidenpresidentelectmanydemocratchargesystemamericaultimatelychoosepresidentelectoralcollegefundamentallyundemocraticallowspopularvotewinnerdeniedpresidencyevenchargesenatesimilarlyundemocraticgivelopsidedamountpowerthinlypopulatedstateexpensemorepopulatedon',\n",
       " 'meantimehouselawmakerpepperedvaccinemanufacturerquestionpotentialbarrierdeliveringhundredmillionshotyearexecutivepraisingfederaleffortsecuresupplyappearedhesitantseebidenadministrationinvokedefenseproductionactprocuresupplyumanufacturerevenbroadenvaccineproduct',\n",
       " 'meanwhilebassassertsopendiscussionbillmovesenatemeantimecaliforniademocratsaidreachedmanycaucusmoderatewithoutgettingsignificantpushbackevenrepublican',\n",
       " 'meanwhilerepublicancriticizingbidensdecisiongivetrumperapushreimposeunitednationsanctioniranadministrationappearstakelighterapproachregim',\n",
       " 'meanwhilesenatetoprepublicanappropriatorsaidwouldsupportshalandayoungformerclerkstaffdirectorhouseappropriationcommitteeleadombtandennominationimplod',\n",
       " 'meanwhiletuesdaydemocraticassemblymemberviviancookoneseveralpoliticianhealthofficialjoinedcuomovaccinationsiteexpressedsupportgovernor',\n",
       " 'medicalholocaustcovid19pandemic500000deadunitedstate25millionworldwideevenhitrearviewmirroryetacquiredimmunityvaccinationtakeholddeathratehospitalizationtapernormalityreturnlifeoptionsortculturaldentoutbreakfarclaimednumberequaltotalpopulationatlantaleaveamericanpsychebuildspecialplacepalacememoryrecollectionplaguewritepanoramicnoveldisastergatherchildaroundcampfiretelltaledeadlystrugglebuildmonumentfallen',\n",
       " 'meetingledsusanricedirectordomesticpolicycouncilcedricrichmonddirectorofficepublicengagementrecentmeetingrichmondsharedadvocatelostchildhoodfriendgunviolenceaccordingthreepeopleconversationformercongressman',\n",
       " 'membercongressmusthirestaffcolorreallyspeakdifferentconstituencymayinterestrepresentedbrensonsaid',\n",
       " 'memoryplaguepasmemorybriskly1976bookamericaforgottenpandemicinfluenza1918alfredwcrosbytheorizesfluoutbreakoverlappedworldwarfluobituaryfilledpageblurredequallylongcasualtylisteuropecreatingonemassiveundifferentiatedlistdeadalsodiseasemovedquicklypopulationvanishedfulldangercouldrealizedpoliosmallpoxkilledleftvisibletracesurvivorremindpeoplepowerconveyedgreaterfearoneevertookyeardieflucrosbywritesstrickensurvivedfinallyfamousindividualdiedflupressmemorializemanymartyrlargetyp',\n",
       " 'mentionformerpresidentdonaldtrumpdirectlythoughtrudeaupraisedbidenreassertinguleadershipglobalclimatepolicypreparingjointrolloutcommuniquéoneniceamericanpullingreferenceclimatechangeinsteadaddingsaidnoddingattempttrumpadministrationwaterinternationalallystatementissuepresid',\n",
       " 'messagecriticpointunspentfundsayschooldontneedisntlightswitchmoneydoesntgetapprovedonedayspentnext',\n",
       " 'microsoftadmittedhackeraccessedproductsourcecodereviewedcoderelatedproductlaterexploitedpreserveaccessbreachednetwork',\n",
       " 'mid1980sgarlandbecamerisingstararnoldporterlawfirmwashingtondcunusualamongpeermadetimeyoungcollegegraduaterandythompsonworkedfirmcopycenterthompsonsaidgarlandreviewedonepaperphotocopiedrearrangedparagraph',\n",
       " 'midtermcampaign1994republicanhouseunitedbehindparty2leadernewtgingrichgeorgiacontractamericalistpopularoftenpopulistideaconstitutionalamendmentbalancefederalbudget',\n",
       " 'milestonebasedtallymaintainedjohnhopkinsuniversitycamemonthnationdeathtollpassed400000publichealthofficialtrainsightnewcontagiouscoronavirusstrainreportedalmosteverystatethreatentaxalreadystressedlocalhealthsystem',\n",
       " 'militaryparticipatedeventjan6anyonecommittedviolentactreallyamountedattemptedinsurrectionunitedstategovernmentviolatedoathad',\n",
       " 'millerwhoseoppositionnearlyformimmigrationearnedadmirationtrumpenmitymanyothersjoinedwednesdaymeetingtomhomanmarkmorgantwoformertopimmigrationofficialaccordingpersoninvolvedplanningfirstreportedhillthreemenplayedintegralroleenactingmanytrumpcontroversialimmigrationpolicyincludingseparationmigrantchildparentuponarrivinguwithoutauthor',\n",
       " 'mindtlingitindigenousinsiderinterviewedexpectmurkowskiaskhaalandtoughquestionenergypolicyultimatelyhonorbidenchoiceinteriorbelievewomanintegrityfairbalanceweightmessagesisterhaalandpotentialnominationsaidmorenostilltakingchancewritingcallingmurkowskiofficeexpressmeaningfulvot',\n",
       " 'minimumwagelikelystirdramabehindcloseddoorwednesdayrepublicanarguingsweepingpolicychangepasmusterbudgetrestrictionguidingpassagebidenpandemicplandemocratconfidentstrongcasefueledrecentanalysiscongressionalbudgetoffic',\n",
       " 'minimumwageprogressivepushingincreaseminimumwageboosting15hour2025',\n",
       " 'minoritypersonpersoncolormakewonderwouldgettreatmentpersoncolorindianwomansaidmontanastatesenshanemorigeaudemocratmembersalishkootenaitribeinterviewbecameeasytargetgottenplacecountrygiveespeciallywomanpeoplecolorfairshot',\n",
       " 'misperceptionshighereducationgraduateeliteinstitutionpervasivehelpeducatepublicvaluepostsecondaryeducationsayfenabaaddoassociateprofessorstudystudentloandebtuniversitynorthcarolinachapelhil',\n",
       " 'mitchmcconnellmeanwhiletoldcaucuswantrepublicansticktogethertandenvoteaccordingtwosourceknowledgesenateminorityleaderremark',\n",
       " 'mixednativismmanygopbasebelievemisinformationdecliningtrustexpertiseinstitut',\n",
       " 'moderatedemocratproposedwayalterbillqualifiedimmunitylanguageincludingholdingpolicedepartmentratherindividualofficerliablelawsuitcitednewlawcoloradolimitofficerpersonalfinancialli',\n",
       " 'moderatedemocratwellmanyrepublicanarguedendingqualifiedimmunityentirelycouldleavepoliceofficervulnerablefrivolouslawsuitsideacknowledgebipartisandealpolicereformunlikelyfullyenddoctrineleastcurrentform',\n",
       " 'modernabeginningtrialnationalinstitutehealthboostershotaimedstrainpfizerdiscussionfdaclinicalstudydesigntestupdatedversionvaccineemergingvariantchiefbusinessofficerjohnyoungsaid',\n",
       " 'momentdemocratpresidentwaygrassrootsfocusedcourtlikeneverchancestartrestorebalancelegitimacycourtundodamagedonaldtrumpmitchmcconnelldonesaidchristopherkangcofounderdemandjustic',\n",
       " 'momentsilenceconcludedbidendevoutcatholicpenchantquotingscripturespeechcrossedheadingbackinsidewhitehous',\n",
       " 'mondayaheadlatestgrimmilestonebidenorderedflagfederalpropertyflownhalfstafffiveday',\n",
       " 'mondayeventcomeyearfirstconfirmeducovid19deathshowcasedquicklyvirusspreadcountrydeadlylastmontheveinaugurationbidenheldsimilarvigillincolnmemorialcommemorate400000lifelostbidenalsonotedremarknumbercoronavirusfatalitysurpasseddiedworldwariiwellvietnamwarcombin',\n",
       " 'mondayhearingrepublicanpressedgarlandassurancetwopoliticallysensitiveinvestigationwouldinherittrumpadministrationspecialcounselinvestigationoriginrussiaprobecriminalinvestigationbidenssonhunt',\n",
       " 'mondaysessionrepublicanseemedreluctantgetconfrontationalgarlandperhapspartdemonstratedecisionblockconfirmationsupremecourt2016nothingpersonaltoward',\n",
       " 'monthwhaleypartbipartisangroupmayorpushinghelpdecembercongressapprovedadditionalaidstatelocalgovernmentleft',\n",
       " 'moralethicalprincipleincludingrelatedjournalisticintegrityviolencemedicalinformationpublichealthapplydecidingchannelcarrytakeadverseactionchanneldemocrataskedalsoaskedcarrierplanningcontinuecarryingfoxnewsnewsmaxoann',\n",
       " 'moreovermrbideninsistedenoughrepublicanlawmakerpreparedmeetmiddlegetthingdoneevenlydividedcongresskinddemocraticmajoritypredecessorenjoy',\n",
       " 'morigeaurunningwolfsignedlettermontanaamericanindiancaucusurgingdainesrepmattrosendalermontreconsideroppositionhaalandnomin',\n",
       " 'movegooglealsolatestinstancetechgiantworkingunderminepoliticallyopportunemomentmicrosoftusedtacticlastyearmicrosoftpresidentbradsmithcalledgovernmentincreasescrutinyantitrustimplicationapplegooglerunappstorerecentlyweekmicrosoftpubliclybackedpusheuropecompanylikegooglepaylinkingnewsarticl',\n",
       " 'moverightfocussouthrouterenewedsuccessrepublican',\n",
       " 'mrbidencoursecampaignedcentristpartygenerallymovedleftbidennominationmoderatedespitesayjimkesslerexecutivevicepresidentpolicythirdwayorganizationcentristdemocratelectionmoder',\n",
       " 'mrbidendemocratcollaboratecongressionalrepublicanpasnewcoronavirusreliefstimulusbillwouldseemprovecooperationpossibleachievementcamedemocratagreedgoppressurefarlespendingsoughtjettisonedkeydemandaidstatelocalgovern',\n",
       " 'mrbidenswornamidextraordinarycircumstanceongoingpandemicglaringabsenceoutgoingpresidentrefusedacceptlegitimacylastyearelectionscarmobattackdesignedpreventtakingofficestillvisiblecapitolbehindnationfirstwomanfirstminorityvicepresidentsid',\n",
       " 'mrbidenteampressingmatterutmosturgency19trillionplanspeedcoronavirusvaccinationhelpcitystateoveralleconomygetpastviruseconomicstrangleholdgroup10republicansenatorcounteredmuchsmaller618billionproposalessentiallykeepintactbidenplanfundvaccinationworkshrinkeconomicstimuluspiecejettisonsothersentir',\n",
       " 'mrirvingstatedconcernedopticnationalguardpresentdidntfeelintelligencesupportedsundstatedwrittentestimonyaddingreferredstengermaderequest',\n",
       " 'mrsinghtopofficialfederalreservebanknewyorkformertreasurydepartmentaidealumnusprivatesectorinvestmentfirmgoneworknewbidenadministrationsigntraditionaldomesticeconomicjob',\n",
       " 'mrtrumpcostfightmayturnpersonalonedeflectingattentionaccomplishmentcouldcarryforwardpositivelegacy2020',\n",
       " 'mrtrumpsettingweekdramatictestloyaltyformlastditcheffortoverturnvictorypresidentelectjoebidencoresupporterrallyingwashingtonunderscorepointsenjoshhawleymissouritedcruztexasaspireleadtrumparmywhenevermrtrumpengineeredscenariocolleaguegorecordeitherfavoringopposingpresidenteffortreverseelect',\n",
       " 'mucheaglekillerwhalepoliticswilliamsbloodbackdayparentgrandofficeralaskanativebrotherhoodalaskanativesisterhoodoldestindigenouscivilrightgroupcountryfamilyusedhostalaskafirstsenatorbobbartletternestgrueningdemocrathousesaxmandinnerlikefatherwilliamsidentifieddemocratyounghowevergaveparty1980swentawayalaskamethodistuniversityanchoragesaythoughrememberexactlychangepartychangecommitmentalaskanative2018decadepublicservicecivicinvolvementincludingyearspentboroughmayorcitymayortribalpresidentalaskanheldtitlewilliamsachievedlifelongaspirationbecomegrandpresidentalaskanativebrotherhood',\n",
       " 'muchfacethreatunpaidmedicalbillevenbankruptcybecerrasaidtestimonytwodecadecongressworkedensureeveryfamilyassurancecaremin',\n",
       " 'multiplenativeamericantoldpoliticosenatorsharpcritiquehaalandchanceaddressconcernremindsstereotypingdismissivenesstribelongexperienceddealingugovern',\n",
       " 'murkowskihighestrankingrepublicansenatecommitteeindianaffaircommitteemembersincefirstdaycongressevenpartisansenateenvironmentfaircharacterizesenatecommitteeindianaffaironeproductivecommitteeentiresenatesaid2011secretsuccessworktogetheracrosspartylinetimebenefitnativepeopl',\n",
       " 'murkowskipoliticalstoryarosefarawaysomewhatentwinedborn3mileroadsaxmanketchikanparentnancyfrankwenthighschoolwilliamsranpeacehealthfoundationsupportlocalhospitalwilliamsalsoservedpresidentfranksenator19812002appointedlisasuccessorgovernorshipvacatedseatcongress2010youngersenatormurkowskilostrepublicanprimaryteapartycandidatejoemillerlaunchedwriteingeneralelectioncampaignstatenativemake17percentelectoratemurkowskineededvotelikeformercolleaguetedstevensalaskasenatordinnerwilliamshousetwicelikebartlettgrueninggenerationmurkowskicampaigncommitteerequestedinvitejoinlongtraditionalaskanpoliticiandiningwilliamssaxman',\n",
       " 'murphysaidsupportbidenusingexecutiveauthoritytackleguncontroldemocratgoingpursuelegislationbestchancepasbackgroundcheckproposalyeardontwantwaitmassshoot',\n",
       " 'mustendpoliticsmisinformationdividedfamilycommunitycountrybidensaidinsidewhitehousecostmanylifealreadydemocratrepublicandyingvirusfellowamericanneighborfriendmotherfathersondaughterhusbandwifefighttogetheronepeopleunitedstateamericawaygoingbeatviruspromis',\n",
       " 'nationcantacceptcruelfatesaidpresidentjoebidenholdingmomentsilencediedfightingpandemiclongresistbecomingnumbsorrowresistviewinglifestatisticblurnew',\n",
       " 'nationfacegrowingsecuritythreatchinesecommunistpartyccpattemptinfiltrateundermineunitedstategovernmentwriterequestfullbriefingregardingcounterintelligencethreatmembercongressincludinginformationrelatedrepericswalwelltiesuspectedchineseintelligenceoperativesayletter14houserepublicanincludingrepdanbishoprnchomelandsecuritycommitteerankingmemberjohnkatkorni',\n",
       " 'nationfindanotherinflectionpointdealingpandemicnewcasedeathufallensignificantlyjanuaryhighnewvariantcausedsignificantconcernwellbleakweatherconditionsouthdisruptedvaccinedistributionfactorplayedcautiouslyoptimisticremarkbidenmadefridaytouringpfizermanufacturingsitekalamazoomich',\n",
       " 'nativelikewilliamsoldfriendronallenchairjamestownklallamtribeformerpresidentnationalcongressamericanindianservedadviserjohnmccainpresidentialcampaignreconsideringsupportrepublicanfolkwouldrefertokenrepublicanindiansaidwouldjokebackswitchedindianperhapssigntimenativeamericancaucuscongresscomprisessixmemberthreedemocratthreerepublicannativevoterlelikelyvoterraceidentifyeitherpartyrepublicanmovehaalandindiancountrypartisanbalancemayslippingpastnativevoterincreasinglyaligndemocraticpartytriballeaderfindconservativefriendwashingtonfriendlycount',\n",
       " 'naturallytwofrienddiscussedsenatelovereallywashingtonworkbetterrightmaybebobdoleheadbattletimecancerage97adviceoffercouragewisdomcapitalseemsshort',\n",
       " 'navalny44poisonedlastaugustnerveagentnovichoklethalsubstanceconsideredbannedchemicalweaponorganisationprohibitionchemicalweaponkremlindeniedinvolvementstatedepartmentpubliclyattributedattackrussianfederalsecurityservicefsbdecembermonthtreatmentgermanynavalnyrecoveredflewhomemoscowpromptlyarrestedbreakingtermprobationagreementsentencednearlythreeyearprisonearliermonthsparkingmassiveprotestacrossrussiacondemnationinternationalcommun',\n",
       " 'navalnypoisoningrussiansecurityforcelastaugustrecentjailingmoscowdeemedurgentenoughwarrantresponseevenbroaderreviewusrussiapolicylaunchedadministrationjanuarystillongoingsaidpeoplefamiliarinternaldiscuss',\n",
       " 'nearlylostcontroversypresidenttrumprefusalconcededefeatsomethingmomentousunfoldedbackground2020remarkableadvancewoman',\n",
       " 'nearlyyearmikebloomberg1billionpresidentialcampaigncrashedsupertuesdaystafferstilldealingaftershock',\n",
       " 'needcredibleopentransparentinternationalinvestigationledworldhealthorganizationjakesullivansaidinterviewcbsfacen',\n",
       " 'needfirstcreatedwaysucceedconstructedfailsaidtimroemerone911paneldemocraticappointeealsospokenpelosihousedemocrat',\n",
       " 'needgetinformationimmediatelynextmonthtwosaidgoingmakechangesecur',\n",
       " 'needmakesuremakeshortlongtermpolicydecisiondevastationpreventabledevastationneverhappenssaid',\n",
       " 'needongoingargumentwhitehousebegunmakingtryexplaincongressgiveanother130billionk12schoolspentcomingyear',\n",
       " 'neeratandenleadingpolicyexpertbringscriticalqualificationtabletimeunprecedentedcrisispsakisaidalsoimportantperspectivevalueunderstandingfirsthandpowerfuldifferencepolicymakelifegoinghardtimebroadspectrumsupportranginguchambercommercelaborunionstrongrecordworkingpartyexpectgrowpresidentbidenscabinetfirstsouthasianwomanleadomb',\n",
       " 'neeratandenpresidentbidenspickrunofficemanagementbudgetsawpathconfirmationnarrowsignificantlymondaytwosenatecentristrepublicansaidwouldlendsupportconfirm',\n",
       " 'neeratandensawsenatecommitteevotepostponedwednesdaymorningnominationleadwhitehousebudgetofficenearsbrinkcollapsebipartisanappetiteelevatealternativenomineegrow',\n",
       " 'neeratandenxavierbecerrafirebidennomineefightsurviveconfirmationbattl',\n",
       " 'neitherboylancuomoimmediatelyrespondedfoxnewsrequestcom',\n",
       " 'neithergooglemicrosoftrespondedrequestcom',\n",
       " 'netanyahuhappyadministrationintentionupgraderelationpalestinianfightconflictbidenfocuschangingsituationgroundrestoringcooperationmeasuretrustisraelipalestinianbidenexpectnetanyahurefrainmovingaheadmajorinfrastructurehighprofilesettlementprojectwestbankjerusalemletaloneannexationterritorynetanyahuwinupcomingelectionmarch23formnarrowrightwinggovernmenthoweverstagecouldsetmajorconfrontationadministrationissu',\n",
       " 'newdivid',\n",
       " 'newfinancialsupportparentdemocratapprovedmajortemporaryoverhaulchildtaxcreditcouldmeanfamilychildwouldreceivemonthlypaymentbillbecomeslawlegislationincreaseexistingchildtaxcredit3000child6173600child6amountgraduallyreducedcoupleearning150000individualearning75000peryearfamilyeligiblefullcreditwouldgetpayment300perchildpermonthjuly2021endyear',\n",
       " 'newfindingcomeadvocatepushgreaterprofessionaldiversityamongpresidentbidenspresumptivejudicialnomineeformerprosecutorcorporatelawyermakenearly710judgefederaldistrictcourtconsiderlawsuitemploymentimmigrationenvironmenttop',\n",
       " 'newnationalsecuritycouncilbroaderrussiareviewyetcompletedbidenadministrationstartingscratchnavalnyissueinheritedcomprehensivesanctionpackagepreviousadministrationhandedtransitionprocesstwopeoplefamiliartransitionsaid',\n",
       " 'newscomecommitteeplanholdconfirmationhearingmarch4kahlaccordingthreecongressionalaid',\n",
       " 'newspaperteendownplayedcontagionjohnbarryreportbookgreatinfluenzacomplicatesattemptfullyanalogizetwooutbreakflufinallypassedtookmanymemoryassociatedleavingculturalblankbehindtwomonumentfluappearerectedlatecomerbarrevtgranitebench2018newzealandplaque2019novelistwallacestegnerwillacatherthomaswolfejohnharamarymccarthywilliammaxwelltouchedtopicfictionfscottfitzgeraldernesthemingwaysteeredwidedisasterwriternotewitnessinfluenzapandemic1918addresslengthkatherineanneporterautobiographicalnovellapublished1939famoushistorianlargelypassedtopiccollegetextbookcrosbyaddreaderguideperiodicalliteraturedevotedcolumninchbaseballflu19191921indextellinglydrwilliamcarloswilliamsconducted60medicalcalldaypandemicragedneverexploitedviruspoetri',\n",
       " 'newyorkerssaycuomomishandledcoronavirusnursinghomepollfind',\n",
       " 'newyorksenatevotedtuesdayconfirmlindathomasgreenfieldunitedstateambassadorunitednation7820vot',\n",
       " 'newyorkstateassemblymanronkimsaidrecentphonecallnewyorkgovandrewcuomoterrorizingmomentleftwifecryshak',\n",
       " 'newyorktimepublishedseriesarticlebasedtrovetrumptaxdocumentacquiredstorycontainnumberrevelationincludingtrumppaid750federalincometax20162017',\n",
       " 'newyorktimesdealbookvirtualinterviewutahrepublicansaidsureformerpresidentwouldplayrolegopcomingyearassessingtrumpfarlargestvoicebigimpactparti',\n",
       " 'nextattorneygeneralexampleeverythingpowerfightvotingrightpolicereformcriminaljusticereformlgbtqequalitysaid',\n",
       " 'nexthouseenergycommercetelecomsubcommitteeholdhearingwednesdaydevotedcallmisinformationdisinformationhostedcablebroadcastnetworkeyetowardcapitolattackpandemiconenetworklistedamongwit',\n",
       " 'nexthousepanelalsohearexecutivepfizermodernaastrazenecanovavaxwaymajorvaccinemanufacturerscalingproductionmeetcountryvaccinedemand',\n",
       " 'nextvilsack70longtodolistwaitingformeriowagovernorsaidaddressingclimatechangeracialequityamongtopprioritytwoissuedepartmentlongstruggledtackl',\n",
       " 'nicetymeetingresolveentrenchedissuen',\n",
       " 'nixonworriedanotherwallacebidcostingsouthernstate1972workedhardmaneuverwallaceanotherdirectionendwallacesoughtdemocraticnominationpresident1972campaigncutshortparalyzedassassinationattemptnixonsweptsouthyearenroutewinning49stateoveral',\n",
       " 'nobodyknowtraderepsaid',\n",
       " 'noemreelection2022mentionedfuturepresidentialcandidatealthoughpolled1percentrecentpoliticomorningconsultsurveynoemalsospeakingweekendconservativepolicyactionconferenceorlandospeakrepublicannationalcommitteedonorsummitaprilalsopalmbeach',\n",
       " 'noemsharedhistorycouplespoketrumpjuly4eventlastyearsouthdakotamountrushmoreguilfoyleskiptestedpositivecovid19rightbeforehandfinancialdisclosureformmadepubliclastmonthrevealednoemmemorializedoccasiongivingtrump1100replicamtrushmorefeaturingfacemonu',\n",
       " 'nominatedthenpresidentbarackobamaspotsupremecourt2016republicansenaterefusedgivehear',\n",
       " 'nomineedebhaalandsecondtermcongresswomanrepresentsnewmexico1stdistrictconfirmedhaalandtribalcitizenlagunapueblowouldbecomefirstnativeamericancabinetsecretaryunitedstatehistorywilliamsalsoindigenousfirstalbeitsmallerscale2005becamefirstalaskanativeelectedmayorketchikangatewayboroughsecondmostpopulousboroughsoutheasternpartst',\n",
       " 'normallyvotingnominationprogressiveenvironmentalistwouldnobraineralaskarepublicanlikemurkowskistatelerunoilyearcontributesmuch90percentalaskaunrestrictedgeneralfund3percentalaskanworkoilgasindustryresidentlivedstateyearintendstaygetpaidannualdividendbasedindustryrevenue2020992everyalaskanpocketbidenadministrationpolicydesignedpartmovebeyondoilcentricstatusquohaalandwentcamperectedpathdakotaaccesspipeline2016cookedgreenchilistewdemonstratoroutspokenchampionnativewouldprobablyeasydecisionmurkowskisenatorpersonalconnectionelectoraldependencenativevotermakelotcompl',\n",
       " 'northkoreairanteaminguweighsirannucleard',\n",
       " 'northkoreanhackerstole316mimprovenukeballisticmissileunexpertsay',\n",
       " ...]"
      ]
     },
     "execution_count": 43,
     "metadata": {},
     "output_type": "execute_result"
    }
   ],
   "source": [
    "vect.get_feature_names()"
   ]
  },
  {
   "cell_type": "code",
   "execution_count": 44,
   "metadata": {},
   "outputs": [
    {
     "data": {
      "text/plain": [
       "<3329x1734 sparse matrix of type '<class 'numpy.int64'>'\n",
       "\twith 3329 stored elements in Compressed Sparse Row format>"
      ]
     },
     "execution_count": 44,
     "metadata": {},
     "output_type": "execute_result"
    }
   ],
   "source": [
    "X_counts"
   ]
  },
  {
   "cell_type": "code",
   "execution_count": 45,
   "metadata": {},
   "outputs": [
    {
     "name": "stdout",
     "output_type": "stream",
     "text": [
      "(3329, 6209)\n",
      "['', '0', '012', '05', '1', '10', '100', '1000', '10000', '100000', '100day', '100th', '101', '102', '102nd', '1042', '104day', '105page', '109', '10913', '10914', '10915', '10916', '10917', '10918', '10member', '10year', '11', '1100', '110000', '1145', '115000', '11610', '117th', '11yearold', '12', '120', '125', '128', '13', '130', '1300', '13382', '134', '135', '14', '140', '1400', '147member', '149', '14day', '15', '150', '150000', '1502', '1573', '16', '1600', '168', '16member', '17', '18', '180', '1800', '19', '1918', '1919', '19191921', '1939', '1940', '1945', '1948', '1950', '1952', '1953', '1955', '1956', '1957', '1958', '1960', '1964', '1965', '1967', '1968', '1970', '1972', '1976', '1980', '1981', '1984', '1986', '1988', '1990', '1991', '1992', '1993', '1994', '1995', '1996', '1997', '1998', '1st', '2', '20', '200', '2000', '200000', '2001', '2002', '2003', '2005', '2006', '2007', '2008', '2009', '201', '2010', '2011', '2012', '2013', '2014', '2015', '2016', '2017', '2018', '2019', '2020', '2021', '2022', '2023', '2024', '2025', '2030', '209', '20some', '20year', '21000', '21st', '23', '24', '247', '25', '25000', '2530', '25th', '25yearold', '27', '28', '282', '2826', '2849', '2nd', '3', '30', '300', '3000', '300000', '304', '3040', '30someth', '316m', '32000', '325000', '33807', '35', '350', '353', '357page', '35th', '35year', '36', '3600', '365', '37', '39', '4', '40', '400', '4000', '400000', '40th', '420', '423', '43', '44', '45', '456000', '46', '46th', '47', '48', '48page', '49', '5', '50', '500', '50000', '500000', '5030', '5050', '51', '5174', '51vote', '52', '52count', '52point', '53', '531', '535', '54', '55', '55000', '56', '57', '574', '5743', '58000', '5th', '6', '60', '60th', '618', '63', '64', '64000', '642', '645', '65', '66', '67', '675000', '68', '6th', '7', '70', '700000', '715', '725', '75', '750', '75000', '750000', '75yearold', '76yearold', '78', '7820', '8', '80', '8000', '81', '820', '83', '831', '86', '885000', '9', '90', '900000', '911', '927', '97', '992', '9to5', 'aan', 'abandon', 'abbott', 'abet', 'abid', 'abil', 'abl', 'abort', 'abortionright', 'abound', 'aboutfac', 'abraham', 'abram', 'abroad', 'abscam', 'abscond', 'absenc', 'absent', 'absente', 'absolut', 'abund', 'abundantli', 'abus', 'academ', 'academi', 'acceler', 'accept', 'access', 'accompani', 'accomplish', 'accord', 'account', 'accumul', 'accur', 'accuraci', 'accus', 'accustom', 'acerb', 'achiev', 'acidtongu', 'acknowledg', 'aclu', 'acolyt', 'acquaint', 'acquiesc', 'acquir', 'acquit', 'acquitt', 'acrimoni', 'across', 'act', 'action', 'activ', 'activist', 'actor', 'actress', 'actual', 'acumen', 'acut', 'ad', 'add', 'addict', 'addit', 'addo', 'addon', 'address', 'adequ', 'adher', 'adjac', 'adjoin', 'adjust', 'adlai', 'admin', 'administ', 'administr', 'admir', 'admit', 'adopt', 'ador', 'adroit', 'adult', 'advanc', 'advantag', 'advers', 'advertis', 'advic', 'advis', 'advisor', 'advisori', 'advoc', 'advocaci', 'aerospac', 'affair', 'affect', 'affili', 'affluent', 'afford', 'affront', 'afghanistan', 'afoul', 'afraid', 'africa', 'african', 'aftermath', 'afternoon', 'aftershock', 'afterward', 'age', 'agenc', 'agenda', 'agent', 'aggress', 'ago', 'agog', 'agre', 'agreement', 'agricultur', 'ahead', 'aid', 'aim', 'air', 'aircraft', 'airlin', 'airplan', 'airport', 'aisl', 'aja', 'ak47', 'akin', 'al', 'ala', 'alabama', 'alarm', 'alaska', 'alaskan', 'albani', 'albeit', 'albert', 'alcohol', 'alden', 'alejandro', 'alert', 'alex', 'alexandria', 'alexei', 'alfr', 'algorithm', 'alic', 'alien', 'align', 'alik', 'aliv', 'allclear', 'alleg', 'allegedli', 'allen', 'allergi', 'allevi', 'alli', 'allianc', 'allin', 'alloc', 'allow', 'allsouthern', 'allwhit', 'allyship', 'alma', 'almost', 'almostcenturyold', 'alon', 'along', 'alongsid', 'alphabet', 'alreadi', 'also', 'alter', 'altern', 'although', 'altic', 'altogeth', 'alumnu', 'alway', 'amaz', 'amazon', 'ambassador', 'ambit', 'ambiti', 'ambush', 'amen', 'amend', 'america', 'americacanada', 'american', 'ami', 'amic', 'amid', 'amnesti', 'among', 'amount', 'ampl', 'amtrak', 'analog', 'analysi', 'analyst', 'analyz', 'anatomi', 'anchor', 'anchorag', 'andor', 'andrea', 'andrew', 'anesettiparra', 'anew', 'angel', 'angela', 'anger', 'angl', 'angoon', 'angst', 'anguish', 'anim', 'anita', 'ann', 'anna', 'annex', 'anniversari', 'announc', 'annoy', 'annual', 'anoint', 'anonym', 'anoth', 'answer', 'anthoni', 'antiabort', 'antiamerican', 'antichina', 'anticip', 'antienergi', 'antigovern', 'antipoverti', 'antisemit', 'antitrump', 'antitrust', 'antivaxx', 'antiwar', 'antoni', 'antonin', 'antoniobas', 'antónio', 'anxieti', 'anybodi', 'anymor', 'anyon', 'anyth', 'anyway', 'aoc', 'ap', 'apart', 'apertur', 'aplomb', 'apocalypt', 'apolog', 'app', 'appar', 'apparatu', 'appeal', 'appear', 'appetit', 'appl', 'applaud', 'appli', 'applic', 'appoint', 'appointe', 'apprais', 'appreci', 'approach', 'appropri', 'approv', 'approxim', 'april', 'ar15', 'arab', 'arabia', 'arbitrari', 'arc', 'arcan', 'arch', 'architect', 'arctic', 'area', 'arena', 'arent', 'argo', 'argu', 'arguabl', 'argument', 'aris', 'ariz', 'arizona', 'arizonan', 'arkansa', 'arlington', 'arm', 'armi', 'armtwist', 'arnold', 'aros', 'around', 'arrang', 'array', 'arrest', 'arriv', 'arsen', 'art', 'articl', 'artifici', 'asa', 'ashley', 'asia', 'asian', 'asid', 'ask', 'aspect', 'aspir', 'assail', 'assassin', 'assault', 'assembl', 'assemblyman', 'assemblymemb', 'assert', 'assess', 'asset', 'assign', 'assimil', 'assist', 'associ', 'assum', 'assur', 'astrazeneca', 'asylumseek', 'atlant', 'atlanta', 'atom', 'aton', 'atroc', 'att', 'attach', 'attack', 'attempt', 'attend', 'attent', 'attitud', 'attorney', 'attract', 'attribut', 'atwil', 'audienc', 'audio', 'august', 'aunti', 'austin', 'author', 'authoritarian', 'auto', 'autobiograph', 'autobiographi', 'automak', 'autonomi', 'avail', 'avarici', 'aveng', 'avenu', 'averag', 'avert', 'avoid', 'await', 'awar', 'award', 'away', 'awkward', 'axe', 'axio', 'azar', 'aztec', 'azur', 'b1315', 'b1351', 'back', 'backandforth', 'backdoor', 'backer', 'backfir', 'background', 'backlash', 'backup', 'backward', 'bad', 'bader', 'badli', 'baggag', 'baghdad', 'bail', 'bake', 'balad', 'balanc', 'balconi', 'ball', 'ballist', 'ballot', 'baltic', 'baltimor', 'ban', 'band', 'bank', 'bankruptci', 'baptist', 'baptiz', 'bar', 'barack', 'barasso', 'barb', 'barbara', 'bare', 'barest', 'barr', 'barrasso', 'barrett', 'barri', 'barrier', 'barter', 'bartlett', 'base', 'basebal', 'bash', 'basi', 'basic', 'bass', 'bastion', 'batch', 'bath', 'batter', 'batteri', 'battl', 'battlefield', 'battleground', 'bay', 'bbc', 'be', 'beach', 'beak', 'beam', 'bean', 'bear', 'beard', 'beat', 'beaten', 'beau', 'beaver', 'becam', 'becerra', 'becom', 'bedevil', 'beforehand', 'began', 'begin', 'begrudg', 'begun', 'behalf', 'behavior', 'behind', 'behindthescen', 'beleagu', 'belief', 'believ', 'bell', 'belov', 'beltway', 'ben', 'bench', 'benefactor', 'benefit', 'benjamin', 'benson', 'benton', 'berat', 'bernal', 'berni', 'berri', 'beryl', 'besid', 'besieg', 'best', 'bestow', 'bet', 'beth', 'beto', 'betray', 'better', 'beyond', 'bia', 'bibi', 'bicker', 'bid', 'biden', 'big', 'bigger', 'biggest', 'bigot', 'bikini', 'bilater', 'bilingu', 'bill', 'billboard', 'billi', 'billion', 'billionair', 'bin', 'biograph', 'biographi', 'biolog', 'bipartisan', 'bipartisanship', 'birthday', 'bishop', 'bisland', 'bit', 'bite', 'bitter', 'black', 'blackfeet', 'blacklist', 'blackmail', 'blame', 'blank', 'blast', 'blatant', 'bleak', 'bless', 'blew', 'blind', 'blinken', 'blm', 'bloat', 'bloc', 'block', 'blodgett', 'blomstedt', 'blood', 'bloodi', 'bloomberg', 'blow', 'blowback', 'bludgeon', 'blue', 'blueprint', 'blumenth', 'blunt', 'blur', 'board', 'boast', 'bob', 'bocanegra', 'bodi', 'bodyshatt', 'boehner', 'bogu', 'boil', 'bold', 'bolder', 'bolster', 'bomb', 'bombast', 'bomber', 'bona', 'bond', 'book', 'booker', 'booksel', 'bookstor', 'boom', 'boost', 'booster', 'border', 'bori', 'born', 'bornagain', 'borough', 'borrow', 'boss', 'bottl', 'bottom', 'bought', 'boundari', 'bourdeaux', 'bowser', 'box', 'boy', 'boyd', 'boylan', 'brace', 'brad', 'bradi', 'bragg', 'brain', 'branch', 'brandon', 'brass', 'braun', 'breach', 'breadth', 'break', 'breakdown', 'breakthrough', 'breath', 'breathtak', 'brennan', 'brenson', 'brett', 'breviti', 'brew', 'brewer', 'brian', 'briberi', 'brick', 'bridg', 'bridget', 'brief', 'briefcas', 'bright', 'bring', 'brink', 'briskli', 'bristl', 'britain', 'british', 'broad', 'broadband', 'broadcast', 'broaden', 'broader', 'broadest', 'broadli', 'broadway', 'broke', 'broken', 'broker', 'brook', 'brooklyn', 'brother', 'brotherhood', 'brought', 'brown', 'brunt', 'brush', 'brutal', 'bubbl', 'buchanan', 'buck', 'budget', 'budgetari', 'buffalo', 'build', 'builder', 'built', 'bulger', 'bulletproof', 'bulli', 'bullish', 'bullshit', 'bump', 'bundler', 'buoy', 'burden', 'burdensom', 'bureau', 'bureaucrat', 'burgeon', 'burgess', 'burglari', 'burn', 'burnough', 'burrough', 'burst', 'buse', 'bush', 'busi', 'businessman', 'bust', 'butler', 'butt', 'button', 'buy', 'buyback', 'buyer', 'byrd', 'byrn', 'byron', 'cabinet', 'cabinetlevel', 'cabl', 'calcul', 'calculu', 'calif', 'california', 'call', 'came', 'camera', 'camp', 'campaign', 'campfir', 'campu', 'camu', 'canada', 'canadau', 'canadian', 'cancel', 'cancer', 'cancun', 'cancún', 'candid', 'candidaci', 'candidli', 'candl', 'candlelight', 'canni', 'cannon', 'cannot', 'cano', 'cant', 'cantwel', 'cap', 'capabl', 'capac', 'capit', 'capita', 'capito', 'capitol', 'capitolriotrel', 'capitul', 'caprici', 'captur', 'car', 'carbon', 'card', 'care', 'career', 'caregiv', 'carlina', 'carlo', 'carlson', 'carnag', 'carney', 'carolina', 'carolyn', 'carri', 'carrier', 'carter', 'cartoonish', 'case', 'cash', 'casino', 'cassidi', 'cast', 'casualti', 'cataclysm', 'catastroph', 'catch', 'catchal', 'catchphras', 'categori', 'cathedr', 'cather', 'cathi', 'cathol', 'catsi', 'caucu', 'caucus', 'caught', 'caus', 'caution', 'cautiou', 'cautious', 'caygl', 'cb', 'cba', 'cbc', 'cbw', 'ccp', 'cdc', 'cedric', 'celebr', 'cell', 'cemeteri', 'censu', 'censur', 'center', 'centerleft', 'centerpiec', 'central', 'centrifug', 'centrist', 'centuri', 'ceo', 'ceremoni', 'certain', 'certainli', 'certif', 'certifi', 'cetera', 'chain', 'chair', 'chairman', 'chairwoman', 'challeng', 'chamber', 'champion', 'chanc', 'chancellor', 'chang', 'changer', 'channel', 'chant', 'chao', 'chapel', 'chaplin', 'chapter', 'charact', 'character', 'charg', 'charismat', 'chariti', 'charleston', 'charli', 'charm', 'charter', 'chat', 'cheat', 'check', 'cheer', 'chekasha', 'chemic', 'chemistri', 'cheney', 'chest', 'cheyenn', 'chicago', 'chief', 'child', 'childcar', 'childhood', 'childless', 'childlik', 'children', 'chili', 'chill', 'chillier', 'chime', 'china', 'chinau', 'chines', 'chinni', 'chip', 'choic', 'choos', 'chose', 'chosen', 'chrestman', 'chri', 'christ', 'christian', 'christin', 'christma', 'christoph', 'chrystia', 'chu', 'chuck', 'chunk', 'church', 'cia', 'cigar', 'cigarett', 'circl', 'circuit', 'circul', 'circumst', 'cite', 'citi', 'citizen', 'citizenship', 'civic', 'civil', 'civilian', 'claim', 'clamp', 'clan', 'clarifi', 'clariti', 'clark', 'class', 'classact', 'classic', 'classif', 'classifi', 'clean', 'cleaner', 'clear', 'clearer', 'clearey', 'clearli', 'clerk', 'click', 'client', 'climat', 'climatewarm', 'climb', 'clinic', 'clinton', 'clintongor', 'clobber', 'clock', 'close', 'closer', 'closest', 'closet', 'closur', 'clot', 'cloth', 'cloud', 'club', 'clyburn', 'cnn', 'co', 'coach', 'coal', 'coalfriendli', 'coalit', 'coast', 'coat', 'cobra', 'cochair', 'cocktail', 'code', 'codi', 'codifi', 'coffe', 'coffer', 'cofound', 'cohanim', 'cohen', 'cohost', 'coincid', 'colbert', 'cold', 'cole', 'colin', 'collabor', 'collaps', 'colleagu', 'collect', 'colleg', 'collegeeduc', 'collin', 'collis', 'collus', 'colonel', 'coloni', 'colonnad', 'color', 'colorado', 'columbia', 'column', 'columnist', 'combat', 'combin', 'comcast', 'come', 'comeback', 'comedian', 'comer', 'comfort', 'command', 'commandandcontrol', 'commemor', 'comment', 'commentari', 'commerc', 'commerci', 'commiss', 'commission', 'commit', 'committe', 'committee', 'commod', 'common', 'commun', 'communiqué', 'communist', 'communitybas', 'compani', 'compar', 'comparison', 'compens', 'compet', 'competit', 'competitor', 'compil', 'complain', 'complaint', 'complet', 'complex', 'complianc', 'complic', 'complicit', 'compos', 'comprehens', 'compris', 'compromis', 'comput', 'conceal', 'conced', 'concentr', 'concept', 'concern', 'concert', 'concess', 'concili', 'conclud', 'conclus', 'concret', 'condemn', 'condit', 'condition', 'conduct', 'coney', 'confab', 'confederaci', 'confer', 'confid', 'confirm', 'conflict', 'confront', 'confus', 'congreg', 'congress', 'congression', 'congressman', 'congresswoman', 'conjur', 'conn', 'connect', 'connecticut', 'conscious', 'consecut', 'consent', 'consequ', 'consequenti', 'conserv', 'consid', 'consider', 'consist', 'conspiraci', 'conspiratori', 'constantli', 'constitu', 'constitut', 'constrain', 'constraint', 'construct', 'consult', 'consum', 'contact', 'contagi', 'contagion', 'contain', 'conte', 'contempl', 'contend', 'content', 'contenti', 'contest', 'context', 'conting', 'continu', 'contour', 'contract', 'contractor', 'contractu', 'contradict', 'contradictori', 'contrari', 'contrast', 'contribut', 'contributor', 'control', 'controversi', 'conven', 'conveni', 'convent', 'convers', 'convey', 'convict', 'convinc', 'conway', 'cook', 'cool', 'cooper', 'coordin', 'cop', 'cope', 'copi', 'core', 'cori', 'cornyn', 'coronaviru', 'coronavirusfuel', 'coronavirusposit', 'corp', 'corpor', 'corral', 'correct', 'correctli', 'correspond', 'corrupt', 'cosponsor', 'cost', 'costli', 'cotton', 'could', 'council', 'counsel', 'counselor', 'count', 'counter', 'counterintellig', 'counteroff', 'counterpart', 'counterterror', 'counti', 'countless', 'countri', 'coupl', 'courag', 'cours', 'coursecorrect', 'court', 'courtroomlik', 'covax', 'cover', 'coverag', 'coverup', 'covid', 'covid19', 'covid19them', 'cox', 'cpac', 'cq', 'crackdown', 'crackup', 'craft', 'cramton', 'crapo', 'crash', 'crazi', 'creat', 'creation', 'creativ', 'credenti', 'credibl', 'credit', 'creepi', 'cri', 'crime', 'crimin', 'crippl', 'crise', 'crisi', 'criteria', 'critic', 'critiqu', 'crosbi', 'cross', 'crossaisl', 'crosshair', 'crowd', 'crowdstrik', 'crowera', 'crown', 'crucial', 'crude', 'cruel', 'cruis', 'crumbl', 'crush', 'cruz', 'cspan', 'cuba', 'cudgel', 'cue', 'cull', 'culmin', 'culprit', 'cultur', 'cum', 'cuomo', 'curb', 'curiou', 'currenc', 'current', 'curtail', 'curtain', 'custom', 'cut', 'cutoff', 'cuttingroom', 'cyber', 'cybersecur', 'cycl', 'cynthia', 'cyru', 'dad', 'daili', 'dain', 'dakota', 'daleep', 'dallasbas', 'damag', 'dan', 'dana', 'danger', 'dangl', 'daniel', 'dant', 'dariz', 'dark', 'data', 'databas', 'date', 'daughter', 'daunt', 'dave', 'david', 'davidson', 'day', 'daylong', 'daytoday', 'dayton', 'dc', 'dcalif', 'dconn', 'dead', 'deadli', 'deadliest', 'deadlin', 'deal', 'dealer', 'dealt', 'dean', 'dearth', 'death', 'deathb', 'deb', 'debat', 'debt', 'debunk', 'debut', 'dec', 'decad', 'decemb', 'decenc', 'decid', 'decis', 'decisionmak', 'declar', 'declin', 'decoupl', 'decreas', 'dedic', 'deem', 'deep', 'deepen', 'deepli', 'deepr', 'defam', 'defamatori', 'default', 'defeat', 'defect', 'defend', 'defens', 'defer', 'defi', 'defici', 'deficit', 'defin', 'definit', 'deflect', 'defund', 'degrad', 'degre', 'deisheetaan', 'delawar', 'delay', 'deleg', 'delet', 'deliv', 'deliveri', 'dem', 'demand', 'demean', 'demeanor', 'democraci', 'democrat', 'demograph', 'demon', 'demonstr', 'deni', 'denomin', 'denounc', 'dent', 'depart', 'departur', 'depend', 'deplet', 'deplor', 'deploy', 'deport', 'depriv', 'deputi', 'derelict', 'derosa', 'derrick', 'desanti', 'descent', 'describ', 'desecr', 'deserv', 'deservedli', 'design', 'desir', 'desk', 'desper', 'despit', 'destabil', 'destruct', 'detail', 'detain', 'detect', 'detent', 'determin', 'detriment', 'devalu', 'devast', 'develop', 'devin', 'devis', 'devolv', 'devot', 'devout', 'dga', 'dh', 'dhawaii', 'dhswide', 'diagnos', 'dial', 'dialogu', 'dick', 'dictat', 'didnt', 'die', 'differ', 'difficult', 'difficulti', 'digest', 'digit', 'dilemma', 'dill', 'dim', 'diminish', 'dine', 'dinner', 'diplomaci', 'diplomat', 'dire', 'direct', 'directli', 'director', 'dirti', 'disabl', 'disaffect', 'disagr', 'disagre', 'disappear', 'disappoint', 'disast', 'disastr', 'disburs', 'discipl', 'disciplin', 'disclos', 'disclosur', 'disconcert', 'discourag', 'discov', 'discredit', 'discrep', 'discretionari', 'discrimin', 'discriminatori', 'discuss', 'diseas', 'disenfranchis', 'disgrac', 'dish', 'disinfect', 'disinform', 'disloc', 'dismantl', 'dismiss', 'disord', 'dispar', 'disparag', 'display', 'displeasur', 'dispos', 'disproportion', 'disput', 'disqualifi', 'disrespect', 'disrupt', 'dissect', 'dissent', 'dissid', 'dissolv', 'dissuad', 'distanc', 'distinct', 'distinguish', 'distract', 'distribut', 'distributor', 'district', 'distrust', 'disturb', 'ditch', 'divers', 'diversifi', 'divid', 'dividend', 'divis', 'divorc', 'divulg', 'dixi', 'dixiecrat', 'dkan', 'dki', 'dmass', 'dmich', 'dminn', 'dmo', 'dmont', 'dna', 'dnc', 'dnev', 'dnh', 'dni', 'dnj', 'docket', 'doctor', 'doctrin', 'document', 'dodg', 'doesnt', 'dog', 'doj', 'dole', 'dollar', 'dome', 'domest', 'domin', 'dominion', 'donald', 'donat', 'done', 'donner', 'donor', 'dont', 'doom', 'door', 'dore', 'dorn', 'dose', 'dossier', 'dot', 'doubl', 'doubt', 'doug', 'dougla', 'dour', 'downballot', 'downgrad', 'downplay', 'downsid', 'downsiz', 'downturn', 'doyl', 'dozen', 'dpa', 'dqueen', 'dr', 'draft', 'drag', 'drain', 'drama', 'dramat', 'drastic', 'draw', 'drawdown', 'drawn', 'dream', 'drew', 'dri', 'drill', 'drink', 'drive', 'driven', 'driver', 'drop', 'drove', 'drown', 'drub', 'drug', 'drugmak', 'dsc', 'dtype', 'dual', 'dualus', 'dubiou', 'duck', 'due', 'duford', 'dug', 'dujarr', 'dumb', 'dumber', 'dump', 'dunn', 'duo', 'dupe', 'durbin', 'durham', 'dutch', 'duti', 'dva', 'dwash', 'dwva', 'dynam', 'dysfunct', 'eager', 'eagl', 'ear', 'earli', 'earlier', 'earliest', 'earmark', 'earn', 'earnest', 'easi', 'easier', 'easili', 'east', 'eastern', 'eat', 'eb', 'ec', 'eccentr', 'echo', 'econom', 'economi', 'ecstat', 'ecumen', 'eddi', 'edg', 'edit', 'editor', 'editorialist', 'educ', 'ee', 'effect', 'efficaci', 'effort', 'ego', 'ehud', 'eight', 'eighth', 'either', 'el', 'elabor', 'elder', 'eldercar', 'elect', 'electionli', 'elector', 'electr', 'electron', 'element', 'elementari', 'elev', 'elig', 'elimin', 'eliot', 'elis', 'elit', 'elizabeth', 'ellen', 'elli', 'eloqu', 'els', 'elsewher', 'elud', 'elus', 'email', 'embassi', 'embattl', 'emblazon', 'emblemat', 'embodi', 'embolden', 'embrac', 'emerg', 'emerson', 'emhoff', 'emigr', 'emiss', 'emori', 'emot', 'emphas', 'emphasi', 'employ', 'employe', 'employerprovid', 'en', 'enabl', 'enact', 'enamor', 'encount', 'encourag', 'end', 'endang', 'endeavor', 'endors', 'endpoint', 'endur', 'enemi', 'energ', 'energi', 'enforc', 'engag', 'engin', 'england', 'enhanc', 'enjoy', 'enmiti', 'enorm', 'enough', 'enrich', 'enrol', 'ensnar', 'ensur', 'entail', 'enter', 'enterpris', 'entertain', 'enthus', 'enthusiasm', 'entir', 'entireti', 'entiti', 'entourag', 'entrench', 'entri', 'entrylevel', 'entwin', 'environ', 'environment', 'environmentalist', 'envis', 'envoy', 'eo', 'epa', 'epidem', 'episod', 'equal', 'equip', 'equit', 'equiti', 'equival', 'equivoc', 'era', 'eras', 'erbil', 'ercot', 'erect', 'eric', 'ernest', 'error', 'erupt', 'escal', 'escap', 'eshoo', 'esoter', 'especi', 'espionag', 'espous', 'essay', 'essayist', 'essenc', 'essenti', 'establish', 'estat', 'esteem', 'estim', 'et', 'etc', 'ethic', 'ethnic', 'eulog', 'eurasian', 'europ', 'european', 'eurozon', 'evad', 'evalu', 'evan', 'evangel', 'eve', 'even', 'evenli', 'event', 'eventu', 'ever', 'everett', 'everi', 'everson', 'eversuspici', 'everybodi', 'everyday', 'everyon', 'everyth', 'everytown', 'everywher', 'evi', 'evid', 'evidencefre', 'evil', 'exact', 'exactli', 'exagger', 'exaid', 'examin', 'exampl', 'exceed', 'exceedingli', 'except', 'excess', 'exchang', 'excis', 'excit', 'exclud', 'exclus', 'excus', 'execut', 'exempt', 'exert', 'exfield', 'exfiltr', 'exhaust', 'exhibit', 'exil', 'exist', 'existenti', 'exomb', 'exoner', 'expand', 'expans', 'expect', 'expedit', 'expend', 'expens', 'experi', 'experienc', 'expert', 'expertis', 'expir', 'explain', 'explan', 'explicitli', 'exploit', 'explor', 'explos', 'export', 'expos', 'exposur', 'expresid', 'express', 'expung', 'exstaff', 'extend', 'extens', 'extent', 'extermin', 'extern', 'extinguish', 'extra', 'extradit', 'extraordinari', 'extrem', 'extremist', 'exurban', 'eye', 'eyebrow', 'eyesight', 'eyesor', 'ezra', 'f', 'f16', 'f35', 'fabrizio', 'face', 'facebook', 'facet', 'facetofac', 'facil', 'facilit', 'fact', 'faction', 'factor', 'factori', 'fade', 'fail', 'failur', 'fair', 'fairli', 'fairmind', 'faith', 'fake', 'fall', 'fallen', 'fallout', 'fals', 'falsifi', 'famili', 'familiar', 'famou', 'fan', 'fanfar', 'fang', 'fantasi', 'fantast', 'faq', 'far', 'fare', 'farewel', 'farfetch', 'farm', 'farmer', 'farmland', 'farmwork', 'farright', 'farther', 'fashion', 'fast', 'faster', 'fastest', 'fasttrack', 'fatal', 'fate', 'father', 'fathom', 'fatigu', 'fauci', 'favor', 'favorit', 'fawn', 'fbi', 'fda', 'fear', 'feat', 'featur', 'feb', 'februari', 'fec', 'fed', 'feder', 'feed', 'feedback', 'feel', 'feelgood', 'feet', 'feinblatt', 'fell', 'fellow', 'feloni', 'felt', 'fema', 'femal', 'fenaba', 'fenc', 'ferlinghetti', 'fester', 'feud', 'fever', 'fewer', 'fiction', 'fide', 'field', 'fiercest', 'fieri', 'fifth', 'fight', 'fighter', 'fightfortrump', 'figur', 'file', 'filibust', 'fill', 'film', 'final', 'financ', 'financi', 'find', 'fine', 'finetun', 'finger', 'finish', 'fire', 'firearm', 'firebrand', 'fireey', 'firefight', 'firm', 'firmli', 'first', 'firsthand', 'firstnam', 'fisa', 'fiscal', 'fischer', 'fish', 'fist', 'fit', 'fitzgerald', 'fitzpatrick', 'five', 'fivevot', 'fix', 'fixat', 'fixtur', 'fla', 'flag', 'flame', 'flash', 'flashpoint', 'flat', 'flaw', 'flee', 'fleet', 'fleme', 'flesh', 'flew', 'flexibl', 'flicker', 'flight', 'flip', 'float', 'flood', 'floor', 'floorboard', 'florida', 'flourish', 'flournoy', 'flow', 'flown', 'floyd', 'flu', 'flulik', 'flurri', 'focal', 'focu', 'focus', 'fodder', 'foe', 'foist', 'fold', 'folk', 'folkrock', 'follow', 'food', 'fool', 'foot', 'footbal', 'footdrag', 'foothold', 'footprint', 'foray', 'forc', 'ford', 'fordham', 'forecast', 'forefront', 'foregon', 'foreign', 'foreignpolici', 'foremost', 'forens', 'forget', 'forgiv', 'forgot', 'forgotten', 'forlornli', 'form', 'formal', 'format', 'former', 'formerli', 'formula', 'forsaken', 'fort', 'fortun', 'fortysix', 'forum', 'forward', 'fossil', 'foster', 'fought', 'foul', 'found', 'foundat', 'founder', 'four', 'fourmonth', 'fox', 'frack', 'fractur', 'fragil', 'frame', 'francisco', 'franco', 'frank', 'frankli', 'franklin', 'fratern', 'fraud', 'fraudul', 'fraught', 'fray', 'fred', 'free', 'freedom', 'freeland', 'freeli', 'freemen', 'freespeech', 'freez', 'french', 'frequenc', 'frequent', 'fresh', 'freshli', 'freshman', 'freshmen', 'fri', 'friday', 'friedman', 'friend', 'friendli', 'friendship', 'frigid', 'fring', 'frisk', 'frivol', 'front', 'frontrunn', 'frown', 'froze', 'frozen', 'fruition', 'frustrat', 'fsb', 'fuch', 'fuel', 'fuelrich', 'full', 'fulli', 'fulton', 'fun', 'function', 'fund', 'fundament', 'fundrais', 'funer', 'furiou', 'furlough', 'furnish', 'furor', 'futur', 'fwdu', 'g7', 'ga', 'gaetz', 'gag', 'gain', 'galleri', 'gallup', 'galvan', 'gambl', 'game', 'gang', 'gannett', 'gap', 'garcia', 'gari', 'garland', 'garlandsom', 'garner', 'garret', 'gasp', 'gateway', 'gather', 'gave', 'gavin', 'gay', 'gear', 'gen', 'gender', 'gener', 'genet', 'genocid', 'gentleman', 'geoeconom', 'georg', 'georgetown', 'georgia', 'gerald', 'geraldin', 'german', 'germani', 'gestur', 'get', 'getaway', 'ghost', 'giant', 'gift', 'gingerli', 'gingrich', 'ginsberg', 'ginsburg', 'gird', 'girl', 'girlfriend', 'giuliani', 'give', 'given', 'giver', 'glare', 'global', 'globalist', 'globe', 'gloss', 'glossi', 'go', 'goal', 'goalpost', 'god', 'goe', 'gofundm', 'golan', 'goldwat', 'goldwein', 'gone', 'good', 'googl', 'gop', 'gopcontrol', 'gore', 'gorelick', 'goround', 'gorsuch', 'gossip', 'got', 'gotten', 'gottheim', 'gov', 'gover', 'govern', 'government', 'governmenttogovern', 'governor', 'governorship', 'grab', 'grace', 'grade', 'gradual', 'graduat', 'graham', 'grand', 'granddaught', 'granit', 'grant', 'graphic', 'grass', 'grassley', 'grassroot', 'grave', 'gravit', 'graviti', 'gray', 'great', 'greater', 'greatest', 'greatli', 'green', 'greenhous', 'greenlight', 'greet', 'greg', 'grenel', 'grew', 'grid', 'grief', 'griev', 'grievanc', 'grievou', 'griff', 'grijalva', 'grim', 'grip', 'gross', 'ground', 'groundbreak', 'groundwork', 'group', 'grow', 'grown', 'growth', 'grudgingli', 'gruen', 'grumbl', 'guadalajara', 'guarante', 'guard', 'guardsmen', 'gubernatori', 'guess', 'guid', 'guidanc', 'guidelin', 'guilfoyl', 'guilti', 'gulf', 'gun', 'gupta', 'guterr', 'guy', 'gwin', 'haaland', 'habit', 'hack', 'hacker', 'hagerti', 'hair', 'hakeem', 'halaand', 'half', 'halfdozen', 'halffinish', 'halfmillion', 'halfstaff', 'hall', 'halleran', 'hallmark', 'halt', 'hamilton', 'hammer', 'hammil', 'hamstr', 'hamstrung', 'hand', 'handbook', 'handcuff', 'handinglov', 'handl', 'handler', 'handshak', 'handson', 'hang', 'haphazard', 'happen', 'happi', 'hara', 'harass', 'harbor', 'hard', 'harder', 'hardest', 'hardhead', 'hardli', 'hardlin', 'hardscrabbl', 'hardship', 'hardtobeat', 'hardwork', 'hari', 'harm', 'harri', 'harrison', 'harsh', 'harsher', 'harshli', 'harvard', 'hasnt', 'hassan', 'hat', 'hatchet', 'hate', 'hatr', 'hauman', 'haunt', 'havent', 'havoc', 'hawaii', 'hawkish', 'hawley', 'hayn', 'hb', 'he', 'head', 'headach', 'headlin', 'headquart', 'headwind', 'heal', 'health', 'healthi', 'hear', 'heard', 'heart', 'heartbreak', 'heartbroken', 'heartland', 'heat', 'heath', 'heather', 'heavi', 'heavili', 'hed', 'hedg', 'heel', 'hefti', 'heidi', 'height', 'heinou', 'held', 'hell', 'helm', 'helmet', 'help', 'hem', 'hemingway', 'hemorrhag', 'henderson', 'henson', 'hepper', 'herd', 'here', 'heret', 'herlin', 'hero', 'heroic', 'heroism', 'hesit', 'hewitt', 'heyday', 'hh', 'hick', 'hid', 'hide', 'high', 'highcapac', 'higher', 'highestrank', 'highlevel', 'highli', 'highlight', 'highne', 'highprofil', 'highrank', 'highstak', 'hike', 'hill', 'hillari', 'hindsight', 'hing', 'hinson', 'hint', 'hire', 'hirono', 'hispan', 'histor', 'histori', 'historian', 'hit', 'hl', 'hoax', 'hodg', 'hoeven', 'hoge', 'hogu', 'hold', 'hole', 'holiday', 'hollen', 'hollywood', 'holocaust', 'homan', 'home', 'homegrown', 'homeland', 'homeless', 'homemad', 'homicid', 'honest', 'honestli', 'honor', 'honorari', 'honoré', 'hope', 'hopeengend', 'hopkin', 'hor', 'horribl', 'horror', 'hors', 'hospit', 'host', 'hostag', 'hostil', 'hot', 'hotb', 'hotbutton', 'hotel', 'hour', 'hourli', 'hous', 'household', 'houston', 'hover', 'howel', 'howev', 'howl', 'hoyer', 'hsgac', 'huanan', 'huawei', 'huddl', 'hudson', 'hug', 'hugh', 'hulu', 'human', 'humanitarian', 'humbl', 'humor', 'hundr', 'hungarian', 'hunt', 'hunter', 'huntington', 'hurdl', 'hurt', 'husband', 'hushmoney', 'hustl', 'hutchinson', 'hw', 'hyatt', 'hydrocarbon', 'hyperpartisanship', 'hypocrisi', 'hypothermia', 'hypothet', 'ice', 'ici', 'icon', 'id', 'idaho', 'idea', 'ideal', 'ident', 'identifi', 'ideolog', 'ideologu', 'idli', 'ignor', 'ii', 'iii', 'ill', 'illeg', 'illicit', 'illinoi', 'illustr', 'ilys', 'im', 'imag', 'imageri', 'imagin', 'immedi', 'immigr', 'immor', 'immort', 'immun', 'immunogen', 'impact', 'impeach', 'imper', 'imperfect', 'imperil', 'implement', 'implic', 'implod', 'implos', 'import', 'importantli', 'impos', 'imposit', 'imposs', 'imprint', 'improprieti', 'improv', 'inadmiss', 'inappropri', 'inaugur', 'inaugurationev', 'inc', 'incarcer', 'incent', 'incessantli', 'inch', 'incid', 'incident', 'incit', 'includ', 'inclus', 'incom', 'inconsist', 'incorpor', 'incorrect', 'increas', 'increasingli', 'incred', 'incumb', 'incur', 'inde', 'indecis', 'indefinit', 'independ', 'independentmind', 'index', 'indian', 'indiana', 'indic', 'indict', 'indigen', 'indign', 'indirectli', 'individu', 'indoctrin', 'induc', 'industri', 'inequ', 'inescap', 'inexcus', 'infam', 'infant', 'infect', 'infecti', 'infight', 'infiltr', 'inflammatori', 'inflat', 'inflect', 'influenc', 'influenti', 'influenza', 'influx', 'inform', 'infrastructur', 'ingredi', 'inherit', 'inhof', 'inhous', 'initi', 'inject', 'injunct', 'injuri', 'inlaw', 'innov', 'innuendo', 'inocul', 'inperson', 'input', 'inquiri', 'insecur', 'insid', 'insideout', 'insidethebeltway', 'insidi', 'insight', 'insist', 'inskeep', 'inspector', 'inspir', 'instal', 'instanc', 'instant', 'instead', 'instinct', 'institut', 'institution', 'instruct', 'instructor', 'insuffici', 'insult', 'insur', 'insurrect', 'insurrectionist', 'intact', 'integr', 'intel', 'intellectu', 'intellig', 'intend', 'intens', 'intensifi', 'intent', 'interact', 'interest', 'interf', 'interfer', 'interim', 'interior', 'intern', 'internecin', 'internet', 'interpret', 'interview', 'intoler', 'intraparti', 'introduc', 'introvert', 'intrud', 'invad', 'invest', 'investig', 'invis', 'invit', 'invok', 'involv', 'iowa', 'ir', 'iran', 'iranian', 'iraq', 'iraqi', 'ireland', 'irish', 'irk', 'iron', 'ironi', 'irrepar', 'irrit', 'irv', 'isakson', 'isi', 'islam', 'island', 'isnt', 'isol', 'isra', 'israel', 'israelipalestinian', 'issu', 'item', 'ivanka', 'ive', 'ivi', 'ivot', 'ivt', 'j', 'jab', 'jack', 'jacki', 'jackson', 'jail', 'jake', 'jalil', 'jamal', 'jame', 'jamestown', 'jami', 'jan', 'janet', 'janic', 'janitor', 'janssen', 'janu', 'januari', 'japan', 'jare', 'jason', 'jaunt', 'javad', 'jcpoa', 'jeff', 'jeffress', 'jeffri', 'jen', 'jenkin', 'jerri', 'jersey', 'jerusalem', 'jerushah', 'jesu', 'jet', 'jettison', 'jill', 'jim', 'jimmi', 'jinp', 'jj', 'jo', 'joanna', 'job', 'jobkil', 'jocelyn', 'joe', 'john', 'johnni', 'johnson', 'join', 'joint', 'joke', 'jon', 'jone', 'jordan', 'joseph', 'josh', 'journal', 'journalist', 'joy', 'jp', 'jr', 'judg', 'judgement', 'judgeship', 'judgment', 'judi', 'judici', 'judiciari', 'juli', 'julia', 'jump', 'jumpingoff', 'june', 'juneau', 'juri', 'jurisdict', 'jurist', 'justic', 'justif', 'justin', 'k12', 'k8', 'kaczynski', 'kael', 'kahl', 'kakishkay', 'kakéské', 'kalamazoo', 'kamala', 'kan', 'kang', 'kansa', 'karen', 'katherin', 'kathleen', 'kathryn', 'kati', 'katko', 'katyusha', 'kavanaugh', 'kean', 'keen', 'keenli', 'keep', 'kelli', 'kellyann', 'kemp', 'ken', 'kennedi', 'kentucki', 'kept', 'kerouac', 'kerri', 'kessler', 'ketchikan', 'kevin', 'key', 'keyston', 'khashoggi', 'kick', 'kickoff', 'kid', 'kill', 'killer', 'kilmead', 'kim', 'kimberli', 'kind', 'kindergarten', 'king', 'kingdom', 'kinship', 'kirbi', 'kirbysmith', 'kirk', 'kiss', 'kitchen', 'klain', 'klallam', 'klobuchar', 'kneel', 'knew', 'knock', 'knockout', 'know', 'knowingli', 'knowledg', 'known', 'koopman', 'kootenai', 'korea', 'korean', 'kovrig', 'kowtow', 'kremlin', 'kristen', 'kristi', 'kurz', 'kushner', 'kyrsten', 'la', 'lab', 'label', 'labor', 'lack', 'lacklust', 'laden', 'ladi', 'lag', 'laguna', 'laid', 'laidoff', 'laissezfair', 'lake', 'lamar', 'lament', 'land', 'landmark', 'landslid', 'languag', 'lankford', 'lantern', 'laps', 'lara', 'larg', 'largecapac', 'larger', 'largerthanlif', 'largescal', 'largest', 'lashonda', 'last', 'lastditch', 'late', 'latecom', 'latenight', 'later', 'latest', 'latino', 'latinoown', 'latinx', 'latter', 'laud', 'laugh', 'launch', 'launder', 'laureat', 'lavish', 'law', 'lawless', 'lawmak', 'lawmakerrequest', 'lawrenc', 'lawsuit', 'lawyer', 'lay', 'layoff', 'leachman', 'lead', 'leader', 'leadership', 'leagu', 'leak', 'lean', 'leari', 'learn', 'leas', 'least', 'leav', 'lectern', 'led', 'lee', 'leeway', 'left', 'leftlean', 'leftofcent', 'leg', 'legaci', 'legal', 'legendari', 'legion', 'legisl', 'legislatur', 'legitim', 'legitimaci', 'lend', 'length', 'lengthi', 'lenient', 'lerner', 'less', 'lesson', 'lesssever', 'let', 'lethal', 'letter', 'level', 'leverag', 'levin', 'lewinski', 'lgbtq', 'liabil', 'liabl', 'liber', 'liberti', 'librari', 'licens', 'lie', 'lieuten', 'life', 'lifelong', 'lifethreaten', 'lifetim', 'lifetimetenur', 'lift', 'light', 'lighter', 'lightli', 'like', 'likewis', 'limit', 'lin', 'lincoln', 'linda', 'lindel', 'lindsey', 'line', 'linger', 'link', 'linkedin', 'lion', 'lip', 'lipid', 'lipski', 'lisa', 'list', 'listen', 'lit', 'litani', 'liter', 'literari', 'literarian', 'literatur', 'litig', 'litmu', 'littl', 'live', 'livelihood', 'livestream', 'liz', 'lloyd', 'load', 'loan', 'lob', 'lobbi', 'lobbyist', 'local', 'locat', 'lock', 'lockdown', 'lockstep', 'lodg', 'loeffler', 'logan', 'logic', 'logist', 'london', 'lone', 'long', 'longawait', 'longer', 'longestserv', 'longrun', 'longstand', 'longterm', 'longtim', 'look', 'loom', 'loophol', 'loos', 'loosen', 'lop', 'lopsid', 'lord', 'lorenzo', 'lose', 'loser', 'loss', 'lost', 'lot', 'loud', 'louisiana', 'love', 'low', 'lowcost', 'lower', 'lowerturnout', 'lowerwag', 'lowincom', 'lowkey', 'lowwag', 'loyal', 'loyalist', 'loyalti', 'lt', 'luck', 'lucki', 'lummi', 'lump', 'lunaci', 'lunch', 'lung', 'lungcanc', 'lure', 'luther', 'lyndon', 'lyric', 'macdonough', 'mace', 'machin', 'made', 'mae', 'mag', 'magazin', 'maggi', 'magistr', 'magnitski', 'magnitud', 'mail', 'main', 'mainland', 'mainli', 'mainstream', 'maintain', 'maj', 'major', 'majorityminor', 'make', 'maker', 'makeshift', 'makeup', 'male', 'malley', 'malpractic', 'man', 'manag', 'manchin', 'mandat', 'mandatori', 'maneuv', 'manhattan', 'mani', 'manifest', 'manner', 'mansfield', 'manufactur', 'manuscript', 'map', 'maralago', 'marathon', 'marc', 'march', 'marco', 'margin', 'mari', 'maria', 'mariann', 'marin', 'marion', 'marjori', 'mark', 'marker', 'market', 'marketplac', 'markup', 'marri', 'marriag', 'martha', 'martial', 'martin', 'martyr', 'maryland', 'mask', 'mass', 'massiv', 'master', 'match', 'matchup', 'mate', 'mater', 'materi', 'materialist', 'math', 'mathieu', 'matt', 'matter', 'matthew', 'maverick', 'maximum', 'maxwel', 'may', 'mayb', 'mayor', 'mayorka', 'mazar', 'mazi', 'mb', 'mccain', 'mccarthi', 'mcconnel', 'mcdaniel', 'mcdougal', 'mcgraw', 'mcmorri', 'mcmullin', 'mcnerney', 'mcveigh', 'meal', 'mean', 'meaning', 'meant', 'meantim', 'meanwhil', 'measur', 'meatpack', 'mechan', 'medal', 'meddl', 'medgar', 'media', 'mediat', 'medic', 'medicaid', 'medicar', 'medium', 'meek', 'meet', 'melania', 'melissa', 'member', 'membership', 'memo', 'memor', 'memorandum', 'memori', 'men', 'mencken', 'menendez', 'meng', 'mental', 'mention', 'mentor', 'mercantil', 'merci', 'mere', 'meridith', 'merit', 'merkel', 'merrick', 'mess', 'messag', 'messi', 'met', 'meteorologist', 'methodist', 'metric', 'metro', 'metropolitan', 'mexican', 'mexico', 'miamidad', 'mic', 'mich', 'michael', 'michel', 'michigan', 'michèl', 'mick', 'microsoft', 'mid1980', 'mid1990', 'middl', 'midjanuari', 'midlevel', 'midmarch', 'midst', 'midterm', 'midwest', 'might', 'migrant', 'migrat', 'mikal', 'mike', 'mild', 'mile', 'mileston', 'militari', 'militarystyl', 'militia', 'mill', 'miller', 'milley', 'million', 'mind', 'mindset', 'mine', 'minefield', 'miner', 'minim', 'minimum', 'minist', 'ministri', 'minnesota', 'minor', 'minorityfriendli', 'minorityheavi', 'minorityown', 'minow', 'minut', 'miracl', 'miranda', 'mirror', 'miscalcul', 'miscarriag', 'mischaracter', 'misconduct', 'misdemeanor', 'misguid', 'mishandl', 'misinform', 'mislead', 'misleadingli', 'mismanag', 'mispercept', 'miss', 'missil', 'mission', 'mississippi', 'missiv', 'missouri', 'misstep', 'mistak', 'mistrust', 'misus', 'mitch', 'mitig', 'mitt', 'mix', 'mng', 'mo', 'mob', 'mobil', 'moccasin', 'mode', 'model', 'moder', 'modern', 'moderna', 'modest', 'modifi', 'moham', 'mold', 'mom', 'moment', 'momentum', 'monday', 'monetari', 'money', 'monica', 'monitor', 'monopolist', 'montana', 'montanan', 'month', 'monthli', 'monthslong', 'montreal', 'monument', 'moonlightwhen', 'moor', 'moot', 'moral', 'moratorium', 'moreno', 'moreov', 'morepopul', 'morgan', 'morigeau', 'morn', 'morocco', 'mortal', 'moscow', 'mostli', 'moth', 'mother', 'motion', 'motiv', 'mount', 'mountain', 'mourn', 'mouth', 'move', 'movement', 'movi', 'mpp', 'mr', 'msnbc', 'mt', 'much', 'mull', 'multilater', 'multilingu', 'multin', 'multipl', 'multiraci', 'multistep', 'mulvaney', 'municip', 'munit', 'murder', 'murguía', 'muriel', 'murkier', 'murkowski', 'murphi', 'muscl', 'muse', 'museum', 'musician', 'muslim', 'must', 'mustaffa', 'muster', 'mute', 'mutual', 'muzzl', 'mypillow', 'myriad', 'mysteri', 'n95', 'naacp', 'nagasaki', 'nake', 'name', 'namecal', 'nan', 'nanci', 'naral', 'narr', 'narrow', 'narrowli', 'nashvil', 'nason', 'nasti', 'nation', 'nationwid', 'nativ', 'nato', 'natur', 'naval', 'navalni', 'navi', 'navig', 'nbc', 'near', 'nearbi', 'nearli', 'nearterm', 'nebraska', 'necess', 'necessari', 'necessarili', 'neck', 'necklac', 'need', 'neera', 'neg', 'negoti', 'negro', 'negrophob', 'neighbor', 'neil', 'neither', 'nerv', 'nervou', 'neshoba', 'net', 'netanyahu', 'nettl', 'network', 'neutral', 'nevada', 'never', 'nevertheless', 'nevertrump', 'new', 'newfound', 'newli', 'news', 'newslett', 'newsmax', 'newsom', 'newspap', 'newt', 'newtown', 'next', 'nice', 'niceti', 'nichol', 'night', 'nightmar', 'nikema', 'nikki', 'nine', 'nixon', 'nobler', 'nobodi', 'nobrain', 'nod', 'noem', 'nom', 'nomin', 'nomine', 'nonbind', 'nonchal', 'none', 'nonetheless', 'nonpartisan', 'nonprofit', 'nonprosecutor', 'nonstop', 'nontax', 'nontlingit', 'nontrivi', 'nonu', 'nonunion', 'nonwhit', 'nord', 'norm', 'normal', 'normalci', 'norman', 'north', 'northeast', 'northeastern', 'northern', 'notabl', 'note', 'noth', 'notic', 'notion', 'notori', 'notsosubtl', 'nov', 'novavax', 'novel', 'novelist', 'novella', 'novemb', 'novichok', 'nowdemocrat', 'nowher', 'nowin', 'nowoust', 'npr', 'nrsc', 'nsc', 'nuclear', 'nuclearweapon', 'nudg', 'nuke', 'numb', 'number', 'numer', 'nune', 'nurs', 'nut', 'nutrit', 'ny', 'nypd', 'oakland', 'oan', 'oann', 'oath', 'obama', 'obamacar', 'obes', 'obituari', 'object', 'oblig', 'obscen', 'obscur', 'observ', 'obstacl', 'obstruct', 'obtain', 'obviou', 'obvious', 'ocasiocortez', 'occas', 'occasion', 'occupi', 'occur', 'ocm', 'oconnel', 'octob', 'odd', 'oddson', 'oeuvr', 'of', 'offend', 'offens', 'offer', 'offic', 'offici', 'offlin', 'offset', 'often', 'ohio', 'oil', 'oilcentr', 'oilsand', 'ok', 'oklahoma', 'old', 'older', 'oldest', 'oldschool', 'olivia', 'ollstein', 'olmert', 'olymp', 'omb', 'omiss', 'onair', 'oncebetterknown', 'oncemighti', 'onceobscur', 'onceskyhigh', 'one', 'onefifth', 'oneonon', 'onequart', 'oneself', 'onesent', 'oneshot', 'onethird', 'onetim', 'oneway', 'ongo', 'onlin', 'onslaught', 'onto', 'open', 'openinground', 'openli', 'oper', 'opin', 'opinion', 'opioid', 'oppon', 'opportun', 'oppos', 'opposit', 'opt', 'optic', 'optimist', 'option', 'orang', 'orbit', 'orchestr', 'ordeal', 'order', 'ordinari', 'ordinarili', 'oregon', 'organ', 'organis', 'organiz', 'orient', 'origin', 'orlando', 'orourk', 'orphanag', 'ossoff', 'other', 'ottawa', 'ought', 'ouster', 'out', 'outag', 'outbreak', 'outcom', 'outdo', 'outdoor', 'outfit', 'outgo', 'outgrow', 'outing', 'outlaw', 'outlet', 'outlin', 'outlook', 'outofst', 'outpac', 'outrag', 'outreach', 'outright', 'outset', 'outsid', 'outsiz', 'outspoken', 'outyear', 'overaggress', 'overal', 'overarch', 'overcom', 'overhaul', 'overlap', 'overli', 'overlook', 'overnight', 'overpromis', 'overreact', 'overrepres', 'overrid', 'overrul', 'oversaw', 'overse', 'overseen', 'overshadow', 'oversight', 'overstep', 'overt', 'overtak', 'overtli', 'overturn', 'overwhelm', 'overwhelmingli', 'owe', 'owner', 'ownership', 'oxygen', 'pa', 'pac', 'pace', 'pacif', 'pacifist', 'packag', 'padilla', 'page', 'pagitt', 'paid', 'pain', 'paint', 'painter', 'pair', 'palac', 'palat', 'palestinian', 'palin', 'palisad', 'pallet', 'palm', 'palpabl', 'pan', 'pandem', 'panel', 'panelist', 'panetta', 'pannoniu', 'panoram', 'pantri', 'paparazzi', 'paper', 'paperback', 'paperthin', 'paperwork', 'papish', 'paradigm', 'paradox', 'paragraph', 'parallel', 'paralyz', 'paramet', 'pardon', 'pare', 'parent', 'parenthood', 'parentsinlaw', 'pari', 'pariah', 'park', 'parliament', 'parliamentarian', 'part', 'parti', 'partial', 'particip', 'particular', 'particularli', 'partisan', 'partisanship', 'partner', 'partylin', 'partyswitch', 'paso', 'pass', 'passag', 'past', 'pastor', 'pat', 'patch', 'patent', 'path', 'pathbreak', 'pathway', 'patient', 'patina', 'patron', 'pattern', 'paul', 'paulett', 'paulin', 'paus', 'pave', 'pawn', 'paxton', 'pay', 'paycheck', 'payment', 'payrol', 'peac', 'peacehealth', 'peacock', 'peak', 'peer', 'pell', 'pelosi', 'pen', 'penal', 'penalti', 'penc', 'penchant', 'pend', 'penn', 'pennsylvania', 'pension', 'pentagon', 'peopl', 'pepper', 'per', 'perceiv', 'percent', 'percentag', 'percept', 'perch', 'perdu', 'perez', 'perfect', 'perfectli', 'perform', 'perhap', 'peril', 'perimet', 'period', 'peripher', 'perish', 'perman', 'permeat', 'permit', 'perot', 'perplex', 'perri', 'persecut', 'persian', 'persist', 'person', 'personif', 'personnel', 'perspect', 'persuad', 'pervas', 'pester', 'pestil', 'pet', 'peter', 'petit', 'pew', 'pfizer', 'pharmaceut', 'phase', 'philadelphia', 'phillip', 'phone', 'photo', 'photocopi', 'photograph', 'photoop', 'physic', 'physician', 'piatt', 'pick', 'pickl', 'pickup', 'pictur', 'piec', 'pile', 'pilgrimag', 'pillar', 'pillow', 'pima', 'pioneer', 'pipe', 'pipelin', 'piss', 'pitch', 'pitfal', 'pittman', 'pivot', 'place', 'placement', 'placid', 'plagu', 'plainli', 'plan', 'plant', 'plaqu', 'platform', 'plausibl', 'play', 'playbook', 'playboy', 'player', 'playmat', 'playwright', 'plea', 'plead', 'pleas', 'pledg', 'plenti', 'plot', 'ploy', 'plu', 'plywood', 'pm', 'pocket', 'pocketbook', 'podcast', 'podesta', 'poem', 'poet', 'poetri', 'poignanc', 'point', 'pois', 'poison', 'poist', 'poker', 'polar', 'polic', 'polici', 'policymak', 'polio', 'polish', 'polit', 'politic', 'politician', 'politico', 'politicomorn', 'poll', 'pollster', 'pollut', 'pompeo', 'pool', 'poor', 'poorli', 'pop', 'popul', 'popular', 'popularvot', 'populist', 'popup', 'porkbarrel', 'porkladen', 'portal', 'porter', 'portico', 'portion', 'portman', 'portray', 'pose', 'posit', 'possess', 'possibl', 'post', 'postelect', 'postpon', 'postpresid', 'postsecondari', 'posttrump', 'postur', 'pot', 'potent', 'potenti', 'potter', 'pound', 'pour', 'poverti', 'powder', 'powel', 'power', 'powerbrok', 'ppe', 'ppp', 'practic', 'prais', 'pray', 'prayer', 'preach', 'preacher', 'preapprov', 'precaut', 'preced', 'precinct', 'precis', 'preconceiv', 'predat', 'predecessor', 'predica', 'predict', 'predominantli', 'prefer', 'prejudic', 'prejudici', 'preliminari', 'prelud', 'prematur', 'premedit', 'premis', 'prepar', 'prepared', 'preplan', 'prerequisit', 'presag', 'prescient', 'prescrib', 'prescript', 'presenc', 'present', 'preserv', 'presid', 'presidentelect', 'presidenti', 'press', 'pressur', 'presum', 'presumpt', 'pretend', 'pretrial', 'pretti', 'prevail', 'prevent', 'previou', 'previous', 'price', 'pride', 'primari', 'primarili', 'prime', 'primetim', 'princ', 'princip', 'principl', 'prior', 'priorit', 'prioriti', 'prison', 'privat', 'privatesector', 'privi', 'privileg', 'prize', 'probabl', 'probat', 'probe', 'problem', 'problemat', 'procedur', 'proceed', 'process', 'prochoic', 'proclaim', 'procur', 'prod', 'produc', 'product', 'profess', 'profession', 'professor', 'profil', 'profit', 'profossil', 'program', 'progress', 'prohibit', 'proisra', 'project', 'prolifer', 'promin', 'promis', 'promo', 'promot', 'prompt', 'promptli', 'promulg', 'pronetanyahu', 'pronounc', 'proof', 'properli', 'properti', 'propos', 'proposit', 'prosecut', 'prosecutor', 'prospect', 'prosper', 'protect', 'protest', 'protocol', 'protract', 'protrump', 'proud', 'prove', 'proverb', 'provid', 'provinc', 'provis', 'provoc', 'provocateur', 'provok', 'proxi', 'psaki', 'psych', 'psychoact', 'public', 'publicli', 'publish', 'pueblo', 'pull', 'punch', 'punish', 'purchas', 'purg', 'purport', 'purpos', 'pursu', 'push', 'pushback', 'put', 'putin', 'qanon', 'quagmir', 'qualif', 'qualifi', 'qualiti', 'qualm', 'quantiti', 'quarantin', 'quarter', 'quartet', 'quash', 'queen', 'quentin', 'queri', 'question', 'quick', 'quicker', 'quickli', 'quiet', 'quietli', 'quilt', 'quinnipiac', 'quirk', 'quit', 'quo', 'quot', 'rabblerous', 'race', 'rachel', 'racial', 'racism', 'racist', 'racket', 'radar', 'radic', 'radio', 'raffensperg', 'rage', 'rail', 'rais', 'rala', 'ralaska', 'ralli', 'ralph', 'ramif', 'ramp', 'ramsey', 'ran', 'randi', 'rang', 'rank', 'rankandfil', 'rankedchoic', 'rankl', 'rape', 'raphael', 'rapid', 'rapidli', 'rapidlyand', 'rapist', 'rare', 'rark', 'rate', 'rather', 'ration', 'ravag', 'raven', 'raw', 'raymond', 'raúl', 'rcalif', 'reach', 'react', 'reaction', 'read', 'reader', 'readi', 'reaffirm', 'reagan', 'real', 'realiti', 'realiz', 'realli', 'reappoint', 'rearrang', 'rearview', 'reason', 'reassert', 'reassur', 'rebal', 'rebel', 'rebelli', 'rebellion', 'rebuild', 'rebuk', 'rebut', 'recal', 'recalibr', 'reced', 'receiv', 'recent', 'recept', 'recess', 'recip', 'reciproc', 'recit', 'reckless', 'reckon', 'reclin', 'recogn', 'recognit', 'recollect', 'recommend', 'reconcili', 'reconsid', 'reconstruct', 'record', 'recount', 'recov', 'recoveri', 'recreat', 'recruit', 'rectifi', 'recur', 'recus', 'red', 'redeem', 'redempt', 'redirect', 'redmond', 'redstat', 'reduc', 'reduct', 'reed', 'reeduc', 'reel', 'reelect', 'reemerg', 'reengag', 'reenter', 'refer', 'refere', 'referenc', 'referendum', 'referr', 'reflect', 'reflex', 'reform', 'refrain', 'refug', 'refuge', 'refus', 'regard', 'regardless', 'regim', 'regimen', 'region', 'regist', 'registr', 'regret', 'regul', 'regular', 'regularli', 'regulatori', 'reid', 'reimburs', 'reimpos', 'rein', 'reinforc', 'reinstat', 'reintroduc', 'reiter', 'reject', 'rejoic', 'rejoin', 'rel', 'relat', 'relationship', 'relax', 'releas', 'releg', 'relev', 'reli', 'reliabl', 'relianc', 'reliant', 'relief', 'religi', 'religion', 'reliv', 'reloc', 'reluct', 'reluctantli', 'remain', 'remaind', 'remap', 'remark', 'remedi', 'rememb', 'remind', 'reminisc', 'remodel', 'remors', 'remov', 'remu', 'renaiss', 'render', 'renew', 'renounc', 'renov', 'rent', 'rental', 'rentfre', 'reopen', 'rep', 'repaid', 'repair', 'repass', 'repay', 'repeal', 'repeat', 'repeatedli', 'repel', 'replac', 'replenish', 'repli', 'replica', 'report', 'reportedli', 'repres', 'represent', 'repress', 'reproduct', 'republican', 'repudi', 'reput', 'request', 'requir', 'rescind', 'rescu', 'research', 'reserv', 'reset', 'resid', 'residu', 'resign', 'resili', 'resist', 'resolut', 'resolv', 'resort', 'resound', 'resourc', 'respect', 'respir', 'respond', 'respons', 'rest', 'restart', 'restaur', 'restor', 'restrain', 'restrict', 'restrictionist', 'result', 'resum', 'retain', 'retali', 'retent', 'retic', 'retir', 'retire', 'retool', 'retreat', 'retribut', 'return', 'retweet', 'reuter', 'rev', 'reveal', 'revel', 'revenu', 'rever', 'reverber', 'revers', 'review', 'revisit', 'reviv', 'revok', 'revolutionari', 'rfla', 'rga', 'rhetor', 'rhonda', 'rice', 'rich', 'richard', 'richmond', 'rick', 'rickert', 'ride', 'ridg', 'rifl', 'rift', 'rig', 'rigg', 'right', 'rightlean', 'rightli', 'rightw', 'rigmarol', 'rind', 'ring', 'rio', 'riot', 'rioter', 'riowa', 'rip', 'ripe', 'rise', 'risk', 'riski', 'rite', 'ritzcarlton', 'riven', 'river', 'rivera', 'riyadh', 'rj', 'rki', 'rla', 'rmain', 'rmich', 'rmo', 'rmont', 'rnc', 'rneb', 'rni', 'road', 'roadblock', 'roadmap', 'roar', 'roast', 'rob', 'robert', 'robust', 'rocha', 'rock', 'rocket', 'rocki', 'rockstar', 'rodger', 'rodney', 'roemer', 'roger', 'rogu', 'rohio', 'roil', 'roku', 'role', 'roll', 'rollout', 'romeo', 'romerfriedman', 'romney', 'ron', 'ronald', 'ronna', 'ronni', 'rood', 'rooftop', 'room', 'roosevelt', 'root', 'rose', 'rosen', 'rosenblatt', 'rosendal', 'rosewal', 'ross', 'roster', 'rostrum', 'rot', 'roubein', 'rough', 'roughli', 'round', 'roundtabl', 'rourk', 'rout', 'roy', 'rpa', 'rsc', 'rsd', 'rslc', 'rss', 'rtenn', 'rtexa', 'rubber', 'rubi', 'rubio', 'rude', 'rudi', 'rug', 'ruin', 'rule', 'rumor', 'run', 'rundown', 'runoff', 'rural', 'rush', 'rushmor', 'russ', 'russel', 'russia', 'russian', 'rutah', 'ruth', 'ruthless', 'rwi', 'rwva', 'rwyo', 'ryan', 'résumé', 'sabotag', 'sacr', 'sacrific', 'safe', 'safeguard', 'safest', 'safeti', 'saga', 'sahara', 'said', 'sailor', 'salari', 'sale', 'salesman', 'salient', 'salish', 'salli', 'sallyport', 'salman', 'salmon', 'salut', 'salvo', 'sampl', 'san', 'sanchez', 'sanction', 'sanctuari', 'sand', 'sander', 'sandia', 'sanford', 'sang', 'sarah', 'saskatchewan', 'saskpow', 'sass', 'sat', 'satellit', 'satisfi', 'satur', 'saturday', 'saudi', 'savanna', 'save', 'savior', 'savvi', 'saw', 'saxman', 'say', 'scale', 'scalia', 'scalis', 'scalp', 'scandal', 'scapegoat', 'scar', 'scenario', 'scene', 'scent', 'schapitl', 'schedul', 'scheme', 'schism', 'schlapp', 'schoettler', 'scholar', 'school', 'schult', 'schumer', 'schwarzenegg', 'scienc', 'scientif', 'scientist', 'scope', 'score', 'scorecard', 'scorses', 'scott', 'scourg', 'scrambl', 'scranton', 'scratch', 'screen', 'screenshot', 'script', 'scriptur', 'scrutin', 'scrutini', 'scuttl', 'sea', 'seafood', 'sean', 'search', 'season', 'seat', 'second', 'secondari', 'secondmost', 'secondterm', 'secreci', 'secret', 'secretari', 'secretarydesign', 'secretli', 'section', 'sector', 'secur', 'see', 'seed', 'seek', 'seem', 'seemingli', 'seen', 'seesaw', 'seeth', 'segreg', 'segregationist', 'seiz', 'selden', 'seldom', 'select', 'selffinanc', 'selfimpos', 'selfish', 'seligman', 'selina', 'sell', 'seller', 'semiconductor', 'seminari', 'sen', 'senat', 'senateconfirm', 'senatori', 'send', 'senior', 'sens', 'sensat', 'sensibl', 'sensit', 'sent', 'sentenc', 'sentiment', 'separ', 'sept', 'septemb', 'sequest', 'serbia', 'sergeantatarm', 'sergeantsatarm', 'sergei', 'seri', 'serial', 'seriou', 'serious', 'serv', 'servic', 'session', 'set', 'setback', 'settl', 'settlement', 'setup', 'seven', 'seventyf', 'sever', 'severino', 'sevugan', 'sex', 'sexism', 'sexual', 'shaawaatki', 'shadow', 'shaferpoliticogmailcom', 'shake', 'shaki', 'shalanda', 'shame', 'shane', 'shape', 'shapleigh', 'share', 'sharic', 'sharp', 'sharpelbow', 'sharpen', 'sharpli', 'she', 'shed', 'sheila', 'shelbi', 'shell', 'shelley', 'shepherd', 'sherpa', 'shi', 'shia', 'shield', 'shift', 'shingl', 'ship', 'shipment', 'shipper', 'shock', 'shockingli', 'shoot', 'shop', 'shore', 'short', 'shortag', 'shortcom', 'shorter', 'shortfal', 'shortli', 'shot', 'shoulder', 'shouldnt', 'shout', 'shove', 'show', 'showcas', 'shown', 'shrine', 'shrink', 'shroud', 'shut', 'shutdown', 'shutter', 'sicken', 'sicknick', 'side', 'sidewalk', 'sidney', 'sieg', 'sift', 'sight', 'sign', 'signal', 'signatur', 'signer', 'signific', 'significantli', 'silenc', 'similar', 'similarli', 'simon', 'simpl', 'simpli', 'sin', 'sinc', 'sinema', 'singh', 'singl', 'singledigit', 'singledos', 'singleshot', 'sink', 'sioux', 'siphon', 'sister', 'sisterhood', 'sisterinlaw', 'sit', 'site', 'sitter', 'situat', 'six', 'sixyear', 'sizabl', 'size', 'sk', 'skeptic', 'sketch', 'skill', 'skip', 'skripal', 'sky', 'skyhigh', 'skyrocket', 'slam', 'slap', 'slate', 'slave', 'slaveri', 'sleev', 'slew', 'slice', 'slight', 'slightli', 'slim', 'slimmest', 'slip', 'slot', 'slow', 'slowgo', 'slowwalk', 'small', 'smalldollar', 'smaller', 'smalllevel', 'smallpox', 'smart', 'smash', 'smile', 'smirk', 'smith', 'smoke', 'snag', 'snail', 'snap', 'snowfal', 'snowflak', 'sober', 'socal', 'social', 'socialist', 'societi', 'sociologist', 'socioraci', 'soften', 'softer', 'softspoken', 'solar', 'solarwind', 'sold', 'soldier', 'sole', 'solicit', 'solidifi', 'solitari', 'solut', 'solv', 'solver', 'somberli', 'somebodi', 'somehow', 'someon', 'someth', 'sometim', 'somewhat', 'somewher', 'son', 'sonceria', 'song', 'soon', 'sooner', 'soontobereviv', 'sorbonn', 'soro', 'sorrow', 'sort', 'sought', 'soul', 'sound', 'soup', 'sour', 'sourc', 'south', 'southeast', 'southeastern', 'southern', 'southernbr', 'sovereignti', 'space', 'span', 'spare', 'sparingli', 'spark', 'spavor', 'speak', 'speaker', 'spearhead', 'special', 'specif', 'specifi', 'spectacularli', 'spectrum', 'speech', 'speed', 'speedi', 'spell', 'spend', 'spent', 'spi', 'spike', 'spill', 'spin', 'spine', 'spirit', 'spiro', 'splinter', 'split', 'spoke', 'spoken', 'spokesman', 'spokesperson', 'sponsor', 'sport', 'spot', 'spotlight', 'spous', 'sprawl', 'spread', 'spring', 'spun', 'spur', 'squar', 'squeez', 'stabil', 'stacey', 'stadium', 'staf', 'staff', 'staffer', 'staffintens', 'stage', 'staircas', 'stake', 'stall', 'stamp', 'stan', 'stanc', 'stand', 'standard', 'standardbear', 'standdown', 'standoff', 'stapl', 'star', 'stare', 'stark', 'start', 'starter', 'startl', 'starvat', 'state', 'statehood', 'statehous', 'statement', 'staterun', 'statewid', 'station', 'statist', 'statu', 'statuegen', 'statur', 'staunchest', 'stay', 'steadfast', 'steadili', 'steal', 'steam', 'steel', 'steer', 'stefanik', 'stegner', 'stem', 'stenger', 'steni', 'step', 'stephani', 'stephen', 'stereotyp', 'steril', 'sternad', 'steve', 'steven', 'stevenson', 'stew', 'steward', 'stick', 'still', 'stillsouthern', 'stillvit', 'stillyoung', 'stimulu', 'sting', 'stingi', 'stir', 'stockpil', 'stole', 'stolen', 'stonewal', 'stood', 'stop', 'stopper', 'storag', 'store', 'storefront', 'stori', 'storm', 'stormbatt', 'stormi', 'straightshot', 'strain', 'strand', 'stranglehold', 'strap', 'strateg', 'strategi', 'strategist', 'stream', 'street', 'strength', 'strengthen', 'stress', 'stretch', 'stricken', 'strict', 'strident', 'strike', 'string', 'strip', 'stroll', 'strom', 'strong', 'stronger', 'strongest', 'stronghold', 'strongli', 'strother', 'struck', 'structur', 'struggl', 'stuck', 'student', 'studi', 'stuff', 'stun', 'stunner', 'style', 'stéphane', 'subcommitte', 'subfreez', 'subject', 'submit', 'subpoena', 'subsequ', 'subservi', 'subset', 'subsidi', 'substanc', 'substanti', 'subtl', 'suburb', 'suburban', 'subway', 'succeed', 'success', 'successor', 'suck', 'suddenli', 'suffer', 'suffic', 'suffici', 'sugar', 'suggest', 'suicid', 'suit', 'sullen', 'sullivan', 'sum', 'summari', 'summer', 'summit', 'summon', 'sund', 'sunday', 'sundown', 'sunni', 'sunset', 'sunshin', 'super', 'superintend', 'superior', 'superstor', 'supervis', 'supplement', 'suppli', 'supplier', 'support', 'suppos', 'suppress', 'suprem', 'supremacist', 'sure', 'surfac', 'surg', 'surgeri', 'surgic', 'surpass', 'surplu', 'surpris', 'surprisingli', 'surrend', 'surround', 'surveil', 'survey', 'surviv', 'survivor', 'susan', 'suscept', 'suspect', 'suspend', 'suspicion', 'suv', 'suzi', 'swalwel', 'sway', 'sweep', 'swept', 'swift', 'swiftli', 'swing', 'swipe', 'switch', 'swoop', 'sworn', 'swornin', 'sylvia', 'symbol', 'sympath', 'symptom', 'syria', 'syring', 'system', 'systemat', 'tab', 'tabl', 'tabul', 'tackl', 'tactic', 'tactician', 'tag', 'tai', 'tail', 'tajin', 'take', 'taken', 'talberg', 'tale', 'talent', 'talk', 'tall', 'talli', 'tamp', 'tamper', 'tanden', 'tangl', 'tank', 'tap', 'tape', 'taper', 'target', 'tarnish', 'task', 'tax', 'taxabl', 'taxpay', 'taylor', 'tea', 'teacher', 'team', 'tear', 'tech', 'technic', 'technolog', 'ted', 'teen', 'teeth', 'tehran', 'telecom', 'telethon', 'televis', 'tell', 'tellingli', 'tempera', 'temperatur', 'templat', 'temporari', 'temporarili', 'temptat', 'ten', 'tend', 'tennesse', 'tenor', 'tens', 'tension', 'tent', 'tenur', 'term', 'termin', 'terri', 'terribl', 'territori', 'terror', 'terrorist', 'test', 'tester', 'testifi', 'testimoni', 'testosteron', 'texa', 'texan', 'text', 'textbook', 'thank', 'that', 'thaw', 'theater', 'theft', 'theme', 'thencandid', 'thencapitol', 'thenhous', 'thenintern', 'thenmajor', 'thenmayor', 'thenpresid', 'thenprim', 'thenrepublican', 'thensen', 'thenvic', 'theori', 'theorist', 'theoriz', 'there', 'theyd', 'theyr', 'theyv', 'thick', 'thicker', 'thin', 'thing', 'think', 'thinli', 'third', 'thirdparti', 'thom', 'thoma', 'thomasgreenfield', 'thompson', 'thorni', 'though', 'thought', 'thousand', 'thread', 'threat', 'threaten', 'three', 'threejudg', 'threequart', 'threeway', 'threeweek', 'threshold', 'threw', 'thrive', 'throe', 'thromboembol', 'throughout', 'throw', 'throwdown', 'thrown', 'thu', 'thug', 'thumb', 'thune', 'thurmond', 'thursday', 'ticket', 'tidal', 'tie', 'tier', 'tiger', 'tighter', 'tightrop', 'tijuana', 'til', 'tilli', 'tilt', 'tim', 'time', 'timeless', 'timelin', 'timesdealbook', 'timet', 'timothi', 'tini', 'tipton', 'tire', 'tireless', 'titl', 'tlingit', 'tobacco', 'today', 'todd', 'todo', 'togeth', 'token', 'told', 'toll', 'tom', 'tomorrow', 'tone', 'tonedeaf', 'tongu', 'toni', 'took', 'tool', 'top', 'topfour', 'topher', 'topic', 'toplevel', 'topoftheticket', 'tore', 'tortur', 'toss', 'total', 'touch', 'tough', 'tougher', 'toughest', 'tour', 'tourism', 'tourist', 'tout', 'toward', 'tower', 'town', 'toxic', 'trace', 'track', 'traction', 'trade', 'tradit', 'traditionalist', 'traffic', 'traffick', 'tragedi', 'tragic', 'trail', 'train', 'trajectori', 'trampl', 'tranch', 'transfer', 'transform', 'transgend', 'transit', 'translat', 'transmiss', 'transpar', 'transpir', 'transplant', 'transport', 'trash', 'trauma', 'traumat', 'travel', 'treasuri', 'treat', 'treatment', 'treesin', 'trend', 'trendi', 'trespass', 'tri', 'trial', 'tribal', 'tribe', 'tribun', 'tribut', 'trick', 'trickier', 'trickl', 'trigger', 'trillion', 'trip', 'trivial', 'trizzino', 'troll', 'troop', 'troubl', 'troublesom', 'trove', 'truck', 'trudeau', 'true', 'truli', 'trump', 'trumpalign', 'trumpback', 'trumpera', 'trumpinduc', 'trumpinspir', 'trumpism', 'trumpmcconnel', 'trumprussia', 'trundl', 'trust', 'truth', 'tsunami', 'tucker', 'tuesday', 'tuition', 'tulli', 'tumultu', 'turbocharg', 'turmoil', 'turn', 'turnaround', 'turnout', 'turtl', 'tutor', 'tv', 'tweak', 'tweet', 'twenti', 'twentyon', 'twentysix', 'twice', 'twin', 'twist', 'twitter', 'two', 'twoday', 'twodecad', 'twodos', 'twofac', 'twohour', 'twohourlong', 'twopag', 'twopart', 'twostat', 'twostep', 'twothird', 'twoweek', 'type', 'typic', 'tyson', 'uae', 'uglier', 'uk', 'ukrain', 'ultim', 'un', 'unabl', 'unabomb', 'unaccept', 'unaddress', 'unanim', 'unansw', 'unassoci', 'unauthor', 'unavail', 'unbeliev', 'unbias', 'uncchapel', 'uncertain', 'uncertainti', 'unclear', 'uncomfort', 'uncompromisingli', 'uncontroversi', 'uncov', 'undecid', 'undemocrat', 'underappreci', 'undercut', 'undergo', 'undergrad', 'undergradu', 'underli', 'underlin', 'undermin', 'underneath', 'underpaid', 'underperform', 'underqualifi', 'underrepres', 'underscor', 'undersecretari', 'underserv', 'understand', 'understat', 'understood', 'undertak', 'undertaken', 'undervalu', 'underway', 'underwear', 'undifferenti', 'undisciplin', 'undo', 'undocu', 'undon', 'uneasi', 'unelect', 'unemploy', 'unequivoc', 'uneven', 'unfair', 'unfamiliar', 'unflatt', 'unfold', 'unforc', 'unfortun', 'unhing', 'unidosu', 'unifi', 'uniform', 'unilater', 'unimagin', 'union', 'uniqu', 'unit', 'uniti', 'univers', 'unjust', 'unkept', 'unlaw', 'unleash', 'unless', 'unlik', 'unmistak', 'unnam', 'unnot', 'unoffici', 'unpack', 'unpaid', 'unparallel', 'unpersuad', 'unpleas', 'unpreced', 'unpredict', 'unprepar', 'unproven', 'unrest', 'unrestrict', 'unsexi', 'unsign', 'unsmil', 'unspent', 'unstabl', 'unsubstanti', 'unsuccess', 'unusu', 'unveil', 'unwant', 'unwarr', 'unwelcom', 'unwork', 'up', 'upandcom', 'upcom', 'updat', 'upend', 'upgrad', 'upon', 'upper', 'upperincom', 'uproar', 'upset', 'uptick', 'upton', 'uranium', 'urban', 'urg', 'urgenc', 'urgent', 'us', 'usa', 'usafrica', 'uscanada', 'uscp', 'usda', 'use', 'user', 'usher', 'usmad', 'usrussia', 'ussaudi', 'usual', 'utah', 'util', 'utmost', 'utterli', 'uyghur', 'v', 'vacanc', 'vacant', 'vacat', 'vaccin', 'vaccinemak', 'valley', 'valu', 'van', 'vanc', 'vanessa', 'vanish', 'vanita', 'variabl', 'variant', 'variat', 'varieti', 'variou', 'vast', 'vector', 'veer', 'vega', 'vehem', 'vehement', 'vehicl', 'vener', 'venezuela', 'venu', 'verg', 'verifi', 'verizon', 'vermont', 'vernon', 'vers', 'version', 'versu', 'vest', 'veteran', 'via', 'viabil', 'vice', 'victim', 'victor', 'victori', 'video', 'videoconfer', 'vietnam', 'view', 'viewer', 'viewpoint', 'vigil', 'villag', 'villain', 'vilsack', 'violat', 'violenc', 'violent', 'viral', 'virginia', 'virologist', 'virtu', 'virtual', 'viru', 'visa', 'visibl', 'vision', 'visionari', 'visit', 'vivian', 'vivid', 'vladimir', 'vocal', 'vogu', 'voic', 'volatil', 'voldemort', 'volkswagen', 'volunt', 'vote', 'votecast', 'voter', 'votingag', 'voucher', 'vought', 'vow', 'vt', 'vulner', 'w', 'waco', 'wade', 'wage', 'wagon', 'wait', 'waiv', 'wake', 'waldo', 'walk', 'walkedund', 'walker', 'wall', 'wallac', 'walt', 'walter', 'waltz', 'wane', 'want', 'wanzhou', 'war', 'warehous', 'warera', 'warfar', 'wari', 'warm', 'warmli', 'warn', 'warner', 'warnock', 'warrant', 'warren', 'washington', 'wasnt', 'wast', 'watch', 'water', 'waterg', 'watersh', 'watt', 'wave', 'way', 'weak', 'weaken', 'weaker', 'weakest', 'wealth', 'wealthi', 'wean', 'weapon', 'wear', 'weather', 'websit', 'wed', 'wednesday', 'weed', 'week', 'weekend', 'weekli', 'weekslong', 'weigh', 'weight', 'welcom', 'welfar', 'well', 'wellb', 'wellfund', 'wellhead', 'wellrespect', 'wellspr', 'wenstrup', 'went', 'west', 'western', 'weve', 'whale', 'whaley', 'what', 'whatev', 'whatsoev', 'wheaton', 'whenev', 'wherea', 'wherev', 'whether', 'whip', 'whiplash', 'white', 'whitel', 'whiteown', 'whitman', 'who', 'whoever', 'whole', 'whose', 'wic', 'wide', 'wider', 'widespread', 'wield', 'wife', 'wild', 'wilder', 'wildlif', 'wili', 'wilkinson', 'will', 'willa', 'william', 'willing', 'willynilli', 'win', 'wind', 'windfal', 'windmil', 'window', 'wing', 'winner', 'winter', 'wipe', 'wire', 'wisconsin', 'wisdom', 'wish', 'wit', 'witch', 'withdraw', 'withdrawn', 'withdrew', 'wither', 'withhold', 'within', 'without', 'wive', 'wofsi', 'wolf', 'wolv', 'woman', 'women', 'wonder', 'wonki', 'wonkish', 'wont', 'wood', 'woodal', 'woodward', 'word', 'work', 'worker', 'workertrain', 'workforc', 'workingclass', 'workplac', 'world', 'worldview', 'worldwid', 'worri', 'worrisom', 'wors', 'worst', 'worth', 'worthi', 'worthydavi', 'would', 'wouldb', 'wouldnt', 'wound', 'wrangl', 'wrap', 'wray', 'wreak', 'wreckag', 'wrestl', 'write', 'writein', 'writer', 'written', 'wrong', 'wrongdo', 'wrongli', 'wrote', 'wuhan', 'wyden', 'wyom', 'x', 'xavier', 'xi', 'xinjiang', 'xl', 'yale', 'yard', 'yarmuth', 'yawn', 'ye', 'year', 'yearlong', 'yemen', 'yesterday', 'yet', 'yield', 'yogananda', 'yoke', 'yonker', 'york', 'yorker', 'youll', 'young', 'younger', 'your', 'youth', 'youtub', 'yulia', 'zarif', 'zealand', 'zeldin', 'zero', 'zient', 'zip', 'zodiac', 'zone', 'zoom']\n"
     ]
    }
   ],
   "source": [
    "from sklearn.feature_extraction.text import TfidfVectorizer\n",
    "\n",
    "tfidf_vect = TfidfVectorizer(analyzer=clean_text)\n",
    "X_tfidf = tfidf_vect.fit_transform(df.text)\n",
    "print(X_tfidf.shape)\n",
    "print(tfidf_vect.get_feature_names())"
   ]
  },
  {
   "cell_type": "code",
   "execution_count": 46,
   "metadata": {},
   "outputs": [
    {
     "data": {
      "text/plain": [
       "links    string\n",
       "text     string\n",
       "value    object\n",
       "dtype: object"
      ]
     },
     "execution_count": 46,
     "metadata": {},
     "output_type": "execute_result"
    }
   ],
   "source": [
    "dfo = pd.concat(f, sort=False)\n",
    "dfo=dfo.dropna(axis=0,inplace=False)\n",
    "dfo['text'] = pd.Series(dfo['text'], dtype=\"string\")\n",
    "dfo['links'] = pd.Series(dfo['links'], dtype=\"string\")\n",
    "dfo.dtypes\n"
   ]
  },
  {
   "cell_type": "code",
   "execution_count": 47,
   "metadata": {},
   "outputs": [
    {
     "data": {
      "text/html": [
       "<div>\n",
       "<style scoped>\n",
       "    .dataframe tbody tr th:only-of-type {\n",
       "        vertical-align: middle;\n",
       "    }\n",
       "\n",
       "    .dataframe tbody tr th {\n",
       "        vertical-align: top;\n",
       "    }\n",
       "\n",
       "    .dataframe thead th {\n",
       "        text-align: right;\n",
       "    }\n",
       "</style>\n",
       "<table border=\"1\" class=\"dataframe\">\n",
       "  <thead>\n",
       "    <tr style=\"text-align: right;\">\n",
       "      <th></th>\n",
       "      <th>links</th>\n",
       "      <th>text</th>\n",
       "      <th>value</th>\n",
       "      <th>body punct%</th>\n",
       "      <th>title punct%</th>\n",
       "    </tr>\n",
       "  </thead>\n",
       "  <tbody>\n",
       "    <tr>\n",
       "      <th>0</th>\n",
       "      <td>'Merci, mon ami': Biden, Trudeau renew bilater...</td>\n",
       "      <td>So after four years of trade wars, name-callin...</td>\n",
       "      <td>T</td>\n",
       "      <td>-500.0</td>\n",
       "      <td>-600.0</td>\n",
       "    </tr>\n",
       "    <tr>\n",
       "      <th>1</th>\n",
       "      <td>Democrats' $1.9T Covid aid bill faces the Sena...</td>\n",
       "      <td>MacDonough will dissect the budget impact of e...</td>\n",
       "      <td>T</td>\n",
       "      <td>-600.0</td>\n",
       "      <td>-300.0</td>\n",
       "    </tr>\n",
       "    <tr>\n",
       "      <th>2</th>\n",
       "      <td>Lawrence Ferlinghetti, poet and activist, dies...</td>\n",
       "      <td>“The dominant American mercantile culture may ...</td>\n",
       "      <td>T</td>\n",
       "      <td>-1200.0</td>\n",
       "      <td>-200.0</td>\n",
       "    </tr>\n",
       "    <tr>\n",
       "      <th>3</th>\n",
       "      <td>‘It can only get better’: Linda Thomas-Greenfi...</td>\n",
       "      <td>U.N. officials told POLITICO they hope to see ...</td>\n",
       "      <td>T</td>\n",
       "      <td>-600.0</td>\n",
       "      <td>-500.0</td>\n",
       "    </tr>\n",
       "    <tr>\n",
       "      <th>4</th>\n",
       "      <td>Judge rips Capitol rioter’s Trump defense</td>\n",
       "      <td>At numerous bail hearings in the Capitol-riot-...</td>\n",
       "      <td>T</td>\n",
       "      <td>-600.0</td>\n",
       "      <td>-0.0</td>\n",
       "    </tr>\n",
       "  </tbody>\n",
       "</table>\n",
       "</div>"
      ],
      "text/plain": [
       "                                               links  \\\n",
       "0  'Merci, mon ami': Biden, Trudeau renew bilater...   \n",
       "1  Democrats' $1.9T Covid aid bill faces the Sena...   \n",
       "2  Lawrence Ferlinghetti, poet and activist, dies...   \n",
       "3  ‘It can only get better’: Linda Thomas-Greenfi...   \n",
       "4          Judge rips Capitol rioter’s Trump defense   \n",
       "\n",
       "                                                text value  body punct%  \\\n",
       "0  So after four years of trade wars, name-callin...     T       -500.0   \n",
       "1  MacDonough will dissect the budget impact of e...     T       -600.0   \n",
       "2  “The dominant American mercantile culture may ...     T      -1200.0   \n",
       "3  U.N. officials told POLITICO they hope to see ...     T       -600.0   \n",
       "4  At numerous bail hearings in the Capitol-riot-...     T       -600.0   \n",
       "\n",
       "   title punct%  \n",
       "0        -600.0  \n",
       "1        -300.0  \n",
       "2        -200.0  \n",
       "3        -500.0  \n",
       "4          -0.0  "
      ]
     },
     "execution_count": 47,
     "metadata": {},
     "output_type": "execute_result"
    }
   ],
   "source": [
    "#dfo = truetxt.append(faketxt)\n",
    "def count_punct(text):\n",
    "    count = sum([1 for char in text if char in string.punctuation])\n",
    "    return round(count/(len(text) - text.count(''))*100, 3)\n",
    "\n",
    "dfo['body punct%'] = dfo.text.apply(lambda x: count_punct(x))\n",
    "dfo['title punct%'] = dfo.links.apply(lambda x: count_punct(x))\n",
    "dfo.head()"
   ]
  },
  {
   "cell_type": "code",
   "execution_count": 48,
   "metadata": {},
   "outputs": [],
   "source": [
    "st = string.punctuation"
   ]
  },
  {
   "cell_type": "code",
   "execution_count": 49,
   "metadata": {},
   "outputs": [
    {
     "name": "stdout",
     "output_type": "stream",
     "text": [
      "32 3329\n",
      "False\n"
     ]
    }
   ],
   "source": [
    "count1 = sum([1 for char in st if char in string.punctuation])\n",
    "count2 = sum([1 for char in dfo.text if char not in string.punctuation])\n",
    "print(count1, count2)\n",
    "total = 0\n",
    "\n",
    "for char in dfo.text:\n",
    "    total = char == st\n",
    "print(total)\n",
    "\n",
    "\n",
    "#print(re.findall(st, dfo.text))\n"
   ]
  },
  {
   "cell_type": "code",
   "execution_count": 50,
   "metadata": {},
   "outputs": [
    {
     "data": {
      "text/html": [
       "<div>\n",
       "<style scoped>\n",
       "    .dataframe tbody tr th:only-of-type {\n",
       "        vertical-align: middle;\n",
       "    }\n",
       "\n",
       "    .dataframe tbody tr th {\n",
       "        vertical-align: top;\n",
       "    }\n",
       "\n",
       "    .dataframe thead th {\n",
       "        text-align: right;\n",
       "    }\n",
       "</style>\n",
       "<table border=\"1\" class=\"dataframe\">\n",
       "  <thead>\n",
       "    <tr style=\"text-align: right;\">\n",
       "      <th></th>\n",
       "      <th>links</th>\n",
       "      <th>text</th>\n",
       "      <th>value</th>\n",
       "      <th>body punct%</th>\n",
       "      <th>title punct%</th>\n",
       "      <th>punct%</th>\n",
       "    </tr>\n",
       "  </thead>\n",
       "  <tbody>\n",
       "    <tr>\n",
       "      <th>0</th>\n",
       "      <td>'Merci, mon ami': Biden, Trudeau renew bilater...</td>\n",
       "      <td>So after four years of trade wars, name-callin...</td>\n",
       "      <td>T</td>\n",
       "      <td>-500.0</td>\n",
       "      <td>-600.0</td>\n",
       "      <td>-500.0</td>\n",
       "    </tr>\n",
       "    <tr>\n",
       "      <th>1</th>\n",
       "      <td>Democrats' $1.9T Covid aid bill faces the Sena...</td>\n",
       "      <td>MacDonough will dissect the budget impact of e...</td>\n",
       "      <td>T</td>\n",
       "      <td>-600.0</td>\n",
       "      <td>-300.0</td>\n",
       "      <td>-600.0</td>\n",
       "    </tr>\n",
       "    <tr>\n",
       "      <th>2</th>\n",
       "      <td>Lawrence Ferlinghetti, poet and activist, dies...</td>\n",
       "      <td>“The dominant American mercantile culture may ...</td>\n",
       "      <td>T</td>\n",
       "      <td>-1200.0</td>\n",
       "      <td>-200.0</td>\n",
       "      <td>-1200.0</td>\n",
       "    </tr>\n",
       "    <tr>\n",
       "      <th>3</th>\n",
       "      <td>‘It can only get better’: Linda Thomas-Greenfi...</td>\n",
       "      <td>U.N. officials told POLITICO they hope to see ...</td>\n",
       "      <td>T</td>\n",
       "      <td>-600.0</td>\n",
       "      <td>-500.0</td>\n",
       "      <td>-600.0</td>\n",
       "    </tr>\n",
       "    <tr>\n",
       "      <th>4</th>\n",
       "      <td>Judge rips Capitol rioter’s Trump defense</td>\n",
       "      <td>At numerous bail hearings in the Capitol-riot-...</td>\n",
       "      <td>T</td>\n",
       "      <td>-600.0</td>\n",
       "      <td>-0.0</td>\n",
       "      <td>-600.0</td>\n",
       "    </tr>\n",
       "  </tbody>\n",
       "</table>\n",
       "</div>"
      ],
      "text/plain": [
       "                                               links  \\\n",
       "0  'Merci, mon ami': Biden, Trudeau renew bilater...   \n",
       "1  Democrats' $1.9T Covid aid bill faces the Sena...   \n",
       "2  Lawrence Ferlinghetti, poet and activist, dies...   \n",
       "3  ‘It can only get better’: Linda Thomas-Greenfi...   \n",
       "4          Judge rips Capitol rioter’s Trump defense   \n",
       "\n",
       "                                                text value  body punct%  \\\n",
       "0  So after four years of trade wars, name-callin...     T       -500.0   \n",
       "1  MacDonough will dissect the budget impact of e...     T       -600.0   \n",
       "2  “The dominant American mercantile culture may ...     T      -1200.0   \n",
       "3  U.N. officials told POLITICO they hope to see ...     T       -600.0   \n",
       "4  At numerous bail hearings in the Capitol-riot-...     T       -600.0   \n",
       "\n",
       "   title punct%  punct%  \n",
       "0        -600.0  -500.0  \n",
       "1        -300.0  -600.0  \n",
       "2        -200.0 -1200.0  \n",
       "3        -500.0  -600.0  \n",
       "4          -0.0  -600.0  "
      ]
     },
     "execution_count": 50,
     "metadata": {},
     "output_type": "execute_result"
    }
   ],
   "source": [
    "dfo['punct%'] = dfo.text.apply(lambda x: count_punct(x))\n",
    "\n",
    "dfo.head()"
   ]
  },
  {
   "cell_type": "code",
   "execution_count": 51,
   "metadata": {},
   "outputs": [
    {
     "data": {
      "text/html": [
       "<div>\n",
       "<style scoped>\n",
       "    .dataframe tbody tr th:only-of-type {\n",
       "        vertical-align: middle;\n",
       "    }\n",
       "\n",
       "    .dataframe tbody tr th {\n",
       "        vertical-align: top;\n",
       "    }\n",
       "\n",
       "    .dataframe thead th {\n",
       "        text-align: right;\n",
       "    }\n",
       "</style>\n",
       "<table border=\"1\" class=\"dataframe\">\n",
       "  <thead>\n",
       "    <tr style=\"text-align: right;\">\n",
       "      <th></th>\n",
       "      <th>links</th>\n",
       "      <th>text</th>\n",
       "      <th>value</th>\n",
       "      <th>body punct%</th>\n",
       "      <th>title punct%</th>\n",
       "      <th>punct%</th>\n",
       "    </tr>\n",
       "  </thead>\n",
       "  <tbody>\n",
       "    <tr>\n",
       "      <th>0</th>\n",
       "      <td>'Merci, mon ami': Biden, Trudeau renew bilater...</td>\n",
       "      <td>So after four years of trade wars, name-callin...</td>\n",
       "      <td>T</td>\n",
       "      <td>-500.0</td>\n",
       "      <td>-600.0</td>\n",
       "      <td>-500.0</td>\n",
       "    </tr>\n",
       "    <tr>\n",
       "      <th>1</th>\n",
       "      <td>Democrats' $1.9T Covid aid bill faces the Sena...</td>\n",
       "      <td>MacDonough will dissect the budget impact of e...</td>\n",
       "      <td>T</td>\n",
       "      <td>-600.0</td>\n",
       "      <td>-300.0</td>\n",
       "      <td>-600.0</td>\n",
       "    </tr>\n",
       "    <tr>\n",
       "      <th>2</th>\n",
       "      <td>Lawrence Ferlinghetti, poet and activist, dies...</td>\n",
       "      <td>“The dominant American mercantile culture may ...</td>\n",
       "      <td>T</td>\n",
       "      <td>-1200.0</td>\n",
       "      <td>-200.0</td>\n",
       "      <td>-1200.0</td>\n",
       "    </tr>\n",
       "    <tr>\n",
       "      <th>3</th>\n",
       "      <td>‘It can only get better’: Linda Thomas-Greenfi...</td>\n",
       "      <td>U.N. officials told POLITICO they hope to see ...</td>\n",
       "      <td>T</td>\n",
       "      <td>-600.0</td>\n",
       "      <td>-500.0</td>\n",
       "      <td>-600.0</td>\n",
       "    </tr>\n",
       "    <tr>\n",
       "      <th>4</th>\n",
       "      <td>Judge rips Capitol rioter’s Trump defense</td>\n",
       "      <td>At numerous bail hearings in the Capitol-riot-...</td>\n",
       "      <td>T</td>\n",
       "      <td>-600.0</td>\n",
       "      <td>-0.0</td>\n",
       "      <td>-600.0</td>\n",
       "    </tr>\n",
       "  </tbody>\n",
       "</table>\n",
       "</div>"
      ],
      "text/plain": [
       "                                               links  \\\n",
       "0  'Merci, mon ami': Biden, Trudeau renew bilater...   \n",
       "1  Democrats' $1.9T Covid aid bill faces the Sena...   \n",
       "2  Lawrence Ferlinghetti, poet and activist, dies...   \n",
       "3  ‘It can only get better’: Linda Thomas-Greenfi...   \n",
       "4          Judge rips Capitol rioter’s Trump defense   \n",
       "\n",
       "                                                text value  body punct%  \\\n",
       "0  So after four years of trade wars, name-callin...     T       -500.0   \n",
       "1  MacDonough will dissect the budget impact of e...     T       -600.0   \n",
       "2  “The dominant American mercantile culture may ...     T      -1200.0   \n",
       "3  U.N. officials told POLITICO they hope to see ...     T       -600.0   \n",
       "4  At numerous bail hearings in the Capitol-riot-...     T       -600.0   \n",
       "\n",
       "   title punct%  punct%  \n",
       "0        -600.0  -500.0  \n",
       "1        -300.0  -600.0  \n",
       "2        -200.0 -1200.0  \n",
       "3        -500.0  -600.0  \n",
       "4          -0.0  -600.0  "
      ]
     },
     "execution_count": 51,
     "metadata": {},
     "output_type": "execute_result"
    }
   ],
   "source": [
    "dfo.head()"
   ]
  },
  {
   "cell_type": "code",
   "execution_count": 52,
   "metadata": {},
   "outputs": [],
   "source": [
    "def punt(text):\n",
    "    count = sum([1 for char in text if char in st])\n",
    "    return round(count/(len(text) - text.count(\"\")), 3)*100\n"
   ]
  },
  {
   "cell_type": "code",
   "execution_count": 53,
   "metadata": {},
   "outputs": [
    {
     "data": {
      "text/html": [
       "<div>\n",
       "<style scoped>\n",
       "    .dataframe tbody tr th:only-of-type {\n",
       "        vertical-align: middle;\n",
       "    }\n",
       "\n",
       "    .dataframe tbody tr th {\n",
       "        vertical-align: top;\n",
       "    }\n",
       "\n",
       "    .dataframe thead th {\n",
       "        text-align: right;\n",
       "    }\n",
       "</style>\n",
       "<table border=\"1\" class=\"dataframe\">\n",
       "  <thead>\n",
       "    <tr style=\"text-align: right;\">\n",
       "      <th></th>\n",
       "      <th>links</th>\n",
       "      <th>text</th>\n",
       "      <th>value</th>\n",
       "      <th>body punct%</th>\n",
       "      <th>title punct%</th>\n",
       "      <th>punct%</th>\n",
       "      <th>try</th>\n",
       "    </tr>\n",
       "  </thead>\n",
       "  <tbody>\n",
       "    <tr>\n",
       "      <th>0</th>\n",
       "      <td>'Merci, mon ami': Biden, Trudeau renew bilater...</td>\n",
       "      <td>So after four years of trade wars, name-callin...</td>\n",
       "      <td>T</td>\n",
       "      <td>-500.0</td>\n",
       "      <td>-600.0</td>\n",
       "      <td>-500.0</td>\n",
       "      <td>-500.0</td>\n",
       "    </tr>\n",
       "    <tr>\n",
       "      <th>1</th>\n",
       "      <td>Democrats' $1.9T Covid aid bill faces the Sena...</td>\n",
       "      <td>MacDonough will dissect the budget impact of e...</td>\n",
       "      <td>T</td>\n",
       "      <td>-600.0</td>\n",
       "      <td>-300.0</td>\n",
       "      <td>-600.0</td>\n",
       "      <td>-600.0</td>\n",
       "    </tr>\n",
       "    <tr>\n",
       "      <th>2</th>\n",
       "      <td>Lawrence Ferlinghetti, poet and activist, dies...</td>\n",
       "      <td>“The dominant American mercantile culture may ...</td>\n",
       "      <td>T</td>\n",
       "      <td>-1200.0</td>\n",
       "      <td>-200.0</td>\n",
       "      <td>-1200.0</td>\n",
       "      <td>-1200.0</td>\n",
       "    </tr>\n",
       "    <tr>\n",
       "      <th>3</th>\n",
       "      <td>‘It can only get better’: Linda Thomas-Greenfi...</td>\n",
       "      <td>U.N. officials told POLITICO they hope to see ...</td>\n",
       "      <td>T</td>\n",
       "      <td>-600.0</td>\n",
       "      <td>-500.0</td>\n",
       "      <td>-600.0</td>\n",
       "      <td>-600.0</td>\n",
       "    </tr>\n",
       "    <tr>\n",
       "      <th>4</th>\n",
       "      <td>Judge rips Capitol rioter’s Trump defense</td>\n",
       "      <td>At numerous bail hearings in the Capitol-riot-...</td>\n",
       "      <td>T</td>\n",
       "      <td>-600.0</td>\n",
       "      <td>-0.0</td>\n",
       "      <td>-600.0</td>\n",
       "      <td>-600.0</td>\n",
       "    </tr>\n",
       "  </tbody>\n",
       "</table>\n",
       "</div>"
      ],
      "text/plain": [
       "                                               links  \\\n",
       "0  'Merci, mon ami': Biden, Trudeau renew bilater...   \n",
       "1  Democrats' $1.9T Covid aid bill faces the Sena...   \n",
       "2  Lawrence Ferlinghetti, poet and activist, dies...   \n",
       "3  ‘It can only get better’: Linda Thomas-Greenfi...   \n",
       "4          Judge rips Capitol rioter’s Trump defense   \n",
       "\n",
       "                                                text value  body punct%  \\\n",
       "0  So after four years of trade wars, name-callin...     T       -500.0   \n",
       "1  MacDonough will dissect the budget impact of e...     T       -600.0   \n",
       "2  “The dominant American mercantile culture may ...     T      -1200.0   \n",
       "3  U.N. officials told POLITICO they hope to see ...     T       -600.0   \n",
       "4  At numerous bail hearings in the Capitol-riot-...     T       -600.0   \n",
       "\n",
       "   title punct%  punct%     try  \n",
       "0        -600.0  -500.0  -500.0  \n",
       "1        -300.0  -600.0  -600.0  \n",
       "2        -200.0 -1200.0 -1200.0  \n",
       "3        -500.0  -600.0  -600.0  \n",
       "4          -0.0  -600.0  -600.0  "
      ]
     },
     "execution_count": 53,
     "metadata": {},
     "output_type": "execute_result"
    }
   ],
   "source": [
    "dfo['try'] = dfo.text.apply(lambda x: punt(x))\n",
    "dfo.head()"
   ]
  },
  {
   "cell_type": "code",
   "execution_count": 54,
   "metadata": {},
   "outputs": [],
   "source": [
    "#dfo['try2'] = dfo['try'].apply(lambda x: punt(x))\n",
    "#dfo.head()"
   ]
  },
  {
   "cell_type": "code",
   "execution_count": 55,
   "metadata": {},
   "outputs": [],
   "source": [
    "count = lambda l1,l2: sum([1 for x in l1 if x in l2])\n",
    "\n",
    "dfo['count_punct'] = dfo.text.apply(lambda s: count(s, string.punctuation))"
   ]
  },
  {
   "cell_type": "code",
   "execution_count": 56,
   "metadata": {},
   "outputs": [
    {
     "data": {
      "text/html": [
       "<div>\n",
       "<style scoped>\n",
       "    .dataframe tbody tr th:only-of-type {\n",
       "        vertical-align: middle;\n",
       "    }\n",
       "\n",
       "    .dataframe tbody tr th {\n",
       "        vertical-align: top;\n",
       "    }\n",
       "\n",
       "    .dataframe thead th {\n",
       "        text-align: right;\n",
       "    }\n",
       "</style>\n",
       "<table border=\"1\" class=\"dataframe\">\n",
       "  <thead>\n",
       "    <tr style=\"text-align: right;\">\n",
       "      <th></th>\n",
       "      <th>links</th>\n",
       "      <th>text</th>\n",
       "      <th>value</th>\n",
       "      <th>body punct%</th>\n",
       "      <th>title punct%</th>\n",
       "      <th>punct%</th>\n",
       "      <th>try</th>\n",
       "      <th>count_punct</th>\n",
       "    </tr>\n",
       "  </thead>\n",
       "  <tbody>\n",
       "    <tr>\n",
       "      <th>0</th>\n",
       "      <td>'Merci, mon ami': Biden, Trudeau renew bilater...</td>\n",
       "      <td>So after four years of trade wars, name-callin...</td>\n",
       "      <td>T</td>\n",
       "      <td>-500.0</td>\n",
       "      <td>-600.0</td>\n",
       "      <td>-500.0</td>\n",
       "      <td>-500.0</td>\n",
       "      <td>5</td>\n",
       "    </tr>\n",
       "    <tr>\n",
       "      <th>1</th>\n",
       "      <td>Democrats' $1.9T Covid aid bill faces the Sena...</td>\n",
       "      <td>MacDonough will dissect the budget impact of e...</td>\n",
       "      <td>T</td>\n",
       "      <td>-600.0</td>\n",
       "      <td>-300.0</td>\n",
       "      <td>-600.0</td>\n",
       "      <td>-600.0</td>\n",
       "      <td>6</td>\n",
       "    </tr>\n",
       "    <tr>\n",
       "      <th>2</th>\n",
       "      <td>Lawrence Ferlinghetti, poet and activist, dies...</td>\n",
       "      <td>“The dominant American mercantile culture may ...</td>\n",
       "      <td>T</td>\n",
       "      <td>-1200.0</td>\n",
       "      <td>-200.0</td>\n",
       "      <td>-1200.0</td>\n",
       "      <td>-1200.0</td>\n",
       "      <td>12</td>\n",
       "    </tr>\n",
       "    <tr>\n",
       "      <th>3</th>\n",
       "      <td>‘It can only get better’: Linda Thomas-Greenfi...</td>\n",
       "      <td>U.N. officials told POLITICO they hope to see ...</td>\n",
       "      <td>T</td>\n",
       "      <td>-600.0</td>\n",
       "      <td>-500.0</td>\n",
       "      <td>-600.0</td>\n",
       "      <td>-600.0</td>\n",
       "      <td>6</td>\n",
       "    </tr>\n",
       "    <tr>\n",
       "      <th>4</th>\n",
       "      <td>Judge rips Capitol rioter’s Trump defense</td>\n",
       "      <td>At numerous bail hearings in the Capitol-riot-...</td>\n",
       "      <td>T</td>\n",
       "      <td>-600.0</td>\n",
       "      <td>-0.0</td>\n",
       "      <td>-600.0</td>\n",
       "      <td>-600.0</td>\n",
       "      <td>6</td>\n",
       "    </tr>\n",
       "  </tbody>\n",
       "</table>\n",
       "</div>"
      ],
      "text/plain": [
       "                                               links  \\\n",
       "0  'Merci, mon ami': Biden, Trudeau renew bilater...   \n",
       "1  Democrats' $1.9T Covid aid bill faces the Sena...   \n",
       "2  Lawrence Ferlinghetti, poet and activist, dies...   \n",
       "3  ‘It can only get better’: Linda Thomas-Greenfi...   \n",
       "4          Judge rips Capitol rioter’s Trump defense   \n",
       "\n",
       "                                                text value  body punct%  \\\n",
       "0  So after four years of trade wars, name-callin...     T       -500.0   \n",
       "1  MacDonough will dissect the budget impact of e...     T       -600.0   \n",
       "2  “The dominant American mercantile culture may ...     T      -1200.0   \n",
       "3  U.N. officials told POLITICO they hope to see ...     T       -600.0   \n",
       "4  At numerous bail hearings in the Capitol-riot-...     T       -600.0   \n",
       "\n",
       "   title punct%  punct%     try  count_punct  \n",
       "0        -600.0  -500.0  -500.0            5  \n",
       "1        -300.0  -600.0  -600.0            6  \n",
       "2        -200.0 -1200.0 -1200.0           12  \n",
       "3        -500.0  -600.0  -600.0            6  \n",
       "4          -0.0  -600.0  -600.0            6  "
      ]
     },
     "execution_count": 56,
     "metadata": {},
     "output_type": "execute_result"
    }
   ],
   "source": [
    "dfo.head()"
   ]
  },
  {
   "cell_type": "code",
   "execution_count": 57,
   "metadata": {},
   "outputs": [],
   "source": [
    "def punt(text):\n",
    "    jud = pd.DataFrame(data={'this':[text]})\n",
    "    cont = jud.apply(lambda s: count(s, string.punctuation))\n",
    "    return text\n",
    "    #return round(cont/(len(text)), 3)*100"
   ]
  },
  {
   "cell_type": "code",
   "execution_count": null,
   "metadata": {},
   "outputs": [],
   "source": []
  },
  {
   "cell_type": "code",
   "execution_count": 58,
   "metadata": {},
   "outputs": [
    {
     "data": {
      "text/html": [
       "<div>\n",
       "<style scoped>\n",
       "    .dataframe tbody tr th:only-of-type {\n",
       "        vertical-align: middle;\n",
       "    }\n",
       "\n",
       "    .dataframe tbody tr th {\n",
       "        vertical-align: top;\n",
       "    }\n",
       "\n",
       "    .dataframe thead th {\n",
       "        text-align: right;\n",
       "    }\n",
       "</style>\n",
       "<table border=\"1\" class=\"dataframe\">\n",
       "  <thead>\n",
       "    <tr style=\"text-align: right;\">\n",
       "      <th></th>\n",
       "      <th>links</th>\n",
       "      <th>text</th>\n",
       "      <th>value</th>\n",
       "      <th>body punct%</th>\n",
       "      <th>title punct%</th>\n",
       "      <th>punct%</th>\n",
       "      <th>try</th>\n",
       "      <th>count_punct</th>\n",
       "    </tr>\n",
       "  </thead>\n",
       "  <tbody>\n",
       "    <tr>\n",
       "      <th>0</th>\n",
       "      <td>'Merci, mon ami': Biden, Trudeau renew bilater...</td>\n",
       "      <td>So after four years of trade wars, name-callin...</td>\n",
       "      <td>T</td>\n",
       "      <td>-500.0</td>\n",
       "      <td>-600.0</td>\n",
       "      <td>-500.0</td>\n",
       "      <td>-500.0</td>\n",
       "      <td>5</td>\n",
       "    </tr>\n",
       "    <tr>\n",
       "      <th>1</th>\n",
       "      <td>Democrats' $1.9T Covid aid bill faces the Sena...</td>\n",
       "      <td>MacDonough will dissect the budget impact of e...</td>\n",
       "      <td>T</td>\n",
       "      <td>-600.0</td>\n",
       "      <td>-300.0</td>\n",
       "      <td>-600.0</td>\n",
       "      <td>-600.0</td>\n",
       "      <td>6</td>\n",
       "    </tr>\n",
       "    <tr>\n",
       "      <th>2</th>\n",
       "      <td>Lawrence Ferlinghetti, poet and activist, dies...</td>\n",
       "      <td>“The dominant American mercantile culture may ...</td>\n",
       "      <td>T</td>\n",
       "      <td>-1200.0</td>\n",
       "      <td>-200.0</td>\n",
       "      <td>-1200.0</td>\n",
       "      <td>-1200.0</td>\n",
       "      <td>12</td>\n",
       "    </tr>\n",
       "    <tr>\n",
       "      <th>3</th>\n",
       "      <td>‘It can only get better’: Linda Thomas-Greenfi...</td>\n",
       "      <td>U.N. officials told POLITICO they hope to see ...</td>\n",
       "      <td>T</td>\n",
       "      <td>-600.0</td>\n",
       "      <td>-500.0</td>\n",
       "      <td>-600.0</td>\n",
       "      <td>-600.0</td>\n",
       "      <td>6</td>\n",
       "    </tr>\n",
       "    <tr>\n",
       "      <th>4</th>\n",
       "      <td>Judge rips Capitol rioter’s Trump defense</td>\n",
       "      <td>At numerous bail hearings in the Capitol-riot-...</td>\n",
       "      <td>T</td>\n",
       "      <td>-600.0</td>\n",
       "      <td>-0.0</td>\n",
       "      <td>-600.0</td>\n",
       "      <td>-600.0</td>\n",
       "      <td>6</td>\n",
       "    </tr>\n",
       "  </tbody>\n",
       "</table>\n",
       "</div>"
      ],
      "text/plain": [
       "                                               links  \\\n",
       "0  'Merci, mon ami': Biden, Trudeau renew bilater...   \n",
       "1  Democrats' $1.9T Covid aid bill faces the Sena...   \n",
       "2  Lawrence Ferlinghetti, poet and activist, dies...   \n",
       "3  ‘It can only get better’: Linda Thomas-Greenfi...   \n",
       "4          Judge rips Capitol rioter’s Trump defense   \n",
       "\n",
       "                                                text value  body punct%  \\\n",
       "0  So after four years of trade wars, name-callin...     T       -500.0   \n",
       "1  MacDonough will dissect the budget impact of e...     T       -600.0   \n",
       "2  “The dominant American mercantile culture may ...     T      -1200.0   \n",
       "3  U.N. officials told POLITICO they hope to see ...     T       -600.0   \n",
       "4  At numerous bail hearings in the Capitol-riot-...     T       -600.0   \n",
       "\n",
       "   title punct%  punct%     try  count_punct  \n",
       "0        -600.0  -500.0  -500.0            5  \n",
       "1        -300.0  -600.0  -600.0            6  \n",
       "2        -200.0 -1200.0 -1200.0           12  \n",
       "3        -500.0  -600.0  -600.0            6  \n",
       "4          -0.0  -600.0  -600.0            6  "
      ]
     },
     "execution_count": 58,
     "metadata": {},
     "output_type": "execute_result"
    }
   ],
   "source": [
    "dfo.head()"
   ]
  },
  {
   "cell_type": "code",
   "execution_count": 59,
   "metadata": {},
   "outputs": [],
   "source": [
    "count = lambda l1,l2: sum([1 for x in l1 if x in l2])\n",
    "\n",
    "dfo['count_ws'] = dfo.text.apply(lambda s: count(s, ' '))\n",
    "dfo['try2']=dfo['count_punct']/(len(dfo['text'])-dfo['count_ws'])*100\n"
   ]
  },
  {
   "cell_type": "code",
   "execution_count": 60,
   "metadata": {},
   "outputs": [
    {
     "data": {
      "text/html": [
       "<div>\n",
       "<style scoped>\n",
       "    .dataframe tbody tr th:only-of-type {\n",
       "        vertical-align: middle;\n",
       "    }\n",
       "\n",
       "    .dataframe tbody tr th {\n",
       "        vertical-align: top;\n",
       "    }\n",
       "\n",
       "    .dataframe thead th {\n",
       "        text-align: right;\n",
       "    }\n",
       "</style>\n",
       "<table border=\"1\" class=\"dataframe\">\n",
       "  <thead>\n",
       "    <tr style=\"text-align: right;\">\n",
       "      <th></th>\n",
       "      <th>links</th>\n",
       "      <th>text</th>\n",
       "      <th>value</th>\n",
       "      <th>body punct%</th>\n",
       "      <th>title punct%</th>\n",
       "      <th>punct%</th>\n",
       "      <th>try</th>\n",
       "      <th>count_punct</th>\n",
       "      <th>count_ws</th>\n",
       "      <th>try2</th>\n",
       "    </tr>\n",
       "  </thead>\n",
       "  <tbody>\n",
       "    <tr>\n",
       "      <th>0</th>\n",
       "      <td>'Merci, mon ami': Biden, Trudeau renew bilater...</td>\n",
       "      <td>So after four years of trade wars, name-callin...</td>\n",
       "      <td>T</td>\n",
       "      <td>-500.0</td>\n",
       "      <td>-600.0</td>\n",
       "      <td>-500.0</td>\n",
       "      <td>-500.0</td>\n",
       "      <td>5</td>\n",
       "      <td>46</td>\n",
       "      <td>0.152300</td>\n",
       "    </tr>\n",
       "    <tr>\n",
       "      <th>1</th>\n",
       "      <td>Democrats' $1.9T Covid aid bill faces the Sena...</td>\n",
       "      <td>MacDonough will dissect the budget impact of e...</td>\n",
       "      <td>T</td>\n",
       "      <td>-600.0</td>\n",
       "      <td>-300.0</td>\n",
       "      <td>-600.0</td>\n",
       "      <td>-600.0</td>\n",
       "      <td>6</td>\n",
       "      <td>50</td>\n",
       "      <td>0.182983</td>\n",
       "    </tr>\n",
       "    <tr>\n",
       "      <th>2</th>\n",
       "      <td>Lawrence Ferlinghetti, poet and activist, dies...</td>\n",
       "      <td>“The dominant American mercantile culture may ...</td>\n",
       "      <td>T</td>\n",
       "      <td>-1200.0</td>\n",
       "      <td>-200.0</td>\n",
       "      <td>-1200.0</td>\n",
       "      <td>-1200.0</td>\n",
       "      <td>12</td>\n",
       "      <td>50</td>\n",
       "      <td>0.365965</td>\n",
       "    </tr>\n",
       "    <tr>\n",
       "      <th>3</th>\n",
       "      <td>‘It can only get better’: Linda Thomas-Greenfi...</td>\n",
       "      <td>U.N. officials told POLITICO they hope to see ...</td>\n",
       "      <td>T</td>\n",
       "      <td>-600.0</td>\n",
       "      <td>-500.0</td>\n",
       "      <td>-600.0</td>\n",
       "      <td>-600.0</td>\n",
       "      <td>6</td>\n",
       "      <td>25</td>\n",
       "      <td>0.181598</td>\n",
       "    </tr>\n",
       "    <tr>\n",
       "      <th>4</th>\n",
       "      <td>Judge rips Capitol rioter’s Trump defense</td>\n",
       "      <td>At numerous bail hearings in the Capitol-riot-...</td>\n",
       "      <td>T</td>\n",
       "      <td>-600.0</td>\n",
       "      <td>-0.0</td>\n",
       "      <td>-600.0</td>\n",
       "      <td>-600.0</td>\n",
       "      <td>6</td>\n",
       "      <td>46</td>\n",
       "      <td>0.182760</td>\n",
       "    </tr>\n",
       "  </tbody>\n",
       "</table>\n",
       "</div>"
      ],
      "text/plain": [
       "                                               links  \\\n",
       "0  'Merci, mon ami': Biden, Trudeau renew bilater...   \n",
       "1  Democrats' $1.9T Covid aid bill faces the Sena...   \n",
       "2  Lawrence Ferlinghetti, poet and activist, dies...   \n",
       "3  ‘It can only get better’: Linda Thomas-Greenfi...   \n",
       "4          Judge rips Capitol rioter’s Trump defense   \n",
       "\n",
       "                                                text value  body punct%  \\\n",
       "0  So after four years of trade wars, name-callin...     T       -500.0   \n",
       "1  MacDonough will dissect the budget impact of e...     T       -600.0   \n",
       "2  “The dominant American mercantile culture may ...     T      -1200.0   \n",
       "3  U.N. officials told POLITICO they hope to see ...     T       -600.0   \n",
       "4  At numerous bail hearings in the Capitol-riot-...     T       -600.0   \n",
       "\n",
       "   title punct%  punct%     try  count_punct  count_ws      try2  \n",
       "0        -600.0  -500.0  -500.0            5        46  0.152300  \n",
       "1        -300.0  -600.0  -600.0            6        50  0.182983  \n",
       "2        -200.0 -1200.0 -1200.0           12        50  0.365965  \n",
       "3        -500.0  -600.0  -600.0            6        25  0.181598  \n",
       "4          -0.0  -600.0  -600.0            6        46  0.182760  "
      ]
     },
     "execution_count": 60,
     "metadata": {},
     "output_type": "execute_result"
    }
   ],
   "source": [
    "dfo.head()"
   ]
  },
  {
   "cell_type": "code",
   "execution_count": 61,
   "metadata": {},
   "outputs": [
    {
     "data": {
      "text/html": [
       "<div>\n",
       "<style scoped>\n",
       "    .dataframe tbody tr th:only-of-type {\n",
       "        vertical-align: middle;\n",
       "    }\n",
       "\n",
       "    .dataframe tbody tr th {\n",
       "        vertical-align: top;\n",
       "    }\n",
       "\n",
       "    .dataframe thead th {\n",
       "        text-align: right;\n",
       "    }\n",
       "</style>\n",
       "<table border=\"1\" class=\"dataframe\">\n",
       "  <thead>\n",
       "    <tr style=\"text-align: right;\">\n",
       "      <th></th>\n",
       "      <th>links</th>\n",
       "      <th>text</th>\n",
       "      <th>value</th>\n",
       "      <th>body punct%</th>\n",
       "      <th>title punct%</th>\n",
       "      <th>punct%</th>\n",
       "      <th>try</th>\n",
       "      <th>count_punct</th>\n",
       "      <th>count_ws</th>\n",
       "      <th>try2</th>\n",
       "      <th>body_len</th>\n",
       "    </tr>\n",
       "  </thead>\n",
       "  <tbody>\n",
       "    <tr>\n",
       "      <th>0</th>\n",
       "      <td>'Merci, mon ami': Biden, Trudeau renew bilater...</td>\n",
       "      <td>So after four years of trade wars, name-callin...</td>\n",
       "      <td>T</td>\n",
       "      <td>-500.0</td>\n",
       "      <td>-600.0</td>\n",
       "      <td>-500.0</td>\n",
       "      <td>-500.0</td>\n",
       "      <td>5</td>\n",
       "      <td>46</td>\n",
       "      <td>0.152300</td>\n",
       "      <td>230</td>\n",
       "    </tr>\n",
       "    <tr>\n",
       "      <th>1</th>\n",
       "      <td>Democrats' $1.9T Covid aid bill faces the Sena...</td>\n",
       "      <td>MacDonough will dissect the budget impact of e...</td>\n",
       "      <td>T</td>\n",
       "      <td>-600.0</td>\n",
       "      <td>-300.0</td>\n",
       "      <td>-600.0</td>\n",
       "      <td>-600.0</td>\n",
       "      <td>6</td>\n",
       "      <td>50</td>\n",
       "      <td>0.182983</td>\n",
       "      <td>290</td>\n",
       "    </tr>\n",
       "    <tr>\n",
       "      <th>2</th>\n",
       "      <td>Lawrence Ferlinghetti, poet and activist, dies...</td>\n",
       "      <td>“The dominant American mercantile culture may ...</td>\n",
       "      <td>T</td>\n",
       "      <td>-1200.0</td>\n",
       "      <td>-200.0</td>\n",
       "      <td>-1200.0</td>\n",
       "      <td>-1200.0</td>\n",
       "      <td>12</td>\n",
       "      <td>50</td>\n",
       "      <td>0.365965</td>\n",
       "      <td>304</td>\n",
       "    </tr>\n",
       "    <tr>\n",
       "      <th>3</th>\n",
       "      <td>‘It can only get better’: Linda Thomas-Greenfi...</td>\n",
       "      <td>U.N. officials told POLITICO they hope to see ...</td>\n",
       "      <td>T</td>\n",
       "      <td>-600.0</td>\n",
       "      <td>-500.0</td>\n",
       "      <td>-600.0</td>\n",
       "      <td>-600.0</td>\n",
       "      <td>6</td>\n",
       "      <td>25</td>\n",
       "      <td>0.181598</td>\n",
       "      <td>143</td>\n",
       "    </tr>\n",
       "    <tr>\n",
       "      <th>4</th>\n",
       "      <td>Judge rips Capitol rioter’s Trump defense</td>\n",
       "      <td>At numerous bail hearings in the Capitol-riot-...</td>\n",
       "      <td>T</td>\n",
       "      <td>-600.0</td>\n",
       "      <td>-0.0</td>\n",
       "      <td>-600.0</td>\n",
       "      <td>-600.0</td>\n",
       "      <td>6</td>\n",
       "      <td>46</td>\n",
       "      <td>0.182760</td>\n",
       "      <td>236</td>\n",
       "    </tr>\n",
       "  </tbody>\n",
       "</table>\n",
       "</div>"
      ],
      "text/plain": [
       "                                               links  \\\n",
       "0  'Merci, mon ami': Biden, Trudeau renew bilater...   \n",
       "1  Democrats' $1.9T Covid aid bill faces the Sena...   \n",
       "2  Lawrence Ferlinghetti, poet and activist, dies...   \n",
       "3  ‘It can only get better’: Linda Thomas-Greenfi...   \n",
       "4          Judge rips Capitol rioter’s Trump defense   \n",
       "\n",
       "                                                text value  body punct%  \\\n",
       "0  So after four years of trade wars, name-callin...     T       -500.0   \n",
       "1  MacDonough will dissect the budget impact of e...     T       -600.0   \n",
       "2  “The dominant American mercantile culture may ...     T      -1200.0   \n",
       "3  U.N. officials told POLITICO they hope to see ...     T       -600.0   \n",
       "4  At numerous bail hearings in the Capitol-riot-...     T       -600.0   \n",
       "\n",
       "   title punct%  punct%     try  count_punct  count_ws      try2  body_len  \n",
       "0        -600.0  -500.0  -500.0            5        46  0.152300       230  \n",
       "1        -300.0  -600.0  -600.0            6        50  0.182983       290  \n",
       "2        -200.0 -1200.0 -1200.0           12        50  0.365965       304  \n",
       "3        -500.0  -600.0  -600.0            6        25  0.181598       143  \n",
       "4          -0.0  -600.0  -600.0            6        46  0.182760       236  "
      ]
     },
     "execution_count": 61,
     "metadata": {},
     "output_type": "execute_result"
    }
   ],
   "source": [
    "dfo['body_len'] = dfo['text'].apply(lambda x: len(x) - x.count(\" \"))\n",
    "\n",
    "dfo.head()"
   ]
  },
  {
   "cell_type": "code",
   "execution_count": 62,
   "metadata": {},
   "outputs": [
    {
     "data": {
      "image/png": "[encoded data removed]",
      "text/plain": [
       "<Figure size 432x288 with 1 Axes>"
      ]
     },
     "metadata": {
      "needs_background": "light"
     },
     "output_type": "display_data"
    }
   ],
   "source": [
    "bins = np.linspace(0, 200, 40)\n",
    "\n",
    "plt.hist(dfo[dfo['value']=='false']['body_len'], bins, alpha=0.5, label='fake')\n",
    "plt.hist(dfo[dfo['value']=='true']['body_len'], bins, alpha=0.5, label='real')\n",
    "plt.legend(loc='upper right')\n",
    "plt.show()"
   ]
  },
  {
   "cell_type": "code",
   "execution_count": 63,
   "metadata": {},
   "outputs": [
    {
     "name": "stdout",
     "output_type": "stream",
     "text": [
      "There are 0 null values\n"
     ]
    }
   ],
   "source": [
    "print('There are {} null values'.format(len(df2)-len(dfo['text'].dropna())))"
   ]
  },
  {
   "cell_type": "code",
   "execution_count": 64,
   "metadata": {},
   "outputs": [
    {
     "data": {
      "image/png": "[encoded data removed]",
      "text/plain": [
       "<Figure size 432x288 with 1 Axes>"
      ]
     },
     "metadata": {
      "needs_background": "light"
     },
     "output_type": "display_data"
    }
   ],
   "source": [
    "bins = np.linspace(0,1, 40)\n",
    "\n",
    "plt.hist(dfo[dfo['value']=='false']['try2'], bins, alpha=0.5, label='fake')\n",
    "plt.hist(dfo[dfo['value']=='true']['try2'], bins, alpha=0.5, label='real')\n",
    "plt.legend(loc='upper right')\n",
    "plt.show()"
   ]
  },
  {
   "cell_type": "code",
   "execution_count": 65,
   "metadata": {},
   "outputs": [
    {
     "data": {
      "image/png": "[encoded data removed]",
      "text/plain": [
       "<Figure size 432x288 with 1 Axes>"
      ]
     },
     "metadata": {
      "needs_background": "light"
     },
     "output_type": "display_data"
    }
   ],
   "source": [
    "bins = np.linspace(0, 700, 40)\n",
    "\n",
    "plt.hist(dfo[dfo['value']=='false']['count_punct'], bins, alpha=0.5, label='fake')\n",
    "plt.hist(dfo[dfo['value']=='true']['count_punct'], bins, alpha=0.5, label='real')\n",
    "plt.legend(loc='upper right')\n",
    "plt.show()"
   ]
  },
  {
   "cell_type": "code",
   "execution_count": 66,
   "metadata": {},
   "outputs": [
    {
     "data": {
      "image/png": "[encoded data removed]",
      "text/plain": [
       "<Figure size 432x288 with 1 Axes>"
      ]
     },
     "metadata": {
      "needs_background": "light"
     },
     "output_type": "display_data"
    }
   ],
   "source": [
    "bins = np.linspace(0, 200, 40)\n",
    "\n",
    "plt.hist(dfo[dfo['value']=='false']['count_ws'], bins, alpha=0.5, label='fake')\n",
    "plt.hist(dfo[dfo['value']=='true']['count_ws'], bins, alpha=0.5, label='real')\n",
    "plt.legend(loc='upper right')\n",
    "plt.show()"
   ]
  },
  {
   "cell_type": "code",
   "execution_count": 67,
   "metadata": {},
   "outputs": [
    {
     "data": {
      "text/plain": [
       "Text(0.5, 1.0, 'Body length dist')"
      ]
     },
     "execution_count": 67,
     "metadata": {},
     "output_type": "execute_result"
    },
    {
     "data": {
      "image/png": "[encoded data removed]",
      "text/plain": [
       "<Figure size 432x288 with 1 Axes>"
      ]
     },
     "metadata": {
      "needs_background": "light"
     },
     "output_type": "display_data"
    }
   ],
   "source": [
    "plt.hist(dfo['body_len'],bins)\n",
    "plt.title('Body length dist')"
   ]
  },
  {
   "cell_type": "code",
   "execution_count": 68,
   "metadata": {},
   "outputs": [
    {
     "data": {
      "text/plain": [
       "Text(0.5, 1.0, 'Punctuation dist')"
      ]
     },
     "execution_count": 68,
     "metadata": {},
     "output_type": "execute_result"
    },
    {
     "data": {
      "image/png": "[encoded data removed]",
      "text/plain": [
       "<Figure size 432x288 with 1 Axes>"
      ]
     },
     "metadata": {
      "needs_background": "light"
     },
     "output_type": "display_data"
    }
   ],
   "source": [
    "plt.hist(dfo['count_punct'],bins)\n",
    "plt.title('Punctuation dist')"
   ]
  },
  {
   "cell_type": "code",
   "execution_count": 69,
   "metadata": {},
   "outputs": [
    {
     "data": {
      "text/plain": [
       "Text(0.5, 1.0, 'White Space length dist')"
      ]
     },
     "execution_count": 69,
     "metadata": {},
     "output_type": "execute_result"
    },
    {
     "data": {
      "image/png": "[encoded data removed]",
      "text/plain": [
       "<Figure size 432x288 with 1 Axes>"
      ]
     },
     "metadata": {
      "needs_background": "light"
     },
     "output_type": "display_data"
    }
   ],
   "source": [
    "plt.hist(dfo['count_ws'],bins)\n",
    "plt.title('White Space length dist')"
   ]
  },
  {
   "cell_type": "code",
   "execution_count": 70,
   "metadata": {},
   "outputs": [
    {
     "data": {
      "text/plain": [
       "Text(0.5, 1.0, 'Body length dist')"
      ]
     },
     "execution_count": 70,
     "metadata": {},
     "output_type": "execute_result"
    },
    {
     "data": {
      "image/png": "[encoded data removed]",
      "text/plain": [
       "<Figure size 432x288 with 1 Axes>"
      ]
     },
     "metadata": {
      "needs_background": "light"
     },
     "output_type": "display_data"
    }
   ],
   "source": [
    "bins = np.linspace(0,1, 40)\n",
    "plt.hist(dfo['try2'],bins)\n",
    "plt.title('Body length dist')"
   ]
  },
  {
   "cell_type": "code",
   "execution_count": 71,
   "metadata": {},
   "outputs": [
    {
     "data": {
      "text/html": [
       "<div>\n",
       "<style scoped>\n",
       "    .dataframe tbody tr th:only-of-type {\n",
       "        vertical-align: middle;\n",
       "    }\n",
       "\n",
       "    .dataframe tbody tr th {\n",
       "        vertical-align: top;\n",
       "    }\n",
       "\n",
       "    .dataframe thead th {\n",
       "        text-align: right;\n",
       "    }\n",
       "</style>\n",
       "<table border=\"1\" class=\"dataframe\">\n",
       "  <thead>\n",
       "    <tr style=\"text-align: right;\">\n",
       "      <th></th>\n",
       "      <th>links</th>\n",
       "      <th>text</th>\n",
       "      <th>value</th>\n",
       "      <th>body punct%</th>\n",
       "      <th>title punct%</th>\n",
       "      <th>punct%</th>\n",
       "      <th>try</th>\n",
       "      <th>count_punct</th>\n",
       "      <th>count_ws</th>\n",
       "      <th>try2</th>\n",
       "      <th>body_len</th>\n",
       "    </tr>\n",
       "  </thead>\n",
       "  <tbody>\n",
       "  </tbody>\n",
       "</table>\n",
       "</div>"
      ],
      "text/plain": [
       "Empty DataFrame\n",
       "Columns: [links, text, value, body punct%, title punct%, punct%, try, count_punct, count_ws, try2, body_len]\n",
       "Index: []"
      ]
     },
     "execution_count": 71,
     "metadata": {},
     "output_type": "execute_result"
    }
   ],
   "source": [
    "dfo[dfo['body_len']==0]"
   ]
  },
  {
   "cell_type": "code",
   "execution_count": 72,
   "metadata": {},
   "outputs": [
    {
     "data": {
      "text/html": [
       "<div>\n",
       "<style scoped>\n",
       "    .dataframe tbody tr th:only-of-type {\n",
       "        vertical-align: middle;\n",
       "    }\n",
       "\n",
       "    .dataframe tbody tr th {\n",
       "        vertical-align: top;\n",
       "    }\n",
       "\n",
       "    .dataframe thead th {\n",
       "        text-align: right;\n",
       "    }\n",
       "</style>\n",
       "<table border=\"1\" class=\"dataframe\">\n",
       "  <thead>\n",
       "    <tr style=\"text-align: right;\">\n",
       "      <th></th>\n",
       "      <th>links</th>\n",
       "      <th>text</th>\n",
       "      <th>value</th>\n",
       "      <th>body punct%</th>\n",
       "      <th>title punct%</th>\n",
       "      <th>punct%</th>\n",
       "      <th>try</th>\n",
       "      <th>count_punct</th>\n",
       "      <th>count_ws</th>\n",
       "      <th>try2</th>\n",
       "      <th>body_len</th>\n",
       "    </tr>\n",
       "  </thead>\n",
       "  <tbody>\n",
       "    <tr>\n",
       "      <th>1</th>\n",
       "      <td>Democrats' $1.9T Covid aid bill faces the Sena...</td>\n",
       "      <td>MacDonough will dissect the budget impact of e...</td>\n",
       "      <td>T</td>\n",
       "      <td>-600.0</td>\n",
       "      <td>-300.0</td>\n",
       "      <td>-600.0</td>\n",
       "      <td>-600.0</td>\n",
       "      <td>6</td>\n",
       "      <td>50</td>\n",
       "      <td>0.182983</td>\n",
       "      <td>290</td>\n",
       "    </tr>\n",
       "    <tr>\n",
       "      <th>2</th>\n",
       "      <td>Lawrence Ferlinghetti, poet and activist, dies...</td>\n",
       "      <td>“The dominant American mercantile culture may ...</td>\n",
       "      <td>T</td>\n",
       "      <td>-1200.0</td>\n",
       "      <td>-200.0</td>\n",
       "      <td>-1200.0</td>\n",
       "      <td>-1200.0</td>\n",
       "      <td>12</td>\n",
       "      <td>50</td>\n",
       "      <td>0.365965</td>\n",
       "      <td>304</td>\n",
       "    </tr>\n",
       "    <tr>\n",
       "      <th>3</th>\n",
       "      <td>‘It can only get better’: Linda Thomas-Greenfi...</td>\n",
       "      <td>U.N. officials told POLITICO they hope to see ...</td>\n",
       "      <td>T</td>\n",
       "      <td>-600.0</td>\n",
       "      <td>-500.0</td>\n",
       "      <td>-600.0</td>\n",
       "      <td>-600.0</td>\n",
       "      <td>6</td>\n",
       "      <td>25</td>\n",
       "      <td>0.181598</td>\n",
       "      <td>143</td>\n",
       "    </tr>\n",
       "    <tr>\n",
       "      <th>4</th>\n",
       "      <td>Judge rips Capitol rioter’s Trump defense</td>\n",
       "      <td>At numerous bail hearings in the Capitol-riot-...</td>\n",
       "      <td>T</td>\n",
       "      <td>-600.0</td>\n",
       "      <td>-0.0</td>\n",
       "      <td>-600.0</td>\n",
       "      <td>-600.0</td>\n",
       "      <td>6</td>\n",
       "      <td>46</td>\n",
       "      <td>0.182760</td>\n",
       "      <td>236</td>\n",
       "    </tr>\n",
       "    <tr>\n",
       "      <th>5</th>\n",
       "      <td>Stephen Miller set to brief House conservatives</td>\n",
       "      <td>The main salvo will be delivered this weekend ...</td>\n",
       "      <td>T</td>\n",
       "      <td>-600.0</td>\n",
       "      <td>-0.0</td>\n",
       "      <td>-600.0</td>\n",
       "      <td>-600.0</td>\n",
       "      <td>6</td>\n",
       "      <td>70</td>\n",
       "      <td>0.184106</td>\n",
       "      <td>415</td>\n",
       "    </tr>\n",
       "  </tbody>\n",
       "</table>\n",
       "</div>"
      ],
      "text/plain": [
       "                                               links  \\\n",
       "1  Democrats' $1.9T Covid aid bill faces the Sena...   \n",
       "2  Lawrence Ferlinghetti, poet and activist, dies...   \n",
       "3  ‘It can only get better’: Linda Thomas-Greenfi...   \n",
       "4          Judge rips Capitol rioter’s Trump defense   \n",
       "5    Stephen Miller set to brief House conservatives   \n",
       "\n",
       "                                                text value  body punct%  \\\n",
       "1  MacDonough will dissect the budget impact of e...     T       -600.0   \n",
       "2  “The dominant American mercantile culture may ...     T      -1200.0   \n",
       "3  U.N. officials told POLITICO they hope to see ...     T       -600.0   \n",
       "4  At numerous bail hearings in the Capitol-riot-...     T       -600.0   \n",
       "5  The main salvo will be delivered this weekend ...     T       -600.0   \n",
       "\n",
       "   title punct%  punct%     try  count_punct  count_ws      try2  body_len  \n",
       "1        -300.0  -600.0  -600.0            6        50  0.182983       290  \n",
       "2        -200.0 -1200.0 -1200.0           12        50  0.365965       304  \n",
       "3        -500.0  -600.0  -600.0            6        25  0.181598       143  \n",
       "4          -0.0  -600.0  -600.0            6        46  0.182760       236  \n",
       "5          -0.0  -600.0  -600.0            6        70  0.184106       415  "
      ]
     },
     "execution_count": 72,
     "metadata": {},
     "output_type": "execute_result"
    }
   ],
   "source": [
    "dfn = dfo.drop(dfo['body_len']==0)\n",
    "dfn.head()"
   ]
  },
  {
   "cell_type": "code",
   "execution_count": 73,
   "metadata": {},
   "outputs": [
    {
     "data": {
      "text/plain": [
       "Text(0.5, 1.0, 'Body length dist')"
      ]
     },
     "execution_count": 73,
     "metadata": {},
     "output_type": "execute_result"
    },
    {
     "data": {
      "image/png": "[encoded data removed]",
      "text/plain": [
       "<Figure size 432x288 with 1 Axes>"
      ]
     },
     "metadata": {
      "needs_background": "light"
     },
     "output_type": "display_data"
    }
   ],
   "source": [
    "bins = np.linspace(0, 200, 40)\n",
    "plt.hist(dfn['body_len'],bins)\n",
    "plt.title('Body length dist')"
   ]
  },
  {
   "cell_type": "code",
   "execution_count": 74,
   "metadata": {},
   "outputs": [
    {
     "data": {
      "text/html": [
       "<div>\n",
       "<style scoped>\n",
       "    .dataframe tbody tr th:only-of-type {\n",
       "        vertical-align: middle;\n",
       "    }\n",
       "\n",
       "    .dataframe tbody tr th {\n",
       "        vertical-align: top;\n",
       "    }\n",
       "\n",
       "    .dataframe thead th {\n",
       "        text-align: right;\n",
       "    }\n",
       "</style>\n",
       "<table border=\"1\" class=\"dataframe\">\n",
       "  <thead>\n",
       "    <tr style=\"text-align: right;\">\n",
       "      <th></th>\n",
       "      <th>links</th>\n",
       "      <th>text</th>\n",
       "      <th>value</th>\n",
       "      <th>body punct%</th>\n",
       "      <th>title punct%</th>\n",
       "      <th>punct%</th>\n",
       "      <th>try</th>\n",
       "      <th>count_punct</th>\n",
       "      <th>count_ws</th>\n",
       "      <th>try2</th>\n",
       "      <th>body_len</th>\n",
       "    </tr>\n",
       "  </thead>\n",
       "  <tbody>\n",
       "  </tbody>\n",
       "</table>\n",
       "</div>"
      ],
      "text/plain": [
       "Empty DataFrame\n",
       "Columns: [links, text, value, body punct%, title punct%, punct%, try, count_punct, count_ws, try2, body_len]\n",
       "Index: []"
      ]
     },
     "execution_count": 74,
     "metadata": {},
     "output_type": "execute_result"
    }
   ],
   "source": [
    "dfn = dfn.replace(0,np.nan)\n",
    "dfn[dfn['body_len']==0]"
   ]
  },
  {
   "cell_type": "code",
   "execution_count": 75,
   "metadata": {},
   "outputs": [],
   "source": [
    "dfn = dfn.dropna()"
   ]
  },
  {
   "cell_type": "code",
   "execution_count": 76,
   "metadata": {},
   "outputs": [
    {
     "data": {
      "text/plain": [
       "Text(0.5, 1.0, 'Body length dist')"
      ]
     },
     "execution_count": 76,
     "metadata": {},
     "output_type": "execute_result"
    },
    {
     "data": {
      "image/png": "[encoded data removed]",
      "text/plain": [
       "<Figure size 432x288 with 1 Axes>"
      ]
     },
     "metadata": {
      "needs_background": "light"
     },
     "output_type": "display_data"
    }
   ],
   "source": [
    "bins = np.linspace(0, 10000, 40)\n",
    "\n",
    "plt.hist(dfn['body_len'],bins)\n",
    "plt.title('Body length dist')"
   ]
  },
  {
   "cell_type": "code",
   "execution_count": 77,
   "metadata": {},
   "outputs": [
    {
     "data": {
      "text/plain": [
       "Text(0.5, 1.0, 'punct % dist')"
      ]
     },
     "execution_count": 77,
     "metadata": {},
     "output_type": "execute_result"
    },
    {
     "data": {
      "image/png": "[encoded data removed]",
      "text/plain": [
       "<Figure size 432x288 with 1 Axes>"
      ]
     },
     "metadata": {
      "needs_background": "light"
     },
     "output_type": "display_data"
    }
   ],
   "source": [
    "bins = np.linspace(0,1, 40)\n",
    "plt.hist(dfo['try2'],bins)\n",
    "plt.title('punct % dist')"
   ]
  },
  {
   "cell_type": "code",
   "execution_count": 78,
   "metadata": {},
   "outputs": [
    {
     "data": {
      "image/png": "[encoded data removed]",
      "text/plain": [
       "<Figure size 432x288 with 1 Axes>"
      ]
     },
     "metadata": {
      "needs_background": "light"
     },
     "output_type": "display_data"
    }
   ],
   "source": [
    "bins = np.linspace(0, 10000, 40)\n",
    "\n",
    "plt.hist(dfn[dfn['value']=='false']['count_ws'], bins, alpha=0.5, label='fake')\n",
    "plt.hist(dfn[dfn['value']=='true']['count_ws'], bins, alpha=0.5, label='real')\n",
    "plt.legend(loc='upper right')\n",
    "plt.title('whitespace count')\n",
    "plt.show()"
   ]
  },
  {
   "cell_type": "code",
   "execution_count": 79,
   "metadata": {},
   "outputs": [
    {
     "data": {
      "image/png": "[encoded data removed]",
      "text/plain": [
       "<Figure size 432x288 with 1 Axes>"
      ]
     },
     "metadata": {
      "needs_background": "light"
     },
     "output_type": "display_data"
    }
   ],
   "source": [
    "bins = np.linspace(0, 300, 40)\n",
    "\n",
    "plt.hist(dfo[dfo['value']=='false']['count_punct'], bins, alpha=0.5, label='fake')\n",
    "plt.hist(dfo[dfo['value']=='true']['count_punct'], bins, alpha=0.5, label='real')\n",
    "plt.legend(loc='upper right')\n",
    "plt.title('punctuation count')\n",
    "plt.show()"
   ]
  },
  {
   "cell_type": "code",
   "execution_count": 80,
   "metadata": {},
   "outputs": [
    {
     "data": {
      "image/png": "[encoded data removed]",
      "text/plain": [
       "<Figure size 432x288 with 1 Axes>"
      ]
     },
     "metadata": {
      "needs_background": "light"
     },
     "output_type": "display_data"
    }
   ],
   "source": [
    "bins = np.linspace(0, 20000, 40)\n",
    "\n",
    "plt.hist(dfn[dfn['value']=='false']['body_len'], bins, alpha=0.5, label='fake')\n",
    "plt.hist(dfn[dfn['value']=='true']['body_len'], bins, alpha=0.5, label='real')\n",
    "plt.legend(loc='upper right')\n",
    "plt.title('Body Length')\n",
    "plt.show()"
   ]
  },
  {
   "cell_type": "code",
   "execution_count": 81,
   "metadata": {},
   "outputs": [
    {
     "data": {
      "image/png": "[encoded data removed]",
      "text/plain": [
       "<Figure size 432x288 with 1 Axes>"
      ]
     },
     "metadata": {
      "needs_background": "light"
     },
     "output_type": "display_data"
    }
   ],
   "source": [
    "bins = np.linspace(0, 10000, 40)\n",
    "\n",
    "plt.hist(dfn[dfn['value']=='false']['body_len'], bins, alpha=0.5, label='fake')\n",
    "plt.hist(dfn[dfn['value']=='true']['body_len'], bins, alpha=0.5, label='real')\n",
    "plt.legend(loc='upper right')\n",
    "plt.title('Body Length')\n",
    "plt.show()"
   ]
  },
  {
   "cell_type": "code",
   "execution_count": 82,
   "metadata": {},
   "outputs": [
    {
     "data": {
      "image/png": "[encoded data removed]",
      "text/plain": [
       "<Figure size 432x288 with 1 Axes>"
      ]
     },
     "metadata": {
      "needs_background": "light"
     },
     "output_type": "display_data"
    },
    {
     "data": {
      "image/png": "[encoded data removed]",
      "text/plain": [
       "<Figure size 432x288 with 1 Axes>"
      ]
     },
     "metadata": {
      "needs_background": "light"
     },
     "output_type": "display_data"
    },
    {
     "data": {
      "image/png": "[encoded data removed]",
      "text/plain": [
       "<Figure size 432x288 with 1 Axes>"
      ]
     },
     "metadata": {
      "needs_background": "light"
     },
     "output_type": "display_data"
    },
    {
     "data": {
      "image/png": "[encoded data removed]",
      "text/plain": [
       "<Figure size 432x288 with 1 Axes>"
      ]
     },
     "metadata": {
      "needs_background": "light"
     },
     "output_type": "display_data"
    },
    {
     "data": {
      "image/png": "[encoded data removed]",
      "text/plain": [
       "<Figure size 432x288 with 1 Axes>"
      ]
     },
     "metadata": {
      "needs_background": "light"
     },
     "output_type": "display_data"
    },
    {
     "data": {
      "image/png": "[encoded data removed]",
      "text/plain": [
       "<Figure size 432x288 with 1 Axes>"
      ]
     },
     "metadata": {
      "needs_background": "light"
     },
     "output_type": "display_data"
    }
   ],
   "source": [
    "for i in [1,2,3,4,5,6]:\n",
    "    plt.hist((dfn['body_len'])**(1/i),bins=40)\n",
    "    plt.title('Trans Body Len 1/{}'.format(str(i)))\n",
    "    plt.show()"
   ]
  },
  {
   "cell_type": "code",
   "execution_count": 83,
   "metadata": {},
   "outputs": [],
   "source": [
    "#body_len 1/5 is the best distrobution\n",
    "dfn['body_len']=(dfn['body_len'])**(1/5)"
   ]
  },
  {
   "cell_type": "code",
   "execution_count": 84,
   "metadata": {},
   "outputs": [
    {
     "data": {
      "image/png": "[encoded data removed]",
      "text/plain": [
       "<Figure size 432x288 with 1 Axes>"
      ]
     },
     "metadata": {
      "needs_background": "light"
     },
     "output_type": "display_data"
    },
    {
     "data": {
      "image/png": "[encoded data removed]",
      "text/plain": [
       "<Figure size 432x288 with 1 Axes>"
      ]
     },
     "metadata": {
      "needs_background": "light"
     },
     "output_type": "display_data"
    },
    {
     "data": {
      "image/png": "[encoded data removed]",
      "text/plain": [
       "<Figure size 432x288 with 1 Axes>"
      ]
     },
     "metadata": {
      "needs_background": "light"
     },
     "output_type": "display_data"
    },
    {
     "data": {
      "image/png": "[encoded data removed]",
      "text/plain": [
       "<Figure size 432x288 with 1 Axes>"
      ]
     },
     "metadata": {
      "needs_background": "light"
     },
     "output_type": "display_data"
    },
    {
     "data": {
      "image/png": "[encoded data removed]",
      "text/plain": [
       "<Figure size 432x288 with 1 Axes>"
      ]
     },
     "metadata": {
      "needs_background": "light"
     },
     "output_type": "display_data"
    },
    {
     "data": {
      "image/png": "[encoded data removed]",
      "text/plain": [
       "<Figure size 432x288 with 1 Axes>"
      ]
     },
     "metadata": {
      "needs_background": "light"
     },
     "output_type": "display_data"
    },
    {
     "data": {
      "image/png": "[encoded data removed]",
      "text/plain": [
       "<Figure size 432x288 with 1 Axes>"
      ]
     },
     "metadata": {
      "needs_background": "light"
     },
     "output_type": "display_data"
    },
    {
     "data": {
      "image/png": "[encoded data removed]",
      "text/plain": [
       "<Figure size 432x288 with 1 Axes>"
      ]
     },
     "metadata": {
      "needs_background": "light"
     },
     "output_type": "display_data"
    },
    {
     "data": {
      "image/png": "[encoded data removed]",
      "text/plain": [
       "<Figure size 432x288 with 1 Axes>"
      ]
     },
     "metadata": {
      "needs_background": "light"
     },
     "output_type": "display_data"
    },
    {
     "data": {
      "image/png": "[encoded data removed]",
      "text/plain": [
       "<Figure size 432x288 with 1 Axes>"
      ]
     },
     "metadata": {
      "needs_background": "light"
     },
     "output_type": "display_data"
    }
   ],
   "source": [
    "for i in [1,2,3,4,5,6,7,8,9,10]:\n",
    "    plt.hist((dfn['count_punct'])**(1/i),bins=40)\n",
    "    plt.title('Trans pnctuation count 1/{}'.format(str(i)))\n",
    "    plt.show()"
   ]
  },
  {
   "cell_type": "code",
   "execution_count": 85,
   "metadata": {},
   "outputs": [],
   "source": [
    "#count_punct 1/9 has the best distrobution\n",
    "dfn['count_punct']=(dfn['count_punct'])**(1/9)"
   ]
  },
  {
   "cell_type": "code",
   "execution_count": 86,
   "metadata": {},
   "outputs": [
    {
     "data": {
      "image/png": "[encoded data removed]",
      "text/plain": [
       "<Figure size 432x288 with 1 Axes>"
      ]
     },
     "metadata": {
      "needs_background": "light"
     },
     "output_type": "display_data"
    },
    {
     "data": {
      "image/png": "[encoded data removed]",
      "text/plain": [
       "<Figure size 432x288 with 1 Axes>"
      ]
     },
     "metadata": {
      "needs_background": "light"
     },
     "output_type": "display_data"
    },
    {
     "data": {
      "image/png": "[encoded data removed]",
      "text/plain": [
       "<Figure size 432x288 with 1 Axes>"
      ]
     },
     "metadata": {
      "needs_background": "light"
     },
     "output_type": "display_data"
    },
    {
     "data": {
      "image/png": "[encoded data removed]",
      "text/plain": [
       "<Figure size 432x288 with 1 Axes>"
      ]
     },
     "metadata": {
      "needs_background": "light"
     },
     "output_type": "display_data"
    },
    {
     "data": {
      "image/png": "[encoded data removed]",
      "text/plain": [
       "<Figure size 432x288 with 1 Axes>"
      ]
     },
     "metadata": {
      "needs_background": "light"
     },
     "output_type": "display_data"
    },
    {
     "data": {
      "image/png": "[encoded data removed]",
      "text/plain": [
       "<Figure size 432x288 with 1 Axes>"
      ]
     },
     "metadata": {
      "needs_background": "light"
     },
     "output_type": "display_data"
    },
    {
     "data": {
      "image/png": "[encoded data removed]",
      "text/plain": [
       "<Figure size 432x288 with 1 Axes>"
      ]
     },
     "metadata": {
      "needs_background": "light"
     },
     "output_type": "display_data"
    },
    {
     "data": {
      "image/png": "[encoded data removed]",
      "text/plain": [
       "<Figure size 432x288 with 1 Axes>"
      ]
     },
     "metadata": {
      "needs_background": "light"
     },
     "output_type": "display_data"
    },
    {
     "data": {
      "image/png": "[encoded data removed]",
      "text/plain": [
       "<Figure size 432x288 with 1 Axes>"
      ]
     },
     "metadata": {
      "needs_background": "light"
     },
     "output_type": "display_data"
    },
    {
     "data": {
      "image/png": "[encoded data removed]",
      "text/plain": [
       "<Figure size 432x288 with 1 Axes>"
      ]
     },
     "metadata": {
      "needs_background": "light"
     },
     "output_type": "display_data"
    }
   ],
   "source": [
    "for i in [1,2,3,4,5,6,7,8,9,10]:\n",
    "    plt.hist((dfn['try2'])**(1/i),bins=40)\n",
    "    plt.title('Trans Body Len 1/{}'.format(str(i)))\n",
    "    plt.show()"
   ]
  },
  {
   "cell_type": "code",
   "execution_count": 87,
   "metadata": {},
   "outputs": [],
   "source": [
    "#puntuation % best at 1/10\n",
    "dfn['try2']=(dfn['try2'])**(1/10)"
   ]
  },
  {
   "cell_type": "code",
   "execution_count": 88,
   "metadata": {},
   "outputs": [
    {
     "data": {
      "text/plain": [
       "Text(0.5, 1.0, 'punct % dist')"
      ]
     },
     "execution_count": 88,
     "metadata": {},
     "output_type": "execute_result"
    },
    {
     "data": {
      "image/png": "[encoded data removed]",
      "text/plain": [
       "<Figure size 432x288 with 1 Axes>"
      ]
     },
     "metadata": {
      "needs_background": "light"
     },
     "output_type": "display_data"
    }
   ],
   "source": [
    "bins = np.linspace(0,0.1, 40)\n",
    "plt.hist(dfn['try2'],bins=40)\n",
    "plt.title('punct % dist')"
   ]
  },
  {
   "cell_type": "code",
   "execution_count": 89,
   "metadata": {},
   "outputs": [
    {
     "data": {
      "image/png": "[encoded data removed]",
      "text/plain": [
       "<Figure size 432x288 with 1 Axes>"
      ]
     },
     "metadata": {
      "needs_background": "light"
     },
     "output_type": "display_data"
    },
    {
     "data": {
      "image/png": "[encoded data removed]",
      "text/plain": [
       "<Figure size 432x288 with 1 Axes>"
      ]
     },
     "metadata": {
      "needs_background": "light"
     },
     "output_type": "display_data"
    },
    {
     "data": {
      "image/png": "[encoded data removed]",
      "text/plain": [
       "<Figure size 432x288 with 1 Axes>"
      ]
     },
     "metadata": {
      "needs_background": "light"
     },
     "output_type": "display_data"
    },
    {
     "data": {
      "image/png": "[encoded data removed]",
      "text/plain": [
       "<Figure size 432x288 with 1 Axes>"
      ]
     },
     "metadata": {
      "needs_background": "light"
     },
     "output_type": "display_data"
    },
    {
     "data": {
      "image/png": "[encoded data removed]",
      "text/plain": [
       "<Figure size 432x288 with 1 Axes>"
      ]
     },
     "metadata": {
      "needs_background": "light"
     },
     "output_type": "display_data"
    },
    {
     "data": {
      "image/png": "[encoded data removed]",
      "text/plain": [
       "<Figure size 432x288 with 1 Axes>"
      ]
     },
     "metadata": {
      "needs_background": "light"
     },
     "output_type": "display_data"
    }
   ],
   "source": [
    "for i in [1,2,3,4,5,6]:\n",
    "    plt.hist((dfn['count_ws'])**(1/i),bins=40)\n",
    "    plt.title('Trans whitespace count 1/{}'.format(str(i)))\n",
    "    plt.show()"
   ]
  },
  {
   "cell_type": "code",
   "execution_count": 90,
   "metadata": {},
   "outputs": [],
   "source": [
    "#whitespace count best at 1/6\n",
    "dfn['count_ws']=(dfn['count_ws'])**(1/6)"
   ]
  },
  {
   "cell_type": "code",
   "execution_count": 91,
   "metadata": {},
   "outputs": [],
   "source": [
    "def count_twitters_user(x):\n",
    "    twitter_username_re = re.compile(r'@([A-Za-z0-9_]+)')\n",
    "    count = len(re.findall(twitter_username_re, x))\n",
    "    return count"
   ]
  },
  {
   "cell_type": "code",
   "execution_count": 92,
   "metadata": {},
   "outputs": [],
   "source": [
    "#fn = pd.read_csv('transformed_data.csv')"
   ]
  },
  {
   "cell_type": "code",
   "execution_count": 93,
   "metadata": {
    "scrolled": true
   },
   "outputs": [
    {
     "data": {
      "text/html": [
       "<div>\n",
       "<style scoped>\n",
       "    .dataframe tbody tr th:only-of-type {\n",
       "        vertical-align: middle;\n",
       "    }\n",
       "\n",
       "    .dataframe tbody tr th {\n",
       "        vertical-align: top;\n",
       "    }\n",
       "\n",
       "    .dataframe thead th {\n",
       "        text-align: right;\n",
       "    }\n",
       "</style>\n",
       "<table border=\"1\" class=\"dataframe\">\n",
       "  <thead>\n",
       "    <tr style=\"text-align: right;\">\n",
       "      <th></th>\n",
       "      <th>links</th>\n",
       "      <th>text</th>\n",
       "      <th>value</th>\n",
       "      <th>body punct%</th>\n",
       "      <th>title punct%</th>\n",
       "      <th>punct%</th>\n",
       "      <th>try</th>\n",
       "      <th>count_punct</th>\n",
       "      <th>count_ws</th>\n",
       "      <th>try2</th>\n",
       "      <th>body_len</th>\n",
       "      <th>twitter</th>\n",
       "    </tr>\n",
       "  </thead>\n",
       "  <tbody>\n",
       "    <tr>\n",
       "      <th>1</th>\n",
       "      <td>Democrats' $1.9T Covid aid bill faces the Sena...</td>\n",
       "      <td>MacDonough will dissect the budget impact of e...</td>\n",
       "      <td>T</td>\n",
       "      <td>-600.0</td>\n",
       "      <td>-300.0</td>\n",
       "      <td>-600.0</td>\n",
       "      <td>-600.0</td>\n",
       "      <td>1.220285</td>\n",
       "      <td>1.919383</td>\n",
       "      <td>0.843803</td>\n",
       "      <td>3.107990</td>\n",
       "      <td>0</td>\n",
       "    </tr>\n",
       "    <tr>\n",
       "      <th>2</th>\n",
       "      <td>Lawrence Ferlinghetti, poet and activist, dies...</td>\n",
       "      <td>“The dominant American mercantile culture may ...</td>\n",
       "      <td>T</td>\n",
       "      <td>-1200.0</td>\n",
       "      <td>-200.0</td>\n",
       "      <td>-1200.0</td>\n",
       "      <td>-1200.0</td>\n",
       "      <td>1.317981</td>\n",
       "      <td>1.919383</td>\n",
       "      <td>0.904365</td>\n",
       "      <td>3.137435</td>\n",
       "      <td>0</td>\n",
       "    </tr>\n",
       "    <tr>\n",
       "      <th>3</th>\n",
       "      <td>‘It can only get better’: Linda Thomas-Greenfi...</td>\n",
       "      <td>U.N. officials told POLITICO they hope to see ...</td>\n",
       "      <td>T</td>\n",
       "      <td>-600.0</td>\n",
       "      <td>-500.0</td>\n",
       "      <td>-600.0</td>\n",
       "      <td>-600.0</td>\n",
       "      <td>1.220285</td>\n",
       "      <td>1.709976</td>\n",
       "      <td>0.843162</td>\n",
       "      <td>2.698157</td>\n",
       "      <td>0</td>\n",
       "    </tr>\n",
       "    <tr>\n",
       "      <th>6</th>\n",
       "      <td>House Freedom Caucus opposes earmarks, setting...</td>\n",
       "      <td>But Republicans — who first banned earmarks wh...</td>\n",
       "      <td>T</td>\n",
       "      <td>-400.0</td>\n",
       "      <td>-100.0</td>\n",
       "      <td>-400.0</td>\n",
       "      <td>-400.0</td>\n",
       "      <td>1.166529</td>\n",
       "      <td>2.053573</td>\n",
       "      <td>0.810894</td>\n",
       "      <td>3.312795</td>\n",
       "      <td>0</td>\n",
       "    </tr>\n",
       "    <tr>\n",
       "      <th>8</th>\n",
       "      <td>Neera Tanden's Senate committee votes postponed</td>\n",
       "      <td>The Congressional Black Caucus is also prepari...</td>\n",
       "      <td>T</td>\n",
       "      <td>-300.0</td>\n",
       "      <td>-100.0</td>\n",
       "      <td>-300.0</td>\n",
       "      <td>-300.0</td>\n",
       "      <td>1.129831</td>\n",
       "      <td>1.799892</td>\n",
       "      <td>0.786913</td>\n",
       "      <td>2.796400</td>\n",
       "      <td>0</td>\n",
       "    </tr>\n",
       "  </tbody>\n",
       "</table>\n",
       "</div>"
      ],
      "text/plain": [
       "                                               links  \\\n",
       "1  Democrats' $1.9T Covid aid bill faces the Sena...   \n",
       "2  Lawrence Ferlinghetti, poet and activist, dies...   \n",
       "3  ‘It can only get better’: Linda Thomas-Greenfi...   \n",
       "6  House Freedom Caucus opposes earmarks, setting...   \n",
       "8    Neera Tanden's Senate committee votes postponed   \n",
       "\n",
       "                                                text value  body punct%  \\\n",
       "1  MacDonough will dissect the budget impact of e...     T       -600.0   \n",
       "2  “The dominant American mercantile culture may ...     T      -1200.0   \n",
       "3  U.N. officials told POLITICO they hope to see ...     T       -600.0   \n",
       "6  But Republicans — who first banned earmarks wh...     T       -400.0   \n",
       "8  The Congressional Black Caucus is also prepari...     T       -300.0   \n",
       "\n",
       "   title punct%  punct%     try  count_punct  count_ws      try2  body_len  \\\n",
       "1        -300.0  -600.0  -600.0     1.220285  1.919383  0.843803  3.107990   \n",
       "2        -200.0 -1200.0 -1200.0     1.317981  1.919383  0.904365  3.137435   \n",
       "3        -500.0  -600.0  -600.0     1.220285  1.709976  0.843162  2.698157   \n",
       "6        -100.0  -400.0  -400.0     1.166529  2.053573  0.810894  3.312795   \n",
       "8        -100.0  -300.0  -300.0     1.129831  1.799892  0.786913  2.796400   \n",
       "\n",
       "   twitter  \n",
       "1        0  \n",
       "2        0  \n",
       "3        0  \n",
       "6        0  \n",
       "8        0  "
      ]
     },
     "execution_count": 93,
     "metadata": {},
     "output_type": "execute_result"
    }
   ],
   "source": [
    "twitter_username_re = re.compile(r'@([A-Za-z0-9_]+)')\n",
    "dfn['twitter'] = dfn.text.apply(lambda x: len(re.findall(twitter_username_re, x)))\n",
    "dfn.head()"
   ]
  },
  {
   "cell_type": "code",
   "execution_count": 94,
   "metadata": {},
   "outputs": [
    {
     "data": {
      "text/html": [
       "<div>\n",
       "<style scoped>\n",
       "    .dataframe tbody tr th:only-of-type {\n",
       "        vertical-align: middle;\n",
       "    }\n",
       "\n",
       "    .dataframe tbody tr th {\n",
       "        vertical-align: top;\n",
       "    }\n",
       "\n",
       "    .dataframe thead th {\n",
       "        text-align: right;\n",
       "    }\n",
       "</style>\n",
       "<table border=\"1\" class=\"dataframe\">\n",
       "  <thead>\n",
       "    <tr style=\"text-align: right;\">\n",
       "      <th></th>\n",
       "      <th>links</th>\n",
       "      <th>text</th>\n",
       "      <th>value</th>\n",
       "      <th>body punct%</th>\n",
       "      <th>title punct%</th>\n",
       "      <th>punct%</th>\n",
       "      <th>try</th>\n",
       "      <th>count_punct</th>\n",
       "      <th>count_ws</th>\n",
       "      <th>try2</th>\n",
       "      <th>body_len</th>\n",
       "      <th>twitter</th>\n",
       "    </tr>\n",
       "  </thead>\n",
       "  <tbody>\n",
       "  </tbody>\n",
       "</table>\n",
       "</div>"
      ],
      "text/plain": [
       "Empty DataFrame\n",
       "Columns: [links, text, value, body punct%, title punct%, punct%, try, count_punct, count_ws, try2, body_len, twitter]\n",
       "Index: []"
      ]
     },
     "execution_count": 94,
     "metadata": {},
     "output_type": "execute_result"
    }
   ],
   "source": [
    "dfn[dfn['twitter']!=0]"
   ]
  },
  {
   "cell_type": "code",
   "execution_count": 95,
   "metadata": {},
   "outputs": [
    {
     "data": {
      "image/png": "[encoded data removed]",
      "text/plain": [
       "<Figure size 432x288 with 1 Axes>"
      ]
     },
     "metadata": {
      "needs_background": "light"
     },
     "output_type": "display_data"
    }
   ],
   "source": [
    "\n",
    "plt.hist(dfn[dfn['value']=='false']['twitter'], label='fake')\n",
    "plt.hist(dfn[dfn['value']=='true']['twitter'], label='real')\n",
    "plt.legend(loc='upper right')\n",
    "plt.title('twitter')\n",
    "plt.show()"
   ]
  },
  {
   "cell_type": "code",
   "execution_count": 96,
   "metadata": {},
   "outputs": [
    {
     "data": {
      "text/plain": [
       "(array([0., 0., 0., 0., 0., 0., 0., 0., 0., 0., 0., 0., 0., 0., 0., 0., 0.,\n",
       "        0., 0., 0., 0., 0., 0., 0., 0., 0., 0., 0., 0., 0., 0., 0., 0., 0.,\n",
       "        0., 0., 0., 0., 0.]),\n",
       " array([0.        , 0.0025641 , 0.00512821, 0.00769231, 0.01025641,\n",
       "        0.01282051, 0.01538462, 0.01794872, 0.02051282, 0.02307692,\n",
       "        0.02564103, 0.02820513, 0.03076923, 0.03333333, 0.03589744,\n",
       "        0.03846154, 0.04102564, 0.04358974, 0.04615385, 0.04871795,\n",
       "        0.05128205, 0.05384615, 0.05641026, 0.05897436, 0.06153846,\n",
       "        0.06410256, 0.06666667, 0.06923077, 0.07179487, 0.07435897,\n",
       "        0.07692308, 0.07948718, 0.08205128, 0.08461538, 0.08717949,\n",
       "        0.08974359, 0.09230769, 0.09487179, 0.0974359 , 0.1       ]),\n",
       " <BarContainer object of 39 artists>)"
      ]
     },
     "execution_count": 96,
     "metadata": {},
     "output_type": "execute_result"
    },
    {
     "data": {
      "image/png": "[encoded data removed]",
      "text/plain": [
       "<Figure size 432x288 with 1 Axes>"
      ]
     },
     "metadata": {
      "needs_background": "light"
     },
     "output_type": "display_data"
    }
   ],
   "source": [
    "plt.hist(dfn[dfn['value']=='False']['twitter'], bins, alpha=0.5, label='fake')"
   ]
  },
  {
   "cell_type": "code",
   "execution_count": 97,
   "metadata": {},
   "outputs": [
    {
     "data": {
      "text/html": [
       "<div>\n",
       "<style scoped>\n",
       "    .dataframe tbody tr th:only-of-type {\n",
       "        vertical-align: middle;\n",
       "    }\n",
       "\n",
       "    .dataframe tbody tr th {\n",
       "        vertical-align: top;\n",
       "    }\n",
       "\n",
       "    .dataframe thead th {\n",
       "        text-align: right;\n",
       "    }\n",
       "</style>\n",
       "<table border=\"1\" class=\"dataframe\">\n",
       "  <thead>\n",
       "    <tr style=\"text-align: right;\">\n",
       "      <th></th>\n",
       "      <th>links</th>\n",
       "      <th>text</th>\n",
       "      <th>value</th>\n",
       "      <th>body punct%</th>\n",
       "      <th>title punct%</th>\n",
       "      <th>punct%</th>\n",
       "      <th>try</th>\n",
       "      <th>count_punct</th>\n",
       "      <th>count_ws</th>\n",
       "      <th>try2</th>\n",
       "      <th>body_len</th>\n",
       "      <th>twitter</th>\n",
       "    </tr>\n",
       "  </thead>\n",
       "  <tbody>\n",
       "    <tr>\n",
       "      <th>0</th>\n",
       "      <td>This Congress is the most diverse ever. But Hi...</td>\n",
       "      <td>Policy staff of color, Brenson argues, would h...</td>\n",
       "      <td>T</td>\n",
       "      <td>-700.0</td>\n",
       "      <td>-200.0</td>\n",
       "      <td>-700.0</td>\n",
       "      <td>-700.0</td>\n",
       "      <td>1.241366</td>\n",
       "      <td>1.878922</td>\n",
       "      <td>0.856754</td>\n",
       "      <td>3.004922</td>\n",
       "      <td>0</td>\n",
       "    </tr>\n",
       "    <tr>\n",
       "      <th>1</th>\n",
       "      <td>Native Americans Finally Have a Cabinet Nomine...</td>\n",
       "      <td>With all that in mind, the Tlingit and Indigen...</td>\n",
       "      <td>T</td>\n",
       "      <td>-800.0</td>\n",
       "      <td>-200.0</td>\n",
       "      <td>-800.0</td>\n",
       "      <td>-800.0</td>\n",
       "      <td>1.259921</td>\n",
       "      <td>2.075782</td>\n",
       "      <td>0.869229</td>\n",
       "      <td>3.346955</td>\n",
       "      <td>0</td>\n",
       "    </tr>\n",
       "    <tr>\n",
       "      <th>2</th>\n",
       "      <td>Merrick Garland Heads For Confirmation Hearing...</td>\n",
       "      <td>\"American Hustle, about the Abscam case; Argo,...</td>\n",
       "      <td>T</td>\n",
       "      <td>-1300.0</td>\n",
       "      <td>-100.0</td>\n",
       "      <td>-1300.0</td>\n",
       "      <td>-1300.0</td>\n",
       "      <td>1.329755</td>\n",
       "      <td>1.925728</td>\n",
       "      <td>0.911661</td>\n",
       "      <td>3.024295</td>\n",
       "      <td>0</td>\n",
       "    </tr>\n",
       "    <tr>\n",
       "      <th>3</th>\n",
       "      <td>This Congress is the most diverse ever. But Hi...</td>\n",
       "      <td>Even though the 117th Congress is historically...</td>\n",
       "      <td>T</td>\n",
       "      <td>-800.0</td>\n",
       "      <td>-200.0</td>\n",
       "      <td>-800.0</td>\n",
       "      <td>-800.0</td>\n",
       "      <td>1.259921</td>\n",
       "      <td>1.967454</td>\n",
       "      <td>0.868642</td>\n",
       "      <td>3.129135</td>\n",
       "      <td>0</td>\n",
       "    </tr>\n",
       "    <tr>\n",
       "      <th>4</th>\n",
       "      <td>Democrats question TV carriers' decisions to h...</td>\n",
       "      <td>“Free speech scholars argue that for a democra...</td>\n",
       "      <td>T</td>\n",
       "      <td>-400.0</td>\n",
       "      <td>-500.0</td>\n",
       "      <td>-400.0</td>\n",
       "      <td>-400.0</td>\n",
       "      <td>1.166529</td>\n",
       "      <td>1.931971</td>\n",
       "      <td>0.810323</td>\n",
       "      <td>3.040848</td>\n",
       "      <td>0</td>\n",
       "    </tr>\n",
       "  </tbody>\n",
       "</table>\n",
       "</div>"
      ],
      "text/plain": [
       "                                               links  \\\n",
       "0  This Congress is the most diverse ever. But Hi...   \n",
       "1  Native Americans Finally Have a Cabinet Nomine...   \n",
       "2  Merrick Garland Heads For Confirmation Hearing...   \n",
       "3  This Congress is the most diverse ever. But Hi...   \n",
       "4  Democrats question TV carriers' decisions to h...   \n",
       "\n",
       "                                                text value  body punct%  \\\n",
       "0  Policy staff of color, Brenson argues, would h...     T       -700.0   \n",
       "1  With all that in mind, the Tlingit and Indigen...     T       -800.0   \n",
       "2  \"American Hustle, about the Abscam case; Argo,...     T      -1300.0   \n",
       "3  Even though the 117th Congress is historically...     T       -800.0   \n",
       "4  “Free speech scholars argue that for a democra...     T       -400.0   \n",
       "\n",
       "   title punct%  punct%     try  count_punct  count_ws      try2  body_len  \\\n",
       "0        -200.0  -700.0  -700.0     1.241366  1.878922  0.856754  3.004922   \n",
       "1        -200.0  -800.0  -800.0     1.259921  2.075782  0.869229  3.346955   \n",
       "2        -100.0 -1300.0 -1300.0     1.329755  1.925728  0.911661  3.024295   \n",
       "3        -200.0  -800.0  -800.0     1.259921  1.967454  0.868642  3.129135   \n",
       "4        -500.0  -400.0  -400.0     1.166529  1.931971  0.810323  3.040848   \n",
       "\n",
       "   twitter  \n",
       "0        0  \n",
       "1        0  \n",
       "2        0  \n",
       "3        0  \n",
       "4        0  "
      ]
     },
     "execution_count": 97,
     "metadata": {},
     "output_type": "execute_result"
    }
   ],
   "source": [
    "dfn = dfn.sample(frac = 1)\n",
    "dfn= dfn.reset_index()\n",
    "del dfn['index']\n",
    "dfn.head()"
   ]
  },
  {
   "cell_type": "code",
   "execution_count": null,
   "metadata": {},
   "outputs": [],
   "source": []
  },
  {
   "cell_type": "code",
   "execution_count": null,
   "metadata": {},
   "outputs": [],
   "source": []
  },
  {
   "cell_type": "code",
   "execution_count": 98,
   "metadata": {},
   "outputs": [],
   "source": [
    "dfn.to_csv('trans.csv',index=False)\n",
    "df2.to_csv('clean.csv',index=False)\n",
    "#X_counts.to_csv('vectorized_data.csv')"
   ]
  },
  {
   "cell_type": "code",
   "execution_count": null,
   "metadata": {},
   "outputs": [],
   "source": []
  }
 ],
 "metadata": {
  "kernelspec": {
   "display_name": "Python 3",
   "language": "python",
   "name": "python3"
  },
  "language_info": {
   "codemirror_mode": {
    "name": "ipython",
    "version": 3
   },
   "file_extension": ".py",
   "mimetype": "text/x-python",
   "name": "python",
   "nbconvert_exporter": "python",
   "pygments_lexer": "ipython3",
   "version": "3.8.5"
  }
 },
 "nbformat": 4,
 "nbformat_minor": 4
}

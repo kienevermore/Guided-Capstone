{
 "cells": [
  {
   "cell_type": "code",
   "execution_count": 1,
   "metadata": {},
   "outputs": [],
   "source": [
    "import pandas as pd\n",
    "import numpy as np\n",
    "import requests\n",
    "from bs4 import BeautifulSoup\n",
    "import matplotlib.pyplot as plt\n",
    "import missingno as msno\n"
   ]
  },
  {
   "cell_type": "code",
   "execution_count": 2,
   "metadata": {},
   "outputs": [],
   "source": [
    "fake = pd.read_csv('fake.csv')\n",
    "true = pd.read_csv('true.csv')"
   ]
  },
  {
   "cell_type": "code",
   "execution_count": 3,
   "metadata": {},
   "outputs": [
    {
     "data": {
      "text/plain": [
       "(23481, 4)"
      ]
     },
     "execution_count": 3,
     "metadata": {},
     "output_type": "execute_result"
    }
   ],
   "source": [
    "fake.shape"
   ]
  },
  {
   "cell_type": "code",
   "execution_count": 4,
   "metadata": {},
   "outputs": [
    {
     "data": {
      "text/plain": [
       "(21417, 4)"
      ]
     },
     "execution_count": 4,
     "metadata": {},
     "output_type": "execute_result"
    }
   ],
   "source": [
    "true.shape"
   ]
  },
  {
   "cell_type": "markdown",
   "metadata": {},
   "source": [
    "Using the shapes I see that the true stories have 21417 rows and the fake has 23481 rows.  Using this I am going to use 70% of each to train the data and merge the remaining 30% into a new dataframe two see if the program can differentiate the two.  I went ahead and used a calculator, but will try to do this in here."
   ]
  },
  {
   "cell_type": "code",
   "execution_count": 5,
   "metadata": {},
   "outputs": [],
   "source": [
    "test =pd.DataFrame() "
   ]
  },
  {
   "cell_type": "code",
   "execution_count": 6,
   "metadata": {},
   "outputs": [],
   "source": [
    "def dovide(x,y):\n",
    "    n=70\n",
    "    m=30\n",
    "    x = x.head(int(len(x)*(n/100)))\n",
    "    y = y.head(int(len(y)*(n/100)))\n",
    "    fir =y.tail(int(len(y)*(m/100)))\n",
    "    nex = x.tail(int(len(x)*(m/100)))\n",
    "    test = pd.concat([fir, nex], ignore_index=True)\n",
    "    return test\n",
    "    \n",
    "    "
   ]
  },
  {
   "cell_type": "code",
   "execution_count": 7,
   "metadata": {},
   "outputs": [],
   "source": [
    "test = dovide(fake,true)"
   ]
  },
  {
   "cell_type": "code",
   "execution_count": 8,
   "metadata": {},
   "outputs": [
    {
     "data": {
      "text/plain": [
       "(9427, 4)"
      ]
     },
     "execution_count": 8,
     "metadata": {},
     "output_type": "execute_result"
    }
   ],
   "source": [
    "test.shape"
   ]
  },
  {
   "cell_type": "code",
   "execution_count": 9,
   "metadata": {},
   "outputs": [],
   "source": [
    "fake = fake.head(int(len(fake)*(70/100)))\n",
    "true = true.head(int(len(true)*(70/100)))"
   ]
  },
  {
   "cell_type": "code",
   "execution_count": 10,
   "metadata": {},
   "outputs": [
    {
     "name": "stdout",
     "output_type": "stream",
     "text": [
      "(9427, 4)\n",
      "(14991, 4)\n",
      "(16436, 4)\n"
     ]
    }
   ],
   "source": [
    "print(test.shape)\n",
    "print(true.shape)\n",
    "print(fake.shape)"
   ]
  },
  {
   "cell_type": "markdown",
   "metadata": {},
   "source": [
    "there was some data loss there, but it was 4000 out of the 40000 total rows, I will continue for now and discuss why later."
   ]
  },
  {
   "cell_type": "code",
   "execution_count": 11,
   "metadata": {},
   "outputs": [
    {
     "name": "stdout",
     "output_type": "stream",
     "text": [
      "                                               title  \\\n",
      "0  testSupreme Court temporarily blocks Louisiana...   \n",
      "1  testWhite House adviser Rhodes to meet with Cu...   \n",
      "2  testForeign policy thinkers praised by Trump h...   \n",
      "3  testRepublican candidate Trump reverses stance...   \n",
      "4  testLatest Hillary Clinton bio for kids highli...   \n",
      "\n",
      "                                                text           subject  \\\n",
      "0  testWASHINGTON (Reuters) - The Supreme Court, ...  testpoliticsNews   \n",
      "1  testWASHINGTON (Reuters) - President Barack Ob...  testpoliticsNews   \n",
      "2  testWASHINGTON (Reuters) - If Americans were l...  testpoliticsNews   \n",
      "3  testWASHINGTON (Reuters) - Republican presiden...  testpoliticsNews   \n",
      "4  testPOTOMAC, Md. (Reuters) - As Hillary Clinto...  testpoliticsNews   \n",
      "\n",
      "                 date  \n",
      "0  testMarch 4, 2016   \n",
      "1  testMarch 4, 2016   \n",
      "2  testMarch 4, 2016   \n",
      "3  testMarch 4, 2016   \n",
      "4  testMarch 4, 2016   \n",
      "                                               title  \\\n",
      "0  fake Donald Trump Sends Out Embarrassing New Y...   \n",
      "1  fake Drunk Bragging Trump Staffer Started Russ...   \n",
      "2  fake Sheriff David Clarke Becomes An Internet ...   \n",
      "3  fake Trump Is So Obsessed He Even Has Obama’s ...   \n",
      "4  fake Pope Francis Just Called Out Donald Trump...   \n",
      "\n",
      "                                                text   subject  \\\n",
      "0  fakeDonald Trump just couldn t wish all Americ...  fakeNews   \n",
      "1  fakeHouse Intelligence Committee Chairman Devi...  fakeNews   \n",
      "2  fakeOn Friday, it was revealed that former Mil...  fakeNews   \n",
      "3  fakeOn Christmas day, Donald Trump announced t...  fakeNews   \n",
      "4  fakePope Francis used his annual Christmas Day...  fakeNews   \n",
      "\n",
      "                    date  \n",
      "0  fakeDecember 31, 2017  \n",
      "1  fakeDecember 31, 2017  \n",
      "2  fakeDecember 30, 2017  \n",
      "3  fakeDecember 29, 2017  \n",
      "4  fakeDecember 25, 2017  \n",
      "                                               title  \\\n",
      "0  trueAs U.S. budget fight looms, Republicans fl...   \n",
      "1  trueU.S. military to accept transgender recrui...   \n",
      "2  trueSenior U.S. Republican senator: 'Let Mr. M...   \n",
      "3  trueFBI Russia probe helped by Australian dipl...   \n",
      "4  trueTrump wants Postal Service to charge 'much...   \n",
      "\n",
      "                                                text           subject  \\\n",
      "0  trueWASHINGTON (Reuters) - The head of a conse...  truepoliticsNews   \n",
      "1  trueWASHINGTON (Reuters) - Transgender people ...  truepoliticsNews   \n",
      "2  trueWASHINGTON (Reuters) - The special counsel...  truepoliticsNews   \n",
      "3  trueWASHINGTON (Reuters) - Trump campaign advi...  truepoliticsNews   \n",
      "4  trueSEATTLE/WASHINGTON (Reuters) - President D...  truepoliticsNews   \n",
      "\n",
      "                     date  \n",
      "0  trueDecember 31, 2017   \n",
      "1  trueDecember 29, 2017   \n",
      "2  trueDecember 31, 2017   \n",
      "3  trueDecember 30, 2017   \n",
      "4  trueDecember 29, 2017   \n"
     ]
    }
   ],
   "source": [
    "print('test'+test.head())\n",
    "print('fake'+fake.head())\n",
    "print('true'+true.head())"
   ]
  },
  {
   "cell_type": "code",
   "execution_count": 12,
   "metadata": {},
   "outputs": [
    {
     "data": {
      "text/plain": [
       "RangeIndex(start=0, stop=9427, step=1)"
      ]
     },
     "execution_count": 12,
     "metadata": {},
     "output_type": "execute_result"
    }
   ],
   "source": [
    "test.index"
   ]
  },
  {
   "cell_type": "code",
   "execution_count": 13,
   "metadata": {},
   "outputs": [],
   "source": [
    "test=test.reset_index()"
   ]
  },
  {
   "cell_type": "code",
   "execution_count": 14,
   "metadata": {},
   "outputs": [
    {
     "name": "stdout",
     "output_type": "stream",
     "text": [
      "<class 'pandas.core.frame.DataFrame'>\n",
      "RangeIndex: 9427 entries, 0 to 9426\n",
      "Data columns (total 5 columns):\n",
      " #   Column   Non-Null Count  Dtype \n",
      "---  ------   --------------  ----- \n",
      " 0   index    9427 non-null   int64 \n",
      " 1   title    9427 non-null   object\n",
      " 2   text     9427 non-null   object\n",
      " 3   subject  9427 non-null   object\n",
      " 4   date     9427 non-null   object\n",
      "dtypes: int64(1), object(4)\n",
      "memory usage: 368.4+ KB\n"
     ]
    }
   ],
   "source": [
    "test.info()"
   ]
  },
  {
   "cell_type": "code",
   "execution_count": 15,
   "metadata": {},
   "outputs": [],
   "source": [
    "ptest=pd.pivot_table(test,values='text',index=['date','title'], columns = ['subject'],aggfunc='first')"
   ]
  },
  {
   "cell_type": "code",
   "execution_count": 16,
   "metadata": {},
   "outputs": [
    {
     "data": {
      "text/html": [
       "<div>\n",
       "<style scoped>\n",
       "    .dataframe tbody tr th:only-of-type {\n",
       "        vertical-align: middle;\n",
       "    }\n",
       "\n",
       "    .dataframe tbody tr th {\n",
       "        vertical-align: top;\n",
       "    }\n",
       "\n",
       "    .dataframe thead th {\n",
       "        text-align: right;\n",
       "    }\n",
       "</style>\n",
       "<table border=\"1\" class=\"dataframe\">\n",
       "  <thead>\n",
       "    <tr style=\"text-align: right;\">\n",
       "      <th></th>\n",
       "      <th>subject</th>\n",
       "      <th>Government News</th>\n",
       "      <th>politics</th>\n",
       "      <th>politicsNews</th>\n",
       "      <th>worldnews</th>\n",
       "    </tr>\n",
       "    <tr>\n",
       "      <th>date</th>\n",
       "      <th>title</th>\n",
       "      <th></th>\n",
       "      <th></th>\n",
       "      <th></th>\n",
       "      <th></th>\n",
       "    </tr>\n",
       "  </thead>\n",
       "  <tbody>\n",
       "    <tr>\n",
       "      <th>Apr 1, 2015</th>\n",
       "      <th>MUSLIM WOMAN ARRESTED FOR SPITTING ON HER FELLOW WHITE WALMART SHOPPERS BUT WHAT HAPPENS NEXT IS MORE UPSETTING</th>\n",
       "      <td>NaN</td>\n",
       "      <td>This woman s having trouble entering the Walma...</td>\n",
       "      <td>NaN</td>\n",
       "      <td>NaN</td>\n",
       "    </tr>\n",
       "    <tr>\n",
       "      <th rowspan=\"2\" valign=\"top\">Apr 1, 2016</th>\n",
       "      <th>LAWSUIT SEEKS OBAMA Info In Corruption Case: “The Chicago way shouldn’t trump the American people’s right to know.”</th>\n",
       "      <td>NaN</td>\n",
       "      <td>Thank goodness for Judicial Watch! Over and ov...</td>\n",
       "      <td>NaN</td>\n",
       "      <td>NaN</td>\n",
       "    </tr>\n",
       "    <tr>\n",
       "      <th>WHILE WE’RE DEBATING CRUZ VS TRUMP: Listen To What GOP Elites Have In Store For Us [Video]</th>\n",
       "      <td>NaN</td>\n",
       "      <td>AUDIO OF KARL ROVE ON HUGH HEWITT   Picking   ...</td>\n",
       "      <td>NaN</td>\n",
       "      <td>NaN</td>\n",
       "    </tr>\n",
       "    <tr>\n",
       "      <th rowspan=\"2\" valign=\"top\">Apr 1, 2017</th>\n",
       "      <th>BONKERS BERNIE SANDERS: Prioritizing Jobs Over Climate Change Is ‘Stupid and Dangerous’ [Video]</th>\n",
       "      <td>https://www.youtube.com/watch?v=GPqQIlWksbgVer...</td>\n",
       "      <td>NaN</td>\n",
       "      <td>NaN</td>\n",
       "      <td>NaN</td>\n",
       "    </tr>\n",
       "    <tr>\n",
       "      <th>BUSTED! CLINTON ADVISOR JOHN PODESTA Paid BIG Money By Russia [Video]</th>\n",
       "      <td>Russia gave John Podesta 35 millions dollars (...</td>\n",
       "      <td>NaN</td>\n",
       "      <td>NaN</td>\n",
       "      <td>NaN</td>\n",
       "    </tr>\n",
       "  </tbody>\n",
       "</table>\n",
       "</div>"
      ],
      "text/plain": [
       "subject                                                                                           Government News  \\\n",
       "date        title                                                                                                   \n",
       "Apr 1, 2015 MUSLIM WOMAN ARRESTED FOR SPITTING ON HER FELLO...                                                NaN   \n",
       "Apr 1, 2016 LAWSUIT SEEKS OBAMA Info In Corruption Case: “T...                                                NaN   \n",
       "            WHILE WE’RE DEBATING CRUZ VS TRUMP: Listen To W...                                                NaN   \n",
       "Apr 1, 2017 BONKERS BERNIE SANDERS: Prioritizing Jobs Over ...  https://www.youtube.com/watch?v=GPqQIlWksbgVer...   \n",
       "            BUSTED! CLINTON ADVISOR JOHN PODESTA Paid BIG M...  Russia gave John Podesta 35 millions dollars (...   \n",
       "\n",
       "subject                                                                                                  politics  \\\n",
       "date        title                                                                                                   \n",
       "Apr 1, 2015 MUSLIM WOMAN ARRESTED FOR SPITTING ON HER FELLO...  This woman s having trouble entering the Walma...   \n",
       "Apr 1, 2016 LAWSUIT SEEKS OBAMA Info In Corruption Case: “T...  Thank goodness for Judicial Watch! Over and ov...   \n",
       "            WHILE WE’RE DEBATING CRUZ VS TRUMP: Listen To W...  AUDIO OF KARL ROVE ON HUGH HEWITT   Picking   ...   \n",
       "Apr 1, 2017 BONKERS BERNIE SANDERS: Prioritizing Jobs Over ...                                                NaN   \n",
       "            BUSTED! CLINTON ADVISOR JOHN PODESTA Paid BIG M...                                                NaN   \n",
       "\n",
       "subject                                                        politicsNews  \\\n",
       "date        title                                                             \n",
       "Apr 1, 2015 MUSLIM WOMAN ARRESTED FOR SPITTING ON HER FELLO...          NaN   \n",
       "Apr 1, 2016 LAWSUIT SEEKS OBAMA Info In Corruption Case: “T...          NaN   \n",
       "            WHILE WE’RE DEBATING CRUZ VS TRUMP: Listen To W...          NaN   \n",
       "Apr 1, 2017 BONKERS BERNIE SANDERS: Prioritizing Jobs Over ...          NaN   \n",
       "            BUSTED! CLINTON ADVISOR JOHN PODESTA Paid BIG M...          NaN   \n",
       "\n",
       "subject                                                        worldnews  \n",
       "date        title                                                         \n",
       "Apr 1, 2015 MUSLIM WOMAN ARRESTED FOR SPITTING ON HER FELLO...       NaN  \n",
       "Apr 1, 2016 LAWSUIT SEEKS OBAMA Info In Corruption Case: “T...       NaN  \n",
       "            WHILE WE’RE DEBATING CRUZ VS TRUMP: Listen To W...       NaN  \n",
       "Apr 1, 2017 BONKERS BERNIE SANDERS: Prioritizing Jobs Over ...       NaN  \n",
       "            BUSTED! CLINTON ADVISOR JOHN PODESTA Paid BIG M...       NaN  "
      ]
     },
     "execution_count": 16,
     "metadata": {},
     "output_type": "execute_result"
    }
   ],
   "source": [
    "ptest.head()"
   ]
  },
  {
   "cell_type": "code",
   "execution_count": 17,
   "metadata": {},
   "outputs": [
    {
     "data": {
      "text/html": [
       "<div>\n",
       "<style scoped>\n",
       "    .dataframe tbody tr th:only-of-type {\n",
       "        vertical-align: middle;\n",
       "    }\n",
       "\n",
       "    .dataframe tbody tr th {\n",
       "        vertical-align: top;\n",
       "    }\n",
       "\n",
       "    .dataframe thead th {\n",
       "        text-align: right;\n",
       "    }\n",
       "</style>\n",
       "<table border=\"1\" class=\"dataframe\">\n",
       "  <thead>\n",
       "    <tr style=\"text-align: right;\">\n",
       "      <th></th>\n",
       "      <th>subject</th>\n",
       "      <th>Government News</th>\n",
       "      <th>politics</th>\n",
       "      <th>politicsNews</th>\n",
       "      <th>worldnews</th>\n",
       "    </tr>\n",
       "    <tr>\n",
       "      <th>date</th>\n",
       "      <th>title</th>\n",
       "      <th></th>\n",
       "      <th></th>\n",
       "      <th></th>\n",
       "      <th></th>\n",
       "    </tr>\n",
       "  </thead>\n",
       "  <tbody>\n",
       "    <tr>\n",
       "      <th>Sep 9, 2017</th>\n",
       "      <th>What Sign Language is This? Man Causes A Stir On Social Media During Gov. Scott’s Florida Presser on #HurricaneIrma [Video]</th>\n",
       "      <td>The man giving out sign language during Govern...</td>\n",
       "      <td>NaN</td>\n",
       "      <td>NaN</td>\n",
       "      <td>NaN</td>\n",
       "    </tr>\n",
       "    <tr>\n",
       "      <th>https://100percentfedup.com/12-yr-old-black-conservative-whose-video-to-obama-went-viral-do-you-really-love-america-receives-death-threats-from-left/</th>\n",
       "      <th>https://100percentfedup.com/12-yr-old-black-conservative-whose-video-to-obama-went-viral-do-you-really-love-america-receives-death-threats-from-left/</th>\n",
       "      <td>NaN</td>\n",
       "      <td>https://100percentfedup.com/12-yr-old-black-co...</td>\n",
       "      <td>NaN</td>\n",
       "      <td>NaN</td>\n",
       "    </tr>\n",
       "    <tr>\n",
       "      <th>https://100percentfedup.com/video-hillary-asked-about-trump-i-just-want-to-eat-some-pie/</th>\n",
       "      <th>https://100percentfedup.com/video-hillary-asked-about-trump-i-just-want-to-eat-some-pie/</th>\n",
       "      <td>NaN</td>\n",
       "      <td>https://100percentfedup.com/video-hillary-aske...</td>\n",
       "      <td>NaN</td>\n",
       "      <td>NaN</td>\n",
       "    </tr>\n",
       "    <tr>\n",
       "      <th>https://fedup.wpengine.com/wp-content/uploads/2015/04/entitled.jpg</th>\n",
       "      <th>https://fedup.wpengine.com/wp-content/uploads/2015/04/entitled.jpg</th>\n",
       "      <td>NaN</td>\n",
       "      <td>https://fedup.wpengine.com/wp-content/uploads/...</td>\n",
       "      <td>NaN</td>\n",
       "      <td>NaN</td>\n",
       "    </tr>\n",
       "    <tr>\n",
       "      <th>https://fedup.wpengine.com/wp-content/uploads/2015/04/hillarystreetart.jpg</th>\n",
       "      <th>https://fedup.wpengine.com/wp-content/uploads/2015/04/hillarystreetart.jpg</th>\n",
       "      <td>NaN</td>\n",
       "      <td>https://fedup.wpengine.com/wp-content/uploads/...</td>\n",
       "      <td>NaN</td>\n",
       "      <td>NaN</td>\n",
       "    </tr>\n",
       "  </tbody>\n",
       "</table>\n",
       "</div>"
      ],
      "text/plain": [
       "subject                                                                                                                                  Government News  \\\n",
       "date                                               title                                                                                                   \n",
       "Sep 9, 2017                                        What Sign Language is This? Man Causes A Stir O...  The man giving out sign language during Govern...   \n",
       "https://100percentfedup.com/12-yr-old-black-con... https://100percentfedup.com/12-yr-old-black-con...                                                NaN   \n",
       "https://100percentfedup.com/video-hillary-asked... https://100percentfedup.com/video-hillary-asked...                                                NaN   \n",
       "https://fedup.wpengine.com/wp-content/uploads/2... https://fedup.wpengine.com/wp-content/uploads/2...                                                NaN   \n",
       "https://fedup.wpengine.com/wp-content/uploads/2... https://fedup.wpengine.com/wp-content/uploads/2...                                                NaN   \n",
       "\n",
       "subject                                                                                                                                         politics  \\\n",
       "date                                               title                                                                                                   \n",
       "Sep 9, 2017                                        What Sign Language is This? Man Causes A Stir O...                                                NaN   \n",
       "https://100percentfedup.com/12-yr-old-black-con... https://100percentfedup.com/12-yr-old-black-con...  https://100percentfedup.com/12-yr-old-black-co...   \n",
       "https://100percentfedup.com/video-hillary-asked... https://100percentfedup.com/video-hillary-asked...  https://100percentfedup.com/video-hillary-aske...   \n",
       "https://fedup.wpengine.com/wp-content/uploads/2... https://fedup.wpengine.com/wp-content/uploads/2...  https://fedup.wpengine.com/wp-content/uploads/...   \n",
       "https://fedup.wpengine.com/wp-content/uploads/2... https://fedup.wpengine.com/wp-content/uploads/2...  https://fedup.wpengine.com/wp-content/uploads/...   \n",
       "\n",
       "subject                                                                                               politicsNews  \\\n",
       "date                                               title                                                             \n",
       "Sep 9, 2017                                        What Sign Language is This? Man Causes A Stir O...          NaN   \n",
       "https://100percentfedup.com/12-yr-old-black-con... https://100percentfedup.com/12-yr-old-black-con...          NaN   \n",
       "https://100percentfedup.com/video-hillary-asked... https://100percentfedup.com/video-hillary-asked...          NaN   \n",
       "https://fedup.wpengine.com/wp-content/uploads/2... https://fedup.wpengine.com/wp-content/uploads/2...          NaN   \n",
       "https://fedup.wpengine.com/wp-content/uploads/2... https://fedup.wpengine.com/wp-content/uploads/2...          NaN   \n",
       "\n",
       "subject                                                                                               worldnews  \n",
       "date                                               title                                                         \n",
       "Sep 9, 2017                                        What Sign Language is This? Man Causes A Stir O...       NaN  \n",
       "https://100percentfedup.com/12-yr-old-black-con... https://100percentfedup.com/12-yr-old-black-con...       NaN  \n",
       "https://100percentfedup.com/video-hillary-asked... https://100percentfedup.com/video-hillary-asked...       NaN  \n",
       "https://fedup.wpengine.com/wp-content/uploads/2... https://fedup.wpengine.com/wp-content/uploads/2...       NaN  \n",
       "https://fedup.wpengine.com/wp-content/uploads/2... https://fedup.wpengine.com/wp-content/uploads/2...       NaN  "
      ]
     },
     "execution_count": 17,
     "metadata": {},
     "output_type": "execute_result"
    }
   ],
   "source": [
    "ptest.tail()"
   ]
  },
  {
   "cell_type": "code",
   "execution_count": 18,
   "metadata": {},
   "outputs": [
    {
     "data": {
      "text/html": [
       "<div>\n",
       "<style scoped>\n",
       "    .dataframe tbody tr th:only-of-type {\n",
       "        vertical-align: middle;\n",
       "    }\n",
       "\n",
       "    .dataframe tbody tr th {\n",
       "        vertical-align: top;\n",
       "    }\n",
       "\n",
       "    .dataframe thead th {\n",
       "        text-align: right;\n",
       "    }\n",
       "</style>\n",
       "<table border=\"1\" class=\"dataframe\">\n",
       "  <thead>\n",
       "    <tr style=\"text-align: right;\">\n",
       "      <th></th>\n",
       "      <th>subject</th>\n",
       "      <th>Government News</th>\n",
       "      <th>politics</th>\n",
       "      <th>politicsNews</th>\n",
       "      <th>worldnews</th>\n",
       "    </tr>\n",
       "    <tr>\n",
       "      <th>date</th>\n",
       "      <th>title</th>\n",
       "      <th></th>\n",
       "      <th></th>\n",
       "      <th></th>\n",
       "      <th></th>\n",
       "    </tr>\n",
       "  </thead>\n",
       "  <tbody>\n",
       "    <tr>\n",
       "      <th rowspan=\"2\" valign=\"top\">Sep 9, 2017</th>\n",
       "      <th>DC Park Police Raid and Tear Down ‘Anti-Trump’ Camp Occupying DC Park [VIDEO]</th>\n",
       "      <td>Officials allegedly affiliated with the United...</td>\n",
       "      <td>NaN</td>\n",
       "      <td>NaN</td>\n",
       "      <td>NaN</td>\n",
       "    </tr>\n",
       "    <tr>\n",
       "      <th>What Sign Language is This? Man Causes A Stir On Social Media During Gov. Scott’s Florida Presser on #HurricaneIrma [Video]</th>\n",
       "      <td>The man giving out sign language during Govern...</td>\n",
       "      <td>NaN</td>\n",
       "      <td>NaN</td>\n",
       "      <td>NaN</td>\n",
       "    </tr>\n",
       "    <tr>\n",
       "      <th>https://100percentfedup.com/12-yr-old-black-conservative-whose-video-to-obama-went-viral-do-you-really-love-america-receives-death-threats-from-left/</th>\n",
       "      <th>https://100percentfedup.com/12-yr-old-black-conservative-whose-video-to-obama-went-viral-do-you-really-love-america-receives-death-threats-from-left/</th>\n",
       "      <td>NaN</td>\n",
       "      <td>https://100percentfedup.com/12-yr-old-black-co...</td>\n",
       "      <td>NaN</td>\n",
       "      <td>NaN</td>\n",
       "    </tr>\n",
       "    <tr>\n",
       "      <th>https://100percentfedup.com/video-hillary-asked-about-trump-i-just-want-to-eat-some-pie/</th>\n",
       "      <th>https://100percentfedup.com/video-hillary-asked-about-trump-i-just-want-to-eat-some-pie/</th>\n",
       "      <td>NaN</td>\n",
       "      <td>https://100percentfedup.com/video-hillary-aske...</td>\n",
       "      <td>NaN</td>\n",
       "      <td>NaN</td>\n",
       "    </tr>\n",
       "    <tr>\n",
       "      <th>https://fedup.wpengine.com/wp-content/uploads/2015/04/entitled.jpg</th>\n",
       "      <th>https://fedup.wpengine.com/wp-content/uploads/2015/04/entitled.jpg</th>\n",
       "      <td>NaN</td>\n",
       "      <td>https://fedup.wpengine.com/wp-content/uploads/...</td>\n",
       "      <td>NaN</td>\n",
       "      <td>NaN</td>\n",
       "    </tr>\n",
       "  </tbody>\n",
       "</table>\n",
       "</div>"
      ],
      "text/plain": [
       "subject                                                                                                                                  Government News  \\\n",
       "date                                               title                                                                                                   \n",
       "Sep 9, 2017                                        DC Park Police Raid and Tear Down ‘Anti-Trump’ ...  Officials allegedly affiliated with the United...   \n",
       "                                                   What Sign Language is This? Man Causes A Stir O...  The man giving out sign language during Govern...   \n",
       "https://100percentfedup.com/12-yr-old-black-con... https://100percentfedup.com/12-yr-old-black-con...                                                NaN   \n",
       "https://100percentfedup.com/video-hillary-asked... https://100percentfedup.com/video-hillary-asked...                                                NaN   \n",
       "https://fedup.wpengine.com/wp-content/uploads/2... https://fedup.wpengine.com/wp-content/uploads/2...                                                NaN   \n",
       "\n",
       "subject                                                                                                                                         politics  \\\n",
       "date                                               title                                                                                                   \n",
       "Sep 9, 2017                                        DC Park Police Raid and Tear Down ‘Anti-Trump’ ...                                                NaN   \n",
       "                                                   What Sign Language is This? Man Causes A Stir O...                                                NaN   \n",
       "https://100percentfedup.com/12-yr-old-black-con... https://100percentfedup.com/12-yr-old-black-con...  https://100percentfedup.com/12-yr-old-black-co...   \n",
       "https://100percentfedup.com/video-hillary-asked... https://100percentfedup.com/video-hillary-asked...  https://100percentfedup.com/video-hillary-aske...   \n",
       "https://fedup.wpengine.com/wp-content/uploads/2... https://fedup.wpengine.com/wp-content/uploads/2...  https://fedup.wpengine.com/wp-content/uploads/...   \n",
       "\n",
       "subject                                                                                               politicsNews  \\\n",
       "date                                               title                                                             \n",
       "Sep 9, 2017                                        DC Park Police Raid and Tear Down ‘Anti-Trump’ ...          NaN   \n",
       "                                                   What Sign Language is This? Man Causes A Stir O...          NaN   \n",
       "https://100percentfedup.com/12-yr-old-black-con... https://100percentfedup.com/12-yr-old-black-con...          NaN   \n",
       "https://100percentfedup.com/video-hillary-asked... https://100percentfedup.com/video-hillary-asked...          NaN   \n",
       "https://fedup.wpengine.com/wp-content/uploads/2... https://fedup.wpengine.com/wp-content/uploads/2...          NaN   \n",
       "\n",
       "subject                                                                                               worldnews  \n",
       "date                                               title                                                         \n",
       "Sep 9, 2017                                        DC Park Police Raid and Tear Down ‘Anti-Trump’ ...       NaN  \n",
       "                                                   What Sign Language is This? Man Causes A Stir O...       NaN  \n",
       "https://100percentfedup.com/12-yr-old-black-con... https://100percentfedup.com/12-yr-old-black-con...       NaN  \n",
       "https://100percentfedup.com/video-hillary-asked... https://100percentfedup.com/video-hillary-asked...       NaN  \n",
       "https://fedup.wpengine.com/wp-content/uploads/2... https://fedup.wpengine.com/wp-content/uploads/2...       NaN  "
      ]
     },
     "execution_count": 18,
     "metadata": {},
     "output_type": "execute_result"
    }
   ],
   "source": [
    "ptest = ptest.drop(ptest.index[len(ptest)-1])\n",
    "ptest.tail()"
   ]
  },
  {
   "cell_type": "code",
   "execution_count": 19,
   "metadata": {},
   "outputs": [
    {
     "name": "stdout",
     "output_type": "stream",
     "text": [
      "<class 'pandas.core.frame.DataFrame'>\n",
      "MultiIndex: 9133 entries, ('Apr 1, 2015', 'MUSLIM WOMAN ARRESTED FOR SPITTING ON HER FELLOW WHITE WALMART SHOPPERS BUT WHAT HAPPENS NEXT IS MORE UPSETTING') to ('https://fedup.wpengine.com/wp-content/uploads/2015/04/entitled.jpg', 'https://fedup.wpengine.com/wp-content/uploads/2015/04/entitled.jpg')\n",
      "Data columns (total 4 columns):\n",
      " #   Column           Non-Null Count  Dtype \n",
      "---  ------           --------------  ----- \n",
      " 0   Government News  545 non-null    object\n",
      " 1   politics         4382 non-null   object\n",
      " 2   politicsNews     773 non-null    object\n",
      " 3   worldnews        3590 non-null   object\n",
      "dtypes: object(4)\n",
      "memory usage: 400.0+ KB\n"
     ]
    }
   ],
   "source": [
    "ptest.info()"
   ]
  },
  {
   "cell_type": "code",
   "execution_count": 20,
   "metadata": {},
   "outputs": [
    {
     "data": {
      "text/plain": [
       "(9133, 4)"
      ]
     },
     "execution_count": 20,
     "metadata": {},
     "output_type": "execute_result"
    }
   ],
   "source": [
    "ptest.shape"
   ]
  },
  {
   "cell_type": "markdown",
   "metadata": {},
   "source": [
    "Using this, it is obvious that the news types do not need to be separated into their subject columns as some actually would be under multiple and it will not affect the overall results.  We will make a new ptest to remove this from the dataframe.\n"
   ]
  },
  {
   "cell_type": "code",
   "execution_count": 21,
   "metadata": {},
   "outputs": [
    {
     "name": "stdout",
     "output_type": "stream",
     "text": [
      "<class 'pandas.core.frame.DataFrame'>\n",
      "RangeIndex: 9427 entries, 0 to 9426\n",
      "Data columns (total 4 columns):\n",
      " #   Column  Non-Null Count  Dtype \n",
      "---  ------  --------------  ----- \n",
      " 0   index   9427 non-null   int64 \n",
      " 1   title   9427 non-null   object\n",
      " 2   text    9427 non-null   object\n",
      " 3   date    9427 non-null   object\n",
      "dtypes: int64(1), object(3)\n",
      "memory usage: 294.7+ KB\n"
     ]
    }
   ],
   "source": [
    "fer = test.drop('subject',axis=1)\n",
    "fer.info()"
   ]
  },
  {
   "cell_type": "code",
   "execution_count": 22,
   "metadata": {},
   "outputs": [
    {
     "data": {
      "text/html": [
       "<div>\n",
       "<style scoped>\n",
       "    .dataframe tbody tr th:only-of-type {\n",
       "        vertical-align: middle;\n",
       "    }\n",
       "\n",
       "    .dataframe tbody tr th {\n",
       "        vertical-align: top;\n",
       "    }\n",
       "\n",
       "    .dataframe thead th {\n",
       "        text-align: right;\n",
       "    }\n",
       "</style>\n",
       "<table border=\"1\" class=\"dataframe\">\n",
       "  <thead>\n",
       "    <tr style=\"text-align: right;\">\n",
       "      <th></th>\n",
       "      <th>text</th>\n",
       "      <th>title</th>\n",
       "    </tr>\n",
       "    <tr>\n",
       "      <th>date</th>\n",
       "      <th></th>\n",
       "      <th></th>\n",
       "    </tr>\n",
       "  </thead>\n",
       "  <tbody>\n",
       "    <tr>\n",
       "      <th>Sep 9, 2017</th>\n",
       "      <td>Officials allegedly affiliated with the United...</td>\n",
       "      <td>DC Park Police Raid and Tear Down ‘Anti-Trump’...</td>\n",
       "    </tr>\n",
       "    <tr>\n",
       "      <th>https://100percentfedup.com/12-yr-old-black-conservative-whose-video-to-obama-went-viral-do-you-really-love-america-receives-death-threats-from-left/</th>\n",
       "      <td>https://100percentfedup.com/12-yr-old-black-co...</td>\n",
       "      <td>https://100percentfedup.com/12-yr-old-black-co...</td>\n",
       "    </tr>\n",
       "    <tr>\n",
       "      <th>https://100percentfedup.com/video-hillary-asked-about-trump-i-just-want-to-eat-some-pie/</th>\n",
       "      <td>https://100percentfedup.com/video-hillary-aske...</td>\n",
       "      <td>https://100percentfedup.com/video-hillary-aske...</td>\n",
       "    </tr>\n",
       "    <tr>\n",
       "      <th>https://fedup.wpengine.com/wp-content/uploads/2015/04/entitled.jpg</th>\n",
       "      <td>https://fedup.wpengine.com/wp-content/uploads/...</td>\n",
       "      <td>https://fedup.wpengine.com/wp-content/uploads/...</td>\n",
       "    </tr>\n",
       "    <tr>\n",
       "      <th>https://fedup.wpengine.com/wp-content/uploads/2015/04/hillarystreetart.jpg</th>\n",
       "      <td>https://fedup.wpengine.com/wp-content/uploads/...</td>\n",
       "      <td>https://fedup.wpengine.com/wp-content/uploads/...</td>\n",
       "    </tr>\n",
       "  </tbody>\n",
       "</table>\n",
       "</div>"
      ],
      "text/plain": [
       "                                                                                                 text  \\\n",
       "date                                                                                                    \n",
       "Sep 9, 2017                                         Officials allegedly affiliated with the United...   \n",
       "https://100percentfedup.com/12-yr-old-black-con...  https://100percentfedup.com/12-yr-old-black-co...   \n",
       "https://100percentfedup.com/video-hillary-asked...  https://100percentfedup.com/video-hillary-aske...   \n",
       "https://fedup.wpengine.com/wp-content/uploads/2...  https://fedup.wpengine.com/wp-content/uploads/...   \n",
       "https://fedup.wpengine.com/wp-content/uploads/2...  https://fedup.wpengine.com/wp-content/uploads/...   \n",
       "\n",
       "                                                                                                title  \n",
       "date                                                                                                   \n",
       "Sep 9, 2017                                         DC Park Police Raid and Tear Down ‘Anti-Trump’...  \n",
       "https://100percentfedup.com/12-yr-old-black-con...  https://100percentfedup.com/12-yr-old-black-co...  \n",
       "https://100percentfedup.com/video-hillary-asked...  https://100percentfedup.com/video-hillary-aske...  \n",
       "https://fedup.wpengine.com/wp-content/uploads/2...  https://fedup.wpengine.com/wp-content/uploads/...  \n",
       "https://fedup.wpengine.com/wp-content/uploads/2...  https://fedup.wpengine.com/wp-content/uploads/...  "
      ]
     },
     "execution_count": 22,
     "metadata": {},
     "output_type": "execute_result"
    }
   ],
   "source": [
    "fern=pd.pivot_table(fer,index=['date'], aggfunc='first',values=['title','text'])\n",
    "fern.tail()"
   ]
  },
  {
   "cell_type": "code",
   "execution_count": 23,
   "metadata": {},
   "outputs": [],
   "source": [
    "def prepdf(z,t,r):\n",
    "    \n",
    "    z=pd.pivot_table(z,index=['date'], aggfunc='first',values=['title','text'])\n",
    "    t=pd.pivot_table(t,index=['date'], aggfunc='first',values=['title','text'])\n",
    "    r=pd.pivot_table(r,index=['date'], aggfunc='first',values=['title','text'])\n",
    "    return [z,t,r]"
   ]
  },
  {
   "cell_type": "code",
   "execution_count": null,
   "metadata": {},
   "outputs": [],
   "source": []
  },
  {
   "cell_type": "code",
   "execution_count": 24,
   "metadata": {},
   "outputs": [],
   "source": [
    "[true,fake,test] = prepdf(true,fake,test)"
   ]
  },
  {
   "cell_type": "code",
   "execution_count": 25,
   "metadata": {},
   "outputs": [
    {
     "data": {
      "text/html": [
       "<div>\n",
       "<style scoped>\n",
       "    .dataframe tbody tr th:only-of-type {\n",
       "        vertical-align: middle;\n",
       "    }\n",
       "\n",
       "    .dataframe tbody tr th {\n",
       "        vertical-align: top;\n",
       "    }\n",
       "\n",
       "    .dataframe thead th {\n",
       "        text-align: right;\n",
       "    }\n",
       "</style>\n",
       "<table border=\"1\" class=\"dataframe\">\n",
       "  <thead>\n",
       "    <tr style=\"text-align: right;\">\n",
       "      <th></th>\n",
       "      <th>text</th>\n",
       "      <th>title</th>\n",
       "    </tr>\n",
       "    <tr>\n",
       "      <th>date</th>\n",
       "      <th></th>\n",
       "      <th></th>\n",
       "    </tr>\n",
       "  </thead>\n",
       "  <tbody>\n",
       "    <tr>\n",
       "      <th>Apr 1, 2015</th>\n",
       "      <td>This woman s having trouble entering the Walma...</td>\n",
       "      <td>MUSLIM WOMAN ARRESTED FOR SPITTING ON HER FELL...</td>\n",
       "    </tr>\n",
       "    <tr>\n",
       "      <th>Apr 1, 2016</th>\n",
       "      <td>AUDIO OF KARL ROVE ON HUGH HEWITT   Picking   ...</td>\n",
       "      <td>WHILE WE’RE DEBATING CRUZ VS TRUMP: Listen To ...</td>\n",
       "    </tr>\n",
       "    <tr>\n",
       "      <th>Apr 1, 2017</th>\n",
       "      <td>https://www.youtube.com/watch?v=GPqQIlWksbgVer...</td>\n",
       "      <td>BONKERS BERNIE SANDERS: Prioritizing Jobs Over...</td>\n",
       "    </tr>\n",
       "    <tr>\n",
       "      <th>Apr 10, 2015</th>\n",
       "      <td>Where was the media coverage when this black t...</td>\n",
       "      <td>BREAKING: WHY DID MASSACHUSETTS OFFICIALS WAIT...</td>\n",
       "    </tr>\n",
       "    <tr>\n",
       "      <th>Apr 10, 2016</th>\n",
       "      <td>What could Hillary be saying that s so top sec...</td>\n",
       "      <td>HILLARY Uses A Noise Machine To Keep Us From H...</td>\n",
       "    </tr>\n",
       "  </tbody>\n",
       "</table>\n",
       "</div>"
      ],
      "text/plain": [
       "                                                           text  \\\n",
       "date                                                              \n",
       "Apr 1, 2015   This woman s having trouble entering the Walma...   \n",
       "Apr 1, 2016   AUDIO OF KARL ROVE ON HUGH HEWITT   Picking   ...   \n",
       "Apr 1, 2017   https://www.youtube.com/watch?v=GPqQIlWksbgVer...   \n",
       "Apr 10, 2015  Where was the media coverage when this black t...   \n",
       "Apr 10, 2016  What could Hillary be saying that s so top sec...   \n",
       "\n",
       "                                                          title  \n",
       "date                                                             \n",
       "Apr 1, 2015   MUSLIM WOMAN ARRESTED FOR SPITTING ON HER FELL...  \n",
       "Apr 1, 2016   WHILE WE’RE DEBATING CRUZ VS TRUMP: Listen To ...  \n",
       "Apr 1, 2017   BONKERS BERNIE SANDERS: Prioritizing Jobs Over...  \n",
       "Apr 10, 2015  BREAKING: WHY DID MASSACHUSETTS OFFICIALS WAIT...  \n",
       "Apr 10, 2016  HILLARY Uses A Noise Machine To Keep Us From H...  "
      ]
     },
     "execution_count": 25,
     "metadata": {},
     "output_type": "execute_result"
    }
   ],
   "source": [
    "test.head()"
   ]
  },
  {
   "cell_type": "code",
   "execution_count": 26,
   "metadata": {},
   "outputs": [
    {
     "data": {
      "text/html": [
       "<div>\n",
       "<style scoped>\n",
       "    .dataframe tbody tr th:only-of-type {\n",
       "        vertical-align: middle;\n",
       "    }\n",
       "\n",
       "    .dataframe tbody tr th {\n",
       "        vertical-align: top;\n",
       "    }\n",
       "\n",
       "    .dataframe thead th {\n",
       "        text-align: right;\n",
       "    }\n",
       "</style>\n",
       "<table border=\"1\" class=\"dataframe\">\n",
       "  <thead>\n",
       "    <tr style=\"text-align: right;\">\n",
       "      <th></th>\n",
       "      <th>text</th>\n",
       "      <th>title</th>\n",
       "    </tr>\n",
       "    <tr>\n",
       "      <th>date</th>\n",
       "      <th></th>\n",
       "      <th></th>\n",
       "    </tr>\n",
       "  </thead>\n",
       "  <tbody>\n",
       "    <tr>\n",
       "      <th>Sep 9, 2017</th>\n",
       "      <td>Officials allegedly affiliated with the United...</td>\n",
       "      <td>DC Park Police Raid and Tear Down ‘Anti-Trump’...</td>\n",
       "    </tr>\n",
       "    <tr>\n",
       "      <th>https://100percentfedup.com/12-yr-old-black-conservative-whose-video-to-obama-went-viral-do-you-really-love-america-receives-death-threats-from-left/</th>\n",
       "      <td>https://100percentfedup.com/12-yr-old-black-co...</td>\n",
       "      <td>https://100percentfedup.com/12-yr-old-black-co...</td>\n",
       "    </tr>\n",
       "    <tr>\n",
       "      <th>https://100percentfedup.com/video-hillary-asked-about-trump-i-just-want-to-eat-some-pie/</th>\n",
       "      <td>https://100percentfedup.com/video-hillary-aske...</td>\n",
       "      <td>https://100percentfedup.com/video-hillary-aske...</td>\n",
       "    </tr>\n",
       "    <tr>\n",
       "      <th>https://fedup.wpengine.com/wp-content/uploads/2015/04/entitled.jpg</th>\n",
       "      <td>https://fedup.wpengine.com/wp-content/uploads/...</td>\n",
       "      <td>https://fedup.wpengine.com/wp-content/uploads/...</td>\n",
       "    </tr>\n",
       "    <tr>\n",
       "      <th>https://fedup.wpengine.com/wp-content/uploads/2015/04/hillarystreetart.jpg</th>\n",
       "      <td>https://fedup.wpengine.com/wp-content/uploads/...</td>\n",
       "      <td>https://fedup.wpengine.com/wp-content/uploads/...</td>\n",
       "    </tr>\n",
       "  </tbody>\n",
       "</table>\n",
       "</div>"
      ],
      "text/plain": [
       "                                                                                                 text  \\\n",
       "date                                                                                                    \n",
       "Sep 9, 2017                                         Officials allegedly affiliated with the United...   \n",
       "https://100percentfedup.com/12-yr-old-black-con...  https://100percentfedup.com/12-yr-old-black-co...   \n",
       "https://100percentfedup.com/video-hillary-asked...  https://100percentfedup.com/video-hillary-aske...   \n",
       "https://fedup.wpengine.com/wp-content/uploads/2...  https://fedup.wpengine.com/wp-content/uploads/...   \n",
       "https://fedup.wpengine.com/wp-content/uploads/2...  https://fedup.wpengine.com/wp-content/uploads/...   \n",
       "\n",
       "                                                                                                title  \n",
       "date                                                                                                   \n",
       "Sep 9, 2017                                         DC Park Police Raid and Tear Down ‘Anti-Trump’...  \n",
       "https://100percentfedup.com/12-yr-old-black-con...  https://100percentfedup.com/12-yr-old-black-co...  \n",
       "https://100percentfedup.com/video-hillary-asked...  https://100percentfedup.com/video-hillary-aske...  \n",
       "https://fedup.wpengine.com/wp-content/uploads/2...  https://fedup.wpengine.com/wp-content/uploads/...  \n",
       "https://fedup.wpengine.com/wp-content/uploads/2...  https://fedup.wpengine.com/wp-content/uploads/...  "
      ]
     },
     "execution_count": 26,
     "metadata": {},
     "output_type": "execute_result"
    }
   ],
   "source": [
    "test.tail()"
   ]
  },
  {
   "cell_type": "code",
   "execution_count": 27,
   "metadata": {},
   "outputs": [
    {
     "data": {
      "text/html": [
       "<div>\n",
       "<style scoped>\n",
       "    .dataframe tbody tr th:only-of-type {\n",
       "        vertical-align: middle;\n",
       "    }\n",
       "\n",
       "    .dataframe tbody tr th {\n",
       "        vertical-align: top;\n",
       "    }\n",
       "\n",
       "    .dataframe thead th {\n",
       "        text-align: right;\n",
       "    }\n",
       "</style>\n",
       "<table border=\"1\" class=\"dataframe\">\n",
       "  <thead>\n",
       "    <tr style=\"text-align: right;\">\n",
       "      <th></th>\n",
       "      <th>text</th>\n",
       "      <th>title</th>\n",
       "    </tr>\n",
       "    <tr>\n",
       "      <th>date</th>\n",
       "      <th></th>\n",
       "      <th></th>\n",
       "    </tr>\n",
       "  </thead>\n",
       "  <tbody>\n",
       "    <tr>\n",
       "      <th>September 7, 2017</th>\n",
       "      <td>WASHINGTON (Reuters) - President Donald Trump’...</td>\n",
       "      <td>Trump's son met Russian lawyer for damaging in...</td>\n",
       "    </tr>\n",
       "    <tr>\n",
       "      <th>September 8, 2016</th>\n",
       "      <td>WASHINGTON (Reuters) - The White House on Thur...</td>\n",
       "      <td>White House names retired Air Force general as...</td>\n",
       "    </tr>\n",
       "    <tr>\n",
       "      <th>September 8, 2017</th>\n",
       "      <td>(Reuters) - A former top security official who...</td>\n",
       "      <td>California university system sues Trump over r...</td>\n",
       "    </tr>\n",
       "    <tr>\n",
       "      <th>September 9, 2016</th>\n",
       "      <td>WASHINGTON/NEW YORK (Reuters) - Presidential c...</td>\n",
       "      <td>Clinton, Trump escalate fight in dramatic week...</td>\n",
       "    </tr>\n",
       "    <tr>\n",
       "      <th>September 9, 2017</th>\n",
       "      <td>WASHINGTON (Reuters) - President Donald Trump ...</td>\n",
       "      <td>Trump says churches should get FEMA funds for ...</td>\n",
       "    </tr>\n",
       "  </tbody>\n",
       "</table>\n",
       "</div>"
      ],
      "text/plain": [
       "                                                                 text  \\\n",
       "date                                                                    \n",
       "September 7, 2017   WASHINGTON (Reuters) - President Donald Trump’...   \n",
       "September 8, 2016   WASHINGTON (Reuters) - The White House on Thur...   \n",
       "September 8, 2017   (Reuters) - A former top security official who...   \n",
       "September 9, 2016   WASHINGTON/NEW YORK (Reuters) - Presidential c...   \n",
       "September 9, 2017   WASHINGTON (Reuters) - President Donald Trump ...   \n",
       "\n",
       "                                                                title  \n",
       "date                                                                   \n",
       "September 7, 2017   Trump's son met Russian lawyer for damaging in...  \n",
       "September 8, 2016   White House names retired Air Force general as...  \n",
       "September 8, 2017   California university system sues Trump over r...  \n",
       "September 9, 2016   Clinton, Trump escalate fight in dramatic week...  \n",
       "September 9, 2017   Trump says churches should get FEMA funds for ...  "
      ]
     },
     "execution_count": 27,
     "metadata": {},
     "output_type": "execute_result"
    }
   ],
   "source": [
    "true.tail()"
   ]
  },
  {
   "cell_type": "code",
   "execution_count": 28,
   "metadata": {},
   "outputs": [
    {
     "data": {
      "text/html": [
       "<div>\n",
       "<style scoped>\n",
       "    .dataframe tbody tr th:only-of-type {\n",
       "        vertical-align: middle;\n",
       "    }\n",
       "\n",
       "    .dataframe tbody tr th {\n",
       "        vertical-align: top;\n",
       "    }\n",
       "\n",
       "    .dataframe thead th {\n",
       "        text-align: right;\n",
       "    }\n",
       "</style>\n",
       "<table border=\"1\" class=\"dataframe\">\n",
       "  <thead>\n",
       "    <tr style=\"text-align: right;\">\n",
       "      <th></th>\n",
       "      <th>text</th>\n",
       "      <th>title</th>\n",
       "    </tr>\n",
       "    <tr>\n",
       "      <th>date</th>\n",
       "      <th></th>\n",
       "      <th></th>\n",
       "    </tr>\n",
       "  </thead>\n",
       "  <tbody>\n",
       "    <tr>\n",
       "      <th>September 7, 2017</th>\n",
       "      <td>Donald Trump, Jr. went before Congress today t...</td>\n",
       "      <td>Don Trump Jr. Testified To The Senate Today A...</td>\n",
       "    </tr>\n",
       "    <tr>\n",
       "      <th>September 8, 2016</th>\n",
       "      <td>Hillary Clinton is far from the perfect politi...</td>\n",
       "      <td>In Brilliant Op-Ed, Hillary Clinton Opens Up ...</td>\n",
       "    </tr>\n",
       "    <tr>\n",
       "      <th>September 8, 2017</th>\n",
       "      <td>Fox News has a problem with sexual predators i...</td>\n",
       "      <td>Another Pervert Out At Fox News Over Allegati...</td>\n",
       "    </tr>\n",
       "    <tr>\n",
       "      <th>September 9, 2016</th>\n",
       "      <td>Donald Trump is continuing his campaign of fea...</td>\n",
       "      <td>Trump Gives Insane Warning On Religious Right...</td>\n",
       "    </tr>\n",
       "    <tr>\n",
       "      <th>September 9, 2017</th>\n",
       "      <td>Two Florida Republican lawmakers voted against...</td>\n",
       "      <td>Two Florida Lawmakers Just Voted Against Hurr...</td>\n",
       "    </tr>\n",
       "    <tr>\n",
       "      <th>https://100percentfedup.com/12-yr-old-black-conservative-whose-video-to-obama-went-viral-do-you-really-love-america-receives-death-threats-from-left/</th>\n",
       "      <td>https://100percentfedup.com/12-yr-old-black-co...</td>\n",
       "      <td>https://100percentfedup.com/12-yr-old-black-co...</td>\n",
       "    </tr>\n",
       "    <tr>\n",
       "      <th>https://100percentfedup.com/served-roy-moore-vietnamletter-veteran-sets-record-straight-honorable-decent-respectable-patriotic-commander-soldier/</th>\n",
       "      <td>https://100percentfedup.com/served-roy-moore-v...</td>\n",
       "      <td>https://100percentfedup.com/served-roy-moore-v...</td>\n",
       "    </tr>\n",
       "    <tr>\n",
       "      <th>https://100percentfedup.com/video-hillary-asked-about-trump-i-just-want-to-eat-some-pie/</th>\n",
       "      <td>https://100percentfedup.com/video-hillary-aske...</td>\n",
       "      <td>https://100percentfedup.com/video-hillary-aske...</td>\n",
       "    </tr>\n",
       "    <tr>\n",
       "      <th>https://fedup.wpengine.com/wp-content/uploads/2015/04/entitled.jpg</th>\n",
       "      <td>https://fedup.wpengine.com/wp-content/uploads/...</td>\n",
       "      <td>https://fedup.wpengine.com/wp-content/uploads/...</td>\n",
       "    </tr>\n",
       "    <tr>\n",
       "      <th>https://fedup.wpengine.com/wp-content/uploads/2015/04/hillarystreetart.jpg</th>\n",
       "      <td>https://fedup.wpengine.com/wp-content/uploads/...</td>\n",
       "      <td>https://fedup.wpengine.com/wp-content/uploads/...</td>\n",
       "    </tr>\n",
       "  </tbody>\n",
       "</table>\n",
       "</div>"
      ],
      "text/plain": [
       "                                                                                                 text  \\\n",
       "date                                                                                                    \n",
       "September 7, 2017                                   Donald Trump, Jr. went before Congress today t...   \n",
       "September 8, 2016                                   Hillary Clinton is far from the perfect politi...   \n",
       "September 8, 2017                                   Fox News has a problem with sexual predators i...   \n",
       "September 9, 2016                                   Donald Trump is continuing his campaign of fea...   \n",
       "September 9, 2017                                   Two Florida Republican lawmakers voted against...   \n",
       "https://100percentfedup.com/12-yr-old-black-con...  https://100percentfedup.com/12-yr-old-black-co...   \n",
       "https://100percentfedup.com/served-roy-moore-vi...  https://100percentfedup.com/served-roy-moore-v...   \n",
       "https://100percentfedup.com/video-hillary-asked...  https://100percentfedup.com/video-hillary-aske...   \n",
       "https://fedup.wpengine.com/wp-content/uploads/2...  https://fedup.wpengine.com/wp-content/uploads/...   \n",
       "https://fedup.wpengine.com/wp-content/uploads/2...  https://fedup.wpengine.com/wp-content/uploads/...   \n",
       "\n",
       "                                                                                                title  \n",
       "date                                                                                                   \n",
       "September 7, 2017                                    Don Trump Jr. Testified To The Senate Today A...  \n",
       "September 8, 2016                                    In Brilliant Op-Ed, Hillary Clinton Opens Up ...  \n",
       "September 8, 2017                                    Another Pervert Out At Fox News Over Allegati...  \n",
       "September 9, 2016                                    Trump Gives Insane Warning On Religious Right...  \n",
       "September 9, 2017                                    Two Florida Lawmakers Just Voted Against Hurr...  \n",
       "https://100percentfedup.com/12-yr-old-black-con...  https://100percentfedup.com/12-yr-old-black-co...  \n",
       "https://100percentfedup.com/served-roy-moore-vi...  https://100percentfedup.com/served-roy-moore-v...  \n",
       "https://100percentfedup.com/video-hillary-asked...  https://100percentfedup.com/video-hillary-aske...  \n",
       "https://fedup.wpengine.com/wp-content/uploads/2...  https://fedup.wpengine.com/wp-content/uploads/...  \n",
       "https://fedup.wpengine.com/wp-content/uploads/2...  https://fedup.wpengine.com/wp-content/uploads/...  "
      ]
     },
     "execution_count": 28,
     "metadata": {},
     "output_type": "execute_result"
    }
   ],
   "source": [
    "fake.tail(10)"
   ]
  },
  {
   "cell_type": "code",
   "execution_count": 29,
   "metadata": {},
   "outputs": [
    {
     "data": {
      "text/html": [
       "<div>\n",
       "<style scoped>\n",
       "    .dataframe tbody tr th:only-of-type {\n",
       "        vertical-align: middle;\n",
       "    }\n",
       "\n",
       "    .dataframe tbody tr th {\n",
       "        vertical-align: top;\n",
       "    }\n",
       "\n",
       "    .dataframe thead th {\n",
       "        text-align: right;\n",
       "    }\n",
       "</style>\n",
       "<table border=\"1\" class=\"dataframe\">\n",
       "  <thead>\n",
       "    <tr style=\"text-align: right;\">\n",
       "      <th></th>\n",
       "      <th>text</th>\n",
       "      <th>title</th>\n",
       "    </tr>\n",
       "    <tr>\n",
       "      <th>date</th>\n",
       "      <th></th>\n",
       "      <th></th>\n",
       "    </tr>\n",
       "  </thead>\n",
       "  <tbody>\n",
       "    <tr>\n",
       "      <th>Sep 8, 2016</th>\n",
       "      <td>These images were all taken from a Facebook pa...</td>\n",
       "      <td>SHOCKING: ENTIRE FACEBOOK PAGE DEDICATED To Ev...</td>\n",
       "    </tr>\n",
       "    <tr>\n",
       "      <th>Sep 8, 2017</th>\n",
       "      <td>Hurricane Irma is moving a little west. The Ca...</td>\n",
       "      <td>#Irma Update: Latest Look as Hurricane Strengt...</td>\n",
       "    </tr>\n",
       "    <tr>\n",
       "      <th>Sep 9, 2015</th>\n",
       "      <td>The reason the Baltimore Mayor gives for the h...</td>\n",
       "      <td>(VIDEO) BALTIMORE MAYOR GIVES TOTALLY INSANE R...</td>\n",
       "    </tr>\n",
       "    <tr>\n",
       "      <th>Sep 9, 2016</th>\n",
       "      <td></td>\n",
       "      <td>TREY GOWDY RIPS INTO THE DOJ AND FBI: “I was S...</td>\n",
       "    </tr>\n",
       "    <tr>\n",
       "      <th>Sep 9, 2017</th>\n",
       "      <td>Officials allegedly affiliated with the United...</td>\n",
       "      <td>DC Park Police Raid and Tear Down ‘Anti-Trump’...</td>\n",
       "    </tr>\n",
       "  </tbody>\n",
       "</table>\n",
       "</div>"
      ],
      "text/plain": [
       "                                                          text  \\\n",
       "date                                                             \n",
       "Sep 8, 2016  These images were all taken from a Facebook pa...   \n",
       "Sep 8, 2017  Hurricane Irma is moving a little west. The Ca...   \n",
       "Sep 9, 2015  The reason the Baltimore Mayor gives for the h...   \n",
       "Sep 9, 2016                                                      \n",
       "Sep 9, 2017  Officials allegedly affiliated with the United...   \n",
       "\n",
       "                                                         title  \n",
       "date                                                            \n",
       "Sep 8, 2016  SHOCKING: ENTIRE FACEBOOK PAGE DEDICATED To Ev...  \n",
       "Sep 8, 2017  #Irma Update: Latest Look as Hurricane Strengt...  \n",
       "Sep 9, 2015  (VIDEO) BALTIMORE MAYOR GIVES TOTALLY INSANE R...  \n",
       "Sep 9, 2016  TREY GOWDY RIPS INTO THE DOJ AND FBI: “I was S...  \n",
       "Sep 9, 2017  DC Park Police Raid and Tear Down ‘Anti-Trump’...  "
      ]
     },
     "execution_count": 29,
     "metadata": {},
     "output_type": "execute_result"
    }
   ],
   "source": [
    "test = test.drop(test.tail(4).index)\n",
    "test.tail()"
   ]
  },
  {
   "cell_type": "code",
   "execution_count": 30,
   "metadata": {},
   "outputs": [
    {
     "data": {
      "text/html": [
       "<div>\n",
       "<style scoped>\n",
       "    .dataframe tbody tr th:only-of-type {\n",
       "        vertical-align: middle;\n",
       "    }\n",
       "\n",
       "    .dataframe tbody tr th {\n",
       "        vertical-align: top;\n",
       "    }\n",
       "\n",
       "    .dataframe thead th {\n",
       "        text-align: right;\n",
       "    }\n",
       "</style>\n",
       "<table border=\"1\" class=\"dataframe\">\n",
       "  <thead>\n",
       "    <tr style=\"text-align: right;\">\n",
       "      <th></th>\n",
       "      <th>text</th>\n",
       "      <th>title</th>\n",
       "    </tr>\n",
       "    <tr>\n",
       "      <th>date</th>\n",
       "      <th></th>\n",
       "      <th></th>\n",
       "    </tr>\n",
       "  </thead>\n",
       "  <tbody>\n",
       "    <tr>\n",
       "      <th>September 7, 2017</th>\n",
       "      <td>Donald Trump, Jr. went before Congress today t...</td>\n",
       "      <td>Don Trump Jr. Testified To The Senate Today A...</td>\n",
       "    </tr>\n",
       "    <tr>\n",
       "      <th>September 8, 2016</th>\n",
       "      <td>Hillary Clinton is far from the perfect politi...</td>\n",
       "      <td>In Brilliant Op-Ed, Hillary Clinton Opens Up ...</td>\n",
       "    </tr>\n",
       "    <tr>\n",
       "      <th>September 8, 2017</th>\n",
       "      <td>Fox News has a problem with sexual predators i...</td>\n",
       "      <td>Another Pervert Out At Fox News Over Allegati...</td>\n",
       "    </tr>\n",
       "    <tr>\n",
       "      <th>September 9, 2016</th>\n",
       "      <td>Donald Trump is continuing his campaign of fea...</td>\n",
       "      <td>Trump Gives Insane Warning On Religious Right...</td>\n",
       "    </tr>\n",
       "    <tr>\n",
       "      <th>September 9, 2017</th>\n",
       "      <td>Two Florida Republican lawmakers voted against...</td>\n",
       "      <td>Two Florida Lawmakers Just Voted Against Hurr...</td>\n",
       "    </tr>\n",
       "  </tbody>\n",
       "</table>\n",
       "</div>"
      ],
      "text/plain": [
       "                                                                text  \\\n",
       "date                                                                   \n",
       "September 7, 2017  Donald Trump, Jr. went before Congress today t...   \n",
       "September 8, 2016  Hillary Clinton is far from the perfect politi...   \n",
       "September 8, 2017  Fox News has a problem with sexual predators i...   \n",
       "September 9, 2016  Donald Trump is continuing his campaign of fea...   \n",
       "September 9, 2017  Two Florida Republican lawmakers voted against...   \n",
       "\n",
       "                                                               title  \n",
       "date                                                                  \n",
       "September 7, 2017   Don Trump Jr. Testified To The Senate Today A...  \n",
       "September 8, 2016   In Brilliant Op-Ed, Hillary Clinton Opens Up ...  \n",
       "September 8, 2017   Another Pervert Out At Fox News Over Allegati...  \n",
       "September 9, 2016   Trump Gives Insane Warning On Religious Right...  \n",
       "September 9, 2017   Two Florida Lawmakers Just Voted Against Hurr...  "
      ]
     },
     "execution_count": 30,
     "metadata": {},
     "output_type": "execute_result"
    }
   ],
   "source": [
    "fake = fake.drop(fake.tail(5).index)\n",
    "fake.tail()"
   ]
  },
  {
   "cell_type": "markdown",
   "metadata": {},
   "source": [
    "The excess information that does not include a date has been removed, these are websites that can be taken from, but will not be a part of this project for now.\n"
   ]
  },
  {
   "cell_type": "code",
   "execution_count": 32,
   "metadata": {},
   "outputs": [
    {
     "data": {
      "text/plain": [
       "text     927\n",
       "title    971\n",
       "dtype: int64"
      ]
     },
     "execution_count": 32,
     "metadata": {},
     "output_type": "execute_result"
    }
   ],
   "source": [
    "test_uni = test.nunique()\n",
    "test_uni"
   ]
  },
  {
   "cell_type": "code",
   "execution_count": 33,
   "metadata": {},
   "outputs": [],
   "source": [
    "drop = test.drop_duplicates(subset =\"text\", keep = False)"
   ]
  },
  {
   "cell_type": "code",
   "execution_count": 34,
   "metadata": {},
   "outputs": [
    {
     "data": {
      "text/plain": [
       "text     926\n",
       "title    926\n",
       "dtype: int64"
      ]
     },
     "execution_count": 34,
     "metadata": {},
     "output_type": "execute_result"
    }
   ],
   "source": [
    "drop.nunique()"
   ]
  },
  {
   "cell_type": "code",
   "execution_count": 35,
   "metadata": {},
   "outputs": [
    {
     "data": {
      "text/plain": [
       "text     927\n",
       "title    971\n",
       "dtype: int64"
      ]
     },
     "execution_count": 35,
     "metadata": {},
     "output_type": "execute_result"
    }
   ],
   "source": [
    "test.nunique()"
   ]
  },
  {
   "cell_type": "code",
   "execution_count": 36,
   "metadata": {},
   "outputs": [],
   "source": [
    "test = drop"
   ]
  },
  {
   "cell_type": "code",
   "execution_count": 37,
   "metadata": {},
   "outputs": [],
   "source": [
    "def get_uni(w,e):\n",
    "    w = w.drop_duplicates(subset =\"text\", keep = False)\n",
    "    e = e.drop_duplicates(subset =\"text\", keep = False)\n",
    "    return [w,e]"
   ]
  },
  {
   "cell_type": "code",
   "execution_count": 38,
   "metadata": {},
   "outputs": [],
   "source": [
    "[fake,true]=get_uni(fake,true)"
   ]
  },
  {
   "cell_type": "code",
   "execution_count": 40,
   "metadata": {},
   "outputs": [
    {
     "name": "stdout",
     "output_type": "stream",
     "text": [
      "Test  :\n",
      "text     926\n",
      "title    926\n",
      "dtype: int64\n",
      "(926, 2)\n"
     ]
    }
   ],
   "source": [
    "print('Test  :')\n",
    "print(test.nunique())\n",
    "print(test.shape)"
   ]
  },
  {
   "cell_type": "code",
   "execution_count": 41,
   "metadata": {},
   "outputs": [
    {
     "name": "stdout",
     "output_type": "stream",
     "text": [
      "Fake  :\n",
      "text     1614\n",
      "title    1614\n",
      "dtype: int64\n",
      "(1614, 2)\n"
     ]
    }
   ],
   "source": [
    "print('Fake  :')\n",
    "print(fake.nunique())\n",
    "print(fake.shape)"
   ]
  },
  {
   "cell_type": "code",
   "execution_count": 42,
   "metadata": {},
   "outputs": [
    {
     "name": "stdout",
     "output_type": "stream",
     "text": [
      "True :\n",
      "text     716\n",
      "title    716\n",
      "dtype: int64\n",
      "(716, 2)\n"
     ]
    }
   ],
   "source": [
    "print('True :')\n",
    "print(true.nunique())\n",
    "print(true.shape)"
   ]
  },
  {
   "cell_type": "markdown",
   "metadata": {},
   "source": [
    "After reshaping, and getting rid of the duplicates, the values on this have went from over 40,000 to 3,256.  This is concerning and will be reviewed more later."
   ]
  },
  {
   "cell_type": "code",
   "execution_count": 62,
   "metadata": {},
   "outputs": [
    {
     "data": {
      "text/plain": [
       "text     926\n",
       "title    926\n",
       "dtype: int64"
      ]
     },
     "execution_count": 62,
     "metadata": {},
     "output_type": "execute_result"
    }
   ],
   "source": [
    "test.count()"
   ]
  },
  {
   "cell_type": "code",
   "execution_count": 63,
   "metadata": {},
   "outputs": [
    {
     "data": {
      "text/plain": [
       "text     0\n",
       "title    0\n",
       "dtype: int64"
      ]
     },
     "execution_count": 63,
     "metadata": {},
     "output_type": "execute_result"
    }
   ],
   "source": [
    "test.isna().sum()"
   ]
  },
  {
   "cell_type": "code",
   "execution_count": 64,
   "metadata": {},
   "outputs": [
    {
     "data": {
      "text/plain": [
       "text     0\n",
       "title    0\n",
       "dtype: int64"
      ]
     },
     "execution_count": 64,
     "metadata": {},
     "output_type": "execute_result"
    }
   ],
   "source": [
    "test.isnull().sum()"
   ]
  },
  {
   "cell_type": "code",
   "execution_count": 65,
   "metadata": {},
   "outputs": [
    {
     "data": {
      "text/plain": [
       "text     0\n",
       "title    0\n",
       "dtype: int64"
      ]
     },
     "execution_count": 65,
     "metadata": {},
     "output_type": "execute_result"
    }
   ],
   "source": [
    "(test == \"\").sum()"
   ]
  },
  {
   "cell_type": "code",
   "execution_count": 68,
   "metadata": {},
   "outputs": [],
   "source": [
    "def nulcnt(n,o):\n",
    "    print(n.count(), n.isna().sum(),n.isnull().sum(),(n==\"\").sum())\n",
    "    print(o.count(), o.isna().sum(),o.isnull().sum(),(o==\"\").sum())"
   ]
  },
  {
   "cell_type": "code",
   "execution_count": 69,
   "metadata": {},
   "outputs": [
    {
     "name": "stdout",
     "output_type": "stream",
     "text": [
      "text     1614\n",
      "title    1614\n",
      "dtype: int64 text     0\n",
      "title    0\n",
      "dtype: int64 text     0\n",
      "title    0\n",
      "dtype: int64 text     0\n",
      "title    0\n",
      "dtype: int64\n",
      "text     716\n",
      "title    716\n",
      "dtype: int64 text     0\n",
      "title    0\n",
      "dtype: int64 text     0\n",
      "title    0\n",
      "dtype: int64 text     0\n",
      "title    0\n",
      "dtype: int64\n"
     ]
    }
   ],
   "source": [
    "nulcnt(fake,true)"
   ]
  },
  {
   "cell_type": "markdown",
   "metadata": {},
   "source": [
    "Now we see that all of the information is unique and not null or otherwise empty.  the final will be placed into .csv files for later use."
   ]
  },
  {
   "cell_type": "code",
   "execution_count": 70,
   "metadata": {},
   "outputs": [],
   "source": [
    "test.to_csv('test.csv')\n",
    "fake.to_csv('for_fake.csv')\n",
    "true.to_csv('for_true.csv')"
   ]
  },
  {
   "cell_type": "code",
   "execution_count": null,
   "metadata": {},
   "outputs": [],
   "source": []
  }
 ],
 "metadata": {
  "kernelspec": {
   "display_name": "Python 3",
   "language": "python",
   "name": "python3"
  },
  "language_info": {
   "codemirror_mode": {
    "name": "ipython",
    "version": 3
   },
   "file_extension": ".py",
   "mimetype": "text/x-python",
   "name": "python",
   "nbconvert_exporter": "python",
   "pygments_lexer": "ipython3",
   "version": "3.7.6"
  }
 },
 "nbformat": 4,
 "nbformat_minor": 4
}
